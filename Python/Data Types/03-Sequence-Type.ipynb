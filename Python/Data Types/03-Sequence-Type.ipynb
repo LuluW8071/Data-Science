{
 "cells": [
  {
   "cell_type": "markdown",
   "metadata": {},
   "source": [
    "## Python Sequence Types\n",
    "### 1. List\n",
    "#### Defining Lists"
   ]
  },
  {
   "cell_type": "code",
   "execution_count": 22,
   "metadata": {},
   "outputs": [],
   "source": [
    "# A list can be defined in Python using square brackets [ ]\n",
    "x = [1, 2, 3, 4, 5, 6, 7, 8, 9]\n",
    "y = ['dog', 'cat', 'mouse']\n",
    "z = [1, 'dog', 2, 'cat', 3, 'mouse']"
   ]
  },
  {
   "cell_type": "markdown",
   "metadata": {},
   "source": [
    "#### Accessing Lists"
   ]
  },
  {
   "cell_type": "code",
   "execution_count": 23,
   "metadata": {},
   "outputs": [
    {
     "name": "stdout",
     "output_type": "stream",
     "text": [
      "1 3\n",
      "9 cat mouse\n"
     ]
    }
   ],
   "source": [
    "# Python starts its index always at 0 \n",
    "print(x[0], x[2])\n",
    "print(x[-1], y[1], z[-1])"
   ]
  },
  {
   "cell_type": "markdown",
   "metadata": {},
   "source": [
    "#### Slicing Lists"
   ]
  },
  {
   "cell_type": "code",
   "execution_count": 24,
   "metadata": {},
   "outputs": [
    {
     "name": "stdout",
     "output_type": "stream",
     "text": [
      "[1, 2, 3]\n",
      "['mouse']\n",
      "[1, 'dog', 2]\n",
      "[1, 3, 5, 7, 9]\n"
     ]
    }
   ],
   "source": [
    "# Syntax:\n",
    "# start:stop:step\n",
    "# where 'start' is index to include , 'stop' is index to exclude and 'step' is no of characters to skip\n",
    "\n",
    "print(x[0:3])\n",
    "print(y[2:])\n",
    "print(z[:3])\n",
    "print(x[::2])"
   ]
  },
  {
   "cell_type": "markdown",
   "metadata": {},
   "source": [
    "#### Modifying Lists"
   ]
  },
  {
   "cell_type": "code",
   "execution_count": 25,
   "metadata": {},
   "outputs": [
    {
     "name": "stdout",
     "output_type": "stream",
     "text": [
      "[86, 2, 3, 4, 5, 6, 7, 8, 9]\n",
      "[86, 2, 3, 4, 5, 6, 7, 8, 9, 'Happy']\n",
      "[1, 'dog', 'world', 2, 'cat', 3, 'mouse']\n",
      "['dog', 'cat']\n",
      "[86, 3, 4, 5, 6, 7, 8, 9, 'Happy']\n",
      "[]\n"
     ]
    }
   ],
   "source": [
    "x[0] = 86               # Assigning item on 0th index of x to 86    \n",
    "print(x)\n",
    "\n",
    "x.append('Happy')       # Adds an item to the end of the list\n",
    "print(x)\n",
    "\n",
    "z.insert(2, 'world')    # Adds an item at a specific index in the list\n",
    "print(z)\n",
    "\n",
    "y.remove('mouse')       # Removes the first occurrence of the specified item from the list\n",
    "print(y)\n",
    "\n",
    "x.pop(1)                # Removes and returns the item at the specified index\n",
    "print(x)                # If no index is specified, it removes and returns the last item in the list\n",
    "\n",
    "z.clear()               # Removes all items from the list\n",
    "print(z)\n"
   ]
  },
  {
   "cell_type": "markdown",
   "metadata": {},
   "source": [
    "#### Lists Methods\n",
    "`sort()`, `reverse()`, `count()`, `index()`"
   ]
  },
  {
   "cell_type": "code",
   "execution_count": 43,
   "metadata": {},
   "outputs": [
    {
     "name": "stdout",
     "output_type": "stream",
     "text": [
      "[12, 12, 23, 23, 34, 45, 45, 56, 67, 78, 89]\n",
      "[89, 78, 67, 56, 45, 45, 34, 23, 23, 12, 12]\n",
      "[12, 12, 23, 23, 34, 45, 45, 56, 67, 78, 89]\n",
      "0\n",
      "2\n"
     ]
    }
   ],
   "source": [
    "x = [56, 23, 89, 45, 12, 78, 34, 67, 23, 45, 12]\n",
    "\n",
    "x.sort()             # Sorts the list in ascending order\n",
    "print(x)\n",
    "\n",
    "x.sort(reverse=True) # Sort the list in descending order\n",
    "print(x)\n",
    "\n",
    "x.reverse()          # Reverses the order of the items in the list\n",
    "print(x)\n",
    "\n",
    "index = x.index(12)  # Returns the index of the first occurrence of the specified item in the list\n",
    "print(index)\n",
    "\n",
    "count = x.count(12)  # Returns the number of times the specified item appears in the list\n",
    "print(count)"
   ]
  },
  {
   "cell_type": "markdown",
   "metadata": {},
   "source": [
    "### 2. Tuple\n",
    "<i>Note: Once created the contents of a tuple cannot be modified</i>\n",
    "\n",
    "#### Creating a Tuple"
   ]
  },
  {
   "cell_type": "code",
   "execution_count": 53,
   "metadata": {},
   "outputs": [
    {
     "name": "stdout",
     "output_type": "stream",
     "text": [
      "(1, 2, 3, 4, 5, 6, 2, 3)\n"
     ]
    }
   ],
   "source": [
    "# A tuple is created by enclosing a sequence of objects in parentheses'()', separated by commas ','\n",
    "z = (1,2,3,4,5,6,2,3)\n",
    "print(z)"
   ]
  },
  {
   "cell_type": "markdown",
   "metadata": {},
   "source": [
    "#### Accessing Tuple Elements"
   ]
  },
  {
   "cell_type": "code",
   "execution_count": 54,
   "metadata": {},
   "outputs": [
    {
     "name": "stdout",
     "output_type": "stream",
     "text": [
      "1 4 6\n"
     ]
    }
   ],
   "source": [
    "print(z[0], z[3], z[5])"
   ]
  },
  {
   "cell_type": "markdown",
   "metadata": {},
   "source": [
    "#### Slicing Tuples"
   ]
  },
  {
   "cell_type": "code",
   "execution_count": 55,
   "metadata": {},
   "outputs": [
    {
     "name": "stdout",
     "output_type": "stream",
     "text": [
      "(1, 2, 3)\n",
      "(3, 4, 5, 6, 2, 3)\n",
      "(1, 2, 3)\n",
      "(1, 3, 5, 2)\n"
     ]
    }
   ],
   "source": [
    "# Syntax:\n",
    "# start:stop:step\n",
    "# where 'start' is index to include , 'stop' is index to exclude and 'step' is no of characters to skip\n",
    "\n",
    "print(z[0:3])\n",
    "print(z[2:])\n",
    "print(z[:3])\n",
    "print(z[::2])"
   ]
  },
  {
   "cell_type": "markdown",
   "metadata": {},
   "source": [
    "#### Tuple Methods\n",
    "`count()`, `index()`"
   ]
  },
  {
   "cell_type": "code",
   "execution_count": 59,
   "metadata": {},
   "outputs": [
    {
     "name": "stdout",
     "output_type": "stream",
     "text": [
      "2\n",
      "1\n"
     ]
    }
   ],
   "source": [
    "# Syntax:\n",
    "# tuple.count(value)\n",
    "# tuple.index(value[, start[, end]])\n",
    "\n",
    "print(z.count(3))  # Returns the number of occurrences of a specified element in a tuple  \n",
    "print(z.index(2))  # Returns the index of the first occurrence of a specified element in a tuple\n"
   ]
  }
 ],
 "metadata": {
  "kernelspec": {
   "display_name": "Python 3",
   "language": "python",
   "name": "python3"
  },
  "language_info": {
   "codemirror_mode": {
    "name": "ipython",
    "version": 3
   },
   "file_extension": ".py",
   "mimetype": "text/x-python",
   "name": "python",
   "nbconvert_exporter": "python",
   "pygments_lexer": "ipython3",
   "version": "3.10.0"
  }
 },
 "nbformat": 4,
 "nbformat_minor": 2
}

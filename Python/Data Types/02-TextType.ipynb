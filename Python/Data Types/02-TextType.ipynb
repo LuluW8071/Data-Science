{
 "cells": [
  {
   "cell_type": "markdown",
   "metadata": {},
   "source": [
    "### Python Text Type\n",
    "Define Strings"
   ]
  },
  {
   "cell_type": "code",
   "execution_count": 15,
   "metadata": {},
   "outputs": [],
   "source": [
    "x = \"Hello World\"\n",
    "y= 'This is Python String'"
   ]
  },
  {
   "cell_type": "code",
   "execution_count": 34,
   "metadata": {},
   "outputs": [
    {
     "name": "stdout",
     "output_type": "stream",
     "text": [
      "hello world\n",
      "HELLO WORLD\n",
      "Hello Worl\n",
      "pello World\n",
      "['Hello', 'World']\n"
     ]
    }
   ],
   "source": [
    "print(x.lower())\n",
    "print(x.upper())\n",
    "print(x.strip(',.d'))\n",
    "print(x.replace('H','p'))\n",
    "print(x.split())"
   ]
  },
  {
   "cell_type": "markdown",
   "metadata": {},
   "source": [
    "String Indexing"
   ]
  },
  {
   "cell_type": "code",
   "execution_count": 37,
   "metadata": {},
   "outputs": [
    {
     "name": "stdout",
     "output_type": "stream",
     "text": [
      "H l s\n"
     ]
    }
   ],
   "source": [
    "# Python starts its index always at 0\n",
    "print(x[0],x[3],y[6])"
   ]
  },
  {
   "cell_type": "markdown",
   "metadata": {},
   "source": [
    "String Slicing"
   ]
  },
  {
   "cell_type": "code",
   "execution_count": 2,
   "metadata": {},
   "outputs": [
    {
     "name": "stdout",
     "output_type": "stream",
     "text": [
      "pi\n",
      "apple\n",
      "pine\n",
      "pnape\n",
      "ap\n",
      "elppaenip\n"
     ]
    }
   ],
   "source": [
    "# Syntax:\n",
    "# start:stop:step \n",
    "# where 'start' is index to include , 'stop' is index to exclude and 'step' is no of characters to skip\n",
    "\n",
    "a='pineapple'\n",
    "\n",
    "print(a[0:2])\n",
    "print(a[4:])\n",
    "print(a[:4])\n",
    "print(a[::2])\n",
    "print(a[-5:-3])\n",
    "print(a[::-1])  ## Reverse String"
   ]
  },
  {
   "cell_type": "markdown",
   "metadata": {},
   "source": [
    "String Formatting"
   ]
  },
  {
   "cell_type": "code",
   "execution_count": 18,
   "metadata": {},
   "outputs": [
    {
     "name": "stdout",
     "output_type": "stream",
     "text": [
      "Hi, I'm Alice and I'm 18 yrs old.\n",
      "Hi, I'm Alice and I'm 18 yrs old.\n",
      "Hi, I'm Alice and I'm 18 yrs old.\n",
      "Hi, I'm Alice and I'm 18 yrs old.\n",
      "Hi, I'm Alice and I'm 18 yrs old.\n"
     ]
    }
   ],
   "source": [
    "# String Format can be done using '%(x)' operator, '.format(x)' and 'f{x}' f-strings\n",
    "\n",
    "x=\"Alice\"\n",
    "y=18\n",
    "\n",
    "print(\"Hi, I'm %s and I'm %d yrs old.\"%(x,y))               # '%(x)' operator\n",
    "print(\"Hi, I'm {} and I'm {} yrs old.\".format(x,y))         # '.format(x)\n",
    "print(\"Hi, I'm {0} and I'm {1} yrs old.\".format(x,y))       # '.format(x)\n",
    "print(\"Hi, I'm {1} and I'm {0} yrs old.\".format(y,x))       # '.format(x)\n",
    "print(f\"Hi, I'm {x} and I'm {y} yrs old.\")                  # 'f{x}' f-strings"
   ]
  },
  {
   "cell_type": "markdown",
   "metadata": {},
   "source": [
    "String Concatenate"
   ]
  },
  {
   "cell_type": "code",
   "execution_count": 20,
   "metadata": {},
   "outputs": [
    {
     "name": "stdout",
     "output_type": "stream",
     "text": [
      "StringConcatenateis awesome\n"
     ]
    }
   ],
   "source": [
    "# Join 2 or more strings using '+' operator\n",
    "\n",
    "x='String'\n",
    "y='Concatenate'\n",
    "\n",
    "z=x+''+y +' is awesome'\n",
    "print(z)"
   ]
  },
  {
   "cell_type": "code",
   "execution_count": null,
   "metadata": {},
   "outputs": [],
   "source": []
  }
 ],
 "metadata": {
  "kernelspec": {
   "display_name": "Python 3",
   "language": "python",
   "name": "python3"
  },
  "language_info": {
   "codemirror_mode": {
    "name": "ipython",
    "version": 3
   },
   "file_extension": ".py",
   "mimetype": "text/x-python",
   "name": "python",
   "nbconvert_exporter": "python",
   "pygments_lexer": "ipython3",
   "version": "3.11.4"
  }
 },
 "nbformat": 4,
 "nbformat_minor": 2
}

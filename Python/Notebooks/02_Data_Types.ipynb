{
 "cells": [
  {
   "cell_type": "markdown",
   "metadata": {},
   "source": [
    "# Python Data Types\n",
    "[...Continued]\n",
    "## 3. Sequence Types\n",
    "### 3.1 List\n",
    "In Python, lists are used to store a collection of items, which can be of any data type. You can define a list in Python using square brackets `[]`."
   ]
  },
  {
   "cell_type": "code",
   "execution_count": 12,
   "metadata": {},
   "outputs": [],
   "source": [
    "x = [1, 2, 3, 4, 5]\n",
    "y = ['apple', 'banana', 'orange']\n",
    "z = [1, 'apple', True, 3.14]"
   ]
  },
  {
   "cell_type": "markdown",
   "metadata": {},
   "source": [
    "You can access individual items in a list using indexing. In Python, indexing starts at 0."
   ]
  },
  {
   "cell_type": "code",
   "execution_count": 13,
   "metadata": {},
   "outputs": [
    {
     "name": "stdout",
     "output_type": "stream",
     "text": [
      "1\n",
      "3\n",
      "5\n"
     ]
    }
   ],
   "source": [
    "print(x[0])\n",
    "print(x[2])\n",
    "print(x[-1])"
   ]
  },
  {
   "cell_type": "markdown",
   "metadata": {},
   "source": [
    "### Slicing Lists\n",
    "You can access a range of items in a list using slicing. Slicing uses the syntax `start:stop:step`, where `start` is the index of the first item you want to include, `stop` is the index of the first item you want to exclude, and `step` is the number of items to skip."
   ]
  },
  {
   "cell_type": "code",
   "execution_count": 14,
   "metadata": {},
   "outputs": [
    {
     "name": "stdout",
     "output_type": "stream",
     "text": [
      "[1, 2, 3]\n",
      "[3, 4, 5]\n",
      "[1, 2, 3]\n",
      "[1, 3, 5]\n"
     ]
    }
   ],
   "source": [
    "print(x[0:3])\n",
    "print(x[2:])\n",
    "print(x[:3])\n",
    "print(x[::2])"
   ]
  },
  {
   "cell_type": "markdown",
   "metadata": {},
   "source": [
    "### Modifying Lists\n",
    "You can modify individual items in a list by assigning a new value to the index. You can also add or remove items from a list using built-in list methods."
   ]
  },
  {
   "cell_type": "code",
   "execution_count": 15,
   "metadata": {},
   "outputs": [
    {
     "name": "stdout",
     "output_type": "stream",
     "text": [
      "[10, 2, 3, 4, 5]\n",
      "[10, 2, 3, 4, 5, 6]\n",
      "[10, 2, 'apple', 3, 4, 5, 6]\n",
      "[10, 2, 3, 4, 5, 6]\n",
      "[10, 3, 4, 5, 6]\n",
      "[]\n"
     ]
    }
   ],
   "source": [
    "x = [1, 2, 3, 4, 5]\n",
    "\n",
    "x[0] = 10\n",
    "print(x)\n",
    "\n",
    "x.append(6)  # Adds an item to the end of the list\n",
    "print(x)\n",
    "\n",
    "x.insert(2, \"apple\")  # Adds an item at a specific index in the list\n",
    "print(x)\n",
    "\n",
    "x.remove(\"apple\")  # Removes the first occurrence of the specified item from the list\n",
    "print(x)\n",
    "\n",
    "x.pop(1)  # Removes and returns the item at the specified index\n",
    "print(x)  # If no index is specified, it removes and returns the last item in the list\n",
    "\n",
    "x.clear()  # Removes all items from the list\n",
    "print(x)"
   ]
  },
  {
   "cell_type": "markdown",
   "metadata": {},
   "source": [
    "### List Methods\n",
    "Python provides a variety of built-in list methods that you can use to perform operations on lists. Some common list methods include `sort()`, `reverse()`, `count()`, and `index()`."
   ]
  },
  {
   "cell_type": "code",
   "execution_count": 16,
   "metadata": {},
   "outputs": [
    {
     "name": "stdout",
     "output_type": "stream",
     "text": [
      "[1, 1, 2, 3, 3, 4, 5, 5, 6, 9]\n",
      "[9, 6, 5, 5, 4, 3, 3, 2, 1, 1]\n",
      "[1, 1, 2, 3, 3, 4, 5, 5, 6, 9]\n",
      "0\n",
      "2\n"
     ]
    }
   ],
   "source": [
    "x = [3, 1, 4, 1, 5, 9, 2, 6, 5, 3]\n",
    "\n",
    "x.sort()  # Sorts the list in ascending order\n",
    "print(x)\n",
    "\n",
    "x.sort(reverse=True)  # Sorts the list in descending order\n",
    "print(x)\n",
    "\n",
    "x.reverse()  # Reverses the order of the items in the list\n",
    "print(x)\n",
    "\n",
    "index = x.index(1)  # Returns the index of the first occurrence of the specified item in the list\n",
    "print(index)\n",
    "\n",
    "count = x.count(1)  # Returns the number of times the specified item appears in the list\n",
    "print(count)"
   ]
  },
  {
   "cell_type": "markdown",
   "metadata": {},
   "source": [
    "### 3.2 Tuple\n",
    "In Python, a tuple is a collection of ordered, immutable objects. Once created, you cannot modify the contents of a tuple. You can create a tuple by enclosing a sequence of objects in parentheses, separated by commas."
   ]
  },
  {
   "cell_type": "code",
   "execution_count": 17,
   "metadata": {},
   "outputs": [
    {
     "name": "stdout",
     "output_type": "stream",
     "text": [
      "(1, 2, 3)\n"
     ]
    }
   ],
   "source": [
    "my_tuple = (1, 2, 3)\n",
    "print(my_tuple)"
   ]
  },
  {
   "cell_type": "markdown",
   "metadata": {},
   "source": [
    "You can access elements of a tuple using indexing, just like with a list."
   ]
  },
  {
   "cell_type": "code",
   "execution_count": 18,
   "metadata": {},
   "outputs": [
    {
     "name": "stdout",
     "output_type": "stream",
     "text": [
      "1\n"
     ]
    }
   ],
   "source": [
    "print(my_tuple[0])"
   ]
  },
  {
   "cell_type": "markdown",
   "metadata": {},
   "source": [
    "### Slicing Tuples\n",
    "You can slice a tuple using the same slicing syntax as a list."
   ]
  },
  {
   "cell_type": "code",
   "execution_count": 19,
   "metadata": {},
   "outputs": [
    {
     "name": "stdout",
     "output_type": "stream",
     "text": [
      "(2, 3)\n"
     ]
    }
   ],
   "source": [
    "my_tuple = (1, 2, 3, 4, 5)\n",
    "print(my_tuple[1:3])"
   ]
  },
  {
   "cell_type": "markdown",
   "metadata": {},
   "source": [
    "### Tuples are Immutable\n",
    "Once created, you cannot modify the contents of a tuple. This means that you cannot add, remove, or change elements of a tuple. It raises `TypeError`."
   ]
  },
  {
   "cell_type": "code",
   "execution_count": 20,
   "metadata": {},
   "outputs": [
    {
     "ename": "TypeError",
     "evalue": "'tuple' object does not support item assignment",
     "output_type": "error",
     "traceback": [
      "\u001b[1;31m---------------------------------------------------------------------------\u001b[0m",
      "\u001b[1;31mTypeError\u001b[0m                                 Traceback (most recent call last)",
      "Input \u001b[1;32mIn [20]\u001b[0m, in \u001b[0;36m<cell line: 2>\u001b[1;34m()\u001b[0m\n\u001b[0;32m      1\u001b[0m my_tuple \u001b[38;5;241m=\u001b[39m (\u001b[38;5;241m1\u001b[39m, \u001b[38;5;241m2\u001b[39m, \u001b[38;5;241m3\u001b[39m)\n\u001b[1;32m----> 2\u001b[0m my_tuple[\u001b[38;5;241m0\u001b[39m] \u001b[38;5;241m=\u001b[39m \u001b[38;5;241m4\u001b[39m\n",
      "\u001b[1;31mTypeError\u001b[0m: 'tuple' object does not support item assignment"
     ]
    }
   ],
   "source": [
    "my_tuple = (1, 2, 3)\n",
    "my_tuple[0] = 4"
   ]
  },
  {
   "cell_type": "markdown",
   "metadata": {},
   "source": [
    "### Tuple Methods\n",
    "Tuples are immutable in Python, which means that they cannot be modified once created. As a result, they have fewer methods compared to lists. However, there are a few built-in methods that can be used with tuples in Python. Some of the commonly used methods for tuples are `count()`, `index()`.\n",
    "\n",
    "Syntax:\n",
    "```python\n",
    "tuple.count(value)\n",
    "tuple.index(value[, start[, end]])\n",
    "```\n",
    "\n",
    "The `start` and `end` parameters are optional and specify the range of the tuple to search in. If `value` is not found, a `ValueError` is raised."
   ]
  },
  {
   "cell_type": "code",
   "execution_count": 21,
   "metadata": {},
   "outputs": [
    {
     "name": "stdout",
     "output_type": "stream",
     "text": [
      "3\n",
      "2\n"
     ]
    }
   ],
   "source": [
    "my_tuple = (1, 2, 3, 2, 4, 2)\n",
    "\n",
    "print(my_tuple.count(2))  # Returns the number of occurrences of a specified element in a tuple\n",
    "print(my_tuple.index(3))  # Returns the index of the first occurrence of a specified element in a tuple"
   ]
  },
  {
   "cell_type": "markdown",
   "metadata": {},
   "source": [
    "## 4. Set Type\n",
    "A set is an unordered collection of unique elements in Python. Sets are mutable, meaning their contents can be changed after they are created. Sets are created using curly braces `{}` or the `set()` constructor.\n",
    "\n",
    "To create a set, you can use curly braces `{}` with comma-separated values inside or the `set()` constructor with a list as an argument."
   ]
  },
  {
   "cell_type": "code",
   "execution_count": 22,
   "metadata": {},
   "outputs": [],
   "source": [
    "# Creating a set with curly braces\n",
    "my_set = {1, 2, 3, 4}\n",
    "\n",
    "# Creating a set with the set() constructor\n",
    "my_set = set([1, 2, 3, 4])"
   ]
  },
  {
   "cell_type": "markdown",
   "metadata": {},
   "source": [
    "### Set Operations\n",
    "Sets in Python support a variety of operations, including union, intersection, difference, and symmetric difference."
   ]
  },
  {
   "cell_type": "code",
   "execution_count": 23,
   "metadata": {},
   "outputs": [
    {
     "name": "stdout",
     "output_type": "stream",
     "text": [
      "{1, 2, 3, 4, 5, 6}\n",
      "{3, 4}\n",
      "{1, 2}\n"
     ]
    },
    {
     "ename": "AttributeError",
     "evalue": "'set' object has no attribute 'symm'",
     "output_type": "error",
     "traceback": [
      "\u001b[1;31m---------------------------------------------------------------------------\u001b[0m",
      "\u001b[1;31mAttributeError\u001b[0m                            Traceback (most recent call last)",
      "Input \u001b[1;32mIn [23]\u001b[0m, in \u001b[0;36m<cell line: 13>\u001b[1;34m()\u001b[0m\n\u001b[0;32m     10\u001b[0m set5 \u001b[38;5;241m=\u001b[39m set1\u001b[38;5;241m.\u001b[39mdifference(set2)  \u001b[38;5;66;03m# Difference of two sets\u001b[39;00m\n\u001b[0;32m     11\u001b[0m \u001b[38;5;28mprint\u001b[39m(set5)\n\u001b[1;32m---> 13\u001b[0m set6 \u001b[38;5;241m=\u001b[39m \u001b[43mset1\u001b[49m\u001b[38;5;241;43m.\u001b[39;49m\u001b[43msymm\u001b[49m\n",
      "\u001b[1;31mAttributeError\u001b[0m: 'set' object has no attribute 'symm'"
     ]
    }
   ],
   "source": [
    "set1 = {1, 2, 3, 4}\n",
    "set2 = {3, 4, 5, 6}\n",
    "\n",
    "set3 = set1.union(set2)  # Union of two sets\n",
    "print(set3)\n",
    "\n",
    "set4 = set1.intersection(set2)  # Intersection of two sets\n",
    "print(set4)\n",
    "\n",
    "set5 = set1.difference(set2)  # Difference of two sets\n",
    "print(set5)\n",
    "\n",
    "set6 = set1.symm"
   ]
  },
  {
   "cell_type": "markdown",
   "metadata": {},
   "source": [
    "### Mofifying Set\n",
    "You can add an element to a set or remove an element using `add()`, `remove()`, `discard()`, `pop()` and `clear()` method."
   ]
  },
  {
   "cell_type": "code",
   "execution_count": 24,
   "metadata": {},
   "outputs": [
    {
     "name": "stdout",
     "output_type": "stream",
     "text": [
      "{1, 2, 3, 4, 5}\n",
      "{1, 2, 4, 5}\n",
      "{1, 2, 4}\n",
      "1\n",
      "set()\n"
     ]
    }
   ],
   "source": [
    "my_set = {1, 2, 3, 4}\n",
    "\n",
    "my_set.add(5)\n",
    "print(my_set)\n",
    "\n",
    "my_set.remove(3)  # If the element does not exist, it will raise a KeyError\n",
    "print(my_set)\n",
    "\n",
    "my_set.discard(5)  # Removes the specified element from a set\n",
    "print(my_set)     # If the element does not exist, it will not raise an error\n",
    "\n",
    "x = my_set.pop()  # Removes and returns an arbitrary element from a set\n",
    "print(x)          # If the set is empty, it will raise a KeyError\n",
    "\n",
    "my_set.clear()    # Removes all elements from a set\n",
    "print(my_set)"
   ]
  }
 ],
 "metadata": {
  "kernelspec": {
   "display_name": "Python 3",
   "language": "python",
   "name": "python3"
  },
  "language_info": {
   "codemirror_mode": {
    "name": "ipython",
    "version": 3
   },
   "file_extension": ".py",
   "mimetype": "text/x-python",
   "name": "python",
   "nbconvert_exporter": "python",
   "pygments_lexer": "ipython3",
   "version": "3.10.5"
  }
 },
 "nbformat": 4,
 "nbformat_minor": 2
}

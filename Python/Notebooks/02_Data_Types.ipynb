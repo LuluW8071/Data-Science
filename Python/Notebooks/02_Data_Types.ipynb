{
 "cells": [
  {
   "cell_type": "markdown",
   "metadata": {},
   "source": [
    "# Python Data Types\n",
    "[...Continued]\n",
    "## 3. Sequence Types\n",
    "### 3.1 List\n",
    "In Python, lists are used to store a collection of items, which can be of any data type. You can define a list in Python using square brackets `[]`."
   ]
  },
  {
   "cell_type": "code",
   "execution_count": 1,
   "metadata": {},
   "outputs": [],
   "source": [
    "x = [1, 2, 3, 4, 5]\n",
    "y = ['apple', 'banana', 'orange']\n",
    "z = [1, 'apple', True, 3.14]"
   ]
  },
  {
   "cell_type": "markdown",
   "metadata": {},
   "source": [
    "You can access individual items in a list using indexing. In Python, indexing starts at 0."
   ]
  },
  {
   "cell_type": "code",
   "execution_count": 2,
   "metadata": {},
   "outputs": [
    {
     "name": "stdout",
     "output_type": "stream",
     "text": [
      "1\n",
      "3\n",
      "5\n"
     ]
    }
   ],
   "source": [
    "print(x[0])\n",
    "print(x[2])\n",
    "print(x[-1])"
   ]
  },
  {
   "cell_type": "markdown",
   "metadata": {},
   "source": [
    "### Slicing Lists\n",
    "You can access a range of items in a list using slicing. Slicing uses the syntax `start:stop:step`, where `start` is the index of the first item you want to include, `stop` is the index of the first item you want to exclude, and `step` is the number of items to skip."
   ]
  },
  {
   "cell_type": "code",
   "execution_count": 3,
   "metadata": {},
   "outputs": [
    {
     "name": "stdout",
     "output_type": "stream",
     "text": [
      "[1, 2, 3]\n",
      "[3, 4, 5]\n",
      "[1, 2, 3]\n",
      "[1, 3, 5]\n"
     ]
    }
   ],
   "source": [
    "print(x[0:3])\n",
    "print(x[2:])\n",
    "print(x[:3])\n",
    "print(x[::2])"
   ]
  },
  {
   "cell_type": "markdown",
   "metadata": {},
   "source": [
    "### Modifying Lists\n",
    "You can modify individual items in a list by assigning a new value to the index. You can also add or remove items from a list using built-in list methods."
   ]
  },
  {
   "cell_type": "code",
   "execution_count": 4,
   "metadata": {},
   "outputs": [
    {
     "name": "stdout",
     "output_type": "stream",
     "text": [
      "[10, 2, 3, 4, 5]\n",
      "[10, 2, 3, 4, 5, 6]\n",
      "[10, 2, 'apple', 3, 4, 5, 6]\n",
      "[10, 2, 3, 4, 5, 6]\n",
      "[10, 3, 4, 5, 6]\n",
      "[]\n"
     ]
    }
   ],
   "source": [
    "x = [1, 2, 3, 4, 5]\n",
    "\n",
    "x[0] = 10\n",
    "print(x)\n",
    "\n",
    "x.append(6)  # Adds an item to the end of the list\n",
    "print(x)\n",
    "\n",
    "x.insert(2, \"apple\")  # Adds an item at a specific index in the list\n",
    "print(x)\n",
    "\n",
    "x.remove(\"apple\")  # Removes the first occurrence of the specified item from the list\n",
    "print(x)\n",
    "\n",
    "x.pop(1)  # Removes and returns the item at the specified index\n",
    "print(x)  # If no index is specified, it removes and returns the last item in the list\n",
    "\n",
    "x.clear()  # Removes all items from the list\n",
    "print(x)"
   ]
  },
  {
   "cell_type": "markdown",
   "metadata": {},
   "source": [
    "### List Methods\n",
    "Python provides a variety of built-in list methods that you can use to perform operations on lists. Some common list methods include `sort()`, `reverse()`, `count()`, and `index()`."
   ]
  },
  {
   "cell_type": "code",
   "execution_count": 5,
   "metadata": {},
   "outputs": [
    {
     "name": "stdout",
     "output_type": "stream",
     "text": [
      "[1, 1, 2, 3, 3, 4, 5, 5, 6, 9]\n",
      "[9, 6, 5, 5, 4, 3, 3, 2, 1, 1]\n",
      "[1, 1, 2, 3, 3, 4, 5, 5, 6, 9]\n",
      "0\n",
      "2\n"
     ]
    }
   ],
   "source": [
    "x = [3, 1, 4, 1, 5, 9, 2, 6, 5, 3]\n",
    "\n",
    "x.sort()  # Sorts the list in ascending order\n",
    "print(x)\n",
    "\n",
    "x.sort(reverse=True)  # Sorts the list in descending order\n",
    "print(x)\n",
    "\n",
    "x.reverse()  # Reverses the order of the items in the list\n",
    "print(x)\n",
    "\n",
    "index = x.index(1)  # Returns the index of the first occurrence of the specified item in the list\n",
    "print(index)\n",
    "\n",
    "count = x.count(1)  # Returns the number of times the specified item appears in the list\n",
    "print(count)"
   ]
  },
  {
   "cell_type": "markdown",
   "metadata": {},
   "source": [
    "### 3.2 Tuple\n",
    "In Python, a tuple is a collection of ordered, immutable objects. Once created, you cannot modify the contents of a tuple. You can create a tuple by enclosing a sequence of objects in parentheses, separated by commas."
   ]
  },
  {
   "cell_type": "code",
   "execution_count": 6,
   "metadata": {},
   "outputs": [
    {
     "name": "stdout",
     "output_type": "stream",
     "text": [
      "(1, 2, 3)\n"
     ]
    }
   ],
   "source": [
    "my_tuple = (1, 2, 3)\n",
    "print(my_tuple)"
   ]
  },
  {
   "cell_type": "markdown",
   "metadata": {},
   "source": [
    "You can access elements of a tuple using indexing, just like with a list."
   ]
  },
  {
   "cell_type": "code",
   "execution_count": 7,
   "metadata": {},
   "outputs": [
    {
     "name": "stdout",
     "output_type": "stream",
     "text": [
      "1\n"
     ]
    }
   ],
   "source": [
    "print(my_tuple[0])"
   ]
  },
  {
   "cell_type": "markdown",
   "metadata": {},
   "source": [
    "### Slicing Tuples\n",
    "You can slice a tuple using the same slicing syntax as a list."
   ]
  },
  {
   "cell_type": "code",
   "execution_count": 8,
   "metadata": {},
   "outputs": [
    {
     "name": "stdout",
     "output_type": "stream",
     "text": [
      "(2, 3)\n"
     ]
    }
   ],
   "source": [
    "my_tuple = (1, 2, 3, 4, 5)\n",
    "print(my_tuple[1:3])"
   ]
  },
  {
   "cell_type": "markdown",
   "metadata": {},
   "source": [
    "### Tuples are Immutable\n",
    "Once created, you cannot modify the contents of a tuple. This means that you cannot add, remove, or change elements of a tuple. It raises `TypeError`."
   ]
  },
  {
   "cell_type": "code",
   "execution_count": 9,
   "metadata": {},
   "outputs": [
    {
     "ename": "TypeError",
     "evalue": "'tuple' object does not support item assignment",
     "output_type": "error",
     "traceback": [
      "\u001b[1;31m---------------------------------------------------------------------------\u001b[0m",
      "\u001b[1;31mTypeError\u001b[0m                                 Traceback (most recent call last)",
      "Input \u001b[1;32mIn [9]\u001b[0m, in \u001b[0;36m<cell line: 2>\u001b[1;34m()\u001b[0m\n\u001b[0;32m      1\u001b[0m my_tuple \u001b[38;5;241m=\u001b[39m (\u001b[38;5;241m1\u001b[39m, \u001b[38;5;241m2\u001b[39m, \u001b[38;5;241m3\u001b[39m)\n\u001b[1;32m----> 2\u001b[0m my_tuple[\u001b[38;5;241m0\u001b[39m] \u001b[38;5;241m=\u001b[39m \u001b[38;5;241m4\u001b[39m\n",
      "\u001b[1;31mTypeError\u001b[0m: 'tuple' object does not support item assignment"
     ]
    }
   ],
   "source": [
    "my_tuple = (1, 2, 3)\n",
    "my_tuple[0] = 4"
   ]
  },
  {
   "cell_type": "markdown",
   "metadata": {},
   "source": [
    "### Tuple Methods\n",
    "Tuples are immutable in Python, which means that they cannot be modified once created. As a result, they have fewer methods compared to lists. However, there are a few built-in methods that can be used with tuples in Python. Some of the commonly used methods for tuples are `count()`, `index()`.\n",
    "\n",
    "Syntax:\n",
    "```python\n",
    "tuple.count(value)\n",
    "tuple.index(value[, start[, end]])\n",
    "```\n",
    "\n",
    "The `start` and `end` parameters are optional and specify the range of the tuple to search in. If `value` is not found, a `ValueError` is raised."
   ]
  },
  {
   "cell_type": "code",
   "execution_count": 10,
   "metadata": {},
   "outputs": [
    {
     "name": "stdout",
     "output_type": "stream",
     "text": [
      "3\n",
      "2\n"
     ]
    }
   ],
   "source": [
    "my_tuple = (1, 2, 3, 2, 4, 2)\n",
    "\n",
    "print(my_tuple.count(2))  # Returns the number of occurrences of a specified element in a tuple\n",
    "print(my_tuple.index(3))  # Returns the index of the first occurrence of a specified element in a tuple"
   ]
  },
  {
   "cell_type": "markdown",
   "metadata": {},
   "source": [
    "## 4. Set Type\n",
    "A set is an unordered collection of unique elements in Python. Sets are mutable, meaning their contents can be changed after they are created. Sets are created using curly braces `{}` or the `set()` constructor.\n",
    "\n",
    "To create a set, you can use curly braces `{}` with comma-separated values inside or the `set()` constructor with a list as an argument."
   ]
  },
  {
   "cell_type": "code",
   "execution_count": 11,
   "metadata": {},
   "outputs": [],
   "source": [
    "# Creating a set with curly braces\n",
    "my_set = {1, 2, 3, 4}\n",
    "\n",
    "# Creating a set with the set() constructor\n",
    "my_set = set([1, 2, 3, 4])"
   ]
  },
  {
   "cell_type": "markdown",
   "metadata": {},
   "source": [
    "### Set Operations\n",
    "Sets in Python support a variety of operations, including union, intersection, difference, and symmetric difference."
   ]
  },
  {
   "cell_type": "code",
   "execution_count": 13,
   "metadata": {},
   "outputs": [
    {
     "name": "stdout",
     "output_type": "stream",
     "text": [
      "{1, 2, 3, 4, 5, 6}\n",
      "{3, 4}\n",
      "{1, 2}\n",
      "{1, 2, 5, 6}\n"
     ]
    }
   ],
   "source": [
    "set1 = {1, 2, 3, 4}\n",
    "set2 = {3, 4, 5, 6}\n",
    "\n",
    "set3 = set1.union(set2)  # Union of two sets\n",
    "print(set3)\n",
    "\n",
    "set4 = set1.intersection(set2)  # Intersection of two sets\n",
    "print(set4)\n",
    "\n",
    "set5 = set1.difference(set2)  # Difference of two sets\n",
    "print(set5)\n",
    "\n",
    "set6 = set1.symmetric_difference(set2)  # Symmetric difference of two sets\n",
    "print(set6)"
   ]
  },
  {
   "cell_type": "markdown",
   "metadata": {},
   "source": [
    "### Modifying Set\n",
    "You can add an element to a set or remove an element using `add()`, `remove()`, `discard()`, `pop()` and `clear()` method."
   ]
  },
  {
   "cell_type": "code",
   "execution_count": null,
   "metadata": {},
   "outputs": [
    {
     "name": "stdout",
     "output_type": "stream",
     "text": [
      "{1, 2, 3, 4, 5}\n",
      "{1, 2, 4, 5}\n",
      "{1, 2, 4}\n",
      "1\n",
      "set()\n"
     ]
    }
   ],
   "source": [
    "my_set = {1, 2, 3, 4}\n",
    "\n",
    "my_set.add(5)\n",
    "print(my_set)\n",
    "\n",
    "my_set.remove(3)  # If the element does not exist, it will raise a KeyError\n",
    "print(my_set)\n",
    "\n",
    "my_set.discard(5)  # Removes the specified element from a set\n",
    "print(my_set)     # If the element does not exist, it will not raise an error\n",
    "\n",
    "x = my_set.pop()  # Removes and returns an arbitrary element from a set\n",
    "print(x)          # If the set is empty, it will raise a KeyError\n",
    "\n",
    "my_set.clear()    # Removes all elements from a set\n",
    "print(my_set)"
   ]
  },
  {
   "cell_type": "markdown",
   "metadata": {},
   "source": [
    "## 5. Mapping Type\n",
    "Mapping Types are popularly known as dictionaries in python represented by `dict` keyword. In Python, dict is a built-in type that represents a collection of key-value pairs. It is also known as a dictionary or associative array in other programming languages.\n",
    "\n",
    "A dictionary is an unordered collection of elements where each element is a pair consisting of a key and a value. The key is used to index and uniquely identify the value in the dictionary.\n",
    "\n",
    "Here are some key features of Python dictionaries:\n",
    "\n",
    "- Dictionaries are unordered, meaning that the order of elements is not guaranteed.\n",
    "- Keys must be unique and immutable, while values can be of any data type, including other dictionaries (nested dictionaries).\n",
    "- Dictionary elements are accessed using the keys, rather than the index as in a list or tuple.\n",
    "- Dictionaries are mutable, meaning that you can add, delete, or modify elements after the dictionary has been created.\n",
    "\n",
    "You can create a dictionary by enclosing key-value pairs in curly braces `{}` or by using the `dict()` constructor."
   ]
  },
  {
   "cell_type": "code",
   "execution_count": 14,
   "metadata": {},
   "outputs": [
    {
     "name": "stdout",
     "output_type": "stream",
     "text": [
      "{'name': 'John', 'age': 30, 'city': 'New York'}\n",
      "{'name': 'John', 'age': 30, 'city': 'New York'}\n"
     ]
    }
   ],
   "source": [
    "person = {\"name\": \"John\", \"age\": 30, \"city\": \"New York\"}\n",
    "print(person)\n",
    "\n",
    "person = dict(name=\"John\", age=30, city=\"New York\")\n",
    "print(person)"
   ]
  },
  {
   "cell_type": "markdown",
   "metadata": {},
   "source": [
    "You can access the value of a dictionary element by specifying the key inside square brackets []. If you try to access a key that doesn't exist, Python will raise a `KeyError` exception. You can avoid this by using the `get()` method, which returns None (or a default value you provide) instead of raising an exception."
   ]
  },
  {
   "cell_type": "code",
   "execution_count": 15,
   "metadata": {},
   "outputs": [
    {
     "name": "stdout",
     "output_type": "stream",
     "text": [
      "John\n",
      "30\n",
      "New York\n",
      "male\n",
      "John\n"
     ]
    }
   ],
   "source": [
    "person = {\"name\": \"John\", \"age\": 30, \"city\": \"New York\"}\n",
    "print(person[\"name\"])\n",
    "print(person[\"age\"])\n",
    "print(person[\"city\"])\n",
    "# print(person[\"gender\"])  # KeyError: 'gender'\n",
    "print(person.get(\"gender\", \"male\"))  # Specifying a default value \"male\"\n",
    "print(person.get(\"name\", \"male\"))"
   ]
  },
  {
   "cell_type": "markdown",
   "metadata": {},
   "source": [
    "### Modifying Elements\n",
    "You can modify the value of a dictionary element by specifying the key and assigning a new value to it."
   ]
  },
  {
   "cell_type": "code",
   "execution_count": 16,
   "metadata": {},
   "outputs": [
    {
     "name": "stdout",
     "output_type": "stream",
     "text": [
      "{'name': 'John', 'age': 35, 'city': 'New York'}\n",
      "{'name': 'John', 'age': 35, 'city': 'New York', 'gender': 'male'}\n",
      "{'name': 'John', 'age': 35, 'gender': 'male'}\n"
     ]
    }
   ],
   "source": [
    "person = {\"name\": \"John\", \"age\": 30, \"city\": \"New York\"}\n",
    "person[\"age\"] = 35\n",
    "print(person)\n",
    "\n",
    "person[\"gender\"] = \"male\"  # Adding Element \"gender\"\n",
    "print(person)\n",
    "\n",
    "del person[\"city\"]  # Deleting Element \"city\"\n",
    "print(person)"
   ]
  },
  {
   "cell_type": "markdown",
   "metadata": {},
   "source": [
    "### Dictionary Methods\n",
    "Some commonly used methods in Python dictionaries are `keys()`, `values()`, `items()`, `pop()`, `copy()`, `clear()`."
   ]
  },
  {
   "cell_type": "code",
   "execution_count": 17,
   "metadata": {},
   "outputs": [
    {
     "name": "stdout",
     "output_type": "stream",
     "text": [
      "dict_keys(['name', 'age', 'city'])\n",
      "dict_values(['John', 30, 'New York'])\n",
      "dict_items([('name', 'John'), ('age', 30), ('city', 'New York')])\n",
      "30\n",
      "{'name': 'John', 'city': 'New York'}\n",
      "New York\n"
     ]
    }
   ],
   "source": [
    "person = {\"name\": \"John\", \"age\": 30, \"city\": \"New York\"}\n",
    "\n",
    "print(person.keys())  # Returns a view object that contains keys of the dictionary\n",
    "print(person.values())  # Returns a view object that contains values of the dictionary\n",
    "print(person.items())  # Returns a view object that contains key-value pairs of the dictionary as tuples\n",
    "\n",
    "age = person.pop('age')  # Removes the key-value pair with the given key and returns the value\n",
    "print(age)               # If the key is not found, a KeyError exception is raised.\n",
    "print(person)\n",
    "\n",
    "city = person.pop(\"city\", \"NYC\")  # Providing a default value avoids the KeyError\n",
    "print(city)"
   ]
  },
  {
   "cell_type": "markdown",
   "metadata": {},
   "source": [
    "You can use the `pop()` method to remove and get the value of a key in a single operation. If you don't need the value, you can use the del statement to remove the key-value pair as done earlier.\n",
    "\n",
    "We can also sort the dictionary elements both by dictionary keys and values using `sorted()` method."
   ]
  },
  {
   "cell_type": "code",
   "execution_count": 18,
   "metadata": {},
   "outputs": [
    {
     "name": "stdout",
     "output_type": "stream",
     "text": [
      "{'age': '30', 'city': 'New York', 'name': 'John'}\n",
      "{'age': '30', 'name': 'John', 'city': 'New York'}\n"
     ]
    }
   ],
   "source": [
    "person = {\"name\": \"John\", \"age\": \"30\", \"city\": \"New York\"}\n",
    "\n",
    "key_sorted = dict(sorted(person.items(), key=lambda item: item[0])) # Sort by Key\n",
    "print(key_sorted)\n",
    "\n",
    "value_sorted = dict(sorted(person.items(), key=lambda item: item[1])) # Sort by Value\n",
    "print(value_sorted)"
   ]
  },
  {
   "cell_type": "markdown",
   "metadata": {},
   "source": [
    "## 6. Boolean Type\n",
    "In Python, the boolean type is a built-in data type that has two possible values: `True` and `False`. Booleans are used to represent the truth values of logical expressions, and they are often used in conditional statements to control the flow of a program.\n",
    "\n",
    "You can create boolean values using the literals `True` and `False`, or by using expressions that evaluate to boolean values."
   ]
  },
  {
   "cell_type": "code",
   "execution_count": 19,
   "metadata": {},
   "outputs": [
    {
     "name": "stdout",
     "output_type": "stream",
     "text": [
      "False\n",
      "True\n"
     ]
    }
   ],
   "source": [
    "a = 5\n",
    "b = 10\n",
    "c = (a > b)\n",
    "d = (a < b)\n",
    "\n",
    "print(c)\n",
    "print(d)"
   ]
  },
  {
   "cell_type": "markdown",
   "metadata": {},
   "source": [
    "Boolean values can be combined using logical operators. The most common logical operators are:\n",
    "\n",
    "|Operator|\tDescription|\n",
    "|--------|-------------|\n",
    "|`and`|\tReturns `True` if both operands are `True`, else `False`.|\n",
    "|`or`|\tReturns `True` if either operand is `True`, else `False`.|\n",
    "|`not`|\tNegates the value of the operand. Returns `True` if the operand is `False`, and `False` if the operand is `True`.|"
   ]
  },
  {
   "cell_type": "code",
   "execution_count": 20,
   "metadata": {},
   "outputs": [
    {
     "name": "stdout",
     "output_type": "stream",
     "text": [
      "False\n",
      "True\n",
      "False\n"
     ]
    }
   ],
   "source": [
    "x = True\n",
    "y = False\n",
    "\n",
    "print(x and y)\n",
    "print(x or y)\n",
    "print(not x)"
   ]
  }
 ],
 "metadata": {
  "kernelspec": {
   "display_name": "Python 3",
   "language": "python",
   "name": "python3"
  },
  "language_info": {
   "codemirror_mode": {
    "name": "ipython",
    "version": 3
   },
   "file_extension": ".py",
   "mimetype": "text/x-python",
   "name": "python",
   "nbconvert_exporter": "python",
   "pygments_lexer": "ipython3",
   "version": "3.10.5"
  }
 },
 "nbformat": 4,
 "nbformat_minor": 2
}

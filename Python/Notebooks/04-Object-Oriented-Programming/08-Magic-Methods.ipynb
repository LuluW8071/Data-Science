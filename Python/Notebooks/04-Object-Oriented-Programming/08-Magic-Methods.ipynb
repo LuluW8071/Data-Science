{
 "cells": [
  {
   "cell_type": "markdown",
   "id": "52816b5d",
   "metadata": {},
   "source": [
    "# Magic Methods in Python\n",
    "\n",
    "In Python, magic methods are special methods that start and end with double underscores (e.g., __init__), hence also known as `dunder` (double undersocres) methods. They are used to define various built-in operations and behaviors of objects in Python. Here are some of the most commonly used magic methods in Python:\n",
    "\n",
    "- **\\__init\\__:** Initializes an object of a class when it is created\n",
    "- **\\__str\\__:** Defines how an object is printed as a string\n",
    "- **\\__repr\\__:** Defines the string representation of an object, which can be used to recreate the object\n",
    "- **\\__len\\__:** Defines length of an object\n",
    "- **\\__call\\__:** Calls objects of the class like a normal function"
   ]
  },
  {
   "cell_type": "code",
   "execution_count": 1,
   "id": "1bc175af",
   "metadata": {},
   "outputs": [
    {
     "name": "stdout",
     "output_type": "stream",
     "text": [
      "Alice is 30 years old\n",
      "Alice is 30 years old\n",
      "Person(Alice, 30)\n",
      "30\n",
      "Alice is being called\n"
     ]
    }
   ],
   "source": [
    "class Person:\n",
    "    def __init__(self, name, age):\n",
    "        self.name = name\n",
    "        self.age = age\n",
    "\n",
    "    def __str__(self):\n",
    "        return f\"{self.name} is {self.age} years old\"\n",
    "\n",
    "    def __repr__(self):\n",
    "        return f\"Person({self.name}, {self.age})\"\n",
    "\n",
    "    def __len__(self):\n",
    "        return self.age\n",
    "\n",
    "    def __call__(self):\n",
    "        return f\"{self.name} is being called\"\n",
    "\n",
    "person = Person(\"Alice\", 30)\n",
    "\n",
    "print(person)        # prints \"Alice is 30 years old\"\n",
    "print(str(person))   # also prints \"Alice is 30 years old\"\n",
    "print(repr(person))  # prints \"Person('Alice', 30)\"\n",
    "print(len(person))   # prints 30\n",
    "print(person())      # prints \"Alice is being called\""
   ]
  },
  {
   "cell_type": "markdown",
   "id": "7cf02dd6",
   "metadata": {},
   "source": [
    "In this example, the `__init__` method is used to initialize the `name` and `age` instance variables. The `__str__` method returns a string representation of the object when it is printed, and the `__repr__` method returns a string representation of the object that can be used to recreate the object. The `__len__` method returns the age of the person, and the `__call__` method returns a string indicating that the object is being called.\n",
    "\n",
    "**`__str__` and `__repr` methods seem similar. How do they serve different purposes?**\n",
    "- `str(obj)` method is used to return a string representation of an object that is meant to be human-readable. It is generally used for printing the object, logging, and displaying information to the user.\n",
    "- `repr(obj)` method, on the other hand, is used to return a string representation of an object that is meant to be unambiguous and suitable for debugging. It should ideally return a string that can be used to recreate the object.\n",
    "\n",
    "## Operator Overloading\n",
    "\n",
    "Operator overloading is the ability to redefine the built-in operators such as `+, -, *, /, ==, >, <, and so on` for custom classes. In Python, it is possible to define how these operators should work on objects of user-defined classes by implementing certain special methods called magic methods or dunder methods. There are several magic methods available with python that support `operator overloading`. Here's a list of some of the popular magic methods that support `operator overloading` with python:\n",
    "\n",
    "| Operation | Implementation | Expression |\n",
    "| :-- | :-: | :-: |\n",
    "| Addition | `a + b` | `a.__add__(b)` |\n",
    "| Subtraction | `a  - b` | `a.__sub__(b)` |\n",
    "| Multiplication | `a * b` | `a.__mul__(b)` |\n",
    "| Division | `a / b` | `a.__truediv__(b)` |\n",
    "| Floor Division | `a // b` | `a.__floordiv__(b)` |\n",
    "| Remainder (Modulo) | `a % b` | `a.__mod__(b)` |\n",
    "| Power | `a ** b` | `a.__pow__(b)` |\n",
    "| Equals To | `a == b` | `a.__eq__(b)` |\n",
    "| Less Than | `a < b` | `a.__lt__(b)` |\n",
    "| Greater Than | `a > b` | `a.__gt__(b)` |\n",
    "| Bitwise AND | `a & b` | `a.__and__(b)` |\n",
    "| Bitwise OR | `a \\| b` | `a.__or__(b)` |\n",
    "| Bitwise NOT | `~a` | `a.__invert__()` |\n",
    "| Bitwise XOR | `a ^ b` | `a.__xor__(b)` |\n",
    "| Bitwise Left Shift | `a << b` | `a.__lshift__(b)` |\n",
    "| Bitwise Right Shift | `a >> b` | `a.__rshift__(b)` |"
   ]
  },
  {
   "cell_type": "code",
   "execution_count": 2,
   "id": "73752167",
   "metadata": {},
   "outputs": [
    {
     "name": "stdout",
     "output_type": "stream",
     "text": [
      "<__main__.Point object at 0x7f3c945443a0>\n",
      "<__main__.Point object at 0x7f3c94544400>\n",
      "<__main__.Point object at 0x7f3c945443a0>\n",
      "<__main__.Point object at 0x7f3c94544400>\n",
      "False\n",
      "True\n"
     ]
    }
   ],
   "source": [
    "class Point:\n",
    "    def __init__(self, x, y):\n",
    "        self.x = x\n",
    "        self.y = y\n",
    "    \n",
    "    def __add__(self, other):\n",
    "        x = self.x + other.x\n",
    "        y = self.y + other.y\n",
    "        return Point(x, y)\n",
    "    \n",
    "    def __sub__(self, other):\n",
    "        x = self.x - other.x\n",
    "        y = self.y - other.y\n",
    "        return Point(x, y)\n",
    "    \n",
    "    def __mul__(self, other):\n",
    "        x = self.x * other.x\n",
    "        y = self.y * other.y\n",
    "        return Point(x, y)\n",
    "    \n",
    "    def __truediv__(self, other):\n",
    "        x = self.x / other.x\n",
    "        y = self.y / other.y\n",
    "        return Point(x, y)\n",
    "    \n",
    "    def __eq__(self, other):\n",
    "        return self.x == other.x and self.y == other.y\n",
    "    \n",
    "    def __lt__(self, other):\n",
    "        return self.x < other.x and self.y < other.y\n",
    "\n",
    "p1 = Point(1, 2)\n",
    "p2 = Point(3, 4)\n",
    "\n",
    "print(p1 + p2)  # Output: (4, 6)\n",
    "print(p2 - p1)  # Output: (2, 2)\n",
    "print(p1 * p2)  # Output: (3, 8)\n",
    "print(p2 / p1)  # Output: (3.0, 2.0)\n",
    "print(p1 == p2) # Output: False\n",
    "print(p1 < p2)  # Output: True"
   ]
  },
  {
   "cell_type": "markdown",
   "id": "b2eb9916",
   "metadata": {},
   "source": [
    "In this example, the Point class has overloaded various operators such as `+, -, *, /, ==, and <` using the magic methods `add`, `sub`, `mul`, `truediv`, `eq`, and `lt` respectively."
   ]
  }
 ],
 "metadata": {
  "kernelspec": {
   "display_name": "Python 3 (ipykernel)",
   "language": "python",
   "name": "python3"
  },
  "language_info": {
   "codemirror_mode": {
    "name": "ipython",
    "version": 3
   },
   "file_extension": ".py",
   "mimetype": "text/x-python",
   "name": "python",
   "nbconvert_exporter": "python",
   "pygments_lexer": "ipython3",
   "version": "3.8.10"
  }
 },
 "nbformat": 4,
 "nbformat_minor": 5
}

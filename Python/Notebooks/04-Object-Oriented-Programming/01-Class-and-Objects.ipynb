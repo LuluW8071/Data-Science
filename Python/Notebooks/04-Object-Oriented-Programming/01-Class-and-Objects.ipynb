{
 "cells": [
  {
   "cell_type": "markdown",
   "id": "13ba8054",
   "metadata": {},
   "source": [
    "# Class and Objects\n",
    "\n",
    "A class is a blueprint or a template for creating objects, which are instances of the class. Classes encapsulate data and the behavior that operates on that data. A class defines a set of attributes and methods that can be used to create objects. In Python, you can define a class using the class keyword. Attributes and methods are the two key components of a python class. Attributes are the characteristics or properties of an object, while methods are the functions that are associated with the object.\n",
    "\n",
    "Here's an example of a simple class definition:"
   ]
  },
  {
   "cell_type": "code",
   "execution_count": 1,
   "id": "4f1bc81c",
   "metadata": {},
   "outputs": [],
   "source": [
    "class Dog:\n",
    "    def __init__(self, name, age):\n",
    "        self.name = name\n",
    "        self.age = age\n",
    "\n",
    "    def bark(self):\n",
    "        print(f\"{self.name} is barking!\")"
   ]
  },
  {
   "cell_type": "markdown",
   "id": "f6bbb000",
   "metadata": {},
   "source": [
    "This class, called `Dog`, has two attributes (`name` and `age`) and one method (`bark`). The `__init__` method is a special method that is called when a new instance of the class is created. It takes two arguments (`name` and `age`) and initializes the corresponding attributes. The `bark` method is a simple method that prints a message to the console.\n",
    "\n",
    "To create an instance of the `Dog` class, you can simply call the class with the appropriate arguments:"
   ]
  },
  {
   "cell_type": "code",
   "execution_count": 2,
   "id": "d76c5a56",
   "metadata": {},
   "outputs": [
    {
     "name": "stdout",
     "output_type": "stream",
     "text": [
      "<class '__main__.Dog'>\n"
     ]
    }
   ],
   "source": [
    "my_dog = Dog(\"Buddy\", 3)\n",
    "print(type(my_dog))"
   ]
  },
  {
   "cell_type": "markdown",
   "id": "5a7519c2",
   "metadata": {},
   "source": [
    "This creates a new instance of the `Dog` class with the name `\"Buddy\"` and the age `3`, and assigns it to the variable `my_dog`. You can access the attributes of an instance using the dot notation."
   ]
  },
  {
   "cell_type": "code",
   "execution_count": 3,
   "id": "7976cd1a",
   "metadata": {},
   "outputs": [
    {
     "name": "stdout",
     "output_type": "stream",
     "text": [
      "Buddy\n",
      "3\n"
     ]
    }
   ],
   "source": [
    "print(my_dog.name)\n",
    "print(my_dog.age)"
   ]
  },
  {
   "cell_type": "markdown",
   "id": "ac1ee3ae",
   "metadata": {},
   "source": [
    "You can call the methods of an instance using the dot notation as well."
   ]
  },
  {
   "cell_type": "code",
   "execution_count": 4,
   "id": "01d10e4e",
   "metadata": {},
   "outputs": [
    {
     "name": "stdout",
     "output_type": "stream",
     "text": [
      "Buddy is barking!\n"
     ]
    }
   ],
   "source": [
    "my_dog.bark()"
   ]
  },
  {
   "cell_type": "markdown",
   "id": "afc738b3",
   "metadata": {},
   "source": [
    "## Types of Attributes\n",
    "\n",
    "#### 1. Instance Attributes\n",
    "\n",
    "These are the attributes that belong to instances of a class. They are defined within the constructor method `__init__` and can be accessed using the `self` keyword like `self.name` and `self.age` in the above `Dog` class.. They are initialized when a new instance of the class is created.\n",
    "\n",
    "#### 2. Class attributes\n",
    "\n",
    "Class attributes are attributes that belong to the class itself. They are defined outside the constructor method `__init__` and can be accessed using the class name. Class attributes are shared by all instances of the class like `count` attribute in the `Person` class below.\n",
    "\n",
    "## Types of Methods\n",
    "\n",
    "#### 1. Instance methods\n",
    "\n",
    "The most common type of method in Python. These are the methods that operate on an instance of a class and have access to the instance's attributes. Instance methods are defined within the class and are called on instances of the class like `bark` method of the `Dog` class above.\n",
    "\n",
    "#### 2. Class methods\n",
    "\n",
    "Class methods are methods that operate on the class itself rather than on instances of the class. They are defined using the `@classmethod` decorator and take the class itself as the first argument like `get_count` method of `Person` class below.\n",
    "\n",
    "#### 3. Static methods\n",
    "\n",
    "Static methods are methods that do not operate on the instance or the class, but are related to the class in some way. They are defined using the `@staticmethod` decorator and do not take the instance or the class as arguments like `get_full_name` in `Person` class below."
   ]
  },
  {
   "cell_type": "code",
   "execution_count": 5,
   "id": "49d7a671",
   "metadata": {},
   "outputs": [],
   "source": [
    "class Person:\n",
    "    count = 0  # Class attribute\n",
    "\n",
    "    def __init__(self, name):\n",
    "        self.name = name\n",
    "        Person.count += 1\n",
    "\n",
    "    @classmethod\n",
    "    def get_count(cls):  #Defining Class method\n",
    "        return cls.count\n",
    "    \n",
    "    @staticmethod\n",
    "    def get_full_name(firstname, secondname):\n",
    "        return f'{firstname} {secondname}'"
   ]
  },
  {
   "cell_type": "markdown",
   "id": "174458f1",
   "metadata": {},
   "source": [
    "This class, called `Person`, has one class-level attribute (`count`) and one class-level method (`get_count`). The `__init__` method increments the count attribute each time a new instance of the class is created. The `classmethod` decorator is used to define `get_count` method as class-level. The `get_count` method returns the current value of the count attribute.\n",
    "\n",
    "To call the class-level method, you can use the class itself as the object:"
   ]
  },
  {
   "cell_type": "code",
   "execution_count": 6,
   "id": "b95e9a1c",
   "metadata": {},
   "outputs": [
    {
     "name": "stdout",
     "output_type": "stream",
     "text": [
      "0\n",
      "1\n",
      "2\n",
      "Chandler Bing\n"
     ]
    }
   ],
   "source": [
    "print(Person.get_count())\n",
    "\n",
    "person1 = Person(\"Alice\")\n",
    "print(Person.get_count())\n",
    "\n",
    "person2 = Person(\"Bob\")\n",
    "print(Person.get_count())\n",
    "\n",
    "print(Person.get_full_name('Chandler', 'Bing'))"
   ]
  },
  {
   "cell_type": "markdown",
   "id": "d8964073",
   "metadata": {},
   "source": [
    "In this example, we call the `get_count` method on the `Person` class to get the initial value of the `count` attribute (which is `0`). We then create two instances of the `Person` class (`person1` and `person2`), which increment the count attribute each time. Finally, we call the `get_count` method again to get the current value of the `count` attribute (which is `2`).\n",
    "\n",
    "This is just a brief introduction to OOP in Python. There are many more advanced features and techniques that you can use to create powerful and flexible programs."
   ]
  }
 ],
 "metadata": {
  "kernelspec": {
   "display_name": "Python 3 (ipykernel)",
   "language": "python",
   "name": "python3"
  },
  "language_info": {
   "codemirror_mode": {
    "name": "ipython",
    "version": 3
   },
   "file_extension": ".py",
   "mimetype": "text/x-python",
   "name": "python",
   "nbconvert_exporter": "python",
   "pygments_lexer": "ipython3",
   "version": "3.8.10"
  }
 },
 "nbformat": 4,
 "nbformat_minor": 5
}

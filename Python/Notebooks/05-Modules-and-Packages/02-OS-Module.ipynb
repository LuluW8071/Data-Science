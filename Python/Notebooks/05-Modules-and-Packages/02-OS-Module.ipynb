{
 "cells": [
  {
   "cell_type": "markdown",
   "id": "d5e17551",
   "metadata": {},
   "source": [
    "# Python OS Module\n",
    "\n",
    "The os module in Python provides a way of interacting with the operating system. It provides a way to access and manipulate files and directories, start and stop processes, get information about the system, and more.\n",
    "\n",
    "## Working with Files and Directories\n",
    "\n",
    "Let's explore the `os` module and its various functions and methods that support working with files and directories.\n",
    "\n",
    "- `os.getcwd()`: Get the current working directory\n",
    "- `os.mkdir('path')`: Create a new directory\n",
    "- `os.chdir('path')`: Change the current working directory\n",
    "- `os.listdir('path')`: List the contents of a directory\n",
    "- `os.rename('old_name', 'new_name)`: Rename a file or a directory\n",
    "- `os.remove('file_to_delete')`: Remove a file\n",
    "- `os.rmdir('directory_to_delete')`: Remove a directory\n",
    "- `os.path.dirname('path')`: Returns the name of the directory containing pathname path\n",
    "- `os.path.exists('path')`: Checks if the path already exists, if so returns True"
   ]
  },
  {
   "cell_type": "code",
   "execution_count": 1,
   "id": "83a44d68",
   "metadata": {},
   "outputs": [
    {
     "name": "stdout",
     "output_type": "stream",
     "text": [
      "Current working directory: /home/fm-pc-lt-68/Documents/Data-Science-Bootcamp/01-Python/05-Modules-and-Packages\n",
      "Changed working directory: /home/fm-pc-lt-68/Documents/Data-Science-Bootcamp/01-Python/05-Modules-and-Packages/new_directory\n",
      "Contents of the current directory: ['02-OS-Module.ipynb', '03-Math-Module.ipynb', '05-Packages.ipynb', '.ipynb_checkpoints', '04-Random-Module.ipynb', 'README.md', 'new_directory', '01-Date-Time-Module.ipynb']\n"
     ]
    }
   ],
   "source": [
    "import os\n",
    "\n",
    "cwd = os.getcwd()\n",
    "print(\"Current working directory:\", cwd)\n",
    "\n",
    "if not os.path.exists('new_directory'):\n",
    "    os.mkdir('new_directory')\n",
    "\n",
    "os.chdir('new_directory')\n",
    "print(\"Changed working directory:\", os.getcwd())\n",
    "os.chdir('..')\n",
    "\n",
    "contents = os.listdir('.')\n",
    "print(\"Contents of the current directory:\", contents)"
   ]
  },
  {
   "cell_type": "markdown",
   "id": "def220fb",
   "metadata": {},
   "source": [
    "## Working with Processes\n",
    "\n",
    "The `os` module provides functions for working with processes. Here are some of the most commonly used functions:\n",
    "\n",
    "- `os.system('cmd')`: Start a new process. `cmd` refers to an os command.\n",
    "- `os.popen('cmd')`: Run a command. We use `read()` method along with it to read the output\n",
    "- `os.kill(process_id, signal_num)`: Terminate a process"
   ]
  },
  {
   "cell_type": "code",
   "execution_count": 2,
   "id": "d678fb83",
   "metadata": {},
   "outputs": [
    {
     "name": "stdout",
     "output_type": "stream",
     "text": [
      "01-Date-Time-Module.ipynb\n",
      "02-OS-Module.ipynb\n",
      "03-Math-Module.ipynb\n",
      "04-Random-Module.ipynb\n",
      "05-Packages.ipynb\n",
      "new_directory\n",
      "README.md\n",
      "0\n",
      "01-Date-Time-Module.ipynb\n",
      "02-OS-Module.ipynb\n",
      "03-Math-Module.ipynb\n",
      "04-Random-Module.ipynb\n",
      "05-Packages.ipynb\n",
      "new_directory\n",
      "README.md\n",
      "\n"
     ]
    }
   ],
   "source": [
    "output = os.system('ls')\n",
    "print(output)\n",
    "\n",
    "output = os.popen('ls').read()\n",
    "print(output)"
   ]
  },
  {
   "cell_type": "code",
   "execution_count": null,
   "id": "098a5306",
   "metadata": {},
   "outputs": [],
   "source": [
    "import signal\n",
    "pid = 0\n",
    "os.kill(pid, signal.SIGTERM)  # This will raise a Dead Kernal alert"
   ]
  },
  {
   "cell_type": "markdown",
   "id": "ea6d000f",
   "metadata": {},
   "source": [
    "## Working with Environment Variables\n",
    "\n",
    "The `os` module provides functions for working with environment variables. Here are some of the most commonly used functions:\n",
    "\n",
    "- `os.getenv('var_name')`: Get the value of an Environment Variable\n",
    "- `os.putenv('var_name', 'var_value')`: Set the Value of an Environment Variable"
   ]
  },
  {
   "cell_type": "code",
   "execution_count": 1,
   "id": "bf95fa83",
   "metadata": {},
   "outputs": [
    {
     "name": "stdout",
     "output_type": "stream",
     "text": [
      "The value of the HOME variable is: /home/fm-pc-lt-68\n"
     ]
    }
   ],
   "source": [
    "import os\n",
    "\n",
    "value = os.getenv('HOME')\n",
    "print(\"The value of the HOME variable is:\", value)\n",
    "\n",
    "os.putenv('TEST', 'Test Variable')"
   ]
  }
 ],
 "metadata": {
  "kernelspec": {
   "display_name": "Python 3 (ipykernel)",
   "language": "python",
   "name": "python3"
  },
  "language_info": {
   "codemirror_mode": {
    "name": "ipython",
    "version": 3
   },
   "file_extension": ".py",
   "mimetype": "text/x-python",
   "name": "python",
   "nbconvert_exporter": "python",
   "pygments_lexer": "ipython3",
   "version": "3.8.10"
  }
 },
 "nbformat": 4,
 "nbformat_minor": 5
}

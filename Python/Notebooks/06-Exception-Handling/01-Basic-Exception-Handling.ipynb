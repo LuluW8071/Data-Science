{
 "cells": [
  {
   "cell_type": "markdown",
   "id": "d3110b10",
   "metadata": {},
   "source": [
    "# Basic Exception Handling in Python\n",
    "\n",
    "In Python, you can use a `try-except` block to catch exceptions which follows the following syntax:\n",
    "\n",
    "```python\n",
    "try:\n",
    "    # code that may raise an exception\n",
    "except ExceptionType:\n",
    "    # code to handle the exception\n",
    "```\n",
    "\n",
    "Here, the `try` block contains the code that may raise an exception. The `except` block contains the code to handle the exception if it is raised.\n",
    "\n",
    "In this example below, the `try` block takes input from the user and tries to convert it to an integer. If the input is not an integer, a `ValueError` exception is raised. The `except` block catches the ValueError exception and prints an error message. Trying giving both numbers and other data types as input."
   ]
  },
  {
   "cell_type": "code",
   "execution_count": 1,
   "id": "d8da354e",
   "metadata": {},
   "outputs": [
    {
     "name": "stdout",
     "output_type": "stream",
     "text": [
      "Enter a number: abc\n",
      "Invalid input\n"
     ]
    }
   ],
   "source": [
    "try:\n",
    "    num = int(input(\"Enter a number: \"))\n",
    "    print(num)\n",
    "except ValueError:\n",
    "    print(\"Invalid input\")"
   ]
  },
  {
   "cell_type": "markdown",
   "id": "5bc507e2",
   "metadata": {},
   "source": [
    "## Catching Multiple Exceptions\n",
    "\n",
    "You can catch multiple exceptions in a `try-except` block. Here's a syntax for your reference:\n",
    "\n",
    "```python\n",
    "try:\n",
    "    # code that may raise an exception\n",
    "except ExceptionType1:\n",
    "    # code to handle ExceptionType1\n",
    "except ExceptionType2:\n",
    "    # code to handle ExceptionType2\n",
    "```\n",
    "\n",
    "In this example, the try block may raise two different types of exceptions. The except blocks catch the different types of exceptions and handle them appropriately."
   ]
  },
  {
   "cell_type": "code",
   "execution_count": 2,
   "id": "7b90b6ce",
   "metadata": {},
   "outputs": [
    {
     "name": "stdout",
     "output_type": "stream",
     "text": [
      "Enter a number: 5\n",
      "Enter another number: 0\n",
      "Cannot divide by zero\n"
     ]
    }
   ],
   "source": [
    "try:\n",
    "    num1 = int(input(\"Enter a number: \"))\n",
    "    num2 = int(input(\"Enter another number: \"))\n",
    "    result = num1 / num2\n",
    "    print(result)\n",
    "except ValueError:\n",
    "    print(\"Invalid input\")\n",
    "except ZeroDivisionError:\n",
    "    print(\"Cannot divide by zero\")"
   ]
  },
  {
   "cell_type": "markdown",
   "id": "d16eddb2",
   "metadata": {},
   "source": [
    "In this example, the `try` block takes input from the user and performs a division operation. If the input is not an integer or the division by zero is attempted, the corresponding `except` block is executed.\n",
    "\n",
    "You can also use a single `except` block to handle multiple types of exceptions."
   ]
  },
  {
   "cell_type": "code",
   "execution_count": 3,
   "id": "20270a1f",
   "metadata": {},
   "outputs": [
    {
     "name": "stdout",
     "output_type": "stream",
     "text": [
      "Could not convert input to integer.\n"
     ]
    }
   ],
   "source": [
    "num_str = \"abc\"\n",
    "try:\n",
    "    num = int(num_str)\n",
    "    print(num)\n",
    "except (ValueError, TypeError):\n",
    "    print(\"Could not convert input to integer.\")"
   ]
  },
  {
   "cell_type": "markdown",
   "id": "d4890788",
   "metadata": {},
   "source": [
    "In this example, if either a `ValueError` or `TypeError` exception is raised, the same except block will handle both exceptions.\n",
    "\n",
    "If you want to catch any type of exception, you can use the `Exception` class."
   ]
  },
  {
   "cell_type": "code",
   "execution_count": 4,
   "id": "93900281",
   "metadata": {},
   "outputs": [
    {
     "name": "stdout",
     "output_type": "stream",
     "text": [
      "An exception occurred.\n"
     ]
    }
   ],
   "source": [
    "num_str = \"abc\"\n",
    "try:\n",
    "    num = int(num_str)\n",
    "    print(num)\n",
    "except Exception:\n",
    "    print(\"An exception occurred.\")"
   ]
  },
  {
   "cell_type": "markdown",
   "id": "545d2084",
   "metadata": {},
   "source": [
    "## The else Block\n",
    "\n",
    "In addition to the `try` and `except` blocks, you can also include an `else` block. The `else` block is executed only if no exception is raised during the execution of the `try` block. This block is used to perform any actions that should be taken only when no exception occurs. For example, if the `try` block includes code that opens a file, the `else` block could be used to close the file.\n",
    "\n",
    "Here is an example of using the else block:"
   ]
  },
  {
   "cell_type": "code",
   "execution_count": 5,
   "id": "054c2de0",
   "metadata": {},
   "outputs": [
    {
     "name": "stdout",
     "output_type": "stream",
     "text": [
      "Enter a number: 4\n",
      "Enter another number: 3\n",
      "Result is 1.3333333333333333\n"
     ]
    }
   ],
   "source": [
    "try:\n",
    "    num1 = int(input('Enter a number: '))\n",
    "    num2 = int(input('Enter another number: '))\n",
    "    result = num1 / num2\n",
    "except ZeroDivisionError:\n",
    "    print(\"Cannot divide by zero\")\n",
    "else:\n",
    "    print(\"Result is\", result)"
   ]
  },
  {
   "cell_type": "markdown",
   "id": "033ec59d",
   "metadata": {},
   "source": [
    "## The finally Block\n",
    "\n",
    "The `finally` block is always executed, regardless of whether an exception occurred or not. It is optional and comes after the `else` block, if present. The `finally` block is typically used to release resources that were acquired in the `try` block, such as closing a file or a database connection."
   ]
  },
  {
   "cell_type": "code",
   "execution_count": 6,
   "id": "8046dbb4",
   "metadata": {},
   "outputs": [
    {
     "name": "stdout",
     "output_type": "stream",
     "text": [
      "Enter a number: 3\n",
      "Enter another number: 2\n",
      "The result is: 1.5\n",
      "This block is always executed.\n"
     ]
    }
   ],
   "source": [
    "try:\n",
    "    x = int(input(\"Enter a number: \"))\n",
    "    y = int(input(\"Enter another number: \"))\n",
    "    z = x / y\n",
    "except ZeroDivisionError:\n",
    "    print(\"Cannot divide by zero.\")\n",
    "else:\n",
    "    print(\"The result is:\", z)\n",
    "finally:\n",
    "    print(\"This block is always executed.\")"
   ]
  },
  {
   "cell_type": "markdown",
   "id": "bf93404d",
   "metadata": {},
   "source": [
    "In the above code, the `try` block asks the user to input two numbers and divides them. If a `ZeroDivisionError` occurs, the `except` block prints a message. If no exception occurs, the `else` block is executed and the result is printed. Finally, the `finally` block is always executed."
   ]
  }
 ],
 "metadata": {
  "kernelspec": {
   "display_name": "Python 3 (ipykernel)",
   "language": "python",
   "name": "python3"
  },
  "language_info": {
   "codemirror_mode": {
    "name": "ipython",
    "version": 3
   },
   "file_extension": ".py",
   "mimetype": "text/x-python",
   "name": "python",
   "nbconvert_exporter": "python",
   "pygments_lexer": "ipython3",
   "version": "3.8.10"
  }
 },
 "nbformat": 4,
 "nbformat_minor": 5
}

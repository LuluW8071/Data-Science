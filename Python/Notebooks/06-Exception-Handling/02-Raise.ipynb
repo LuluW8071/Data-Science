{
 "cells": [
  {
   "cell_type": "markdown",
   "id": "f93ef735",
   "metadata": {},
   "source": [
    "# Python `raise` Statement\n",
    "\n",
    "In Python, `raise` is a keyword used to raise an exception. It allows the programmer to manually raise an exception at any point in the program. The `raise` statement takes an exception type (a subclass of `Exception`) or an instance of an exception class, and an optional error message. The basic syntax for raising an exception is:\n",
    "\n",
    "```python\n",
    "raise ExceptionType(\"Exception message\")\n",
    "```\n",
    "\n",
    "Here, `ExceptionType` is the type of exception you want to raise, and \"Exception message\" is the message that will be displayed when the exception is raised."
   ]
  },
  {
   "cell_type": "code",
   "execution_count": 1,
   "id": "2c1b0fd0",
   "metadata": {},
   "outputs": [
    {
     "ename": "ValueError",
     "evalue": "x should not be greater than 5",
     "output_type": "error",
     "traceback": [
      "\u001b[0;31m---------------------------------------------------------------------------\u001b[0m",
      "\u001b[0;31mValueError\u001b[0m                                Traceback (most recent call last)",
      "Cell \u001b[0;32mIn[1], line 3\u001b[0m\n\u001b[1;32m      1\u001b[0m x \u001b[38;5;241m=\u001b[39m \u001b[38;5;241m10\u001b[39m\n\u001b[1;32m      2\u001b[0m \u001b[38;5;28;01mif\u001b[39;00m x \u001b[38;5;241m>\u001b[39m \u001b[38;5;241m5\u001b[39m:\n\u001b[0;32m----> 3\u001b[0m     \u001b[38;5;28;01mraise\u001b[39;00m \u001b[38;5;167;01mValueError\u001b[39;00m(\u001b[38;5;124m\"\u001b[39m\u001b[38;5;124mx should not be greater than 5\u001b[39m\u001b[38;5;124m\"\u001b[39m)\n",
      "\u001b[0;31mValueError\u001b[0m: x should not be greater than 5"
     ]
    }
   ],
   "source": [
    "x = 10\n",
    "if x > 5:\n",
    "    raise ValueError(\"x should not be greater than 5\")"
   ]
  },
  {
   "cell_type": "markdown",
   "id": "1562e010",
   "metadata": {},
   "source": [
    "In the above code, if `x` is greater than 5, a `ValueError` exception is raised with the message \"x should not be greater than 5\".\n",
    "\n",
    "You can also raise a built-in exception by specifying its name without quotes. This will raise a `ValueError` exception without any message."
   ]
  },
  {
   "cell_type": "code",
   "execution_count": 2,
   "id": "48cdff84",
   "metadata": {},
   "outputs": [
    {
     "ename": "ValueError",
     "evalue": "",
     "output_type": "error",
     "traceback": [
      "\u001b[0;31m---------------------------------------------------------------------------\u001b[0m",
      "\u001b[0;31mValueError\u001b[0m                                Traceback (most recent call last)",
      "Cell \u001b[0;32mIn[2], line 1\u001b[0m\n\u001b[0;32m----> 1\u001b[0m \u001b[38;5;28;01mraise\u001b[39;00m \u001b[38;5;167;01mValueError\u001b[39;00m\n",
      "\u001b[0;31mValueError\u001b[0m: "
     ]
    }
   ],
   "source": [
    "raise ValueError"
   ]
  },
  {
   "cell_type": "markdown",
   "id": "69726897",
   "metadata": {},
   "source": [
    "You can also define your own custom exceptions by creating a new class that inherits from the `Exception` class."
   ]
  },
  {
   "cell_type": "code",
   "execution_count": 3,
   "id": "78272456",
   "metadata": {},
   "outputs": [],
   "source": [
    "class MyException(Exception):\n",
    "    pass"
   ]
  },
  {
   "cell_type": "markdown",
   "id": "7917fe38",
   "metadata": {},
   "source": [
    "In the above code, `MyException` is a custom exception that inherits from the built-in `Exception` class. You can now raise this exception like any other."
   ]
  },
  {
   "cell_type": "code",
   "execution_count": 4,
   "id": "fc897095",
   "metadata": {},
   "outputs": [
    {
     "ename": "MyException",
     "evalue": "This is my custom exception",
     "output_type": "error",
     "traceback": [
      "\u001b[0;31m---------------------------------------------------------------------------\u001b[0m",
      "\u001b[0;31mMyException\u001b[0m                               Traceback (most recent call last)",
      "Cell \u001b[0;32mIn[4], line 1\u001b[0m\n\u001b[0;32m----> 1\u001b[0m \u001b[38;5;28;01mraise\u001b[39;00m MyException(\u001b[38;5;124m\"\u001b[39m\u001b[38;5;124mThis is my custom exception\u001b[39m\u001b[38;5;124m\"\u001b[39m)\n",
      "\u001b[0;31mMyException\u001b[0m: This is my custom exception"
     ]
    }
   ],
   "source": [
    "raise MyException(\"This is my custom exception\")"
   ]
  },
  {
   "cell_type": "markdown",
   "id": "c5a00359",
   "metadata": {},
   "source": [
    "You can also add additional arguments to your custom exception."
   ]
  },
  {
   "cell_type": "code",
   "execution_count": 5,
   "id": "fd101d53",
   "metadata": {},
   "outputs": [],
   "source": [
    "class MyException(Exception):\n",
    "    def __init__(self, arg1, arg2):\n",
    "        self.arg1 = arg1\n",
    "        self.arg2 = arg2"
   ]
  },
  {
   "cell_type": "markdown",
   "id": "4c6d1e8c",
   "metadata": {},
   "source": [
    "In the above code, `MyException` takes two arguments `arg1` and `arg2`, which are stored as instance variables.\n",
    "\n",
    "You can raise exceptions from functions as well. For example:"
   ]
  },
  {
   "cell_type": "code",
   "execution_count": 6,
   "id": "34bda756",
   "metadata": {},
   "outputs": [
    {
     "name": "stdout",
     "output_type": "stream",
     "text": [
      "2.0\n"
     ]
    },
    {
     "ename": "ZeroDivisionError",
     "evalue": "Cannot divide by zero",
     "output_type": "error",
     "traceback": [
      "\u001b[0;31m---------------------------------------------------------------------------\u001b[0m",
      "\u001b[0;31mZeroDivisionError\u001b[0m                         Traceback (most recent call last)",
      "Cell \u001b[0;32mIn[6], line 7\u001b[0m\n\u001b[1;32m      4\u001b[0m     \u001b[38;5;28;01mreturn\u001b[39;00m x \u001b[38;5;241m/\u001b[39m y\n\u001b[1;32m      6\u001b[0m \u001b[38;5;28mprint\u001b[39m(divide(\u001b[38;5;241m10\u001b[39m, \u001b[38;5;241m5\u001b[39m))\n\u001b[0;32m----> 7\u001b[0m \u001b[38;5;28mprint\u001b[39m(\u001b[43mdivide\u001b[49m\u001b[43m(\u001b[49m\u001b[38;5;241;43m10\u001b[39;49m\u001b[43m,\u001b[49m\u001b[43m \u001b[49m\u001b[38;5;241;43m0\u001b[39;49m\u001b[43m)\u001b[49m)\n",
      "Cell \u001b[0;32mIn[6], line 3\u001b[0m, in \u001b[0;36mdivide\u001b[0;34m(x, y)\u001b[0m\n\u001b[1;32m      1\u001b[0m \u001b[38;5;28;01mdef\u001b[39;00m \u001b[38;5;21mdivide\u001b[39m(x, y):\n\u001b[1;32m      2\u001b[0m     \u001b[38;5;28;01mif\u001b[39;00m y \u001b[38;5;241m==\u001b[39m \u001b[38;5;241m0\u001b[39m:\n\u001b[0;32m----> 3\u001b[0m         \u001b[38;5;28;01mraise\u001b[39;00m \u001b[38;5;167;01mZeroDivisionError\u001b[39;00m(\u001b[38;5;124m\"\u001b[39m\u001b[38;5;124mCannot divide by zero\u001b[39m\u001b[38;5;124m\"\u001b[39m)\n\u001b[1;32m      4\u001b[0m     \u001b[38;5;28;01mreturn\u001b[39;00m x \u001b[38;5;241m/\u001b[39m y\n",
      "\u001b[0;31mZeroDivisionError\u001b[0m: Cannot divide by zero"
     ]
    }
   ],
   "source": [
    "def divide(x, y):\n",
    "    if y == 0:\n",
    "        raise ZeroDivisionError(\"Cannot divide by zero\")\n",
    "    return x / y\n",
    "\n",
    "print(divide(10, 5))\n",
    "print(divide(10, 0))"
   ]
  },
  {
   "cell_type": "markdown",
   "id": "01301bb2",
   "metadata": {},
   "source": [
    "In the above code, the `divide()` function takes two arguments `x` and `y`. If `y` is 0, a `ZeroDivisionError` exception is raised. Otherwise, the function returns `x / y`. When you call the function with `divide(10, 5)`, it prints `2.0`. When you call it with `divide(10, 0)`, it raises a `ZeroDivisionError` exception with the message \"Cannot divide by zero\".\n",
    "\n",
    "You can catch the raised exception with a try/except block."
   ]
  },
  {
   "cell_type": "code",
   "execution_count": 7,
   "id": "2f57aa07",
   "metadata": {},
   "outputs": [
    {
     "name": "stdout",
     "output_type": "stream",
     "text": [
      "Caught exception: This is a test exception\n"
     ]
    }
   ],
   "source": [
    "try:\n",
    "    raise ValueError(\"This is a test exception\")\n",
    "except ValueError as e:\n",
    "    print(\"Caught exception:\", e)"
   ]
  },
  {
   "cell_type": "markdown",
   "id": "7fd41380",
   "metadata": {},
   "source": [
    "In the above code, a `ValueError` exception is raised with the message \"This is a test exception\". The `try` block catches the exception with an `except` block and prints the message \"Caught exception: This is a test exception\".\n",
    "\n",
    "`raise` is a powerful tool for handling exceptional situations in your Python code. By raising an exception, you can signal to the program that something unexpected has happened and take appropriate action."
   ]
  }
 ],
 "metadata": {
  "kernelspec": {
   "display_name": "Python 3 (ipykernel)",
   "language": "python",
   "name": "python3"
  },
  "language_info": {
   "codemirror_mode": {
    "name": "ipython",
    "version": 3
   },
   "file_extension": ".py",
   "mimetype": "text/x-python",
   "name": "python",
   "nbconvert_exporter": "python",
   "pygments_lexer": "ipython3",
   "version": "3.8.10"
  }
 },
 "nbformat": 4,
 "nbformat_minor": 5
}

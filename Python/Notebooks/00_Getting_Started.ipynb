{
 "cells": [
  {
   "cell_type": "markdown",
   "metadata": {},
   "source": [
    "# Python Getting Started\n",
    "## Python Install \n",
    "You can download it for free from the following website: https://www.python.org/\n",
    "\n",
    "To check if you have python installed on a Windows PC, search in the start bar for Python or run the following on the Command Line (cmd.exe):"
   ]
  },
  {
   "cell_type": "code",
   "execution_count": null,
   "metadata": {},
   "outputs": [],
   "source": [
    "C:\\Users\\Username>py --version\n",
    "Python 3.10.5"
   ]
  },
  {
   "cell_type": "markdown",
   "metadata": {},
   "source": [
    "Or, if the \"python\" command did not work, you can try \"py\":"
   ]
  },
  {
   "cell_type": "code",
   "execution_count": null,
   "metadata": {},
   "outputs": [],
   "source": [
    "C:\\Users\\Username>py --version\n",
    "Python 3.10.5"
   ]
  },
  {
   "cell_type": "markdown",
   "metadata": {},
   "source": [
    "### Python Command Line\n",
    "\n",
    "To test a short amount of code in python sometimes it is quickest and easiest not to write the code in a file. This is made possible because Python can be run as a command line itself.\n",
    "\n",
    "Type the following on the Windows, Mac or Linux command line:"
   ]
  },
  {
   "cell_type": "code",
   "execution_count": null,
   "metadata": {},
   "outputs": [],
   "source": [
    "C:\\Users\\Username>py\n",
    "Python 3.10.5 (tags/v3.10.5:f377153, Jun  6 2022, 16:14:13) [MSC v.1929 64 bit (AMD64)] on win32\n",
    "Type \"help\", \"copyright\", \"credits\" or \"license\" for more information.\n",
    ">>> print(\"Hello, World!\")\n",
    "Hello, World!"
   ]
  },
  {
   "cell_type": "markdown",
   "metadata": {},
   "source": [
    "Whenever you are done in the python command line, you can simply type the following to quit the python command line interface (or use `ctrl+z`):"
   ]
  },
  {
   "cell_type": "code",
   "execution_count": null,
   "metadata": {},
   "outputs": [],
   "source": [
    "exit()"
   ]
  },
  {
   "cell_type": "markdown",
   "metadata": {},
   "source": [
    "## Introduction to Python\n",
    "\n",
    "Python stands out as an interpreted programming language. Developers craft Python (`.py`) files in a text editor and subsequently place these files into the Python interpreter for execution.\n",
    "\n",
    "Let's write our first Python file, called `helloworld.py`, which can be done in any text editor.\n"
   ]
  },
  {
   "cell_type": "code",
   "execution_count": null,
   "metadata": {},
   "outputs": [],
   "source": [
    "print(\"Hello, World!\")"
   ]
  },
  {
   "cell_type": "markdown",
   "metadata": {},
   "source": [
    "Save this code in a file and run it using the command below. The result will be:"
   ]
  },
  {
   "cell_type": "code",
   "execution_count": null,
   "metadata": {},
   "outputs": [],
   "source": [
    "C:\\Users\\Username>py helloworld.py\n",
    "Hello, World!"
   ]
  },
  {
   "cell_type": "markdown",
   "metadata": {},
   "source": [
    "## Syntax Familiarity with Python\n",
    "### Python Indentation\n",
    "Indentation refers to the spaces at the beginning of a code line. Where in other programming languages the indentation in code is for readability only, the indentation in Python is very important. \n",
    "\n",
    "_Python will give you an error if you skip the indentation_"
   ]
  },
  {
   "cell_type": "code",
   "execution_count": 1,
   "metadata": {},
   "outputs": [
    {
     "ename": "IndentationError",
     "evalue": "expected an indented block after 'if' statement on line 1 (3793329317.py, line 2)",
     "output_type": "error",
     "traceback": [
      "\u001b[1;36m  Input \u001b[1;32mIn [1]\u001b[1;36m\u001b[0m\n\u001b[1;33m    print(\"Five is greater than two!\")\u001b[0m\n\u001b[1;37m    ^\u001b[0m\n\u001b[1;31mIndentationError\u001b[0m\u001b[1;31m:\u001b[0m expected an indented block after 'if' statement on line 1\n"
     ]
    }
   ],
   "source": [
    "if 5 > 2:\n",
    "print(\"Five is greater than two!\")"
   ]
  },
  {
   "cell_type": "code",
   "execution_count": 2,
   "metadata": {},
   "outputs": [
    {
     "name": "stdout",
     "output_type": "stream",
     "text": [
      "Five is greater than two!\n",
      "Eight is greater than four!\n",
      "Five equals eight!\n"
     ]
    }
   ],
   "source": [
    "if 5 > 2:\n",
    "    print(\"Five is greater than two!\")\n",
    "\n",
    "if 5+3 > 3+1:\n",
    " print(\"Eight is greater than four!\")\n",
    "\n",
    "if 5+3 == 8:\n",
    "        print(\"Five equals eight!\")"
   ]
  },
  {
   "cell_type": "code",
   "execution_count": 3,
   "metadata": {},
   "outputs": [
    {
     "ename": "IndentationError",
     "evalue": "unexpected indent (2047417961.py, line 3)",
     "output_type": "error",
     "traceback": [
      "\u001b[1;36m  Input \u001b[1;32mIn [3]\u001b[1;36m\u001b[0m\n\u001b[1;33m    print(\"Print Statement 2\")\u001b[0m\n\u001b[1;37m    ^\u001b[0m\n\u001b[1;31mIndentationError\u001b[0m\u001b[1;31m:\u001b[0m unexpected indent\n"
     ]
    }
   ],
   "source": [
    "if 5 > 2:\n",
    " print(\"Statement 1\")\n",
    "        print(\"Print Statement 2\")"
   ]
  },
  {
   "cell_type": "code",
   "execution_count": 4,
   "metadata": {},
   "outputs": [
    {
     "name": "stdout",
     "output_type": "stream",
     "text": [
      "Statement 1\n",
      "Print Statement 2\n",
      "Statement 3\n",
      "Print Statement 4\n"
     ]
    }
   ],
   "source": [
    "if 5 > 2:\n",
    " print(\"Statement 1\")\n",
    " print(\"Print Statement 2\")\n",
    "\n",
    "if 5 > 2:\n",
    "    print(\"Statement 3\")\n",
    "    print(\"Print Statement 4\")"
   ]
  },
  {
   "cell_type": "markdown",
   "metadata": {},
   "source": [
    "### Python `print()` Function\n",
    "The `print()` function prints the specified message to the screen, or other standard output device. The message can be a string, or any other object, the object will be converted into a string before written to the screen.\n",
    "\n",
    "```python\n",
    "print(object(s), sep=separator, end=end)\n",
    "```"
   ]
  },
  {
   "cell_type": "code",
   "execution_count": 6,
   "metadata": {},
   "outputs": [
    {
     "name": "stdout",
     "output_type": "stream",
     "text": [
      "Hello World\n",
      "Hello how are you?\n",
      "1\n",
      "Value: 5\n",
      "20 60\n"
     ]
    }
   ],
   "source": [
    "print('Hello World')\n",
    "print(\"Hello\", \"how are you?\")\n",
    "print(1)\n",
    "print('Value:', 5)\n",
    "print(15+5, 10*6)"
   ]
  },
  {
   "cell_type": "markdown",
   "metadata": {},
   "source": [
    "| Parameter      | Description                                               |\n",
    "| -------------- | --------------------------------------------------------- |\n",
    "| `object(s)`      | Any object, and as many as you like. Will be converted to a string before printed |\n",
    "| `sep='separator'` | [Optional] Specify how to separate the objects if there is more than one. _Default is ' '_ |\n",
    "| `end='end'`      | [Optional] Specify what to print at the end. _Default is '\\n'_ |\n",
    "\n",
    "**Escape sequences** are special sequences of characters that are used to represent certain special characters in strings.\n",
    "\n",
    "| Escape Sequence | Meaning                                       |\n",
    "| --------------- | --------------------------------------------- |\n",
    "| `\\n`            | Newline character - Moves to the next line    |\n",
    "| `\\t`            | Tab character - Inserts a tab space            |\n",
    "| `\\\\`            | Backslash - Represents a literal backslash    |\n",
    "| `\\'`            | Single quote - Represents a single quote      |\n",
    "| `\\\"`            | Double quote - Represents a double quote      |\n",
    "| `\\r`            | Carriage return - Moves to the beginning of the line |\n",
    "| `\\b`            | Backspace - Moves the cursor back one space   |\n"
   ]
  },
  {
   "cell_type": "code",
   "execution_count": 7,
   "metadata": {},
   "outputs": [
    {
     "name": "stdout",
     "output_type": "stream",
     "text": [
      "This is a print statement and\n",
      "you are reading this statement\n",
      "This is a\n",
      "print statement and\tyou are reading this statement\n",
      "Printing..._1_2YYYPrint~5~6\n"
     ]
    }
   ],
   "source": [
    "print('This is a print statement and\\nyou are reading this statement')\n",
    "\n",
    "print('This is a\\nprint statement and\\tyou are reading this statement')\n",
    "\n",
    "print('Printing...', 1, 2, sep='_', end='YYY')\n",
    "print('Print', 5, 6, sep='~', end='\\n')"
   ]
  },
  {
   "cell_type": "markdown",
   "metadata": {},
   "source": [
    "### Comments\n",
    "Python has commenting capability for the purpose of in-code documentation.\n",
    "Comments start with a `#`, also (`'''` or `\"\"\"`) for multiline string or a docstring to enclose a statement within triple-quotes."
   ]
  },
  {
   "cell_type": "code",
   "execution_count": 8,
   "metadata": {},
   "outputs": [
    {
     "name": "stdout",
     "output_type": "stream",
     "text": [
      "Statement 1\n"
     ]
    }
   ],
   "source": [
    "# This is comment\n",
    "\"\"\"This is triple quote comment\"\"\"\n",
    "\n",
    "print(\"Statement 1\")\n",
    "# print(\"Statement 2\")\n",
    "## print('Statement 3')"
   ]
  }
 ],
 "metadata": {
  "kernelspec": {
   "display_name": "Python 3",
   "language": "python",
   "name": "python3"
  },
  "language_info": {
   "codemirror_mode": {
    "name": "ipython",
    "version": 3
   },
   "file_extension": ".py",
   "mimetype": "text/x-python",
   "name": "python",
   "nbconvert_exporter": "python",
   "pygments_lexer": "ipython3",
   "version": "3.10.5"
  }
 },
 "nbformat": 4,
 "nbformat_minor": 2
}

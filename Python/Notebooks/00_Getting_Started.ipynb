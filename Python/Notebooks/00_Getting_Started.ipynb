{
 "cells": [
  {
   "cell_type": "markdown",
   "metadata": {},
   "source": [
    "# Python Getting Started\n",
    "## Python Install \n",
    "To check if you have python installed on a Windows PC, search in the start bar for Python or run the following on the Command Line (cmd.exe):\n",
    "```bash\n",
    "C:\\Users\\Username>python --version\n",
    "Python 3.10.5\n",
    "```\n",
    "\n",
    "or\n",
    "\n",
    "Or, if the \"python\" command did not work, you can try \"py\":\n",
    "```bash\n",
    "C:\\Users\\Username>py --version\n",
    "Python 3.10.5\n",
    "```\n",
    "\n",
    "If you find that you do not have Python installed on your computer, then you can download it for free from the following website: https://www.python.org/"
   ]
  },
  {
   "cell_type": "markdown",
   "metadata": {},
   "source": [
    "### Python Command Line\n",
    "\n",
    "To test a short amount of code in python sometimes it is quickest and easiest not to write the code in a file. This is made possible because Python can be run as a command line itself.\n",
    "\n",
    "Type the following on the Windows, Mac or Linux command line:\n",
    "```bash\n",
    "C:\\Users\\Username>py\n",
    "Python 3.10.5 (tags/v3.10.5:f377153, Jun  6 2022, 16:14:13) [MSC v.1929 64 bit (AMD64)] on win32\n",
    "Type \"help\", \"copyright\", \"credits\" or \"license\" for more information.\n",
    ">>> print(\"Hello, World!\")\n",
    "Hello, World!\n",
    "```\n",
    "\n",
    "Whenever you are done in the python command line, you can simply type the following to quit the python command line interface(or use `ctrl+z`):\n",
    "```bash\n",
    "exit()\n",
    "```"
   ]
  },
  {
   "cell_type": "markdown",
   "metadata": {},
   "source": [
    "## Introduction to Python\n",
    "\n",
    "Python stands out as an interpreted programming language. Developers craft Python (`.py`) files in a text editor and subsequently place these files into the Python interpreter for execution.\n",
    "\n",
    "Let's write our first Python file, called `helloworld.py`, which can be done in any text editor.\n",
    "```python \n",
    "print(\"Hello, World!\")\n",
    "```\n",
    "Save this code in a file and run it using the command below. The result will be:\n",
    "```bash\n",
    "C:\\Users\\Username>py helloworld.py\n",
    "Hello, World!\n",
    "```"
   ]
  }
 ],
 "metadata": {
  "language_info": {
   "name": "python"
  }
 },
 "nbformat": 4,
 "nbformat_minor": 2
}

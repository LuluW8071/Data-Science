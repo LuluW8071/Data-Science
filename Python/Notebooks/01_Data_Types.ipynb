{
 "cells": [
  {
   "cell_type": "markdown",
   "metadata": {},
   "source": [
    "# Python Data Types\n",
    "## 1. Numeric Types\n",
    "| Data Type         | Description                                                                                        | Examples                                  |\n",
    "| ----------------- | -------------------------------------------------------------------------------------------------- | ----------------------------------------- |\n",
    "| Integers          | Whole numbers, positive or negative. No size limit in Python.                                     | `0`, `42`, `-10`                          |\n",
    "| Floating-point    | Decimal numbers, positive or negative. Represented using the float type.                          | `3.14`, `-0.5`, `2.0`                      |\n",
    "| Complex Numbers   | Numbers with a real and imaginary part. Represented using the complex type.                       | `2 + 3j`, `-1 - 4j`, `0 + 2.5j`            |\n"
   ]
  },
  {
   "cell_type": "code",
   "execution_count": 1,
   "metadata": {},
   "outputs": [
    {
     "name": "stdout",
     "output_type": "stream",
     "text": [
      "<class 'int'> <class 'float'> <class 'complex'>\n",
      "13.1415 <class 'float'>\n",
      "(3.1415-1j) <class 'complex'>\n"
     ]
    }
   ],
   "source": [
    "# Int\n",
    "x1 = 10\n",
    "y1 = -5\n",
    "z1 = 99999999999\n",
    "\n",
    "# Float\n",
    "x2 = 3.1415\n",
    "y2 = -0.54321\n",
    "z2 = 1.0e-3\n",
    "\n",
    "# Complex\n",
    "x3 = 3 + 4j\n",
    "y3 = -1j\n",
    "z3 = complex(2, -3)\n",
    "\n",
    "print(type(x1), type(x2), type(x3))\n",
    "print(x1 + x2, type(x1 + x2))\n",
    "print(y3 + x2, type(y3 + x2))"
   ]
  },
  {
   "cell_type": "markdown",
   "metadata": {},
   "source": [
    "### Arithmetic Operations\n",
    "You can perform arithmetic operations on numbers in Python, including addition, subtraction, multiplication, division, and exponentiation."
   ]
  },
  {
   "cell_type": "code",
   "execution_count": 2,
   "metadata": {},
   "outputs": [
    {
     "name": "stdout",
     "output_type": "stream",
     "text": [
      "13\n",
      "7\n",
      "30\n",
      "3.3333333333333335\n",
      "1000\n",
      "3\n",
      "0\n"
     ]
    }
   ],
   "source": [
    "x = 10\n",
    "y = 3\n",
    "\n",
    "print(x + y)\n",
    "print(x - y)\n",
    "print(x * y)\n",
    "print(x / y)\n",
    "print(x ** y)\n",
    "print(x // y)  # Floor Division\n",
    "print(x % 5)  # Modulo Operator"
   ]
  },
  {
   "cell_type": "markdown",
   "metadata": {},
   "source": [
    "### Type Conversion\n",
    "You can convert numbers from one type to another in Python, using functions like `int()`, `float()`, and `complex()`."
   ]
  },
  {
   "cell_type": "code",
   "execution_count": 3,
   "metadata": {},
   "outputs": [
    {
     "data": {
      "text/plain": [
       "(10.0, 3, (10+3j))"
      ]
     },
     "execution_count": 3,
     "metadata": {},
     "output_type": "execute_result"
    }
   ],
   "source": [
    "x = 10\n",
    "y = 3.14\n",
    "\n",
    "x = float(x)    # Convert x to a float\n",
    "y = int(y)      # Convert y to an integer\n",
    "z = complex(x, y)  # Create a complex number from x and y\n",
    "\n",
    "x, y, z"
   ]
  },
  {
   "cell_type": "markdown",
   "metadata": {},
   "source": [
    "### Comparision Operators\n",
    "| Operator | Description                           | Example               |\n",
    "| -------- | ------------------------------------- | --------------------- |\n",
    "| `<`      | Less than                             | `5 < 10`              |\n",
    "| `>`      | Greater than                          | `15 > 7`              |\n",
    "| `<=`     | Less than or equal to                 | `3 <= 3`              |\n",
    "| `>=`     | Greater than or equal to              | `8 >= 8`              |\n",
    "| `==`     | Equal to                              | `12 == 12`            |\n",
    "| `!=`     | Not equal to                          | `5 != 2`              |\n"
   ]
  },
  {
   "cell_type": "code",
   "execution_count": 4,
   "metadata": {},
   "outputs": [
    {
     "name": "stdout",
     "output_type": "stream",
     "text": [
      "True\n",
      "False\n"
     ]
    }
   ],
   "source": [
    "x = 10\n",
    "y = 5\n",
    "\n",
    "print(x > y)\n",
    "print(x == y)"
   ]
  },
  {
   "cell_type": "markdown",
   "metadata": {},
   "source": [
    "### Math Functions\n",
    "Python also provides a variety of math functions that you can use to perform more complex operations on numbers. Some of these functions include `abs()`, `round()`, `min()`, `max()`, `pow()`, `sqrt()`, and `log()`."
   ]
  },
  {
   "cell_type": "code",
   "execution_count": 5,
   "metadata": {},
   "outputs": [
    {
     "name": "stdout",
     "output_type": "stream",
     "text": [
      "5.5\n",
      "-6\n",
      "3\n",
      "8\n",
      "4.0\n",
      "2.302585092994046\n"
     ]
    }
   ],
   "source": [
    "import math\n",
    "\n",
    "x = -5.5\n",
    "\n",
    "print(abs(x))\n",
    "print(round(x))\n",
    "print(max(1, 2, 3))\n",
    "print(pow(2, 3))\n",
    "print(math.sqrt(16))\n",
    "print(math.log(10))"
   ]
  },
  {
   "cell_type": "markdown",
   "metadata": {},
   "source": [
    "## 2. Text Type\n",
    "In Python, strings (`str`) are used to represent text data.\n",
    "\n",
    "### Defining strings\n",
    "You can define a string in Python by enclosing the text in either single or double quotes."
   ]
  },
  {
   "cell_type": "code",
   "execution_count": 6,
   "metadata": {},
   "outputs": [],
   "source": [
    "x = \"Hello, world!\"\n",
    "y = 'This is a string.'"
   ]
  },
  {
   "cell_type": "markdown",
   "metadata": {},
   "source": [
    "### String methods\n",
    "Python provides a variety of built-in string methods that you can use to perform operations on strings. Some common string methods include `lower()`, `upper()`, `strip()`, `replace()`, and `split()`."
   ]
  },
  {
   "cell_type": "code",
   "execution_count": 7,
   "metadata": {},
   "outputs": [
    {
     "name": "stdout",
     "output_type": "stream",
     "text": [
      "hello, world!\n",
      "HELLO, WORLD!\n",
      "Hello, world!\n",
      "Hella, warld!\n",
      "['Hello', ' world!']\n"
     ]
    }
   ],
   "source": [
    "print(x.lower())\n",
    "print(x.upper())\n",
    "print(x.strip())\n",
    "print(x.replace(\"o\", \"a\"))\n",
    "print(x.split(\",\"))"
   ]
  },
  {
   "cell_type": "markdown",
   "metadata": {},
   "source": [
    "### String slicing\n",
    "You can also access a range of characters in a string using slicing. Slicing uses the syntax `start:stop:step`, where `start` is the index of the first character you want to include, `stop` is the index of the first character you want to exclude, and `step` is the number of characters to skip."
   ]
  },
  {
   "cell_type": "code",
   "execution_count": 8,
   "metadata": {},
   "outputs": [
    {
     "name": "stdout",
     "output_type": "stream",
     "text": [
      "Hello\n",
      "world!\n",
      "Hello\n",
      "Hlo ol!\n",
      "orl\n",
      "!dlrow ,olleH\n"
     ]
    }
   ],
   "source": [
    "print(x[0:5])\n",
    "print(x[7:])\n",
    "print(x[:5])\n",
    "print(x[::2])\n",
    "print(x[-5:-2])\n",
    "print(x[::-1])  ## Reverse String"
   ]
  },
  {
   "cell_type": "markdown",
   "metadata": {},
   "source": [
    "### String Formatting\n",
    "You can use string formatting to insert variables or expressions into a string. There are several ways to format strings in Python, including using `%` operator, `.format()` and `f-strings`."
   ]
  },
  {
   "cell_type": "code",
   "execution_count": 9,
   "metadata": {},
   "outputs": [
    {
     "name": "stdout",
     "output_type": "stream",
     "text": [
      "My name is John and I am 25 years old.\n",
      "My name is John and I am 25 years old.\n",
      "My name is John and I am 25 years old.\n",
      "My name is John and I am 25 years old.\n",
      "My name is John and I am 25 years old.\n",
      "My name is John and I am 25 years old.\n"
     ]
    }
   ],
   "source": [
    "x = \"John\"\n",
    "y = 25\n",
    "\n",
    "print(\"My name is\", x, \"and I am\", y, \"years old.\")  # comma separated values\n",
    "\n",
    "print(\"My name is %s and I am %d years old.\" % (x, y))  # % Operator\n",
    "print(\"My name is {} and I am {} years old.\".format(x, y))  # .format()\n",
    "print(\"My name is {0} and I am {1} years old.\".format(x, y))  # .format()\n",
    "print(\"My name is {1} and I am {0} years old.\".format(y, x))  # .format()\n",
    "print(f\"My name is {x} and I am {y} years old.\")  # F-String"
   ]
  },
  {
   "cell_type": "markdown",
   "metadata": {},
   "source": [
    "### String concatenation\n",
    "You can concatenate two or more strings using the `+` operator."
   ]
  },
  {
   "cell_type": "code",
   "execution_count": 10,
   "metadata": {},
   "outputs": [
    {
     "name": "stdout",
     "output_type": "stream",
     "text": [
      "Hello world!\n"
     ]
    }
   ],
   "source": [
    "x = \"Hello\"\n",
    "y = \"world!\"\n",
    "\n",
    "z = x + \" \" + y\n",
    "print(z)"
   ]
  },
  {
   "cell_type": "markdown",
   "metadata": {},
   "source": [
    "### Advanced String Formatting\n",
    "This formatting method provides a powerful way to control the alignment, padding, and precision of values that are included in the formatted string.\n",
    "\n",
    "| Alignment Character | Description                |\n",
    "| ------------------- | -------------------------- |\n",
    "| `<`                 | Left alignment             | \n",
    "| `>`                 | Right alignment            |\n",
    "| `^`                 | Center alignment           |\n",
    "\n",
    "- **Alignment**\n",
    "\n",
    "    You can use the `{:}` syntax to specify the width of the field and the alignment.\n"
   ]
  },
  {
   "cell_type": "code",
   "execution_count": 11,
   "metadata": {},
   "outputs": [
    {
     "name": "stdout",
     "output_type": "stream",
     "text": [
      "       Hello, World!\n",
      "Hello, World!       \n",
      "   Hello, World!    \n"
     ]
    }
   ],
   "source": [
    "s = \"Hello, World!\"\n",
    "\n",
    "print(f\"{s:>20}\")   # Right align the string in a field with a width of 20 characters\n",
    "print(f\"{s:<20}\")   # Left align the string in a field with a width of 20 characters\n",
    "print(f\"{s:^20}\")   # Center the string in a field with a width of 20 characters"
   ]
  },
  {
   "cell_type": "markdown",
   "metadata": {},
   "source": [
    "- **Padding**\n",
    "\n",
    "    You can use the `{:}` syntax to specify the width of the field and the padding character."
   ]
  },
  {
   "cell_type": "code",
   "execution_count": 12,
   "metadata": {},
   "outputs": [
    {
     "name": "stdout",
     "output_type": "stream",
     "text": [
      "_______Hello, World!\n",
      "Hello, World!.......\n",
      "---Hello, World!----\n"
     ]
    }
   ],
   "source": [
    "print(f\"{s:_>20}\") # Right align the string of 20 characters, padded with underscores\n",
    "print(f\"{s:.<20}\") # Left align the string of 20 characters, padded with dots\n",
    "print(f\"{s:-^20}\") # Center the string of 20 characters, padded with dashes|"
   ]
  },
  {
   "cell_type": "markdown",
   "metadata": {},
   "source": [
    "- **Precision**\n",
    "\n",
    "    You can use the `{:.}` syntax to specify the precision of a floating-point number."
   ]
  },
  {
   "cell_type": "code",
   "execution_count": 14,
   "metadata": {},
   "outputs": [
    {
     "name": "stdout",
     "output_type": "stream",
     "text": [
      "3.142\n",
      "3.14159\n"
     ]
    }
   ],
   "source": [
    "pi = 3.141592653589793\n",
    "\n",
    "print(f'{pi:.3f}')  # Show pi with 2 decimal places\n",
    "print(f'{pi:.5f}')  # Show pi with 5 decimal places"
   ]
  },
  {
   "cell_type": "markdown",
   "metadata": {},
   "source": [
    "_In these examples, the `.2f` and `.5f` formats are used to specify the precision of the floating-point number._"
   ]
  }
 ],
 "metadata": {
  "kernelspec": {
   "display_name": "Python 3",
   "language": "python",
   "name": "python3"
  },
  "language_info": {
   "codemirror_mode": {
    "name": "ipython",
    "version": 3
   },
   "file_extension": ".py",
   "mimetype": "text/x-python",
   "name": "python",
   "nbconvert_exporter": "python",
   "pygments_lexer": "ipython3",
   "version": "3.10.5"
  }
 },
 "nbformat": 4,
 "nbformat_minor": 2
}

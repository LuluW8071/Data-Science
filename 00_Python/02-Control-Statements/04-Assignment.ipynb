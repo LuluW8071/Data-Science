{
 "cells": [
  {
   "cell_type": "markdown",
   "metadata": {},
   "source": [
    "## Python Control Statements Assignment\n",
    "\n",
    "Write a Python program that takes in an equation `m*m -m - 10` (where `m` ranges from `-4 to +6`) as input and performs the following operations:\n",
    "\n",
    "Here are some additional requirements and suggestions:\n",
    "\n",
    "- You may assume that the numbers are only integers.\n",
    "- You may use the `for` loop to repeatedly generate integer using the given equation.\n",
    "- You may use the `if` statement to filter out non-positive integers from the series.\n",
    "- You may use the `for` loop to iterate over the list of positive integers and perform the required computations.\n",
    "- You may define helper functions as necessary to implement the program."
   ]
  },
  {
   "cell_type": "code",
   "execution_count": 5,
   "metadata": {},
   "outputs": [
    {
     "data": {
      "text/plain": [
       "[10, 2, -4, -8, -10, -10, -8, -4, 2, 10, 20]"
      ]
     },
     "execution_count": 5,
     "metadata": {},
     "output_type": "execute_result"
    }
   ],
   "source": [
    "# Python Program\n",
    "numbers = [m*m-m-10 for m in range(-4, 7)]\n",
    "numbers"
   ]
  },
  {
   "cell_type": "markdown",
   "metadata": {},
   "source": [
    "1. Creates a list of all the positive integers."
   ]
  },
  {
   "cell_type": "code",
   "execution_count": 7,
   "metadata": {},
   "outputs": [
    {
     "data": {
      "text/plain": [
       "[10, 2, 2, 10, 20]"
      ]
     },
     "execution_count": 7,
     "metadata": {},
     "output_type": "execute_result"
    }
   ],
   "source": [
    "positive_numbers = [num for num in numbers if num>=0]\n",
    "positive_numbers"
   ]
  },
  {
   "cell_type": "markdown",
   "metadata": {},
   "source": [
    "2. Computes the sum of all the positive integers in the list.\n",
    "3. Computes the product of all the positive integers in the list.\n",
    "4. Computes the average of all the positive integers in the list."
   ]
  },
  {
   "cell_type": "code",
   "execution_count": 10,
   "metadata": {},
   "outputs": [
    {
     "name": "stdout",
     "output_type": "stream",
     "text": [
      "44\n",
      "8000\n",
      "8.8\n"
     ]
    }
   ],
   "source": [
    "sum_of_pos_int = sum(positive_numbers)\n",
    "\n",
    "product = 1\n",
    "for i in range(len(positive_numbers)):\n",
    "    product = product * positive_numbers[i]\n",
    "\n",
    "average = sum_of_pos_int/len(positive_numbers)\n",
    "\n",
    "print(sum_of_pos_int, product, average, sep=\"\\n\")"
   ]
  },
  {
   "cell_type": "markdown",
   "metadata": {},
   "source": [
    "5. Determines the largest and smallest positive integers in the list."
   ]
  },
  {
   "cell_type": "code",
   "execution_count": 12,
   "metadata": {},
   "outputs": [
    {
     "name": "stdout",
     "output_type": "stream",
     "text": [
      "20 2\n"
     ]
    }
   ],
   "source": [
    "sorted_numbers = sorted(positive_numbers)\n",
    "largest, smallest = sorted_numbers[-1], sorted_numbers[0]\n",
    "\n",
    "print(largest, smallest)"
   ]
  }
 ],
 "metadata": {
  "kernelspec": {
   "display_name": "env",
   "language": "python",
   "name": "python3"
  },
  "language_info": {
   "codemirror_mode": {
    "name": "ipython",
    "version": 3
   },
   "file_extension": ".py",
   "mimetype": "text/x-python",
   "name": "python",
   "nbconvert_exporter": "python",
   "pygments_lexer": "ipython3",
   "version": "3.11.2"
  }
 },
 "nbformat": 4,
 "nbformat_minor": 2
}

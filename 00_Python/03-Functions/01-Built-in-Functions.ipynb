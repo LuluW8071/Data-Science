{
 "cells": [
  {
   "cell_type": "markdown",
   "metadata": {},
   "source": [
    "# Python Built-In Functions\n",
    "\n",
    "Python provides a large number of built-in functions that can be used to perform common tasks in your code. If you want to go through all the built-in functions available with python [visit this page](https://docs.python.org/3/library/functions.html). Here are some of the most commonly used built-in functions in Python.\n",
    "\n",
    "## 1. print()\n",
    "\n",
    "In Python, the `print()` function is used to output text or values to the console. It can be used to display text messages, variable values, or the results of calculations, among other things. In addition to this `print()` function can be customized with various arguments like:\n",
    "\n",
    "- `sep:` Used to specify the separator between multiple items being printed. The default separator is a space character. For example, print(\"x\", \"y\", sep=\"-\") would output x-y.\n",
    "- `end:` Used to specify the string that should be printed at the end of the line. The default is a newline character (\"\\n\"). For example, print(\"x\", end=\".\") would output x. without moving to the next line.\n",
    "- `file:` Used to specify the file object where the output should be directed. By default, the output is sent to the console. For example, print(\"x\", file=my_file) would write the output to the my_file file object.\n",
    "\n",
    "Here are some examples of how to use the `print()` function in Python:"
   ]
  },
  {
   "cell_type": "code",
   "execution_count": 4,
   "metadata": {},
   "outputs": [
    {
     "name": "stdout",
     "output_type": "stream",
     "text": [
      "The value of y is: 25\n",
      "x is 5 and y is 25\n",
      "The value of x is 5 and the value of y is 25\n",
      "The value of x is 5 and the value of y is 25\n",
      "Hello-World\n",
      "Hello World. How are you doing?\n"
     ]
    }
   ],
   "source": [
    "x = 5\n",
    "y = x ** 2\n",
    "\n",
    "# Printing a variable value\n",
    "print(\"The value of y is:\", y)\n",
    "# Printing multiple items using commas to separate them\n",
    "print(\"x is\", x, \"and y is\", y)\n",
    "# Using string formatting\n",
    "print(\"The value of x is {} and the value of y is {}\".format(x, y))\n",
    "# Using f-strings\n",
    "print(f\"The value of x is {x} and the value of y is {y}\")\n",
    "# Using Seperator\n",
    "print(\"Hello\", \"World\", sep=\"-\")\n",
    "# Defining End of line\n",
    "print(\"Hello World\", end=\". \")\n",
    "print(\"How are you doing?\")"
   ]
  },
  {
   "cell_type": "markdown",
   "metadata": {},
   "source": [
    "## 2. type()\n",
    "\n",
    "In Python, the `type()` function is used to find the data type of a variable or expression. It returns the type of the object as a string.\n",
    "\n",
    "Here are some examples of how to use the `type()` function in Python:"
   ]
  },
  {
   "cell_type": "code",
   "execution_count": 2,
   "metadata": {},
   "outputs": [
    {
     "name": "stdout",
     "output_type": "stream",
     "text": [
      "<class 'int'>\n",
      "<class 'float'>\n",
      "<class 'str'>\n",
      "<class 'bool'>\n",
      "<class 'list'>\n",
      "<class 'dict'>\n"
     ]
    }
   ],
   "source": [
    "print(type(5))                           # Output: <class 'int'>\n",
    "print(type(3.14))                        # Output: <class 'float'>\n",
    "print(type(\"Hello, World!\"))             # Output: <class 'str'>\n",
    "print(type(True))                        # Output: <class 'bool'>\n",
    "print(type([1, 2, 3]))                   # Output: <class 'list'>\n",
    "print(type({\"name\": \"John\", \"age\": 30})) # Output: <class 'dict'>"
   ]
  },
  {
   "cell_type": "markdown",
   "metadata": {},
   "source": [
    "## 3. input()\n",
    "\n",
    "In Python, the input() function is used to accept input from the user. It prompts the user to enter a value, and then returns the entered value as a string.\n",
    "\n",
    "Note that the `input()` function always returns a string, so you may need to convert the entered value to another data type if you need to use it as a number or other data type. For example, if you want to accept a number as input, you can convert the entered value to an integer using the `int()` function:"
   ]
  },
  {
   "cell_type": "code",
   "execution_count": 5,
   "metadata": {},
   "outputs": [
    {
     "name": "stdout",
     "output_type": "stream",
     "text": [
      "Hello, Luluw!\n",
      "Luluw you are 23 years old!\n"
     ]
    }
   ],
   "source": [
    "name = input(\"What is your name? \")\n",
    "print(\"Hello, \" + name + \"!\")\n",
    "\n",
    "age = int(input(\"What is your age?\"))  # Converting input str to int type\n",
    "print(name, \"you are\", str(age), \"years old!\")"
   ]
  },
  {
   "cell_type": "markdown",
   "metadata": {},
   "source": [
    "## 4. len()\n",
    "\n",
    "In Python, the `len()` function is used to get the length of a sequence or collection, such as a `str, list, tuple, or dict`. It returns the number of elements or characters in the sequence.\n",
    "\n",
    "Note that the `len()` function only works with sequences and collections that have a defined length. It cannot be used with other types of data, such as numbers or booleans."
   ]
  },
  {
   "cell_type": "code",
   "execution_count": 6,
   "metadata": {},
   "outputs": [
    {
     "name": "stdout",
     "output_type": "stream",
     "text": [
      "13\n",
      "5\n",
      "5\n",
      "2\n"
     ]
    }
   ],
   "source": [
    " # Get the length of a string\n",
    "my_string = \"Hello, world!\"\n",
    "print(len(my_string))\n",
    "\n",
    "# Get the length of a list\n",
    "my_list = [1, 2, 3, 4, 5]   \n",
    "print(len(my_list))\n",
    "\n",
    "# Get the length of a tuple\n",
    "my_tuple = (1, 2, 3, 4, 5)   \n",
    "print(len(my_tuple))\n",
    "\n",
    "# Get the length of a dictionary\n",
    "my_dict = {\"apple\": 1, \"banana\": 2}  \n",
    "print(len(my_dict))"
   ]
  },
  {
   "cell_type": "markdown",
   "metadata": {},
   "source": [
    "## 5. open()\n",
    "\n",
    "In Python, the `open()` function is used to open a file and return a file object. This file object can be used to read or write data to the file. Once the file is open, the `read()` function is called on the file object to read the contents of the file into a string variable, by specifying the mode as `\"r\"` (read). It's important to remember to close the file after you're done working with it. This is done using the `close()` function on the file object.\n",
    "\n",
    "You can also use the `open()` function to open a file for writing, by specifying the mode as `\"w\"` (write), or for both reading and writing, by specifying the mode as `\"r+\"` or `\"w+\"`. In addition, you can specify the encoding of the file by adding the encoding parameter to the `open()` function.\n",
    "\n",
    "Here are a few different modes for opening a file:\n",
    "\n",
    "| Mode | Description |\n",
    "|:-:|:--|\n",
    "| `r` | Open file for reading (default) |\n",
    "| `w` | Open file for writing |\n",
    "| `t` | Open file in text mode (default) |\n",
    "| `b` | Open file in binary mode |\n",
    "| `+` | Open file for updating i.e. reading and writing |\n",
    "| `x` | Open file for exclusive creation. Raises `FileExistsError` if file already exists |\n",
    "| `a` | Open file for appending at the end without truncating the content. Creates a new file if it does not exist already |"
   ]
  },
  {
   "cell_type": "code",
   "execution_count": 22,
   "metadata": {},
   "outputs": [],
   "source": [
    "file = open(\"write.txt\", \"w\")\n",
    "file.write(\"This is a sample text file to showcase the write mode using open() function. \")\n",
    "file.close()"
   ]
  },
  {
   "cell_type": "code",
   "execution_count": 23,
   "metadata": {},
   "outputs": [
    {
     "name": "stdout",
     "output_type": "stream",
     "text": [
      "This is a sample text file to showcase the write mode using open() function. \n"
     ]
    }
   ],
   "source": [
    "file = open(\"write.txt\", \"r\")\n",
    "contents = file.read()\n",
    "print(contents)\n",
    "file.close()"
   ]
  },
  {
   "cell_type": "code",
   "execution_count": 24,
   "metadata": {},
   "outputs": [
    {
     "name": "stdout",
     "output_type": "stream",
     "text": [
      "This is a sample text file to showcase the write mode using open() function. Furthermore this is how you update by appending the contents of write.txt file\n"
     ]
    }
   ],
   "source": [
    "file_name = \"write.txt\"\n",
    "file = open(file_name, \"a\")\n",
    "file.write(\"Furthermore this is how you update by appending the contents of write.txt file\")\n",
    "file.close()\n",
    "\n",
    "file_read = open(file_name, \"r\")\n",
    "print(file_read.read())\n",
    "file_read.close()"
   ]
  },
  {
   "cell_type": "markdown",
   "metadata": {},
   "source": [
    "## 6. dir()\n",
    "\n",
    "In Python, the `dir()` function is used to list all the attributes and methods of an object. It returns a `sorted list` of names in the given object."
   ]
  },
  {
   "cell_type": "code",
   "execution_count": 26,
   "metadata": {},
   "outputs": [
    {
     "name": "stdout",
     "output_type": "stream",
     "text": [
      "['__abs__', '__add__', '__and__', '__bool__', '__ceil__', '__class__', '__delattr__', '__dir__', '__divmod__', '__doc__', '__eq__', '__float__', '__floor__', '__floordiv__', '__format__', '__ge__', '__getattribute__', '__getnewargs__', '__getstate__', '__gt__', '__hash__', '__index__', '__init__', '__init_subclass__', '__int__', '__invert__', '__le__', '__lshift__', '__lt__', '__mod__', '__mul__', '__ne__', '__neg__', '__new__', '__or__', '__pos__', '__pow__', '__radd__', '__rand__', '__rdivmod__', '__reduce__', '__reduce_ex__', '__repr__', '__rfloordiv__', '__rlshift__', '__rmod__', '__rmul__', '__ror__', '__round__', '__rpow__', '__rrshift__', '__rshift__', '__rsub__', '__rtruediv__', '__rxor__', '__setattr__', '__sizeof__', '__str__', '__sub__', '__subclasshook__', '__truediv__', '__trunc__', '__xor__', 'as_integer_ratio', 'bit_count', 'bit_length', 'conjugate', 'denominator', 'from_bytes', 'imag', 'numerator', 'real', 'to_bytes']\n"
     ]
    }
   ],
   "source": [
    "x = 3 ** 2\n",
    "print(dir(x))"
   ]
  },
  {
   "cell_type": "markdown",
   "metadata": {},
   "source": [
    "## 7. enumerate()\n",
    "\n",
    "In Python, the `enumerate()` function used to iterate over a sequence (such as a list or tuple) and return a sequence of tuples containing the index and value of each element in the original sequence."
   ]
  },
  {
   "cell_type": "code",
   "execution_count": null,
   "metadata": {},
   "outputs": [
    {
     "name": "stdout",
     "output_type": "stream",
     "text": [
      "0 1\n",
      "1 4\n",
      "2 9\n",
      "3 16\n",
      "4 25\n",
      "\n",
      "\n",
      "1 1\n",
      "2 4\n",
      "3 9\n",
      "4 16\n",
      "5 25\n"
     ]
    }
   ],
   "source": [
    "my_list = [x ** 2 for x in range(1, 6)]\n",
    "\n",
    "for idx, lst in enumerate(my_list):\n",
    "    print(idx, lst)\n",
    "print(\"\\n\")\n",
    "\n",
    "# Iterate over the list starting at index 1\n",
    "for idx, lst in enumerate(my_list, 1):\n",
    "    print(idx, lst)"
   ]
  },
  {
   "cell_type": "markdown",
   "metadata": {},
   "source": [
    "## 8. zip()\n",
    "\n",
    "The `zip()` function in Python is used to combine two or more iterables (e.g., lists or tuples) into a single iterable that returns `tuples` containing the corresponding elements from each input iterable.\n",
    "\n",
    "The general syntax for `zip()` is:\n",
    "\n",
    "```python\n",
    "zip(iterable1, iterable2, ...)\n",
    "```\n",
    "\n",
    "where `iterable1`, `iterable2`, etc. are the iterables to be zipped. The `zip()` function returns an iterator of tuples, where the `i-th` tuple contains the `i-th` element from each of the input iterables. The resulting iterator has as many elements as the shortest input iterable.\n"
   ]
  },
  {
   "cell_type": "code",
   "execution_count": 2,
   "metadata": {},
   "outputs": [
    {
     "name": "stdout",
     "output_type": "stream",
     "text": [
      "[(0, 'car'), (1, 'bike'), (2, 'plane')]\n"
     ]
    }
   ],
   "source": [
    "list_1 = list(range(3))\n",
    "list_2 = [\"car\", \"bike\", \"plane\"]\n",
    "zipped_list = list(zip(list_1, list_2))\n",
    "print(zipped_list)"
   ]
  },
  {
   "cell_type": "markdown",
   "metadata": {},
   "source": [
    "## 9. map()\n",
    "\n",
    "The `map()` function in Python applies a given function to each item of an iterable (e.g., a list or a tuple) and returns a new iterable with the transformed items.\n",
    "\n",
    "The general syntax for `map()` is:\n",
    "\n",
    "```python\n",
    "map(function, iterable)\n",
    "```\n",
    "\n",
    "where `function` is the function to be applied to each item in the iterable, and `iterable` is the object to be mapped. The `map()` function returns a map object, which is an iterable of the transformed items. To get a list of the transformed items, you can convert the map object to a list using the `list()` function."
   ]
  },
  {
   "cell_type": "code",
   "execution_count": 6,
   "metadata": {},
   "outputs": [
    {
     "name": "stdout",
     "output_type": "stream",
     "text": [
      "[1, 4, 9, 16, 25]\n"
     ]
    }
   ],
   "source": [
    "my_list = list(range(1, 6))\n",
    "squared = list(map(lambda x: x**2, my_list))\n",
    "print(squared)"
   ]
  },
  {
   "cell_type": "code",
   "execution_count": 16,
   "metadata": {},
   "outputs": [
    {
     "name": "stdout",
     "output_type": "stream",
     "text": [
      "[1, 3, 5, 7, 9]\n",
      "[1, 9, 25, 49, 81]\n"
     ]
    }
   ],
   "source": [
    "odd_list = list(range(1, 10, 2)) \n",
    "\n",
    "def squared(x):\n",
    "    return x**2\n",
    "\n",
    "squared_map = list(map(squared, odd_list))\n",
    "\n",
    "print(odd_list)\n",
    "print(squared_map)"
   ]
  },
  {
   "cell_type": "markdown",
   "metadata": {},
   "source": [
    "In this example, we define a `lambda` function (we'll discuss it in later notebook within the same `Methods and Function` topic). that squares each number in the list, and then we pass the `lambda` function and the `list` to the `map()` function. The `map()` function applies the `lambda` function to each item in the list and returns a new iterable with the squared values. Finally, we convert the iterable to a list using the `list()` function.\n",
    "\n",
    "Here's another example that demonstrates how to use `map()` to convert a list of strings to a list of integers:"
   ]
  },
  {
   "cell_type": "code",
   "execution_count": 11,
   "metadata": {},
   "outputs": [
    {
     "name": "stdout",
     "output_type": "stream",
     "text": [
      "[1, 2, 3, 4, 5]\n"
     ]
    }
   ],
   "source": [
    "string_list = list(str(i) for i in range(1, 6))\n",
    "int_list = list(map(int, string_list))\n",
    "print(int_list)"
   ]
  }
 ],
 "metadata": {
  "kernelspec": {
   "display_name": "env",
   "language": "python",
   "name": "python3"
  },
  "language_info": {
   "codemirror_mode": {
    "name": "ipython",
    "version": 3
   },
   "file_extension": ".py",
   "mimetype": "text/x-python",
   "name": "python",
   "nbconvert_exporter": "python",
   "pygments_lexer": "ipython3",
   "version": "3.11.2"
  }
 },
 "nbformat": 4,
 "nbformat_minor": 2
}

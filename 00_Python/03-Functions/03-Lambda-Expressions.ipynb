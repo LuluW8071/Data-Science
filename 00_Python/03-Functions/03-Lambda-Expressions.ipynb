{
 "cells": [
  {
   "cell_type": "markdown",
   "metadata": {},
   "source": [
    "# Python Lambda Expressions\n",
    "\n",
    "In Python, a lambda expression is a way to create a small, anonymous function without using the def keyword. Lambda expressions are useful for writing simple functions that can be passed as arguments to other functions. The general syntax for a lambda expression is as follows:\n",
    "\n",
    "```python\n",
    "lambda arguments: expression\n",
    "```\n",
    "\n",
    "In this syntax, `arguments` is a comma-separated list of input arguments, and `expression` is a single expression that is evaluated and returned as the output of the function. The resulting lambda function can be assigned to a variable, or passed as an argument to another function.\n",
    "\n",
    "Here's an example that demonstrates how to define a lambda function that takes two arguments and returns their sum:"
   ]
  },
  {
   "cell_type": "code",
   "execution_count": 1,
   "metadata": {},
   "outputs": [
    {
     "name": "stdout",
     "output_type": "stream",
     "text": [
      "8\n"
     ]
    }
   ],
   "source": [
    "sum = lambda a,b : a+b\n",
    "result = sum(3, 5)\n",
    "print(result)"
   ]
  },
  {
   "cell_type": "markdown",
   "metadata": {},
   "source": [
    "\n",
    "Lambda expressions are often used in combination with other built-in functions such as `map()`, `filter()`, and `reduce()`. For example, here's how we can use a `lambda` expression with the `map()` function to compute the square of each element in a list:"
   ]
  },
  {
   "cell_type": "code",
   "execution_count": 3,
   "metadata": {},
   "outputs": [
    {
     "name": "stdout",
     "output_type": "stream",
     "text": [
      "[1, 3, 5, 7, 9, 11]\n",
      "[1, 9, 25, 49, 81, 121]\n"
     ]
    }
   ],
   "source": [
    "odd_numbers = list(i for i in range(1,12) if i%2 != 0)\n",
    "squares = list(map(lambda x: x**2, odd_numbers))\n",
    "print(odd_numbers)\n",
    "print(squares)"
   ]
  },
  {
   "cell_type": "markdown",
   "metadata": {},
   "source": [
    "In this example, we define a list of numbers, and then use the `map()` function to apply a lambda function that computes the square of each element in the list. The resulting map object is then converted to a list using the `list()` function, and the resulting list of squares is printed to the console.\n",
    "\n",
    "Lambda expressions are a powerful tool in Python for writing concise, one-time use functions. However, they should be used judiciously, and more complex functions should be defined using the `def` keyword for readability and maintainability."
   ]
  }
 ],
 "metadata": {
  "kernelspec": {
   "display_name": "env",
   "language": "python",
   "name": "python3"
  },
  "language_info": {
   "codemirror_mode": {
    "name": "ipython",
    "version": 3
   },
   "file_extension": ".py",
   "mimetype": "text/x-python",
   "name": "python",
   "nbconvert_exporter": "python",
   "pygments_lexer": "ipython3",
   "version": "3.11.2"
  }
 },
 "nbformat": 4,
 "nbformat_minor": 2
}

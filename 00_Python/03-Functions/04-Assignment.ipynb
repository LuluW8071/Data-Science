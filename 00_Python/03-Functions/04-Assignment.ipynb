{
 "cells": [
  {
   "cell_type": "markdown",
   "metadata": {},
   "source": [
    "## Python Functions Assignment\n",
    "\n",
    "Write a Python program that reads a list of integers from the user and does the following:\n",
    "\n",
    "1. Use the built-in function `map` and a `lambda` expression to square each number in the list.\n",
    "2. Use a user-defined function called `calculate_sum` to compute the sum of the squared numbers.\n",
    "3. Use the built-in function `filter` and a `lambda` expression to remove all odd numbers from the original list.\n",
    "4. Use a user-defined function called `find_max` to find the maximum value in the filtered list.\n",
    "5. Print the sum of the squared numbers and the maximum value in the filtered list.\n",
    "\n",
    "Your program should handle the following cases:\n",
    "\n",
    "- If the user enters an empty list, your program should print an error message and terminate.\n",
    "- If the user enters a list that contains non-integer values, your program should print an error message and terminate.\n"
   ]
  },
  {
   "cell_type": "code",
   "execution_count": null,
   "metadata": {},
   "outputs": [
    {
     "data": {
      "text/plain": [
       "[0, 1, 2, 3, 4, 5]"
      ]
     },
     "execution_count": 13,
     "metadata": {},
     "output_type": "execute_result"
    }
   ],
   "source": [
    "list_range = input(\"Insert the number range\")\n",
    "my_list = list(range(int(list_range)+1))\n",
    "my_list"
   ]
  },
  {
   "cell_type": "code",
   "execution_count": 14,
   "metadata": {},
   "outputs": [
    {
     "data": {
      "text/plain": [
       "[0, 1, 4, 9, 16, 25]"
      ]
     },
     "execution_count": 14,
     "metadata": {},
     "output_type": "execute_result"
    }
   ],
   "source": [
    "squared = list(map(lambda x: x**2, my_list))\n",
    "squared"
   ]
  },
  {
   "cell_type": "code",
   "execution_count": 17,
   "metadata": {},
   "outputs": [
    {
     "name": "stdout",
     "output_type": "stream",
     "text": [
      "55\n",
      "55\n"
     ]
    }
   ],
   "source": [
    "from functools import reduce\n",
    "\n",
    "def calculate_sum_reduce_fn(squared_list):\n",
    "    return reduce(lambda x, y: x+y, squared_list)\n",
    "\n",
    "def calculate_sum(squared_list):\n",
    "    sum = 0\n",
    "    for i in squared_list:\n",
    "        sum += i\n",
    "    return sum\n",
    "\n",
    "print(calculate_sum_reduce_fn(squared))\n",
    "print(calculate_sum(squared))"
   ]
  },
  {
   "cell_type": "code",
   "execution_count": 20,
   "metadata": {},
   "outputs": [
    {
     "name": "stdout",
     "output_type": "stream",
     "text": [
      "[0, 2, 4]\n"
     ]
    }
   ],
   "source": [
    "remove_odd = list(filter(lambda x: x%2==0, my_list))\n",
    "print(remove_odd)"
   ]
  },
  {
   "cell_type": "code",
   "execution_count": null,
   "metadata": {},
   "outputs": [
    {
     "name": "stdout",
     "output_type": "stream",
     "text": [
      "4\n"
     ]
    }
   ],
   "source": [
    "def max_val(filtered_list):\n",
    "    return sorted(filtered_list)[-1]\n",
    "\n",
    "print(max_val(remove_odd))"
   ]
  },
  {
   "cell_type": "markdown",
   "metadata": {},
   "source": [
    "#### Final Function"
   ]
  },
  {
   "cell_type": "code",
   "execution_count": null,
   "metadata": {},
   "outputs": [],
   "source": [
    "def assign_fn(list_range):\n",
    "    try:\n",
    "        list1 = list(range(int(list_range)+1))\n",
    "        squared_list = list(map(lambda x: x**2, list1))\n",
    "        squared_sum = 0\n",
    "        for i in squared_list:\n",
    "            squared_sum += i\n",
    "        remove_odd = list(filter(lambda x: x%2==0, list1))\n",
    "        filtered_max_val = sorted(remove_odd)[-1]\n",
    "        return squared_sum, filtered_max_val\n",
    "    except Exception as e:\n",
    "        print(f\"An unexpected error occurred: {e}\")\n",
    "        return None"
   ]
  },
  {
   "cell_type": "code",
   "execution_count": null,
   "metadata": {},
   "outputs": [
    {
     "name": "stdout",
     "output_type": "stream",
     "text": [
      "(385, 10)\n"
     ]
    }
   ],
   "source": [
    "# Entering integer\n",
    "list_range = input(\"Insert the number range\")\n",
    "print(assign_fn(list_range))"
   ]
  },
  {
   "cell_type": "code",
   "execution_count": 27,
   "metadata": {},
   "outputs": [
    {
     "name": "stdout",
     "output_type": "stream",
     "text": [
      "An unexpected error occurred: invalid literal for int() with base 10: ''\n",
      "None\n"
     ]
    }
   ],
   "source": [
    "# Entering empty list\n",
    "list_range = input(\"Insert the number range\")\n",
    "print(assign_fn(list_range))"
   ]
  },
  {
   "cell_type": "code",
   "execution_count": 28,
   "metadata": {},
   "outputs": [
    {
     "name": "stdout",
     "output_type": "stream",
     "text": [
      "An unexpected error occurred: invalid literal for int() with base 10: '1a3e'\n",
      "None\n"
     ]
    }
   ],
   "source": [
    "# Entering non-integer\n",
    "list_range = input(\"Insert the number range\")\n",
    "print(assign_fn(list_range))"
   ]
  }
 ],
 "metadata": {
  "kernelspec": {
   "display_name": "env",
   "language": "python",
   "name": "python3"
  },
  "language_info": {
   "codemirror_mode": {
    "name": "ipython",
    "version": 3
   },
   "file_extension": ".py",
   "mimetype": "text/x-python",
   "name": "python",
   "nbconvert_exporter": "python",
   "pygments_lexer": "ipython3",
   "version": "3.11.2"
  }
 },
 "nbformat": 4,
 "nbformat_minor": 2
}

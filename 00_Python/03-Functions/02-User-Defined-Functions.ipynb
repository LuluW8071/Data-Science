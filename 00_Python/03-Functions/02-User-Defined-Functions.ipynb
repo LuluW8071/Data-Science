{
 "cells": [
  {
   "cell_type": "markdown",
   "metadata": {},
   "source": [
    "# Python Functions\n",
    "\n",
    "A function is a block of reusable code that performs a specific task. A function can take one or more arguments as input, perform some operations on the input, and then return a value as output. Here's the general syntax for defining a function in Python:\n",
    "\n",
    "\n",
    "```python\n",
    "def function_name(parameter1, parameter2, ...):\n",
    "    # Function body\n",
    "    return output_value\n",
    "```\n",
    "\n",
    "\n",
    "In this syntax, `def` is the keyword used to define a function, `function_name` is the name of the function, and `parameter1`, `parameter2`, etc. are the input parameters of the function. The `return` keyword is used to specify the output value of the function.\n",
    "\n",
    "Here's an example that demonstrates how to define a function that computes the sum of two numbers:"
   ]
  },
  {
   "cell_type": "code",
   "execution_count": 1,
   "metadata": {},
   "outputs": [
    {
     "name": "stdout",
     "output_type": "stream",
     "text": [
      "63\n"
     ]
    }
   ],
   "source": [
    "def multiply(a, b):\n",
    "    return a * b\n",
    "\n",
    "result = multiply(9, 7)\n",
    "print(result)"
   ]
  },
  {
   "cell_type": "markdown",
   "metadata": {},
   "source": [
    "In this example, we define a function called `multiply` that takes two input parameters `a` and `b`, computes their product, and returns the result. We then call the function with arguments `9` and `7` and store the result in a variable called `result`. Finally, we print the value of result.\n",
    "\n",
    "Functions in Python can also have optional parameters with default values, which allows the caller to omit certain arguments if they are not needed. Here's an example that demonstrates how to define a function with optional parameters:"
   ]
  },
  {
   "cell_type": "code",
   "execution_count": 4,
   "metadata": {},
   "outputs": [
    {
     "name": "stdout",
     "output_type": "stream",
     "text": [
      "Namaste, Alice!\n",
      "Namaste, Luluw!\n"
     ]
    }
   ],
   "source": [
    "def greet(name, greeting=\"Namaste\"):\n",
    "    return f\"{greeting}, {name}!\"\n",
    "\n",
    "print(greet(\"Alice\"))\n",
    "print(greet(\"Luluw\"))"
   ]
  },
  {
   "cell_type": "markdown",
   "metadata": {},
   "source": [
    "In this example, we define a function called `greet` that takes an input parameter `name` and an optional parameter `greeting` with a default value of `'Hello'`. The function returns a greeting message that includes the `name` and the `greeting`. We then call the function with only the name argument in the first case, and with both name and greeting arguments in the second case.\n",
    "\n",
    "Functions in Python can also have variable-length argument lists. These are called `*args` and `**kwargs`, and they allow the function to accept any number of arguments and keyword arguments, respectively. Here's an example that demonstrates how to define a function with variable-length argument lists:"
   ]
  },
  {
   "cell_type": "code",
   "execution_count": 10,
   "metadata": {},
   "outputs": [
    {
     "name": "stdout",
     "output_type": "stream",
     "text": [
      "Args: Postional arguments\n",
      "1\n",
      "Hello\n",
      "[1, 2, 3]\n",
      "---------------\n",
      "Kwargs: Keyword arguments\n",
      "n: 9\n",
      "name: Luluw\n",
      "age: 23\n"
     ]
    }
   ],
   "source": [
    "def print_args(*args, **kwargs):\n",
    "    print(\"Args: Postional arguments\")\n",
    "    for arg in args:\n",
    "        print(arg)\n",
    "    print(\"-\"*15)\n",
    "    print(\"Kwargs: Keyword arguments\")\n",
    "    for key, val in kwargs.items():\n",
    "        print(f\"{key}: {val}\")\n",
    "\n",
    "print_args(1, \"Hello\", [1, 2, 3], n=9, name=\"Luluw\", age=23 )\n"
   ]
  },
  {
   "cell_type": "code",
   "execution_count": null,
   "metadata": {},
   "outputs": [
    {
     "name": "stdout",
     "output_type": "stream",
     "text": [
      "Args: Postional arguments\n",
      "1\n",
      "Hello\n",
      "[1, 2, 3]\n",
      "---------------\n",
      "Kwargs: Keyword arguments\n",
      "n: 9\n",
      "name: Luluw\n",
      "age: 23\n"
     ]
    }
   ],
   "source": [
    "my_args = [1, \"Hello\", [1, 2, 3]]\n",
    "my_kwargs = {\"n\":9, \"name\":\"Luluw\", \"age\":23}\n",
    "print_args(*my_args, **my_kwargs)"
   ]
  },
  {
   "cell_type": "markdown",
   "metadata": {},
   "source": [
    "In this example, we define a function called `print_args` that accepts a variable number of positional arguments (`*args`) and keyword arguments (`**kwargs`). The function then prints the positional and keyword arguments to the console."
   ]
  }
 ],
 "metadata": {
  "kernelspec": {
   "display_name": "env",
   "language": "python",
   "name": "python3"
  },
  "language_info": {
   "codemirror_mode": {
    "name": "ipython",
    "version": 3
   },
   "file_extension": ".py",
   "mimetype": "text/x-python",
   "name": "python",
   "nbconvert_exporter": "python",
   "pygments_lexer": "ipython3",
   "version": "3.11.2"
  }
 },
 "nbformat": 4,
 "nbformat_minor": 2
}

{
 "cells": [
  {
   "cell_type": "markdown",
   "metadata": {},
   "source": [
    "# Python Decorators\n",
    "\n",
    "In Python, a decorator is a special kind of function that can be used to modify the behavior of another function. Decorators are indicated by the `@` symbol followed by the name of the decorator function, and they are placed immediately before the function that they modify. Here's an example:"
   ]
  },
  {
   "cell_type": "code",
   "execution_count": 1,
   "metadata": {},
   "outputs": [
    {
     "name": "stdout",
     "output_type": "stream",
     "text": [
      "Before function execution\n",
      "Hello, world!\n",
      "After function execution\n"
     ]
    }
   ],
   "source": [
    "def my_decorator(func):\n",
    "    def wrapper():\n",
    "        print(\"Before function execution\")\n",
    "        func()\n",
    "        print(\"After function execution\")\n",
    "    return wrapper\n",
    "\n",
    "@my_decorator\n",
    "def say_hello():\n",
    "    print(\"Hello, world!\")\n",
    "\n",
    "say_hello()"
   ]
  },
  {
   "cell_type": "markdown",
   "metadata": {},
   "source": [
    "In this example, we define a decorator function `my_decorator` that takes a function `func` as an argument. The decorator function defines an inner function `wrapper` that prints a message before and after calling the original function `func`. The decorator function then returns the `wrapper` function.\n",
    "\n",
    "To apply the decorator to a function, we simply add the `@my_decorator` annotation immediately before the function definition. In this case, we are decorating the `say_hello` function. When we call `say_hello()`, the decorator function `my_decorator` is called with `say_hello` as its argument. The decorator returns the `wrapper` function, which is then used to call the original `say_hello` function.\n",
    "\n",
    "Decorators can also take arguments. For example:"
   ]
  },
  {
   "cell_type": "code",
   "execution_count": 2,
   "metadata": {},
   "outputs": [
    {
     "name": "stdout",
     "output_type": "stream",
     "text": [
      "Hello, Alice!\n",
      "Hello, Alice!\n",
      "Hello, Alice!\n"
     ]
    }
   ],
   "source": [
    "def repeat(n):\n",
    "    def decorator(func):\n",
    "        def wrapper(*args, **kwargs):\n",
    "            for i in range(n):\n",
    "                func(*args, **kwargs)\n",
    "        return wrapper\n",
    "    return decorator\n",
    "\n",
    "@repeat(3)\n",
    "def say_hello(name):\n",
    "    print(f\"Hello, {name}!\")\n",
    "\n",
    "say_hello(\"Alice\")"
   ]
  },
  {
   "cell_type": "markdown",
   "metadata": {},
   "source": [
    "In this example, `repeat` is a function that takes an argument `n` and returns another function `decorator`. The `decorator` function takes a function `func` as an argument and returns a new function `wrapper`. The `wrapper` function takes any number of positional and keyword arguments, calls `func` with those arguments `n` times, and discards the results.\n",
    "\n",
    "The `@repeat(3)` syntax is a shorthand way of applying the `repeat` decorator to the `say_hello` function with an argument of `3`. It's equivalent to calling `say_hello` = `repeat(3)(say_hello)`.\n",
    "\n",
    "Notice that the `wrapper` function called `say_hello` three times."
   ]
  }
 ],
 "metadata": {
  "kernelspec": {
   "display_name": "Python 3 (ipykernel)",
   "language": "python",
   "name": "python3"
  },
  "language_info": {
   "codemirror_mode": {
    "name": "ipython",
    "version": 3
   },
   "file_extension": ".py",
   "mimetype": "text/x-python",
   "name": "python",
   "nbconvert_exporter": "python",
   "pygments_lexer": "ipython3",
   "version": "3.8.10"
  },
  "vscode": {
   "interpreter": {
    "hash": "52d0895b74d46736af80307792bc794eabfd4ba41b3599b718f838e53d9478fc"
   }
  }
 },
 "nbformat": 4,
 "nbformat_minor": 2
}

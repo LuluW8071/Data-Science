{
 "cells": [
  {
   "cell_type": "markdown",
   "metadata": {},
   "source": [
    "# Python Closures\n",
    "\n",
    "A closure is a function object that has access to variables in its enclosing lexical scope, even when the function is called outside of that scope. In other words, a closure is a function that \"remembers\" the values of variables that were in scope when the function was defined, even if those variables are no longer in scope when the function is called.\n",
    "\n",
    "Here's an example of a closure in Python:"
   ]
  },
  {
   "cell_type": "code",
   "execution_count": 1,
   "metadata": {},
   "outputs": [],
   "source": [
    "def outer_function(x):\n",
    "    def inner_function(y):\n",
    "        return x + y\n",
    "    return inner_function"
   ]
  },
  {
   "cell_type": "markdown",
   "metadata": {},
   "source": [
    "In this example, `outer_function` defines an inner function named `inner_function`. `inner_function` takes an argument `y` and returns the sum of `x` and `y`. Notice that `x` is defined in the outer function and is not an argument to `inner_function`.\n",
    "\n",
    "Here's how we can use `outer_function`:"
   ]
  },
  {
   "cell_type": "code",
   "execution_count": 2,
   "metadata": {},
   "outputs": [
    {
     "name": "stdout",
     "output_type": "stream",
     "text": [
      "8\n"
     ]
    }
   ],
   "source": [
    "closure = outer_function(5)\n",
    "result = closure(3)\n",
    "print(result)"
   ]
  },
  {
   "cell_type": "markdown",
   "metadata": {},
   "source": [
    "In this example, `outer_function` is called with an argument of `5`, and the resulting function object is stored in the variable `closure`. Then, `closure` is called with an argument of `3`, and the result is `8`. The reason this works is because `inner_function` \"remembers\" the value of `x` when it was defined in `outer_function`.\n",
    "\n",
    "Another example of a closure in Python is a counter:"
   ]
  },
  {
   "cell_type": "code",
   "execution_count": 3,
   "metadata": {},
   "outputs": [],
   "source": [
    "def counter():\n",
    "    count = 0\n",
    "    def inner():\n",
    "        nonlocal count\n",
    "        count += 1\n",
    "        return count\n",
    "    return inner"
   ]
  },
  {
   "cell_type": "markdown",
   "metadata": {},
   "source": [
    "In this example, `counter` defines a local variable `count` that is initialized to `0`. `counter` then defines an inner function `inner` that increments `count` and returns its value. `inner` uses the nonlocal keyword to indicate that it wants to modify the value of `count` in the enclosing scope.\n",
    "\n",
    "Here's how we can use counter:"
   ]
  },
  {
   "cell_type": "code",
   "execution_count": 4,
   "metadata": {},
   "outputs": [
    {
     "name": "stdout",
     "output_type": "stream",
     "text": [
      "1\n",
      "2\n",
      "3\n",
      "\n",
      "1\n",
      "2\n"
     ]
    }
   ],
   "source": [
    "c1 = counter()\n",
    "print(c1())\n",
    "print(c1())\n",
    "print(c1())\n",
    "print()\n",
    "\n",
    "c2 = counter()\n",
    "print(c2())\n",
    "print(c2())"
   ]
  },
  {
   "cell_type": "markdown",
   "metadata": {},
   "source": [
    "In this example, `c1` and `c2` are both closures that were created by calling `counter`. Each closure has its own independent copy of `count`, so calling `c1()` increments `c1`'s copy of `count` and returns the new value, while leaving `c2`'s copy of `count` unchanged."
   ]
  }
 ],
 "metadata": {
  "kernelspec": {
   "display_name": "Python 3 (ipykernel)",
   "language": "python",
   "name": "python3"
  },
  "language_info": {
   "codemirror_mode": {
    "name": "ipython",
    "version": 3
   },
   "file_extension": ".py",
   "mimetype": "text/x-python",
   "name": "python",
   "nbconvert_exporter": "python",
   "pygments_lexer": "ipython3",
   "version": "3.8.10"
  }
 },
 "nbformat": 4,
 "nbformat_minor": 2
}

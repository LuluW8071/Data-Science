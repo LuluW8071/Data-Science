{
 "cells": [
  {
   "cell_type": "markdown",
   "metadata": {},
   "source": [
    "# Python Text Type\n",
    "\n",
    "In Python, strings (`str`) are used to represent text data. Here's a brief overview of the Python string type.\n",
    "\n",
    "## Defining strings\n",
    "\n",
    "You can define a string in Python by enclosing the text in either single or double quotes. Here are some examples:"
   ]
  },
  {
   "cell_type": "code",
   "execution_count": 1,
   "metadata": {},
   "outputs": [],
   "source": [
    "x = \"Hello, world!\"\n",
    "y = 'This is a string.'"
   ]
  },
  {
   "cell_type": "markdown",
   "metadata": {},
   "source": [
    "## String methods\n",
    "\n",
    "Python provides a variety of built-in string methods that you can use to perform operations on strings. Some common string methods include `lower()`, `upper()`, `strip()`, `replace()`, and `split()`. Here are some examples:"
   ]
  },
  {
   "cell_type": "code",
   "execution_count": 2,
   "metadata": {},
   "outputs": [
    {
     "name": "stdout",
     "output_type": "stream",
     "text": [
      "hello, world!\n",
      "HELLO, WORLD!\n",
      "Hello, world!\n",
      "Hella, warld!\n",
      "['Hello', ' world!']\n"
     ]
    }
   ],
   "source": [
    "x = \"Hello, world!\"\n",
    "\n",
    "print(x.lower())\n",
    "print(x.upper())\n",
    "print(x.strip())\n",
    "print(x.replace(\"o\", \"a\"))\n",
    "print(x.split(\",\"))"
   ]
  },
  {
   "cell_type": "markdown",
   "metadata": {},
   "source": [
    "## String indexing\n",
    "\n",
    "You can access individual characters in a string using indexing. In Python, indexing starts at 0. Here are some examples:"
   ]
  },
  {
   "cell_type": "code",
   "execution_count": 3,
   "metadata": {},
   "outputs": [
    {
     "name": "stdout",
     "output_type": "stream",
     "text": [
      "H\n",
      "o\n",
      "!\n"
     ]
    }
   ],
   "source": [
    "x = \"Hello, world!\"\n",
    "\n",
    "print(x[0])\n",
    "print(x[4])\n",
    "print(x[-1])"
   ]
  },
  {
   "cell_type": "markdown",
   "metadata": {},
   "source": [
    "## String slicing\n",
    "\n",
    "You can also access a range of characters in a string using slicing. Slicing uses the syntax `start:stop:step`, where `start` is the index of the first character you want to include, `stop` is the index of the first character you want to exclude, and `step` is the number of characters to skip. Here are some examples:"
   ]
  },
  {
   "cell_type": "code",
   "execution_count": 4,
   "metadata": {},
   "outputs": [
    {
     "name": "stdout",
     "output_type": "stream",
     "text": [
      "Hello\n",
      "world!\n",
      "Hello\n",
      "Hlo ol!\n",
      "orl\n",
      "!dlrow ,olleH\n"
     ]
    }
   ],
   "source": [
    "x = \"Hello, world!\"\n",
    "\n",
    "print(x[0:5])\n",
    "print(x[7:])\n",
    "print(x[:5])\n",
    "print(x[::2])\n",
    "print(x[-5:-2])\n",
    "print(x[::-1])  ## Reverse String"
   ]
  },
  {
   "cell_type": "markdown",
   "metadata": {},
   "source": [
    "## String Formatting\n",
    "\n",
    "You can use string formatting to insert variables or expressions into a string. There are several ways to format strings in Python, including using `%` operator, `.format()` and `f-strings`. Here are some examples:"
   ]
  },
  {
   "cell_type": "code",
   "execution_count": 5,
   "metadata": {},
   "outputs": [
    {
     "name": "stdout",
     "output_type": "stream",
     "text": [
      "My name is John and I am 25 years old.\n",
      "My name is John and I am 25 years old.\n",
      "My name is John and I am 25 years old.\n",
      "My name is John and I am 25 years old.\n",
      "My name is John and I am 25 years old.\n"
     ]
    }
   ],
   "source": [
    "x = \"John\"\n",
    "y = 25\n",
    "\n",
    "print(\"My name is %s and I am %d years old.\" % (x, y))  # % Operator\n",
    "print(\"My name is {} and I am {} years old.\".format(x, y))  # .format()\n",
    "print(\"My name is {0} and I am {1} years old.\".format(x, y))  # .format()\n",
    "print(\"My name is {1} and I am {0} years old.\".format(y, x))  # .format()\n",
    "print(f\"My name is {x} and I am {y} years old.\")  # F-String"
   ]
  },
  {
   "cell_type": "markdown",
   "metadata": {},
   "source": [
    "## String concatenation\n",
    "\n",
    "You can concatenate two or more strings using the + operator. Here are some examples:"
   ]
  },
  {
   "cell_type": "code",
   "execution_count": 6,
   "metadata": {},
   "outputs": [
    {
     "name": "stdout",
     "output_type": "stream",
     "text": [
      "Hello world!\n"
     ]
    }
   ],
   "source": [
    "x = \"Hello\"\n",
    "y = \"world!\"\n",
    "\n",
    "z = x + \" \" + y\n",
    "print(z)"
   ]
  },
  {
   "cell_type": "markdown",
   "metadata": {},
   "source": [
    "## Advanced String Formatting with `.format()`\n",
    "\n",
    "In Python, you can use the `.format()` method to format strings. The `.format()` method provides a powerful way to control the alignment, padding, and precision of values that are included in the formatted string.\n",
    "\n",
    "Here are some examples of using the `.format()` method to control the alignment, padding, and precision of values:\n",
    "\n",
    "### Alignment\n",
    "\n",
    "You can use the `{:}` syntax to specify the width of the field and the alignment. The `>` character specifies right alignment, the `<` character specifies left alignment, and the `^` character specifies center alignment."
   ]
  },
  {
   "cell_type": "code",
   "execution_count": 7,
   "metadata": {},
   "outputs": [
    {
     "name": "stdout",
     "output_type": "stream",
     "text": [
      "       Hello, World!\n",
      "Hello, World!       \n",
      "   Hello, World!    \n"
     ]
    }
   ],
   "source": [
    "s = \"Hello, World!\"\n",
    "\n",
    "print(\"{:>20}\".format(s)) # Right align the string in a field with a width of 20 characters\n",
    "print(\"{:<20}\".format(s)) # Left align the string in a field with a width of 20 characters\n",
    "print(\"{:^20}\".format(s)) # Center the string in a field with a width of 20 characters"
   ]
  },
  {
   "cell_type": "markdown",
   "metadata": {},
   "source": [
    "### Padding\n",
    "\n",
    "You can use the `{:}` syntax to specify the width of the field and the padding character. The padding character is specified after the alignment character (`>`, `<`, or `^`)."
   ]
  },
  {
   "cell_type": "code",
   "execution_count": 8,
   "metadata": {},
   "outputs": [
    {
     "name": "stdout",
     "output_type": "stream",
     "text": [
      "_______Hello, World!\n",
      "Hello, World!.......\n",
      "---Hello, World!----\n"
     ]
    }
   ],
   "source": [
    "s = \"Hello, World!\"\n",
    "\n",
    "print(\"{:_>20}\".format(s)) # Right align the string of 20 characters, padded with underscores\n",
    "print(\"{:.<20}\".format(s)) # Left align the string of 20 characters, padded with dots\n",
    "print(\"{:-^20}\".format(s)) # Center the string of 20 characters, padded with dashes"
   ]
  },
  {
   "cell_type": "markdown",
   "metadata": {},
   "source": [
    "### Precision\n",
    "\n",
    "You can use the `{:.}` syntax to specify the precision of a floating-point number."
   ]
  },
  {
   "cell_type": "code",
   "execution_count": 9,
   "metadata": {},
   "outputs": [
    {
     "name": "stdout",
     "output_type": "stream",
     "text": [
      "3.14\n",
      "3.14159\n"
     ]
    }
   ],
   "source": [
    "pi = 3.141592653589793\n",
    "\n",
    "print(\"{:.2f}\".format(pi))  # Show pi with 2 decimal places\n",
    "print(\"{:.5f}\".format(pi))  # Show pi with 5 decimal places"
   ]
  },
  {
   "cell_type": "markdown",
   "metadata": {},
   "source": [
    "In these examples, the `.2f` and `.5f` formats are used to specify the precision of the floating-point number.\n",
    "\n",
    "These are just a few examples of the many ways that you can use the `.format()` method to control the alignment, padding, and precision of values in formatted strings. The `.format()` method provides a lot of flexibility, and you can use it to create very sophisticated formatted strings."
   ]
  }
 ],
 "metadata": {
  "kernelspec": {
   "display_name": "Python 3 (ipykernel)",
   "language": "python",
   "name": "python3"
  },
  "language_info": {
   "codemirror_mode": {
    "name": "ipython",
    "version": 3
   },
   "file_extension": ".py",
   "mimetype": "text/x-python",
   "name": "python",
   "nbconvert_exporter": "python",
   "pygments_lexer": "ipython3",
   "version": "3.8.10"
  },
  "vscode": {
   "interpreter": {
    "hash": "c791da6e143d5c1c10fa1ed7f1815151e7a056a8f495bad5d982eb2a99eb5509"
   }
  }
 },
 "nbformat": 4,
 "nbformat_minor": 2
}

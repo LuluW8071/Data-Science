{
 "cells": [
  {
   "cell_type": "markdown",
   "id": "e775d318",
   "metadata": {},
   "source": [
    "# Python Comprehensions\n",
    "\n",
    "In Python, comprehensions provide a concise way to create sequences like lists, dictionaries, and sets. They are a more readable and often more efficient alternative to using traditional loops to generate sequences.\n",
    "\n",
    "There are three types of comprehensions in Python: list comprehensions, dictionary comprehensions, and set comprehensions.\n",
    "\n",
    "## 1. List Comprehensions\n",
    "\n",
    "In Python, list comprehension is a concise way to create lists. It provides a compact syntax for mapping a given iterable (e.g. list, tuple) to a new list by applying a specific expression to each element in the original iterable.\n",
    "\n",
    "The basic syntax of a list comprehension is as follows:\n",
    "\n",
    "```python\n",
    "new_list = [expression for item in iterable if condition]\n",
    "```\n",
    "\n",
    "In this syntax, `expression` is the operation to be performed on each item in the iterable, `item` is the variable that represents each element in the iterable, and `condition` is an optional filter that can be applied to select only certain elements from the iterable.\n",
    "\n",
    "Here is an example that creates a new list of squared numbers from an existing list:"
   ]
  },
  {
   "cell_type": "code",
   "execution_count": 1,
   "id": "a94145a7",
   "metadata": {},
   "outputs": [
    {
     "name": "stdout",
     "output_type": "stream",
     "text": [
      "[1, 4, 9, 16, 25]\n"
     ]
    }
   ],
   "source": [
    "numbers = [1, 2, 3, 4, 5]\n",
    "squares = [num ** 2 for num in numbers]\n",
    "print(squares)"
   ]
  },
  {
   "cell_type": "markdown",
   "id": "33e36b51",
   "metadata": {},
   "source": [
    "In this example, the expression `num ** 2` is applied to each element in the `numbers` list, and the results are stored in a new list called `squares`.\n",
    "\n",
    "You can also add an optional condition to the list comprehension. For example, here is a list comprehension that filters out even numbers from the original list:"
   ]
  },
  {
   "cell_type": "code",
   "execution_count": 2,
   "id": "42b411d2",
   "metadata": {},
   "outputs": [
    {
     "name": "stdout",
     "output_type": "stream",
     "text": [
      "[1, 3, 5]\n"
     ]
    }
   ],
   "source": [
    "numbers = [1, 2, 3, 4, 5]\n",
    "odds = [num for num in numbers if num % 2 != 0]\n",
    "print(odds)"
   ]
  },
  {
   "cell_type": "markdown",
   "id": "ee9dc3e7",
   "metadata": {},
   "source": [
    "In this example, the condition `if num % 2 != 0` filters out the even numbers from the original `numbers` list, and the remaining odd numbers are stored in the new `odds` list.\n",
    "\n",
    "List comprehensions can also be nested, allowing you to create more complex sequences. Here is an example that creates a list of tuples:"
   ]
  },
  {
   "cell_type": "code",
   "execution_count": 3,
   "id": "7a88d551",
   "metadata": {},
   "outputs": [
    {
     "name": "stdout",
     "output_type": "stream",
     "text": [
      "[('a', 1), ('a', 2), ('a', 3), ('b', 1), ('b', 2), ('b', 3), ('c', 1), ('c', 2), ('c', 3)]\n"
     ]
    }
   ],
   "source": [
    "letters = ['a', 'b', 'c']\n",
    "numbers = [1, 2, 3]\n",
    "pairs = [(letter, number) for letter in letters for number in numbers]\n",
    "print(pairs)"
   ]
  },
  {
   "cell_type": "markdown",
   "id": "ed7474cc",
   "metadata": {},
   "source": [
    "In this example, the list comprehension uses two `for` loops to create pairs of letters and numbers. The resulting `pairs` list contains all possible combinations of letters and numbers."
   ]
  },
  {
   "cell_type": "markdown",
   "id": "377d836f",
   "metadata": {},
   "source": [
    "## 2. Dictionary Comprehension\n",
    "\n",
    "In Python, dictionary comprehension is a concise way to create a new dictionary by transforming an existing iterable (such as a list or tuple) into key-value pairs. It provides a compact syntax for mapping a given iterable to a new dictionary by applying a specific expression to each element in the iterable.\n",
    "\n",
    "The basic syntax of a dictionary comprehension is as follows:\n",
    "\n",
    "```python\n",
    "new_dict = {key_expression: value_expression for item in iterable if condition}\n",
    "```\n",
    "\n",
    "In this syntax, `key_expression` is the expression that generates the key for the dictionary, `value_expression` is the expression that generates the value for the dictionary, `item` is the variable that represents each element in the iterable, and `condition` is an optional filter that can be applied to select only certain elements from the iterable.\n",
    "\n",
    "Here is an example that creates a new dictionary of squared numbers from an existing list:"
   ]
  },
  {
   "cell_type": "code",
   "execution_count": 4,
   "id": "d6e6bb15",
   "metadata": {},
   "outputs": [
    {
     "name": "stdout",
     "output_type": "stream",
     "text": [
      "{1: 1, 3: 9, 5: 25}\n"
     ]
    }
   ],
   "source": [
    "numbers = [1, 2, 3, 4, 5]\n",
    "odds_dict = {num: num ** 2 for num in numbers if num % 2 != 0}\n",
    "print(odds_dict)"
   ]
  },
  {
   "cell_type": "markdown",
   "id": "3393efe7",
   "metadata": {},
   "source": [
    "In this example, the key expression `num` generates the key for each item in the new dictionary, the value expression `num ** 2` generates the corresponding value for each key and the condition `if num % 2 != 0` filters out the even numbers from the original `numbers` list, and the remaining odd numbers are stored in the new dictionary.\n",
    "\n",
    "Dictionary comprehensions can also be nested, allowing you to create more complex dictionaries. Here is an example that creates a dictionary of letter-counts:"
   ]
  },
  {
   "cell_type": "code",
   "execution_count": 5,
   "id": "cc1680b6",
   "metadata": {},
   "outputs": [
    {
     "name": "stdout",
     "output_type": "stream",
     "text": [
      "{'o': 1, 'h': 1, 'e': 1, 'l': 2}\n"
     ]
    }
   ],
   "source": [
    "word = 'hello'\n",
    "letter_counts = {letter: word.count(letter) for letter in set(word)}\n",
    "print(letter_counts)"
   ]
  },
  {
   "cell_type": "markdown",
   "id": "928f854a",
   "metadata": {},
   "source": [
    "In this example, the list comprehension uses a set of unique letters from the `word` string to create the keys of the new dictionary, and the `count()` method is used to generate the corresponding values for each key."
   ]
  },
  {
   "cell_type": "markdown",
   "id": "cf19adea",
   "metadata": {},
   "source": [
    "## 3. Set Comprehension\n",
    "\n",
    "Set comprehension is a concise way to create a new set by transforming an existing iterable (such as a list or tuple). It provides a compact syntax for mapping a given iterable to a new set by applying a specific expression to each element in the iterable.\n",
    "\n",
    "The basic syntax of a set comprehension is as follows:\n",
    "\n",
    "```python\n",
    "new_set = {expression for item in iterable if condition}\n",
    "```\n",
    "\n",
    "In this syntax, `expression` is the operation to be performed on each item in the iterable, `item` is the variable that represents each element in the iterable, and `condition` is an optional filter that can be applied to select only certain elements from the iterable.\n",
    "\n",
    "Here is an example that creates a new set of squared numbers from an existing list:"
   ]
  },
  {
   "cell_type": "code",
   "execution_count": 6,
   "id": "9858bcde",
   "metadata": {},
   "outputs": [
    {
     "name": "stdout",
     "output_type": "stream",
     "text": [
      "{1, 9, 25}\n"
     ]
    }
   ],
   "source": [
    "numbers = [1, 2, 3, 4, 5]\n",
    "odds_set = {num ** 2 for num in numbers if num % 2 != 0}\n",
    "print(odds_set)"
   ]
  },
  {
   "cell_type": "markdown",
   "id": "a96b45e2",
   "metadata": {},
   "source": [
    "In this example, the expression `num ** 2` is applied to each element in the `numbers` list, and the results are stored in a new set called `squares_set`, and  the condition `if num % 2 != 0` filters out the even numbers from the original `numbers` list, and the remaining odd numbers are stored in the new `odds_set`.\n",
    "\n",
    "Set comprehensions can also be nested, allowing you to create more complex sets. Here is an example that creates a set of all possible combinations of two letters:"
   ]
  },
  {
   "cell_type": "code",
   "execution_count": 7,
   "id": "380bb974",
   "metadata": {},
   "outputs": [
    {
     "name": "stdout",
     "output_type": "stream",
     "text": [
      "{'bb', 'ba', 'cc', 'bc', 'aa', 'ca', 'ac', 'cb', 'ab'}\n"
     ]
    }
   ],
   "source": [
    "letters = {'a', 'b', 'c'}\n",
    "pairs = {letter1 + letter2 for letter1 in letters for letter2 in letters}\n",
    "print(pairs)"
   ]
  },
  {
   "cell_type": "markdown",
   "id": "0f21400b",
   "metadata": {},
   "source": [
    "In this example, the set comprehension uses two `for` loops to create pairs of letters. The resulting `pairs` set contains all possible combinations of two letters."
   ]
  }
 ],
 "metadata": {
  "kernelspec": {
   "display_name": "Python 3 (ipykernel)",
   "language": "python",
   "name": "python3"
  },
  "language_info": {
   "codemirror_mode": {
    "name": "ipython",
    "version": 3
   },
   "file_extension": ".py",
   "mimetype": "text/x-python",
   "name": "python",
   "nbconvert_exporter": "python",
   "pygments_lexer": "ipython3",
   "version": "3.8.10"
  }
 },
 "nbformat": 4,
 "nbformat_minor": 5
}

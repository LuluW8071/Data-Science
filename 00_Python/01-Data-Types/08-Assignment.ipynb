{
 "cells": [
  {
   "cell_type": "markdown",
   "metadata": {},
   "source": [
    "## Data Types Assignment\n",
    "\n",
    "Write a Python program that reads in a long text (150 or more words) and performs the following operations:\n",
    "\n",
    "1. Creates a list of all words in the text.\n",
    "2. Creates a dictionary that maps each unique word to the number of times it appears in the text.\n",
    "3. Creates a set of all unique words in the text.\n",
    "4. Prints out the five most common words in the text and their frequency.\n",
    "\n",
    "Here are some additional requirements and suggestions:\n",
    "\n",
    "- You may assume that the text contains only ASCII characters and that words are separated by whitespace.\n",
    "- You may use any built-in data structures in Python (such as lists, dictionaries, and sets) to implement the program.\n",
    "- You may use the collections module to simplify the implementation of the word frequency dictionary.\n",
    "- You may use the re module to preprocess the text and remove non-alphabetic characters.\n",
    "- You may use the sorted function to sort the words by frequency.\n",
    "- You may define helper functions as necessary to implement the program.\n"
   ]
  },
  {
   "cell_type": "markdown",
   "metadata": {},
   "source": [
    "### Solutions"
   ]
  },
  {
   "cell_type": "code",
   "execution_count": 1,
   "metadata": {},
   "outputs": [],
   "source": [
    "texts = \"\"\"\n",
    "Python is a versatile and powerful programming language known for its simplicity and readability,\n",
    "making it a favorite among beginners and experienced developers alike. \n",
    "reated by Guido van Rossum and first released in 1991, Python emphasizes code clarity and \n",
    "concise syntax, allowing programmers to express concepts with fewer lines of code. \n",
    "It is a high-level, interpreted language with a vast standard library and an active \n",
    "ecosystem of third-party packages, making it ideal for diverse applications such as \n",
    "web development, data analysis, artificial intelligence, scientific computing, automation, \n",
    "and more. Python's compatibility with various platforms, strong community support, \n",
    "and its role in emerging technologies like machine learning and data science \n",
    "have solidified its position as one of the most popular and widely used programming languages \n",
    "in the world.\n",
    "\"\"\""
   ]
  },
  {
   "cell_type": "code",
   "execution_count": null,
   "metadata": {},
   "outputs": [
    {
     "name": "stdout",
     "output_type": "stream",
     "text": [
      "126\n",
      "['Python', 'is', 'a', 'versatile', 'and', 'powerful', 'programming', 'language', 'known', 'for', 'its', 'simplicity', 'and', 'readability,', 'making', 'it', 'a', 'favorite', 'among', 'beginners', 'and', 'experienced', 'developers', 'alike.', 'reated', 'by', 'Guido', 'van', 'Rossum', 'and', 'first', 'released', 'in', '1991,', 'Python', 'emphasizes', 'code', 'clarity', 'and', 'concise', 'syntax,', 'allowing', 'programmers', 'to', 'express', 'concepts', 'with', 'fewer', 'lines', 'of', 'code.', 'It', 'is', 'a', 'high-level,', 'interpreted', 'language', 'with', 'a', 'vast', 'standard', 'library', 'and', 'an', 'active', 'ecosystem', 'of', 'third-party', 'packages,', 'making', 'it', 'ideal', 'for', 'diverse', 'applications', 'such', 'as', 'web', 'development,', 'data', 'analysis,', 'artificial', 'intelligence,', 'scientific', 'computing,', 'automation,', 'and', 'more.', \"Python's\", 'compatibility', 'with', 'various', 'platforms,', 'strong', 'community', 'support,', 'and', 'its', 'role', 'in', 'emerging', 'technologies', 'like', 'machine', 'learning', 'and', 'data', 'science', 'have', 'solidified', 'its', 'position', 'as', 'one', 'of', 'the', 'most', 'popular', 'and', 'widely', 'used', 'programming', 'languages', 'in', 'the', 'world.']\n"
     ]
    }
   ],
   "source": [
    "# List of all words in texts\n",
    "text = texts.split()\n",
    "\n",
    "print(len(text))\n",
    "print(text)"
   ]
  },
  {
   "cell_type": "code",
   "execution_count": 25,
   "metadata": {},
   "outputs": [
    {
     "name": "stdout",
     "output_type": "stream",
     "text": [
      "Counter({'and': 10, 'a': 4, 'in': 3, 'its': 3, 'of': 3, 'with': 3, 'Python': 2, 'as': 2, 'data': 2, 'for': 2, 'is': 2, 'it': 2, 'language': 2, 'making': 2, 'programming': 2, 'the': 2, '1991,': 1, 'Guido': 1, 'It': 1, \"Python's\": 1, 'Rossum': 1, 'active': 1, 'alike.': 1, 'allowing': 1, 'among': 1, 'an': 1, 'analysis,': 1, 'applications': 1, 'artificial': 1, 'automation,': 1, 'beginners': 1, 'by': 1, 'clarity': 1, 'code': 1, 'code.': 1, 'community': 1, 'compatibility': 1, 'computing,': 1, 'concepts': 1, 'concise': 1, 'developers': 1, 'development,': 1, 'diverse': 1, 'ecosystem': 1, 'emerging': 1, 'emphasizes': 1, 'experienced': 1, 'express': 1, 'favorite': 1, 'fewer': 1, 'first': 1, 'have': 1, 'high-level,': 1, 'ideal': 1, 'intelligence,': 1, 'interpreted': 1, 'known': 1, 'languages': 1, 'learning': 1, 'library': 1, 'like': 1, 'lines': 1, 'machine': 1, 'more.': 1, 'most': 1, 'one': 1, 'packages,': 1, 'platforms,': 1, 'popular': 1, 'position': 1, 'powerful': 1, 'programmers': 1, 'readability,': 1, 'reated': 1, 'released': 1, 'role': 1, 'science': 1, 'scientific': 1, 'simplicity': 1, 'solidified': 1, 'standard': 1, 'strong': 1, 'such': 1, 'support,': 1, 'syntax,': 1, 'technologies': 1, 'third-party': 1, 'to': 1, 'used': 1, 'van': 1, 'various': 1, 'vast': 1, 'versatile': 1, 'web': 1, 'widely': 1, 'world.': 1})\n",
      "126\n"
     ]
    }
   ],
   "source": [
    "# Dictionary that maps each unique word to the number of times it appears in the text\n",
    "from collections import Counter\n",
    "\n",
    "unique_word = Counter(text)\n",
    "print(unique_word)\n",
    "print(sum(unique_word.values()))"
   ]
  },
  {
   "cell_type": "code",
   "execution_count": 15,
   "metadata": {},
   "outputs": [
    {
     "name": "stdout",
     "output_type": "stream",
     "text": [
      "96\n",
      "{'one', 'simplicity', 'technologies', 'in', 'support,', 'making', 'with', 'widely', 'its', 'Guido', 'world.', 'for', 'such', 'compatibility', 'by', 'Rossum', 'high-level,', 'most', '1991,', 'data', 'languages', 'various', 'as', 'first', 'of', 'beginners', 'It', 'versatile', 'more.', 'packages,', 'science', 'released', 'diverse', 'clarity', 'library', 'scientific', 'learning', 'web', 'known', 'Python', 'reated', 'vast', 'development,', 'community', 'and', 'alike.', 'applications', 'lines', 'active', 'fewer', 'to', 'language', 'machine', 'concise', 'artificial', 'analysis,', 'used', 'popular', 'computing,', 'strong', 'have', 'solidified', 'among', 'position', 'it', 'intelligence,', 'emphasizes', 'platforms,', 'powerful', 'express', \"Python's\", 'programmers', 'favorite', 'code.', 'ecosystem', 'third-party', 'readability,', 'code', 'experienced', 'developers', 'concepts', 'an', 'van', 'like', 'emerging', 'automation,', 'programming', 'interpreted', 'a', 'ideal', 'syntax,', 'the', 'allowing', 'standard', 'role', 'is'}\n"
     ]
    }
   ],
   "source": [
    "# Set of all unique words in the text\n",
    "text.sort()\n",
    "unique_text = set(text)\n",
    "\n",
    "print(len(unique_text))\n",
    "print(unique_text)"
   ]
  },
  {
   "cell_type": "code",
   "execution_count": 57,
   "metadata": {},
   "outputs": [
    {
     "name": "stdout",
     "output_type": "stream",
     "text": [
      "0. and\t10\n",
      "1. a\t4\n",
      "2. in\t3\n",
      "3. its\t3\n",
      "4. of\t3\n"
     ]
    }
   ],
   "source": [
    "x = sorted(unique_word.items(), key=lambda item: item[1], reverse=True)\n",
    "\n",
    "for idx, (key, value) in enumerate(x[:5]):\n",
    "    print(f\"{idx}. {key}\\t{value}\")"
   ]
  }
 ],
 "metadata": {
  "kernelspec": {
   "display_name": "Python 3",
   "language": "python",
   "name": "python3"
  },
  "language_info": {
   "codemirror_mode": {
    "name": "ipython",
    "version": 3
   },
   "file_extension": ".py",
   "mimetype": "text/x-python",
   "name": "python",
   "nbconvert_exporter": "python",
   "pygments_lexer": "ipython3",
   "version": "3.12.1"
  }
 },
 "nbformat": 4,
 "nbformat_minor": 2
}

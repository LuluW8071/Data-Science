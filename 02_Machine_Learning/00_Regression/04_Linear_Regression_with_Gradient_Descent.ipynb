{
 "cells": [
  {
   "cell_type": "markdown",
   "metadata": {},
   "source": [
    "# Gradient Descent with Linear Regresssion\n",
    "\n",
    "The multiple linear regression can be represented in matrix form as:\n",
    "\n",
    "\n",
    "$$\n",
    "\\begin{bmatrix}\n",
    "y_1 \\\\ \n",
    "y_2 \\\\\n",
    "\\vdots \\\\\n",
    "y_n\n",
    "\\end{bmatrix} =   \\begin{bmatrix}\n",
    "  1 & x_{11} & \\cdots & x_{1d} \\\\\n",
    "  1 & x_{21} & \\cdots & x_{2d} \\\\\n",
    "  \\vdots  & \\vdots  & \\ddots & \\vdots  \\\\\n",
    "  1 & x_{n1} & \\cdots & x_{nd}\n",
    " \\end{bmatrix}\\begin{bmatrix}\n",
    "\\beta_0 \\\\ \n",
    "\\beta_1 \\\\\n",
    "\\vdots \\\\\n",
    "\\beta_d\n",
    "\\end{bmatrix}\n",
    "$$\n",
    "\n",
    "For 3 sample features,\n",
    " \n",
    "$$\\hat{y_i} = β_0x_{i0} + β_1x_{i1} + β_2x_{i2} + β_3x_{i3}$$\n",
    "\n",
    "\n",
    "Where,\n",
    "where for all i = 1 to n, $x_{i0}$ = 1\n"
   ]
  },
  {
   "cell_type": "markdown",
   "metadata": {},
   "source": [
    "## Random Initialization of $\\beta$\n",
    "\n",
    "The values of parameters are randomly initialized for $\\beta$\n",
    "$$\\therefore \\beta = \\begin{bmatrix}\n",
    "\\beta_0 \\\\ \n",
    "\\beta_1 \\\\\n",
    "\\beta_2 \\\\\n",
    "\\beta_3\n",
    "\\end{bmatrix}$$"
   ]
  },
  {
   "cell_type": "markdown",
   "metadata": {},
   "source": [
    "## Cost Function\n",
    "\n",
    "The cost function $J(.)$ is sum of squared erros multiplied by $1/2$ to make derivation easier. The $1/2$ multiplication only changes cost function value not optimal parameters.\n",
    "\n",
    "$$\n",
    "\\begin{align*}\n",
    "J(\\beta_0, \\beta_1, \\beta_2, \\beta_3) &= \\frac{1}{2}\\sum_{i=1}^{n}(\\hat{y_{i}}-{y_{i}})^2 \\\\\n",
    "&= \\frac{1}{2}\\sum_{i=1}^{n}((\\beta_0x_{i0}+\\beta_1x_{i1} +\\beta_2x_{i2} + \\beta_3x_{i3})-y_{i})^2\n",
    "\\end{align*}\n",
    "$$\n",
    "\n",
    "Can also be written in matriox form as:\n",
    "\n",
    "$$J(\\boldsymbol{\\beta}) = \\frac{1}{2}\\ \\sum(\\mathbf{X}\\boldsymbol{\\beta} - \\mathbf{y})^2$$"
   ]
  },
  {
   "cell_type": "markdown",
   "metadata": {},
   "source": [
    "## Gradient Calculation\n",
    "\n",
    "By performing Partial derivative(gradient) of the cost function with respect to $β0$,$β1$,$β2$,$β3$. We get,\n",
    "\n",
    "$$\n",
    "\\begin{align*}\n",
    "\\therefore \\frac{\\partial J}{\\partial \\beta_0}&=\\sum_{i=1}^{n}(\\hat{y_i} - {y_i}) \\\\\n",
    "\\therefore \\frac{\\partial J}{\\partial \\beta_1}&=\\sum_{i=1}^{n}(\\hat{y_i} - {y_i})x_{i1} \\\\\n",
    "\\therefore \\frac{\\partial J}{\\partial \\beta_2}&=\\sum_{i=1}^{n}(\\hat{y_i} - {y_i})x_{i2} \\\\\n",
    "\\therefore \\frac{\\partial J}{\\partial \\beta_3}&=\\sum_{i=1}^{n}(\\hat{y_i} - {y_i})x_{i3} \\\\\n",
    "\\end{align*}\n",
    "$$\n",
    "\n",
    "Hence, \n",
    "$$\n",
    "\\begin{align*}\n",
    "\\therefore \\frac{\\partial J}{\\partial \\beta_j}&=\\sum_{i=1}^{n}(\\hat{y_i} - {y_i})x_{ij} \\\\\n",
    "\\end{align*}\n",
    "$$\n",
    "\n",
    "The generalized expression in matrix form to calculate gradients w.r.t . all parameters simulataneously is,\n",
    "$$\n",
    "\\begin{align*}\n",
    "\\therefore \\frac{\\boldsymbol{\\partial J}}{\\boldsymbol{\\partial \\beta}}= \\mathbf{X^T}(\\mathbf{\\hat{y}-y}) = \\mathbf{X^T}(\\mathbf{X\\beta-y}) = \\begin{bmatrix}\n",
    "\\frac{\\partial J}{\\partial \\beta_0} \\\\ \n",
    "\\frac{\\partial J}{\\partial \\beta_1} \\\\\n",
    "\\frac{\\partial J}{\\partial \\beta_2} \\\\\n",
    "\\frac{\\partial J}{\\partial \\beta_3} \n",
    "\\end{bmatrix}\n",
    "\\end{align*}\n",
    "$$\n",
    "\n",
    ">Note: $X^T$ is done in order to match the dimension order of $\\beta$.\n",
    "\n",
    "## Gradient Descent\n",
    "\n",
    "Update the parameters repeatedly using their respective gradient until cost function converges to its minimum value.\n",
    "\n",
    "$$\n",
    "\\begin{align*}\n",
    "\\beta_0 :=\\beta_0-\\alpha\\frac{\\partial J}{\\partial \\beta_0} \\\\\n",
    "\\beta_1 :=\\beta_1-\\alpha\\frac{\\partial J}{\\partial \\beta_1} \\\\\n",
    "\\beta_2 :=\\beta_2-\\alpha\\frac{\\partial J}{\\partial \\beta_2} \\\\\n",
    "\\beta_3 :=\\beta_3-\\alpha\\frac{\\partial J}{\\partial \\beta_3} \\\\\n",
    "\\end{align*}\n",
    "$$\n",
    "\n",
    "Hence, \n",
    "$$\n",
    "\\begin{align*}\n",
    "\\beta :=\\beta-\\alpha\\frac{\\partial J}{\\partial \\beta}\\\\\n",
    "\\end{align*}\n",
    "$$\n",
    "\n"
   ]
  },
  {
   "cell_type": "markdown",
   "metadata": {},
   "source": [
    "## Exercise: Linear Regression with Gradient Descent\n",
    "\n",
    "Implementing Linear Regression with Gradient Descent on a [advertising dataset](https://www.statlearning.com/s/Advertising.csv) where _TV_, _radio_ and _newspaper_ are adevertising mediums (input variables) and _sales_ is output variable. "
   ]
  },
  {
   "cell_type": "code",
   "execution_count": 1,
   "metadata": {},
   "outputs": [],
   "source": [
    "# Import Libraries\n",
    "import pandas as pd \n",
    "import numpy as np \n",
    "import matplotlib.pyplot as plt"
   ]
  },
  {
   "cell_type": "code",
   "execution_count": 2,
   "metadata": {},
   "outputs": [
    {
     "data": {
      "text/html": [
       "<div>\n",
       "<style scoped>\n",
       "    .dataframe tbody tr th:only-of-type {\n",
       "        vertical-align: middle;\n",
       "    }\n",
       "\n",
       "    .dataframe tbody tr th {\n",
       "        vertical-align: top;\n",
       "    }\n",
       "\n",
       "    .dataframe thead th {\n",
       "        text-align: right;\n",
       "    }\n",
       "</style>\n",
       "<table border=\"1\" class=\"dataframe\">\n",
       "  <thead>\n",
       "    <tr style=\"text-align: right;\">\n",
       "      <th></th>\n",
       "      <th>TV</th>\n",
       "      <th>radio</th>\n",
       "      <th>newspaper</th>\n",
       "      <th>sales</th>\n",
       "    </tr>\n",
       "  </thead>\n",
       "  <tbody>\n",
       "    <tr>\n",
       "      <th>1</th>\n",
       "      <td>230.1</td>\n",
       "      <td>37.8</td>\n",
       "      <td>69.2</td>\n",
       "      <td>22.1</td>\n",
       "    </tr>\n",
       "    <tr>\n",
       "      <th>2</th>\n",
       "      <td>44.5</td>\n",
       "      <td>39.3</td>\n",
       "      <td>45.1</td>\n",
       "      <td>10.4</td>\n",
       "    </tr>\n",
       "    <tr>\n",
       "      <th>3</th>\n",
       "      <td>17.2</td>\n",
       "      <td>45.9</td>\n",
       "      <td>69.3</td>\n",
       "      <td>9.3</td>\n",
       "    </tr>\n",
       "    <tr>\n",
       "      <th>4</th>\n",
       "      <td>151.5</td>\n",
       "      <td>41.3</td>\n",
       "      <td>58.5</td>\n",
       "      <td>18.5</td>\n",
       "    </tr>\n",
       "    <tr>\n",
       "      <th>5</th>\n",
       "      <td>180.8</td>\n",
       "      <td>10.8</td>\n",
       "      <td>58.4</td>\n",
       "      <td>12.9</td>\n",
       "    </tr>\n",
       "  </tbody>\n",
       "</table>\n",
       "</div>"
      ],
      "text/plain": [
       "      TV  radio  newspaper  sales\n",
       "1  230.1   37.8       69.2   22.1\n",
       "2   44.5   39.3       45.1   10.4\n",
       "3   17.2   45.9       69.3    9.3\n",
       "4  151.5   41.3       58.5   18.5\n",
       "5  180.8   10.8       58.4   12.9"
      ]
     },
     "execution_count": 2,
     "metadata": {},
     "output_type": "execute_result"
    }
   ],
   "source": [
    "# Import dataset\n",
    "path = \"https://www.statlearning.com/s/Advertising.csv\" \n",
    "\n",
    "# Read the CSV data from the link\n",
    "df = pd.read_csv(path, index_col=0)\n",
    "df.head()"
   ]
  },
  {
   "cell_type": "code",
   "execution_count": 3,
   "metadata": {},
   "outputs": [],
   "source": [
    "def features(df, feature):  \n",
    "    # Feature matrix\n",
    "    X = df[feature].values\n",
    "\n",
    "    # Adding the column of ones in X\n",
    "    X = np.c_[np.ones((X.shape[0], 1)), X]\n",
    "    # print(X)\n",
    "\n",
    "    # Outputs\n",
    "    y = df['sales'].values.reshape(-1, 1)\n",
    "\n",
    "    n = X.shape[0] # number of rows\n",
    "    d = X.shape[1] # number of columns\n",
    "    return X, y, d\n",
    "\n",
    "feature = ['TV', 'radio', 'newspaper']\n",
    "X, y, d = features(df, feature)"
   ]
  },
  {
   "cell_type": "code",
   "execution_count": 4,
   "metadata": {},
   "outputs": [
    {
     "data": {
      "text/plain": [
       "array([[1.76405235],\n",
       "       [0.40015721],\n",
       "       [0.97873798],\n",
       "       [2.2408932 ]])"
      ]
     },
     "execution_count": 4,
     "metadata": {},
     "output_type": "execute_result"
    }
   ],
   "source": [
    "# Random initialization of beta\n",
    "def beta_init():\n",
    "    np.random.seed(0)\n",
    "    betas = np.random.randn(d, 1)\n",
    "    return betas\n",
    "\n",
    "betas = beta_init()\n",
    "betas"
   ]
  },
  {
   "cell_type": "code",
   "execution_count": 5,
   "metadata": {},
   "outputs": [
    {
     "data": {
      "text/plain": [
       "2303714.226243876"
      ]
     },
     "execution_count": 5,
     "metadata": {},
     "output_type": "execute_result"
    }
   ],
   "source": [
    "# Cost Function\n",
    "def calculate_cost(betas):\n",
    "    return (1/2 * np.sum(np.square(np.dot(X, betas) - y)))\n",
    "\n",
    "calculate_cost(betas)"
   ]
  },
  {
   "cell_type": "code",
   "execution_count": 6,
   "metadata": {},
   "outputs": [
    {
     "data": {
      "text/plain": [
       "array([[  27563.85598559],\n",
       "       [4631129.37253468],\n",
       "       [ 731917.2683292 ],\n",
       "       [1079270.65268036]])"
      ]
     },
     "execution_count": 6,
     "metadata": {},
     "output_type": "execute_result"
    }
   ],
   "source": [
    "# Calculating gradients of cost function \n",
    "def calculate_gradients(betas):\n",
    "    return np.dot(X.T, (np.dot(X, betas) - y))\n",
    "\n",
    "calculate_gradients(betas)"
   ]
  },
  {
   "cell_type": "code",
   "execution_count": 7,
   "metadata": {},
   "outputs": [],
   "source": [
    "# Calculate gradient descent\n",
    "def gradient_descent(X, y, alpha=3e-3, max_iter=10000, precision=1e-3, print_iter=100):\n",
    "    iteration, diff = 0, 1\n",
    "    betas = beta_init() \n",
    "    cost = calculate_cost(betas)    # Initial cost parameter\n",
    "    costs = [calculate_cost(betas)] # list containing the history of costs for different iterations\n",
    "\n",
    "    while diff > precision and iteration <= max_iter:\n",
    "        # Update value of parameters\n",
    "        betas = betas - alpha * calculate_gradients(betas)\n",
    "\n",
    "        # Cost for the new parameter\n",
    "        cost = calculate_cost(betas)\n",
    "\n",
    "        # Difference between updated and old cost\n",
    "        diff = np.abs(costs[iteration] - cost) \n",
    "        costs.append(cost)\n",
    "        \n",
    "        if iteration % print_iter == 0:\n",
    "            print(\"iteration: {}, cost: {}\".format(iteration, cost))\n",
    "        iteration += 1\n",
    "        \n",
    "        if(cost == np.infty):\n",
    "            print(\"Cost reached infinity, try smaller learning rate\")\n",
    "            break\n",
    "        \n",
    "    return betas, iteration, costs"
   ]
  },
  {
   "cell_type": "code",
   "execution_count": 8,
   "metadata": {},
   "outputs": [
    {
     "name": "stdout",
     "output_type": "stream",
     "text": [
      "iteration: 0, cost: 624562462609042.5\n",
      "iteration: 10, cost: 8.723452830258346e+99\n",
      "iteration: 20, cost: 1.2186033041567329e+185\n",
      "iteration: 30, cost: 1.7023007309110772e+270\n",
      "Cost reached infinity, try smaller learning rate\n"
     ]
    },
    {
     "name": "stderr",
     "output_type": "stream",
     "text": [
      "/tmp/ipykernel_40801/94842492.py:3: RuntimeWarning: overflow encountered in square\n",
      "  return (1/2 * np.sum(np.square(np.dot(X, betas) - y)))\n"
     ]
    }
   ],
   "source": [
    "# For learning rate = 3e-3 \n",
    "betas, steps, costs = gradient_descent(X, y, print_iter=10)"
   ]
  },
  {
   "cell_type": "code",
   "execution_count": 9,
   "metadata": {},
   "outputs": [
    {
     "name": "stdout",
     "output_type": "stream",
     "text": [
      "iteration: 0, cost: 1605439.1704912463\n",
      "iteration: 100, cost: 643.2722105591894\n",
      "iteration: 200, cost: 332.31063352987167\n",
      "iteration: 300, cost: 302.63386918736694\n",
      "iteration: 400, cost: 299.5741872450544\n",
      "iteration: 500, cost: 299.22938542369536\n"
     ]
    }
   ],
   "source": [
    "# For smaller learning rate\n",
    "betas, steps, costs = gradient_descent(X, y, alpha=3e-7)"
   ]
  },
  {
   "cell_type": "code",
   "execution_count": 10,
   "metadata": {},
   "outputs": [
    {
     "data": {
      "image/png": "[encoded data removed]",
      "text/plain": [
       "<Figure size 640x480 with 1 Axes>"
      ]
     },
     "metadata": {},
     "output_type": "display_data"
    }
   ],
   "source": [
    "plt.plot(costs)\n",
    "plt.xlabel(\"No. of iterations\")\n",
    "plt.ylabel(\"Cost\")\n",
    "plt.ylim(0, 2000)\n",
    "plt.show();"
   ]
  },
  {
   "cell_type": "code",
   "execution_count": 11,
   "metadata": {},
   "outputs": [
    {
     "data": {
      "text/html": [
       "<strong>TV, Radio, and Newspaper</strong> <br>\n",
       "y = 1.75 + 0.05x1 + 0.20x2 + 0.01x3 <br>\n",
       "x1 = TV <br>\n",
       "x2 = radio <br>\n",
       "x3 = newspaper\n"
      ],
      "text/plain": [
       "<IPython.core.display.HTML object>"
      ]
     },
     "metadata": {},
     "output_type": "display_data"
    }
   ],
   "source": [
    "from IPython.display import display, HTML\n",
    "\n",
    "message = \"\"\"<strong>TV, Radio, and Newspaper</strong> <br>\n",
    "y = {:.2f} + {:.2f}x1 + {:.2f}x2 + {:.2f}x3 <br>\n",
    "x1 = TV <br>\n",
    "x2 = radio <br>\n",
    "x3 = newspaper\n",
    "\"\"\".format(*betas[0], *betas[1], *betas[2], *betas[3])\n",
    "display(HTML( message ))"
   ]
  },
  {
   "cell_type": "markdown",
   "metadata": {},
   "source": [
    "The coefficient for Newspaper (β₃) is 0.01, indicating that Newspaper advertising does not have a significant impact on sales when considered alongside TV and Radio. So, including Newspaper in the model does not improve its predictive power.\n",
    "\n",
    "Excluding Newspaper from the model and focus on optimizing TV and Radio advertising for better sales predictions."
   ]
  },
  {
   "cell_type": "code",
   "execution_count": 12,
   "metadata": {},
   "outputs": [
    {
     "name": "stdout",
     "output_type": "stream",
     "text": [
      "iteration: 0, cost: 350725.5891178502\n",
      "iteration: 100, cost: 591.0561668804862\n",
      "iteration: 200, cost: 305.7122918041548\n",
      "iteration: 300, cost: 300.75101319156795\n"
     ]
    }
   ],
   "source": [
    "# For smaller learning rate but for TV and Radio only\n",
    "feature = ['TV', 'radio']\n",
    "X, y, d = features(df, feature)\n",
    "\n",
    "betas, steps, costs = gradient_descent(X, y, alpha=3e-7)"
   ]
  },
  {
   "cell_type": "code",
   "execution_count": 13,
   "metadata": {},
   "outputs": [
    {
     "data": {
      "image/png": "[encoded data removed]",
      "text/plain": [
       "<Figure size 640x480 with 1 Axes>"
      ]
     },
     "metadata": {},
     "output_type": "display_data"
    }
   ],
   "source": [
    "plt.plot(costs)\n",
    "plt.xlabel(\"No. of iterations\")\n",
    "plt.ylabel(\"Cost\")\n",
    "plt.ylim(0, 2000)\n",
    "plt.show();"
   ]
  },
  {
   "cell_type": "code",
   "execution_count": 14,
   "metadata": {},
   "outputs": [
    {
     "data": {
      "text/html": [
       "<strong>TV and Radio</strong> <br>\n",
       "y = 1.75 + 0.05x1 + 0.21x2 <br>\n",
       "x1 = TV <br>\n",
       "x2 = radio <br>\n"
      ],
      "text/plain": [
       "<IPython.core.display.HTML object>"
      ]
     },
     "metadata": {},
     "output_type": "display_data"
    }
   ],
   "source": [
    "message = \"\"\"<strong>TV and Radio</strong> <br>\n",
    "y = {:.2f} + {:.2f}x1 + {:.2f}x2 <br>\n",
    "x1 = TV <br>\n",
    "x2 = radio <br>\n",
    "\"\"\".format(*betas[0], *betas[1], *betas[2])\n",
    "display(HTML( message ))"
   ]
  },
  {
   "cell_type": "markdown",
   "metadata": {},
   "source": [
    "### Comparision between OLS and Gradient Descent\n",
    "\n",
    "| Feature | Ordinary Least Squares (OLS) | Gradient Descent |\n",
    "|---------|-------------------------------|------------------|\n",
    "| Approach | Direct method to find optimal parameters | Iterative method to find optimal parameters |\n",
    "| Hyperparameters | No hyperparameters needed | Requires choosing a learning rate and the number of iterations |\n",
    "| Constraints | Requires the number of samples $n$ to be greater than the number of features $d$; also requires $(X^TX)^{-1}$ to exist | No such constraints |\n",
    "| Solution Accuracy | Always gives the exact solution if constraints are met | Solution depends on the learning rate and number of iterations; may not always be exact |\n",
    "| Time Complexity | \\( $O(d^3)$ \\) | \\( $O(kd^2)$ \\) where $k$ is the number of iterations |\n",
    "| Suitability | Suitable for small to moderate feature sets where $d$ is not very large | Suitable for large feature sets (exceeding 10,000 features) |\n"
   ]
  }
 ],
 "metadata": {
  "kernelspec": {
   "display_name": "Python 3",
   "language": "python",
   "name": "python3"
  },
  "language_info": {
   "codemirror_mode": {
    "name": "ipython",
    "version": 3
   },
   "file_extension": ".py",
   "mimetype": "text/x-python",
   "name": "python",
   "nbconvert_exporter": "python",
   "pygments_lexer": "ipython3",
   "version": "3.10.13"
  }
 },
 "nbformat": 4,
 "nbformat_minor": 2
}

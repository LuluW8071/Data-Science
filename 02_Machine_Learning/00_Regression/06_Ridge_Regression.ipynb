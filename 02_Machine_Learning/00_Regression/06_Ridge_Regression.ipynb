{
 "cells": [
  {
   "cell_type": "markdown",
   "metadata": {},
   "source": [
    "# Ridge Regularisation\n",
    "\n",
    "Recalling the observed output value of multiple linear regression method with some residual error which is given by,\n",
    "\n",
    "$$\n",
    "y  = \\beta_{0} + \\beta_{1}x_{1} + \\beta_{2}x_{2} + \\cdots + \\beta_{d}x_{d} +\\epsilon\n",
    "$$\n",
    "\n",
    "Now we know that OLS estimates the parameter by minimizing the SSE to find a column matrix $\\beta$ such that\n",
    "$$\n",
    "SSE = \\sum_{i=1}^{n} (y_i-\\hat{y_i})^2 = \\sum_{i=1}^{n}\\epsilon_i^2= \\epsilon^T\\epsilon \\\\ \n",
    "= (\\mathbf{y} - \\mathbf{X}\\boldsymbol{\\beta})^T(\\mathbf{y} - \\mathbf{X}\\boldsymbol{\\beta})\n",
    "$$\n",
    "\n",
    "And differentiating above eqn w.r.t. $\\beta$. We get,\n",
    "\n",
    "$$\n",
    "\\hat{\\boldsymbol{\\beta}} =(\\mathbf{X}^T\\mathbf{X})^{-1} \\mathbf{X}^T\\mathbf{y}\n",
    "$$\n",
    "\n"
   ]
  },
  {
   "cell_type": "markdown",
   "metadata": {},
   "source": [
    "Above method introduced overfitting of model. So, concept of Regularisation arose.\n",
    "\n",
    "$$\n",
    "\\text{New optimization function} = \\text{Error} + \\underbrace{\\lambda*\\text{Model complexity}}_{\\text{Regularization/Penalty}}\n",
    "$$\n",
    "\n",
    "It is a technique that penalizes the polynomial model which uses higher degree of $n$ and prevents risks of overfitting.\n"
   ]
  },
  {
   "cell_type": "markdown",
   "metadata": {},
   "source": [
    "# Ridge Regression(L2 Regression)\n",
    "\n",
    "The objective of **Ridge Regression** is to find the column matrix/vector $\\beta$ that minimized SSE and penalty eqvt, to SSE coefficient, which is written as:\n",
    "\n",
    "$$\n",
    "\\text{Cost}_{Ridge}=\\text{RSS} + \\lambda \\sum_{j=1}^{d} \\boldsymbol{\\beta_j^2} = \\sum_{i=1}^{n} (y_i-\\hat{y_i})^2 + \\lambda \\sum_{j=1}^{d} \\boldsymbol{\\beta_j^2} \\\\\n",
    "= \\sum_{i=1}^{n}\\epsilon_i^2 + \\lambda \\sum_{j=1}^{d}\\boldsymbol{\\beta_j^2}\n",
    "$$\n",
    "\n",
    "Where,\n",
    "- $\\lambda $: Tuning parameter\n",
    "\n",
    "- $\\lambda \\sum_{j=1}^{d}\\boldsymbol{\\beta_j^2}$: Shrinkage Penalty\n",
    "\n",
    ">**Note:**\n",
    ">- $j=0$ is absent for summation. This is because to exclude bias $\\beta_0$ in penalty term as model might assign high value to bias in order to compensate the cost and remove risk of overfitting.\n",
    ">- When, $\\beta_1$, $\\beta_2$, ..., $\\beta_d$ are close to zero ($0$), the shrinkage penalty be comes small.\n",
    ">- When, $\\lambda = 0$, ridge regression acts like OLS\n",
    ">- When, ${\\lambda \\rightarrow \\infty}$, shrinkage penalty grows and the model becomes highly penalized posing risk of overfitting and unable to generalize unseen data.\n",
    "\n",
    "As, a result it is necessary find the optimal value of $\\lambda$ that can generalize unseen data as well.\n",
    "\n",
    "$$\n",
    "\\text{Cost}_{Ridge} = \\sum_{i=1}^{n}\\epsilon_i^2 + \\lambda \\sum_{j=1}^{d}\\boldsymbol{\\beta_j^2}= \\epsilon^T\\epsilon + \\lambda \\boldsymbol{\\beta^T}\\boldsymbol{\\beta} \\\\\n",
    "= (\\mathbf{y} - \\mathbf{X}\\boldsymbol{\\beta})^T(\\mathbf{y} - \\mathbf{X}\\boldsymbol{\\beta})+ \\lambda \\boldsymbol{\\beta^T}\\boldsymbol{\\beta}\n",
    "$$\n",
    "\n",
    "After performing partial derivative w.r.t. $\\beta$ and equaling to $0$. We get,\n",
    "\n",
    "$$\n",
    "2\\mathbf{X}^T\\mathbf{X}\\boldsymbol{\\beta}- 2\\mathbf{X}^T\\mathbf{y} + 2\\lambda \\boldsymbol{\\beta} = 0 \\\\\n",
    "\\therefore \\mathbf{X}^T\\mathbf{X}\\boldsymbol{\\beta} + \\lambda \\boldsymbol{\\beta} = \\mathbf{X}^T\\mathbf{y}\n",
    "$$\n",
    "\n",
    "By dividing on both sides by $(\\mathbf{X}^T\\mathbf{X}+\\lambda I)$ we should get,\n",
    "\n",
    "$$\n",
    "\\therefore \\boldsymbol{\\beta_{Ridge}}=\\hat{\\boldsymbol{\\beta}} =(\\mathbf{X}^T\\mathbf{X}+\\lambda I)^{-1} \\mathbf{X}^T\\mathbf{y}\n",
    "$$\n",
    "\n",
    "Here, $\\lambda I$ term is known as **ridge**.\n"
   ]
  },
  {
   "cell_type": "markdown",
   "metadata": {},
   "source": [
    "### Geometrical Interpretation of Ridge Regression\n",
    "\n",
    "<img src=\"../../assets/Ridge_Regression.png\">\n",
    "\n",
    "Ridge Regression places some constraint on the parameters, $\\beta's$. Thus formed $\\beta_{Ridge}$ minimizes the penalized residual sum of squares. With $n$ number of samples and $d$ number of features, the ridge regression loss function is as follows:\n",
    "\n",
    "$$\n",
    "\\sum_{i=1}^{n}(y_i−\\hat{y_i})^2 + \\lambda \\sum_{j=1}^{d} \\beta_j^2 = \\sum_{i=1}^{n}(y_i−\\sum_{j=0}^{d} x_{ij} \\beta_j)^2 + \\lambda \\sum_{j=1}^{d} \\beta_j^2\n",
    "$$\n",
    "\n",
    "We are constraining the parameters such that the optimization function gets penalized if $\\beta's$ take large values. This is equivalent to minimizing the $\\sum_{i=1}^{n}(y_i−\\sum_{j=0}^{d} x_{ij} \\beta_j)^2$ term subject to $\\sum_{j=1}^{d} \\beta_j^2 \\leq c$ for some constant $c > 0$.\n",
    "\n",
    "It can also be viewed as a minimization problem with argmin or \"Argument of Minimum\":\n",
    "\n",
    "$$\n",
    "\\arg\\min_{\\beta \\in \\mathbb{R}} \\sum [y_i−\\hat{y_i}] = \\arg\\min_{\\beta \\in \\mathbb{R}} \\sum [y_i−(\\beta_{i0}+\\beta_1 x_{i1}+\\beta_2 x_{i2} + \\cdots + \\beta_d x_{id})]\n",
    "$$\n",
    "\n",
    "argmin finds the coefficients that minimize the RSS. The ridge constraint is L2 vector norm and its equation is:\n",
    "\n",
    "$$\n",
    "\\|\\beta \\|_2^2 = \\sqrt{\\beta_0^2 + \\beta_1^2 + \\beta_2^2 + \\cdots + \\beta_d^2}\n",
    "$$\n",
    "\n",
    "The ridge loss function with argmin and vector norm is as shown below. Notice that the first term of the equation is the OLS loss function and the second term is the ridge penalty:\n",
    "\n",
    "$$\n",
    "\\beta_{ridge} = \\arg\\min_{\\beta \\in \\mathbb{R}} \\| y−X \\beta \\|_2^2 + \\lambda \\| \\beta \\|_2^2\n",
    "$$\n",
    "\n",
    "Ridge Regression is also called **L2 Regularization** as it uses L2 penalty, i.e., the square of the L2 norm of the parameter estimates. The L2 norm is convex and its derivative can be obtained at each point of the curve. The concept of the L2 norm is used in its geometrical visualization in forming the L2 norm circle. As discussed above, the objective function of ridge regression is $(\\mathbf{y} - \\mathbf{X}\\boldsymbol{\\beta})^T(\\mathbf{y} - \\mathbf{X}\\boldsymbol{\\beta})+ \\lambda \\boldsymbol{\\beta^T}\\boldsymbol{\\beta}$ and it is a convex optimization problem."
   ]
  },
  {
   "cell_type": "markdown",
   "metadata": {},
   "source": [
    "## Excercise: Ridge Regression\n",
    "\n",
    "For implementation of closed form Ridge Regression Equation using the [Boston House Prices Dataset](https://scikit-learn.org/stable/modules/generated/sklearn.datasets.load_boston.html).\n",
    "\n",
    "It is one of the datasets provided by sklearn. It has _506_ instances with _13_ **numericals/categorical features** of the Boston city. The _medv_ variable is the **target variable**. It is the median value of owner-occupied homes per $1000.\n",
    "\n",
    "### Ridge Regression in Closed Form Equation"
   ]
  },
  {
   "cell_type": "code",
   "execution_count": 56,
   "metadata": {},
   "outputs": [],
   "source": [
    "# Import necessary libraries\n",
    "import pandas as pd \n",
    "import numpy as np\n",
    "import matplotlib.pyplot as plt\n",
    "from IPython.display import display, HTML"
   ]
  },
  {
   "cell_type": "code",
   "execution_count": 59,
   "metadata": {},
   "outputs": [
    {
     "data": {
      "text/html": [
       "<div>\n",
       "<style scoped>\n",
       "    .dataframe tbody tr th:only-of-type {\n",
       "        vertical-align: middle;\n",
       "    }\n",
       "\n",
       "    .dataframe tbody tr th {\n",
       "        vertical-align: top;\n",
       "    }\n",
       "\n",
       "    .dataframe thead th {\n",
       "        text-align: right;\n",
       "    }\n",
       "</style>\n",
       "<table border=\"1\" class=\"dataframe\">\n",
       "  <thead>\n",
       "    <tr style=\"text-align: right;\">\n",
       "      <th></th>\n",
       "      <th>CRIM</th>\n",
       "      <th>ZN</th>\n",
       "      <th>INDUS</th>\n",
       "      <th>CHAS</th>\n",
       "      <th>NOX</th>\n",
       "      <th>RM</th>\n",
       "      <th>AGE</th>\n",
       "      <th>DIS</th>\n",
       "      <th>RAD</th>\n",
       "      <th>TAX</th>\n",
       "      <th>PTRATIO</th>\n",
       "      <th>B</th>\n",
       "      <th>LSTAT</th>\n",
       "      <th>MEDV</th>\n",
       "    </tr>\n",
       "  </thead>\n",
       "  <tbody>\n",
       "    <tr>\n",
       "      <th>0</th>\n",
       "      <td>0.00632</td>\n",
       "      <td>18.0</td>\n",
       "      <td>2.31</td>\n",
       "      <td>0</td>\n",
       "      <td>0.538</td>\n",
       "      <td>6.575</td>\n",
       "      <td>65.2</td>\n",
       "      <td>4.0900</td>\n",
       "      <td>1</td>\n",
       "      <td>296.0</td>\n",
       "      <td>15.3</td>\n",
       "      <td>396.90</td>\n",
       "      <td>4.98</td>\n",
       "      <td>24.0</td>\n",
       "    </tr>\n",
       "    <tr>\n",
       "      <th>1</th>\n",
       "      <td>0.02731</td>\n",
       "      <td>0.0</td>\n",
       "      <td>7.07</td>\n",
       "      <td>0</td>\n",
       "      <td>0.469</td>\n",
       "      <td>6.421</td>\n",
       "      <td>78.9</td>\n",
       "      <td>4.9671</td>\n",
       "      <td>2</td>\n",
       "      <td>242.0</td>\n",
       "      <td>17.8</td>\n",
       "      <td>396.90</td>\n",
       "      <td>9.14</td>\n",
       "      <td>21.6</td>\n",
       "    </tr>\n",
       "    <tr>\n",
       "      <th>2</th>\n",
       "      <td>0.02729</td>\n",
       "      <td>0.0</td>\n",
       "      <td>7.07</td>\n",
       "      <td>0</td>\n",
       "      <td>0.469</td>\n",
       "      <td>7.185</td>\n",
       "      <td>61.1</td>\n",
       "      <td>4.9671</td>\n",
       "      <td>2</td>\n",
       "      <td>242.0</td>\n",
       "      <td>17.8</td>\n",
       "      <td>392.83</td>\n",
       "      <td>4.03</td>\n",
       "      <td>34.7</td>\n",
       "    </tr>\n",
       "    <tr>\n",
       "      <th>3</th>\n",
       "      <td>0.03237</td>\n",
       "      <td>0.0</td>\n",
       "      <td>2.18</td>\n",
       "      <td>0</td>\n",
       "      <td>0.458</td>\n",
       "      <td>6.998</td>\n",
       "      <td>45.8</td>\n",
       "      <td>6.0622</td>\n",
       "      <td>3</td>\n",
       "      <td>222.0</td>\n",
       "      <td>18.7</td>\n",
       "      <td>394.63</td>\n",
       "      <td>2.94</td>\n",
       "      <td>33.4</td>\n",
       "    </tr>\n",
       "    <tr>\n",
       "      <th>4</th>\n",
       "      <td>0.06905</td>\n",
       "      <td>0.0</td>\n",
       "      <td>2.18</td>\n",
       "      <td>0</td>\n",
       "      <td>0.458</td>\n",
       "      <td>7.147</td>\n",
       "      <td>54.2</td>\n",
       "      <td>6.0622</td>\n",
       "      <td>3</td>\n",
       "      <td>222.0</td>\n",
       "      <td>18.7</td>\n",
       "      <td>396.90</td>\n",
       "      <td>5.33</td>\n",
       "      <td>36.2</td>\n",
       "    </tr>\n",
       "  </tbody>\n",
       "</table>\n",
       "</div>"
      ],
      "text/plain": [
       "      CRIM    ZN  INDUS  CHAS    NOX     RM   AGE     DIS  RAD    TAX  \\\n",
       "0  0.00632  18.0   2.31     0  0.538  6.575  65.2  4.0900    1  296.0   \n",
       "1  0.02731   0.0   7.07     0  0.469  6.421  78.9  4.9671    2  242.0   \n",
       "2  0.02729   0.0   7.07     0  0.469  7.185  61.1  4.9671    2  242.0   \n",
       "3  0.03237   0.0   2.18     0  0.458  6.998  45.8  6.0622    3  222.0   \n",
       "4  0.06905   0.0   2.18     0  0.458  7.147  54.2  6.0622    3  222.0   \n",
       "\n",
       "   PTRATIO       B  LSTAT  MEDV  \n",
       "0     15.3  396.90   4.98  24.0  \n",
       "1     17.8  396.90   9.14  21.6  \n",
       "2     17.8  392.83   4.03  34.7  \n",
       "3     18.7  394.63   2.94  33.4  \n",
       "4     18.7  396.90   5.33  36.2  "
      ]
     },
     "execution_count": 59,
     "metadata": {},
     "output_type": "execute_result"
    }
   ],
   "source": [
    "# Load the dataset\n",
    "path = \"../../assets/Datasets/House-Price.csv\"\n",
    "house = pd.read_csv(path)\n",
    "\n",
    "house.head()"
   ]
  },
  {
   "cell_type": "code",
   "execution_count": 60,
   "metadata": {},
   "outputs": [],
   "source": [
    "# Separate feature and target columns\n",
    "X = house.drop(columns=[\"MEDV\"])\n",
    "y = house[\"MEDV\"].values.reshape(-1, 1)"
   ]
  },
  {
   "cell_type": "code",
   "execution_count": 61,
   "metadata": {},
   "outputs": [
    {
     "data": {
      "text/plain": [
       "((506, 13), (506, 1))"
      ]
     },
     "execution_count": 61,
     "metadata": {},
     "output_type": "execute_result"
    }
   ],
   "source": [
    "X.shape, y.shape"
   ]
  },
  {
   "cell_type": "code",
   "execution_count": 62,
   "metadata": {},
   "outputs": [],
   "source": [
    "# Feature Scaling\n",
    "from sklearn.preprocessing import MinMaxScaler\n",
    "\n",
    "scaler = MinMaxScaler()\n",
    "X = scaler.fit_transform(X)\n",
    "\n",
    "# Bias term to 1 for each samples\n",
    "X = np.c_[np.ones((len(X),1)),X]\n",
    "\n",
    "# Implementing closed form equation of Ridge Regression with lambda=0.01\n",
    "lm = 0.01\n",
    "betas = np.linalg.inv(X.T.dot(X) + lm*np.identity(len(X.T.dot(X)))).dot(X. T).dot(y)"
   ]
  },
  {
   "cell_type": "code",
   "execution_count": 63,
   "metadata": {},
   "outputs": [
    {
     "data": {
      "text/plain": [
       "Index(['CRIM', 'ZN', 'INDUS', 'CHAS', 'NOX', 'RM', 'AGE', 'DIS', 'RAD', 'TAX',\n",
       "       'PTRATIO', 'B', 'LSTAT', 'MEDV'],\n",
       "      dtype='object')"
      ]
     },
     "execution_count": 63,
     "metadata": {},
     "output_type": "execute_result"
    }
   ],
   "source": [
    "house.columns"
   ]
  },
  {
   "cell_type": "code",
   "execution_count": 65,
   "metadata": {},
   "outputs": [
    {
     "data": {
      "text/html": [
       "<div>\n",
       "<style scoped>\n",
       "    .dataframe tbody tr th:only-of-type {\n",
       "        vertical-align: middle;\n",
       "    }\n",
       "\n",
       "    .dataframe tbody tr th {\n",
       "        vertical-align: top;\n",
       "    }\n",
       "\n",
       "    .dataframe thead th {\n",
       "        text-align: right;\n",
       "    }\n",
       "</style>\n",
       "<table border=\"1\" class=\"dataframe\">\n",
       "  <thead>\n",
       "    <tr style=\"text-align: right;\">\n",
       "      <th></th>\n",
       "      <th>Beta value</th>\n",
       "    </tr>\n",
       "  </thead>\n",
       "  <tbody>\n",
       "    <tr>\n",
       "      <th>Bias</th>\n",
       "      <td>26.544675</td>\n",
       "    </tr>\n",
       "    <tr>\n",
       "      <th>CRIM</th>\n",
       "      <td>-9.565508</td>\n",
       "    </tr>\n",
       "    <tr>\n",
       "      <th>ZN</th>\n",
       "      <td>4.631351</td>\n",
       "    </tr>\n",
       "    <tr>\n",
       "      <th>INDUS</th>\n",
       "      <td>0.558448</td>\n",
       "    </tr>\n",
       "    <tr>\n",
       "      <th>CHAS</th>\n",
       "      <td>2.689260</td>\n",
       "    </tr>\n",
       "    <tr>\n",
       "      <th>NOX</th>\n",
       "      <td>-8.599468</td>\n",
       "    </tr>\n",
       "    <tr>\n",
       "      <th>RM</th>\n",
       "      <td>19.912886</td>\n",
       "    </tr>\n",
       "    <tr>\n",
       "      <th>AGE</th>\n",
       "      <td>0.072629</td>\n",
       "    </tr>\n",
       "    <tr>\n",
       "      <th>DIS</th>\n",
       "      <td>-16.161547</td>\n",
       "    </tr>\n",
       "    <tr>\n",
       "      <th>RAD</th>\n",
       "      <td>7.016659</td>\n",
       "    </tr>\n",
       "    <tr>\n",
       "      <th>TAX</th>\n",
       "      <td>-6.446899</td>\n",
       "    </tr>\n",
       "    <tr>\n",
       "      <th>PTRATIO</th>\n",
       "      <td>-8.942141</td>\n",
       "    </tr>\n",
       "    <tr>\n",
       "      <th>B</th>\n",
       "      <td>3.709068</td>\n",
       "    </tr>\n",
       "    <tr>\n",
       "      <th>LSTAT</th>\n",
       "      <td>-18.995301</td>\n",
       "    </tr>\n",
       "  </tbody>\n",
       "</table>\n",
       "</div>"
      ],
      "text/plain": [
       "         Beta value\n",
       "Bias      26.544675\n",
       "CRIM      -9.565508\n",
       "ZN         4.631351\n",
       "INDUS      0.558448\n",
       "CHAS       2.689260\n",
       "NOX       -8.599468\n",
       "RM        19.912886\n",
       "AGE        0.072629\n",
       "DIS      -16.161547\n",
       "RAD        7.016659\n",
       "TAX       -6.446899\n",
       "PTRATIO   -8.942141\n",
       "B          3.709068\n",
       "LSTAT    -18.995301"
      ]
     },
     "execution_count": 65,
     "metadata": {},
     "output_type": "execute_result"
    }
   ],
   "source": [
    "index=['Bias', 'CRIM', 'ZN', 'INDUS', 'CHAS', 'NOX', 'RM', 'AGE', \n",
    "       'DIS', 'RAD', 'TAX', 'PTRATIO', 'B', 'LSTAT']\n",
    "       \n",
    "pd.DataFrame(betas, columns=['Beta value'],index=index)"
   ]
  },
  {
   "cell_type": "markdown",
   "metadata": {},
   "source": [
    "### Ridge Regression with Gradient Descent"
   ]
  },
  {
   "cell_type": "code",
   "execution_count": 66,
   "metadata": {},
   "outputs": [
    {
     "name": "stdout",
     "output_type": "stream",
     "text": [
      "No of samples: 506\n",
      "No of features: 14\n"
     ]
    }
   ],
   "source": [
    "X = X\n",
    "\n",
    "n = X.shape[0] # no. of rows\n",
    "d = X.shape[1] # no. of columns\n",
    "\n",
    "print('No of samples:', n)\n",
    "print('No of features:', d)"
   ]
  },
  {
   "cell_type": "code",
   "execution_count": 67,
   "metadata": {},
   "outputs": [
    {
     "data": {
      "text/plain": [
       "(array([[ 1.76405235],\n",
       "        [ 0.40015721],\n",
       "        [ 0.97873798],\n",
       "        [ 2.2408932 ],\n",
       "        [ 1.86755799],\n",
       "        [-0.97727788],\n",
       "        [ 0.95008842],\n",
       "        [-0.15135721],\n",
       "        [-0.10321885],\n",
       "        [ 0.4105985 ],\n",
       "        [ 0.14404357],\n",
       "        [ 1.45427351],\n",
       "        [ 0.76103773],\n",
       "        [ 0.12167502]]),\n",
       " (14, 1))"
      ]
     },
     "execution_count": 67,
     "metadata": {},
     "output_type": "execute_result"
    }
   ],
   "source": [
    "def beta_init(d):\n",
    "    np.random.seed(0)\n",
    "    return np.random.randn(d, 1)\n",
    "\n",
    "beta = beta_init(d)\n",
    "beta, beta.shape"
   ]
  },
  {
   "cell_type": "markdown",
   "metadata": {},
   "source": [
    "### Cost Function\n",
    "\n",
    "Similarly, as previous in gradient descent for multiple linear regression, here for ridge regression we multiply $J$ with  $1/2n$ to make derivation easier. It is devided by $n$ to average the sum of parameters.\n",
    "\n",
    "$$\n",
    "\\begin{align*}\n",
    "J(\\beta_0, \\beta_1, \\beta_2,..., \\beta_{13}) &= \\frac{1}{2n}\\sum_{i=1}^{n}({y_{i}}-\\hat{y_{i}})^2 + \\frac{\\lambda}{2n} \\sum_{j=1}^{d} {\\beta_j^2} \\\\ \n",
    "&=  \\frac{1}{2}\\sum_{i=1}^{n}(y_{i}-(\\beta_0x_{i0}+\\beta_1x_{i1} +\\beta_2x_{i2} + ,...,+\\beta_3x_{id}))^2+ \\frac{\\lambda}{2n} \\sum_{j=1}^{d} {\\beta_j^2}\n",
    "\\end{align*}\n",
    "$$\n",
    "\n",
    "In matrix form,\n",
    "\n",
    "$$\n",
    "J(\\boldsymbol{\\beta}) = \\frac{1}{2n}\\ \\sum(\\mathbf{X}\\boldsymbol{\\beta} - \\mathbf{y})^2+\\frac{\\lambda}{2n}\\ \\sum\\boldsymbol{\\beta^2}\n",
    "$$"
   ]
  },
  {
   "cell_type": "code",
   "execution_count": 68,
   "metadata": {},
   "outputs": [
    {
     "data": {
      "text/plain": [
       "10.968226976904392"
      ]
     },
     "execution_count": 68,
     "metadata": {},
     "output_type": "execute_result"
    }
   ],
   "source": [
    "def calculate_cost(betas):\n",
    "    return 1/(2*n) * np.sum(np.square(np.dot(X, betas) - y)) + (lm/(2*n)*np.sum(np.square(betas)))\n",
    "\n",
    "calculate_cost(betas)"
   ]
  },
  {
   "cell_type": "markdown",
   "metadata": {},
   "source": [
    "### Gradients\n",
    "\n",
    "Similarly, by applying partial derivative w.r.t. $\\beta_0$, $\\beta_1$, $\\beta_2$, $\\beta_3$. We can reach to generalized expression for $\\beta_j$ as:\n",
    "\n",
    "$$\n",
    "\\therefore\\frac{\\partial J}{\\partial \\beta_j}=\\frac{1}{n}\\sum_{i=1}^{n}(\\hat{y_i}-{y_i})x_{ij}+ \\frac{\\lambda}{n}\\beta_j\n",
    "$$\n",
    "\n",
    "In matrix form,\n",
    "\n",
    "$$\n",
    "\\therefore\\frac{{\\partial J}}{{\\partial \\beta}}= {\\frac{1}{n}}\\mathbf{X^T}(\\mathbf{X\\boldsymbol{\\beta}-y})+\\frac{{\\lambda}}{{n}}{\\boldsymbol{\\beta}} = \\begin{bmatrix}\n",
    "\\frac{\\partial J}{\\partial \\beta_0} \\\\ \n",
    "\\frac{\\partial J}{\\partial \\beta_1}\\\\\n",
    ".\\\\\n",
    ".\\\\\n",
    ".\\\\\n",
    "\\frac{\\partial J}{\\partial \\beta_{d}}\n",
    "\\end{bmatrix}\n",
    "$$"
   ]
  },
  {
   "cell_type": "code",
   "execution_count": 69,
   "metadata": {},
   "outputs": [
    {
     "data": {
      "text/plain": [
       "array([[-3.27446620e-13],\n",
       "       [-9.07897347e-15],\n",
       "       [-4.48016597e-14],\n",
       "       [-1.04512832e-13],\n",
       "       [-2.19560630e-14],\n",
       "       [-1.14946654e-13],\n",
       "       [-1.60737905e-13],\n",
       "       [-2.05927955e-13],\n",
       "       [-8.37563525e-14],\n",
       "       [-9.93444964e-14],\n",
       "       [-1.10309304e-13],\n",
       "       [-1.96789416e-13],\n",
       "       [-2.98896541e-13],\n",
       "       [-9.48200936e-14]])"
      ]
     },
     "execution_count": 69,
     "metadata": {},
     "output_type": "execute_result"
    }
   ],
   "source": [
    "lm=0.01\n",
    "\n",
    "def calculate_gradients(betas, lm):\n",
    "    return ((1/n)*np.dot(X.T, (np.dot(X, betas)-y))+(lm/n)*betas)\n",
    "\n",
    "calculate_gradients(betas, lm)"
   ]
  },
  {
   "cell_type": "markdown",
   "metadata": {},
   "source": [
    "### Gradient Descent\n",
    "\n",
    "Update the parameters repeatedly using their respective gradient until cost function converges to its minimum value.\n",
    "\n",
    "$$\n",
    "\\begin{align*}\n",
    "\\beta_0 :=\\beta_0-\\alpha\\frac{\\partial J}{\\partial \\beta_0} \\\\\n",
    "\\beta_1 :=\\beta_1-\\alpha\\frac{\\partial J}{\\partial \\beta_1} \\\\\n",
    "...\\\\\n",
    "\\beta_d :=\\beta_d-\\alpha\\frac{\\partial J}{\\partial \\beta_d} \\\\\n",
    "\\end{align*}\n",
    "$$\n",
    "\n",
    "Hence, \n",
    "$$\n",
    "\\begin{align*}\n",
    "\\therefore\\beta_j :=\\beta_j-\\alpha\\frac{\\partial J}{\\partial \\beta_j}\\\\\n",
    "\\end{align*}\n",
    "$$"
   ]
  },
  {
   "cell_type": "code",
   "execution_count": 76,
   "metadata": {},
   "outputs": [],
   "source": [
    "def gradient_descent(alpha=0.01, iterations=5000, lm=0.01):\n",
    "  train_error = []\n",
    "  betas = beta_init(d)\n",
    "\n",
    "  for i in range(1, iterations):\n",
    "    train_cost = calculate_cost(betas)\n",
    "    train_error.append(train_cost)\n",
    "\n",
    "    betas = betas - alpha * calculate_gradients(betas,lm)\n",
    "\n",
    "  return betas, train_error"
   ]
  },
  {
   "cell_type": "code",
   "execution_count": 77,
   "metadata": {},
   "outputs": [
    {
     "data": {
      "text/html": [
       "<div>\n",
       "<style scoped>\n",
       "    .dataframe tbody tr th:only-of-type {\n",
       "        vertical-align: middle;\n",
       "    }\n",
       "\n",
       "    .dataframe tbody tr th {\n",
       "        vertical-align: top;\n",
       "    }\n",
       "\n",
       "    .dataframe thead th {\n",
       "        text-align: right;\n",
       "    }\n",
       "</style>\n",
       "<table border=\"1\" class=\"dataframe\">\n",
       "  <thead>\n",
       "    <tr style=\"text-align: right;\">\n",
       "      <th></th>\n",
       "      <th>Beta value</th>\n",
       "    </tr>\n",
       "  </thead>\n",
       "  <tbody>\n",
       "    <tr>\n",
       "      <th>Bias</th>\n",
       "      <td>13.993930</td>\n",
       "    </tr>\n",
       "    <tr>\n",
       "      <th>CRIM</th>\n",
       "      <td>-2.249236</td>\n",
       "    </tr>\n",
       "    <tr>\n",
       "      <th>ZN</th>\n",
       "      <td>3.902295</td>\n",
       "    </tr>\n",
       "    <tr>\n",
       "      <th>INDUS</th>\n",
       "      <td>-0.487846</td>\n",
       "    </tr>\n",
       "    <tr>\n",
       "      <th>CHAS</th>\n",
       "      <td>3.954031</td>\n",
       "    </tr>\n",
       "    <tr>\n",
       "      <th>NOX</th>\n",
       "      <td>-1.962973</td>\n",
       "    </tr>\n",
       "    <tr>\n",
       "      <th>RM</th>\n",
       "      <td>21.004175</td>\n",
       "    </tr>\n",
       "    <tr>\n",
       "      <th>AGE</th>\n",
       "      <td>1.497435</td>\n",
       "    </tr>\n",
       "    <tr>\n",
       "      <th>DIS</th>\n",
       "      <td>-3.400753</td>\n",
       "    </tr>\n",
       "    <tr>\n",
       "      <th>RAD</th>\n",
       "      <td>2.760547</td>\n",
       "    </tr>\n",
       "    <tr>\n",
       "      <th>TAX</th>\n",
       "      <td>-3.089065</td>\n",
       "    </tr>\n",
       "    <tr>\n",
       "      <th>PTRATIO</th>\n",
       "      <td>-6.605463</td>\n",
       "    </tr>\n",
       "    <tr>\n",
       "      <th>B</th>\n",
       "      <td>7.104161</td>\n",
       "    </tr>\n",
       "    <tr>\n",
       "      <th>LSTAT</th>\n",
       "      <td>-14.666097</td>\n",
       "    </tr>\n",
       "  </tbody>\n",
       "</table>\n",
       "</div>"
      ],
      "text/plain": [
       "         Beta value\n",
       "Bias      13.993930\n",
       "CRIM      -2.249236\n",
       "ZN         3.902295\n",
       "INDUS     -0.487846\n",
       "CHAS       3.954031\n",
       "NOX       -1.962973\n",
       "RM        21.004175\n",
       "AGE        1.497435\n",
       "DIS       -3.400753\n",
       "RAD        2.760547\n",
       "TAX       -3.089065\n",
       "PTRATIO   -6.605463\n",
       "B          7.104161\n",
       "LSTAT    -14.666097"
      ]
     },
     "execution_count": 77,
     "metadata": {},
     "output_type": "execute_result"
    }
   ],
   "source": [
    "betas, train_error = gradient_descent()\n",
    "\n",
    "pd.DataFrame(betas, columns=['Beta value'], index=index)"
   ]
  },
  {
   "cell_type": "code",
   "execution_count": 78,
   "metadata": {},
   "outputs": [
    {
     "name": "stdout",
     "output_type": "stream",
     "text": [
      "Training Error: 12.70\n"
     ]
    },
    {
     "data": {
      "image/png": "[encoded data removed]",
      "text/plain": [
       "<Figure size 640x480 with 1 Axes>"
      ]
     },
     "metadata": {},
     "output_type": "display_data"
    }
   ],
   "source": [
    "print('Training Error: {0:.2f}'.format(train_error[-1]))\n",
    "plt.plot(np.arange(len(train_error)),train_error)\n",
    "plt.title('Cost Function Curve with Number of Iterations')\n",
    "plt.xlabel(\"Number of Iterations\")\n",
    "plt.ylabel(\"Training Error\")\n",
    "plt.ylim(0, 200)\n",
    "plt.show();"
   ]
  },
  {
   "cell_type": "markdown",
   "metadata": {},
   "source": [
    "#### Choice of finding optimal $λ$\n",
    "\n",
    "- Use k-fold cross validation to select the $λ$ that gives the minimum error on cross validation dataset.\n",
    "- Manually run the model with different values of $λ$ and choose the value that gives the least error."
   ]
  },
  {
   "cell_type": "code",
   "execution_count": 88,
   "metadata": {},
   "outputs": [
    {
     "name": "stdout",
     "output_type": "stream",
     "text": [
      "lambda: 0.01\n",
      "Final Train Error: 12.695118202676325 \n",
      "\n",
      "lambda: 0.0001\n",
      "Final Train Error: 12.692989028495424 \n",
      "\n",
      "lambda: 1e-05\n",
      "Final Train Error: 12.692969680486675 \n",
      "\n",
      "lambda: 0.03\n",
      "Final Train Error: 12.699424953895527 \n",
      "\n",
      "lambda: 0.003\n",
      "Final Train Error: 12.69361254268347 \n",
      "\n",
      "Optimal Lambda: 1e-05\n",
      "Minimum Final Train Error: 12.692969680486675\n"
     ]
    }
   ],
   "source": [
    "lambdas = [1e-2, 1e-4, 1e-5, 3e-2, 3e-3]\n",
    "min_error = float('inf')\n",
    "optimal_lambda = None\n",
    "\n",
    "# Iterate over list of lambdas for optimal λ\n",
    "for lm_list in lambdas:\n",
    "    print(\"lambda:\", lm_list)\n",
    "    betas, train_error = gradient_descent(lm=lm_list)\n",
    "    final_train_error = train_error[-1]\n",
    "    print(\"Final Train Error:\", final_train_error, \"\\n\")\n",
    "\n",
    "    if final_train_error < min_error:\n",
    "        min_error = final_train_error\n",
    "        optimal_lambda = lm_list\n",
    "\n",
    "# Print optimal lambda and minimum final train error\n",
    "print(\"Optimal Lambda:\", optimal_lambda)\n",
    "print(\"Minimum Final Train Error:\", min_error)"
   ]
  },
  {
   "cell_type": "code",
   "execution_count": 90,
   "metadata": {},
   "outputs": [
    {
     "name": "stdout",
     "output_type": "stream",
     "text": [
      "Training Error: 12.69\n"
     ]
    },
    {
     "data": {
      "image/png": "[encoded data removed]",
      "text/plain": [
       "<Figure size 640x480 with 1 Axes>"
      ]
     },
     "metadata": {},
     "output_type": "display_data"
    }
   ],
   "source": [
    "betas, train_error = gradient_descent(lm=1e-5)\n",
    "\n",
    "print('Training Error: {0:.2f}'.format(train_error[-1]))\n",
    "plt.plot(np.arange(len(train_error)),train_error)\n",
    "plt.title('Cost Function Curve with Number of Iterations')\n",
    "plt.xlabel(\"Number of Iterations\")\n",
    "plt.ylabel(\"Training Error\")\n",
    "plt.ylim(0, 200)\n",
    "plt.show();"
   ]
  }
 ],
 "metadata": {
  "kernelspec": {
   "display_name": "Python 3",
   "language": "python",
   "name": "python3"
  },
  "language_info": {
   "codemirror_mode": {
    "name": "ipython",
    "version": 3
   },
   "file_extension": ".py",
   "mimetype": "text/x-python",
   "name": "python",
   "nbconvert_exporter": "python",
   "pygments_lexer": "ipython3",
   "version": "3.10.13"
  }
 },
 "nbformat": 4,
 "nbformat_minor": 2
}

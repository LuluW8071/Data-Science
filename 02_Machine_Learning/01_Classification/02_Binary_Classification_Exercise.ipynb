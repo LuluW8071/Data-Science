{
 "cells": [
  {
   "cell_type": "markdown",
   "metadata": {},
   "source": [
    "# Binary Classification on Student Performance Dataset\n",
    "\n",
    "Here, we will train __Logistic regression__ to predict if the students __pass__ or __fail__ given different features and also, evaluate the performance of the model.\n",
    "\n",
    "\n",
    "### Dataset Information:\n",
    "\n",
    "| Attribute    | Description                                                                                                                                       | Type     | Values/Range                                                 |\n",
    "|--------------|---------------------------------------------------------------------------------------------------------------------------------------------------|----------|--------------------------------------------------------------|\n",
    "| school       | Student's school                                                                                                                                  | Binary   | 'GP' - Gabriel Pereira, 'MS' - Mousinho da Silveira           |\n",
    "| sex          | Student's sex                                                                                                                                     | Binary   | 'F' - female, 'M' - male                                      |\n",
    "| age          | Student's age                                                                                                                                     | Numeric  | 15 - 22                                                      |\n",
    "| address      | Student's home address type                                                                                                                       | Binary   | 'U' - urban, 'R' - rural                                      |\n",
    "| famsize      | Family size                                                                                                                                       | Binary   | 'LE3' - less or equal to 3, 'GT3' - greater than 3            |\n",
    "| Pstatus      | Parent's cohabitation status                                                                                                                      | Binary   | 'T' - living together, 'A' - apart                            |\n",
    "| Medu         | Mother's education                                                                                                                                | Numeric  | 0 - none, 1 - primary (4th grade), 2 - 5th to 9th grade, 3 - secondary, 4 - higher education |\n",
    "| Fedu         | Father's education                                                                                                                                | Numeric  | 0 - none, 1 - primary (4th grade), 2 - 5th to 9th grade, 3 - secondary, 4 - higher education |\n",
    "| Mjob         | Mother's job                                                                                                                                      | Nominal  | 'teacher', 'health', 'civil services', 'at_home', 'other'     |\n",
    "| Fjob         | Father's job                                                                                                                                      | Nominal  | 'teacher', 'health', 'civil services', 'at_home', 'other'     |\n",
    "| reason       | Reason to choose this school                                                                                                                      | Nominal  | 'home', 'reputation', 'course', 'other'                      |\n",
    "| guardian     | Student's guardian                                                                                                                                | Nominal  | 'mother', 'father', 'other'                                  |\n",
    "| traveltime   | Home to school travel time                                                                                                                        | Numeric  | 1 - <15 min, 2 - 15 to 30 min, 3 - 30 min to 1 hour, 4 - >1 hour |\n",
    "| studytime    | Weekly study time                                                                                                                                 | Numeric  | 1 - <2 hours, 2 - 2 to 5 hours, 3 - 5 to 10 hours, 4 - >10 hours |\n",
    "| failures     | Number of past class failures                                                                                                                     | Numeric  | 0, 1, 2, 3, 4                                                |\n",
    "| schoolsup    | Extra educational support                                                                                                                         | Binary   | 'yes', 'no'                                                  |\n",
    "| famsup       | Family educational support                                                                                                                        | Binary   | 'yes', 'no'                                                  |\n",
    "| paid         | Extra paid classes within the course subject                                                                                                      | Binary   | 'yes', 'no'                                                  |\n",
    "| activities   | Extra-curricular activities                                                                                                                       | Binary   | 'yes', 'no'                                                  |\n",
    "| nursery      | Attended nursery school                                                                                                                           | Binary   | 'yes', 'no'                                                  |\n",
    "| higher       | Wants to take higher education                                                                                                                    | Binary   | 'yes', 'no'                                                  |\n",
    "| internet     | Internet access at home                                                                                                                           | Binary   | 'yes', 'no'                                                  |\n",
    "| romantic     | With a romantic relationship                                                                                                                      | Binary   | 'yes', 'no'                                                  |\n",
    "| famrel       | Quality of family relationships                                                                                                                   | Numeric  | 1 - very bad to 5 - excellent                                |\n",
    "| freetime     | Free time after school                                                                                                                            | Numeric  | 1 - very low to 5 - very high                                |\n",
    "| goout        | Going out with friends                                                                                                                            | Numeric  | 1 - very low to 5 - very high                                |\n",
    "| Dalc         | Workday alcohol consumption                                                                                                                       | Numeric  | 1 - very low to 5 - very high                                |\n",
    "| Walc         | Weekend alcohol consumption                                                                                                                       | Numeric  | 1 - very low to 5 - very high                                |\n",
    "| health       | Current health status                                                                                                                             | Numeric  | 1 - very bad to 5 - very good                                |\n",
    "| absences     | Number of school absences                                                                                                                         | Numeric  | 0 to 93                                                      |\n",
    "| G1           | First period grade                                                                                                                                | Numeric  | 0 to 20                                                      |\n",
    "| G2           | Second period grade                                                                                                                               | Numeric  | 0 to 20                                                      |\n",
    "| G3           | __Final grade__ (target)                                                                                                                              | Numeric  | 0 to 20                                                      |\n",
    "\n",
    "</br>\n",
    "\n",
    "> __Note:__ the target attribute G3 has a strong correlation with attributes G2 and G1. This occurs because G3 is the final year grade (issued at the 3rd period), while G1 and G2 correspond to the 1st and 2nd period grades. It is more difficult to predict G3 without G2 and G1, but such prediction is much more useful.\n",
    "\n",
    "\n"
   ]
  },
  {
   "cell_type": "markdown",
   "metadata": {},
   "source": [
    "### 1. Downloading Datasets"
   ]
  },
  {
   "cell_type": "code",
   "execution_count": 1,
   "metadata": {},
   "outputs": [
    {
     "name": "stdout",
     "output_type": "stream",
     "text": [
      "Requirement already satisfied: kaggle in /usr/local/python/3.12.1/lib/python3.12/site-packages (1.6.17)\n",
      "Requirement already satisfied: six>=1.10 in /home/codespace/.local/lib/python3.12/site-packages (from kaggle) (1.16.0)\n",
      "Requirement already satisfied: certifi>=2023.7.22 in /home/codespace/.local/lib/python3.12/site-packages (from kaggle) (2024.7.4)\n",
      "Requirement already satisfied: python-dateutil in /home/codespace/.local/lib/python3.12/site-packages (from kaggle) (2.9.0.post0)\n",
      "Requirement already satisfied: requests in /home/codespace/.local/lib/python3.12/site-packages (from kaggle) (2.32.3)\n",
      "Requirement already satisfied: tqdm in /usr/local/python/3.12.1/lib/python3.12/site-packages (from kaggle) (4.66.5)\n",
      "Requirement already satisfied: python-slugify in /usr/local/python/3.12.1/lib/python3.12/site-packages (from kaggle) (8.0.4)\n",
      "Requirement already satisfied: urllib3 in /home/codespace/.local/lib/python3.12/site-packages (from kaggle) (2.2.2)\n",
      "Requirement already satisfied: bleach in /home/codespace/.local/lib/python3.12/site-packages (from kaggle) (6.1.0)\n",
      "Requirement already satisfied: webencodings in /home/codespace/.local/lib/python3.12/site-packages (from bleach->kaggle) (0.5.1)\n",
      "Requirement already satisfied: text-unidecode>=1.3 in /usr/local/python/3.12.1/lib/python3.12/site-packages (from python-slugify->kaggle) (1.3)\n",
      "Requirement already satisfied: charset-normalizer<4,>=2 in /home/codespace/.local/lib/python3.12/site-packages (from requests->kaggle) (3.3.2)\n",
      "Requirement already satisfied: idna<4,>=2.5 in /home/codespace/.local/lib/python3.12/site-packages (from requests->kaggle) (3.7)\n"
     ]
    }
   ],
   "source": [
    "# Install Kaggle to download datasets\n",
    "!pip install kaggle"
   ]
  },
  {
   "cell_type": "code",
   "execution_count": 4,
   "metadata": {},
   "outputs": [
    {
     "name": "stdout",
     "output_type": "stream",
     "text": [
      "Dataset URL: https://www.kaggle.com/datasets/larsen0966/student-performance-data-set\n",
      "License(s): CC0-1.0\n",
      "student-performance-data-set.zip: Skipping, found more recently modified local copy (use --force to force download)\n",
      "Archive:  student-performance-data-set.zip\n"
     ]
    }
   ],
   "source": [
    "!kaggle datasets download larsen0966/student-performance-data-set\n",
    "!unzip student-performance-data-set.zip "
   ]
  },
  {
   "cell_type": "markdown",
   "metadata": {},
   "source": [
    "### 2. Reading Datasets"
   ]
  },
  {
   "cell_type": "code",
   "execution_count": 1,
   "metadata": {},
   "outputs": [],
   "source": [
    "# Import necessary libraries\n",
    "import pandas as pd \n",
    "import numpy as np \n",
    "import matplotlib.pyplot as plt\n",
    "%matplotlib inline"
   ]
  },
  {
   "cell_type": "code",
   "execution_count": 6,
   "metadata": {},
   "outputs": [
    {
     "data": {
      "text/html": [
       "<div>\n",
       "<style scoped>\n",
       "    .dataframe tbody tr th:only-of-type {\n",
       "        vertical-align: middle;\n",
       "    }\n",
       "\n",
       "    .dataframe tbody tr th {\n",
       "        vertical-align: top;\n",
       "    }\n",
       "\n",
       "    .dataframe thead th {\n",
       "        text-align: right;\n",
       "    }\n",
       "</style>\n",
       "<table border=\"1\" class=\"dataframe\">\n",
       "  <thead>\n",
       "    <tr style=\"text-align: right;\">\n",
       "      <th></th>\n",
       "      <th>school</th>\n",
       "      <th>sex</th>\n",
       "      <th>age</th>\n",
       "      <th>address</th>\n",
       "      <th>famsize</th>\n",
       "      <th>Pstatus</th>\n",
       "      <th>Medu</th>\n",
       "      <th>Fedu</th>\n",
       "      <th>Mjob</th>\n",
       "      <th>Fjob</th>\n",
       "      <th>...</th>\n",
       "      <th>famrel</th>\n",
       "      <th>freetime</th>\n",
       "      <th>goout</th>\n",
       "      <th>Dalc</th>\n",
       "      <th>Walc</th>\n",
       "      <th>health</th>\n",
       "      <th>absences</th>\n",
       "      <th>G1</th>\n",
       "      <th>G2</th>\n",
       "      <th>G3</th>\n",
       "    </tr>\n",
       "  </thead>\n",
       "  <tbody>\n",
       "    <tr>\n",
       "      <th>0</th>\n",
       "      <td>GP</td>\n",
       "      <td>F</td>\n",
       "      <td>18</td>\n",
       "      <td>U</td>\n",
       "      <td>GT3</td>\n",
       "      <td>A</td>\n",
       "      <td>4</td>\n",
       "      <td>4</td>\n",
       "      <td>at_home</td>\n",
       "      <td>teacher</td>\n",
       "      <td>...</td>\n",
       "      <td>4</td>\n",
       "      <td>3</td>\n",
       "      <td>4</td>\n",
       "      <td>1</td>\n",
       "      <td>1</td>\n",
       "      <td>3</td>\n",
       "      <td>4</td>\n",
       "      <td>0</td>\n",
       "      <td>11</td>\n",
       "      <td>11</td>\n",
       "    </tr>\n",
       "    <tr>\n",
       "      <th>1</th>\n",
       "      <td>GP</td>\n",
       "      <td>F</td>\n",
       "      <td>17</td>\n",
       "      <td>U</td>\n",
       "      <td>GT3</td>\n",
       "      <td>T</td>\n",
       "      <td>1</td>\n",
       "      <td>1</td>\n",
       "      <td>at_home</td>\n",
       "      <td>other</td>\n",
       "      <td>...</td>\n",
       "      <td>5</td>\n",
       "      <td>3</td>\n",
       "      <td>3</td>\n",
       "      <td>1</td>\n",
       "      <td>1</td>\n",
       "      <td>3</td>\n",
       "      <td>2</td>\n",
       "      <td>9</td>\n",
       "      <td>11</td>\n",
       "      <td>11</td>\n",
       "    </tr>\n",
       "    <tr>\n",
       "      <th>2</th>\n",
       "      <td>GP</td>\n",
       "      <td>F</td>\n",
       "      <td>15</td>\n",
       "      <td>U</td>\n",
       "      <td>LE3</td>\n",
       "      <td>T</td>\n",
       "      <td>1</td>\n",
       "      <td>1</td>\n",
       "      <td>at_home</td>\n",
       "      <td>other</td>\n",
       "      <td>...</td>\n",
       "      <td>4</td>\n",
       "      <td>3</td>\n",
       "      <td>2</td>\n",
       "      <td>2</td>\n",
       "      <td>3</td>\n",
       "      <td>3</td>\n",
       "      <td>6</td>\n",
       "      <td>12</td>\n",
       "      <td>13</td>\n",
       "      <td>12</td>\n",
       "    </tr>\n",
       "    <tr>\n",
       "      <th>3</th>\n",
       "      <td>GP</td>\n",
       "      <td>F</td>\n",
       "      <td>15</td>\n",
       "      <td>U</td>\n",
       "      <td>GT3</td>\n",
       "      <td>T</td>\n",
       "      <td>4</td>\n",
       "      <td>2</td>\n",
       "      <td>health</td>\n",
       "      <td>services</td>\n",
       "      <td>...</td>\n",
       "      <td>3</td>\n",
       "      <td>2</td>\n",
       "      <td>2</td>\n",
       "      <td>1</td>\n",
       "      <td>1</td>\n",
       "      <td>5</td>\n",
       "      <td>0</td>\n",
       "      <td>14</td>\n",
       "      <td>14</td>\n",
       "      <td>14</td>\n",
       "    </tr>\n",
       "    <tr>\n",
       "      <th>4</th>\n",
       "      <td>GP</td>\n",
       "      <td>F</td>\n",
       "      <td>16</td>\n",
       "      <td>U</td>\n",
       "      <td>GT3</td>\n",
       "      <td>T</td>\n",
       "      <td>3</td>\n",
       "      <td>3</td>\n",
       "      <td>other</td>\n",
       "      <td>other</td>\n",
       "      <td>...</td>\n",
       "      <td>4</td>\n",
       "      <td>3</td>\n",
       "      <td>2</td>\n",
       "      <td>1</td>\n",
       "      <td>2</td>\n",
       "      <td>5</td>\n",
       "      <td>0</td>\n",
       "      <td>11</td>\n",
       "      <td>13</td>\n",
       "      <td>13</td>\n",
       "    </tr>\n",
       "  </tbody>\n",
       "</table>\n",
       "<p>5 rows × 33 columns</p>\n",
       "</div>"
      ],
      "text/plain": [
       "  school sex  age address famsize Pstatus  Medu  Fedu     Mjob      Fjob  ...  \\\n",
       "0     GP   F   18       U     GT3       A     4     4  at_home   teacher  ...   \n",
       "1     GP   F   17       U     GT3       T     1     1  at_home     other  ...   \n",
       "2     GP   F   15       U     LE3       T     1     1  at_home     other  ...   \n",
       "3     GP   F   15       U     GT3       T     4     2   health  services  ...   \n",
       "4     GP   F   16       U     GT3       T     3     3    other     other  ...   \n",
       "\n",
       "  famrel freetime  goout  Dalc  Walc health absences  G1  G2  G3  \n",
       "0      4        3      4     1     1      3        4   0  11  11  \n",
       "1      5        3      3     1     1      3        2   9  11  11  \n",
       "2      4        3      2     2     3      3        6  12  13  12  \n",
       "3      3        2      2     1     1      5        0  14  14  14  \n",
       "4      4        3      2     1     2      5        0  11  13  13  \n",
       "\n",
       "[5 rows x 33 columns]"
      ]
     },
     "execution_count": 6,
     "metadata": {},
     "output_type": "execute_result"
    }
   ],
   "source": [
    "# Read the csv data\n",
    "df = pd.read_csv(\"student-por.csv\")\n",
    "df.head()"
   ]
  },
  {
   "cell_type": "code",
   "execution_count": 7,
   "metadata": {},
   "outputs": [
    {
     "data": {
      "text/plain": [
       "school        0\n",
       "sex           0\n",
       "age           0\n",
       "address       0\n",
       "famsize       0\n",
       "Pstatus       0\n",
       "Medu          0\n",
       "Fedu          0\n",
       "Mjob          0\n",
       "Fjob          0\n",
       "reason        0\n",
       "guardian      0\n",
       "traveltime    0\n",
       "studytime     0\n",
       "failures      0\n",
       "schoolsup     0\n",
       "famsup        0\n",
       "paid          0\n",
       "activities    0\n",
       "nursery       0\n",
       "higher        0\n",
       "internet      0\n",
       "romantic      0\n",
       "famrel        0\n",
       "freetime      0\n",
       "goout         0\n",
       "Dalc          0\n",
       "Walc          0\n",
       "health        0\n",
       "absences      0\n",
       "G1            0\n",
       "G2            0\n",
       "G3            0\n",
       "dtype: int64"
      ]
     },
     "execution_count": 7,
     "metadata": {},
     "output_type": "execute_result"
    }
   ],
   "source": [
    "# Checking null values\n",
    "df.isnull().sum()"
   ]
  },
  {
   "cell_type": "code",
   "execution_count": 8,
   "metadata": {},
   "outputs": [
    {
     "name": "stdout",
     "output_type": "stream",
     "text": [
      "Shape of dataframe: (649, 33)\n"
     ]
    }
   ],
   "source": [
    "print(\"Shape of dataframe:\", df.shape)"
   ]
  },
  {
   "cell_type": "markdown",
   "metadata": {},
   "source": [
    "### 3. Assigning Data and Target"
   ]
  },
  {
   "cell_type": "markdown",
   "metadata": {},
   "source": [
    "> - Assigning data and targets to $X$ and $y$ respectively where \n",
    ">   - X = all the features except target column $G3$ and \n",
    ">   - $y$ = Target column $G3$ \n",
    "> - Converting $y$ to a categorical variable\n",
    ">   - $G3$ >= __pass marks (12)__ is labelled as __pass__ ($1$)\n",
    ">   - $G3$ < __pass marks (12)__ is labelled as __fail__ ($0$)"
   ]
  },
  {
   "cell_type": "code",
   "execution_count": 9,
   "metadata": {},
   "outputs": [],
   "source": [
    "def label(x):\n",
    "    \"\"\" Function to return 1 if pass marks else 0 \"\"\"\n",
    "    return 1 if x>=12 else 0\n",
    "\n",
    "\n",
    "X = df.drop([\"G3\"], axis=1)     # Passing all the features except target column G3\n",
    "y = df[\"G3\"].apply(label)       # Passing only target column G3"
   ]
  },
  {
   "cell_type": "code",
   "execution_count": 10,
   "metadata": {},
   "outputs": [
    {
     "data": {
      "text/html": [
       "<div>\n",
       "<style scoped>\n",
       "    .dataframe tbody tr th:only-of-type {\n",
       "        vertical-align: middle;\n",
       "    }\n",
       "\n",
       "    .dataframe tbody tr th {\n",
       "        vertical-align: top;\n",
       "    }\n",
       "\n",
       "    .dataframe thead th {\n",
       "        text-align: right;\n",
       "    }\n",
       "</style>\n",
       "<table border=\"1\" class=\"dataframe\">\n",
       "  <thead>\n",
       "    <tr style=\"text-align: right;\">\n",
       "      <th></th>\n",
       "      <th>school</th>\n",
       "      <th>sex</th>\n",
       "      <th>age</th>\n",
       "      <th>address</th>\n",
       "      <th>famsize</th>\n",
       "      <th>Pstatus</th>\n",
       "      <th>Medu</th>\n",
       "      <th>Fedu</th>\n",
       "      <th>Mjob</th>\n",
       "      <th>Fjob</th>\n",
       "      <th>...</th>\n",
       "      <th>romantic</th>\n",
       "      <th>famrel</th>\n",
       "      <th>freetime</th>\n",
       "      <th>goout</th>\n",
       "      <th>Dalc</th>\n",
       "      <th>Walc</th>\n",
       "      <th>health</th>\n",
       "      <th>absences</th>\n",
       "      <th>G1</th>\n",
       "      <th>G2</th>\n",
       "    </tr>\n",
       "  </thead>\n",
       "  <tbody>\n",
       "    <tr>\n",
       "      <th>0</th>\n",
       "      <td>GP</td>\n",
       "      <td>F</td>\n",
       "      <td>18</td>\n",
       "      <td>U</td>\n",
       "      <td>GT3</td>\n",
       "      <td>A</td>\n",
       "      <td>4</td>\n",
       "      <td>4</td>\n",
       "      <td>at_home</td>\n",
       "      <td>teacher</td>\n",
       "      <td>...</td>\n",
       "      <td>no</td>\n",
       "      <td>4</td>\n",
       "      <td>3</td>\n",
       "      <td>4</td>\n",
       "      <td>1</td>\n",
       "      <td>1</td>\n",
       "      <td>3</td>\n",
       "      <td>4</td>\n",
       "      <td>0</td>\n",
       "      <td>11</td>\n",
       "    </tr>\n",
       "    <tr>\n",
       "      <th>1</th>\n",
       "      <td>GP</td>\n",
       "      <td>F</td>\n",
       "      <td>17</td>\n",
       "      <td>U</td>\n",
       "      <td>GT3</td>\n",
       "      <td>T</td>\n",
       "      <td>1</td>\n",
       "      <td>1</td>\n",
       "      <td>at_home</td>\n",
       "      <td>other</td>\n",
       "      <td>...</td>\n",
       "      <td>no</td>\n",
       "      <td>5</td>\n",
       "      <td>3</td>\n",
       "      <td>3</td>\n",
       "      <td>1</td>\n",
       "      <td>1</td>\n",
       "      <td>3</td>\n",
       "      <td>2</td>\n",
       "      <td>9</td>\n",
       "      <td>11</td>\n",
       "    </tr>\n",
       "    <tr>\n",
       "      <th>2</th>\n",
       "      <td>GP</td>\n",
       "      <td>F</td>\n",
       "      <td>15</td>\n",
       "      <td>U</td>\n",
       "      <td>LE3</td>\n",
       "      <td>T</td>\n",
       "      <td>1</td>\n",
       "      <td>1</td>\n",
       "      <td>at_home</td>\n",
       "      <td>other</td>\n",
       "      <td>...</td>\n",
       "      <td>no</td>\n",
       "      <td>4</td>\n",
       "      <td>3</td>\n",
       "      <td>2</td>\n",
       "      <td>2</td>\n",
       "      <td>3</td>\n",
       "      <td>3</td>\n",
       "      <td>6</td>\n",
       "      <td>12</td>\n",
       "      <td>13</td>\n",
       "    </tr>\n",
       "  </tbody>\n",
       "</table>\n",
       "<p>3 rows × 32 columns</p>\n",
       "</div>"
      ],
      "text/plain": [
       "  school sex  age address famsize Pstatus  Medu  Fedu     Mjob     Fjob  ...  \\\n",
       "0     GP   F   18       U     GT3       A     4     4  at_home  teacher  ...   \n",
       "1     GP   F   17       U     GT3       T     1     1  at_home    other  ...   \n",
       "2     GP   F   15       U     LE3       T     1     1  at_home    other  ...   \n",
       "\n",
       "  romantic famrel  freetime  goout  Dalc Walc health absences  G1  G2  \n",
       "0       no      4         3      4     1    1      3        4   0  11  \n",
       "1       no      5         3      3     1    1      3        2   9  11  \n",
       "2       no      4         3      2     2    3      3        6  12  13  \n",
       "\n",
       "[3 rows x 32 columns]"
      ]
     },
     "execution_count": 10,
     "metadata": {},
     "output_type": "execute_result"
    }
   ],
   "source": [
    "X.head(3)"
   ]
  },
  {
   "cell_type": "code",
   "execution_count": 11,
   "metadata": {},
   "outputs": [
    {
     "data": {
      "text/plain": [
       "G3\n",
       "1    348\n",
       "0    301\n",
       "Name: count, dtype: int64"
      ]
     },
     "execution_count": 11,
     "metadata": {},
     "output_type": "execute_result"
    }
   ],
   "source": [
    "# Number of data points in each class\n",
    "y.value_counts()"
   ]
  },
  {
   "cell_type": "markdown",
   "metadata": {},
   "source": [
    "### 4. Train-Test Split"
   ]
  },
  {
   "cell_type": "code",
   "execution_count": 12,
   "metadata": {},
   "outputs": [
    {
     "data": {
      "text/plain": [
       "(519, 130)"
      ]
     },
     "execution_count": 12,
     "metadata": {},
     "output_type": "execute_result"
    }
   ],
   "source": [
    "from sklearn.model_selection import train_test_split\n",
    "\n",
    "X_train, X_test, y_train, y_test = train_test_split(X, \n",
    "                                                    y, \n",
    "                                                    test_size=0.2,\n",
    "                                                    random_state=0\n",
    ") \n",
    "\n",
    "len(y_train), len(y_test)"
   ]
  },
  {
   "cell_type": "markdown",
   "metadata": {},
   "source": [
    "### 5. Finding Correlations\n",
    "\n",
    "Checking the correlation of all the numerical features with target $G3$ and extracting the top 5 features among the variable `top_five`\n"
   ]
  },
  {
   "cell_type": "code",
   "execution_count": 13,
   "metadata": {},
   "outputs": [
    {
     "name": "stdout",
     "output_type": "stream",
     "text": [
      "Correlation of all numerical val. with G3:\n",
      " age          -0.085498\n",
      "Medu          0.281331\n",
      "Fedu          0.209936\n",
      "traveltime   -0.195928\n",
      "studytime     0.212948\n",
      "failures     -0.354200\n",
      "famrel        0.106853\n",
      "freetime     -0.119097\n",
      "goout        -0.096563\n",
      "Dalc         -0.219918\n",
      "Walc         -0.179685\n",
      "health       -0.063739\n",
      "absences     -0.164542\n",
      "G1            0.737308\n",
      "G2            0.754858\n",
      "dtype: float64\n",
      "\n",
      "Top five correlated features with G3:\n",
      " Index(['G2', 'G1', 'failures', 'Medu', 'Dalc'], dtype='object')\n"
     ]
    }
   ],
   "source": [
    "# Get correlation between features and target\n",
    "correlation = X_train.select_dtypes(\"number\").corrwith(y_train)\n",
    "\n",
    "# List of top 5 features based on correlation with target variable\n",
    "top_five = np.abs(correlation).sort_values(ascending=False).iloc[0:5].index\n",
    "\n",
    "print(\"Correlation of all numerical val. with G3:\\n\", correlation)\n",
    "print(\"\\nTop five correlated features with G3:\\n\", top_five)"
   ]
  },
  {
   "cell_type": "markdown",
   "metadata": {},
   "source": [
    "### 6. Fit Logistic Regression Model on `top_five` features"
   ]
  },
  {
   "cell_type": "code",
   "execution_count": 14,
   "metadata": {},
   "outputs": [
    {
     "name": "stdout",
     "output_type": "stream",
     "text": [
      "Value of Theta: [[ 2.58190734  0.41974068 -0.51997828  0.02719795 -0.09410816]] and\n",
      "Intercept [-33.46122684]\n"
     ]
    }
   ],
   "source": [
    "from sklearn.linear_model import LogisticRegression\n",
    "\n",
    "# Get filtered X_train of top 5 features \n",
    "X_train_top5_feat = X_train[correlation[top_five].index]\n",
    "\n",
    "# Instantiate Logistic Regression and fit on the train dataset \n",
    "log_reg_top5 = LogisticRegression(fit_intercept=True)\n",
    "log_reg_top5.fit(X_train_top5_feat, y_train)\n",
    "\n",
    "# Get the required value of coeff. and intercept\n",
    "theta = log_reg_top5.coef_\n",
    "intercept = log_reg_top5.intercept_\n",
    "\n",
    "print(f\"Value of Theta: {theta} and\\nIntercept {intercept}\")"
   ]
  },
  {
   "cell_type": "markdown",
   "metadata": {},
   "source": [
    "### 7. Model Prediction"
   ]
  },
  {
   "cell_type": "code",
   "execution_count": 15,
   "metadata": {},
   "outputs": [
    {
     "data": {
      "text/html": [
       "<div>\n",
       "<style scoped>\n",
       "    .dataframe tbody tr th:only-of-type {\n",
       "        vertical-align: middle;\n",
       "    }\n",
       "\n",
       "    .dataframe tbody tr th {\n",
       "        vertical-align: top;\n",
       "    }\n",
       "\n",
       "    .dataframe thead th {\n",
       "        text-align: right;\n",
       "    }\n",
       "</style>\n",
       "<table border=\"1\" class=\"dataframe\">\n",
       "  <thead>\n",
       "    <tr style=\"text-align: right;\">\n",
       "      <th></th>\n",
       "      <th>G2</th>\n",
       "      <th>G1</th>\n",
       "      <th>failures</th>\n",
       "      <th>Medu</th>\n",
       "      <th>Dalc</th>\n",
       "    </tr>\n",
       "  </thead>\n",
       "  <tbody>\n",
       "    <tr>\n",
       "      <th>532</th>\n",
       "      <td>7</td>\n",
       "      <td>9</td>\n",
       "      <td>0</td>\n",
       "      <td>2</td>\n",
       "      <td>1</td>\n",
       "    </tr>\n",
       "    <tr>\n",
       "      <th>375</th>\n",
       "      <td>14</td>\n",
       "      <td>14</td>\n",
       "      <td>0</td>\n",
       "      <td>0</td>\n",
       "      <td>2</td>\n",
       "    </tr>\n",
       "    <tr>\n",
       "      <th>306</th>\n",
       "      <td>16</td>\n",
       "      <td>15</td>\n",
       "      <td>0</td>\n",
       "      <td>3</td>\n",
       "      <td>3</td>\n",
       "    </tr>\n",
       "    <tr>\n",
       "      <th>625</th>\n",
       "      <td>10</td>\n",
       "      <td>10</td>\n",
       "      <td>0</td>\n",
       "      <td>2</td>\n",
       "      <td>1</td>\n",
       "    </tr>\n",
       "    <tr>\n",
       "      <th>480</th>\n",
       "      <td>9</td>\n",
       "      <td>9</td>\n",
       "      <td>1</td>\n",
       "      <td>2</td>\n",
       "      <td>1</td>\n",
       "    </tr>\n",
       "  </tbody>\n",
       "</table>\n",
       "</div>"
      ],
      "text/plain": [
       "     G2  G1  failures  Medu  Dalc\n",
       "532   7   9         0     2     1\n",
       "375  14  14         0     0     2\n",
       "306  16  15         0     3     3\n",
       "625  10  10         0     2     1\n",
       "480   9   9         1     2     1"
      ]
     },
     "execution_count": 15,
     "metadata": {},
     "output_type": "execute_result"
    }
   ],
   "source": [
    "# Display filtered X_test of top 5 features \n",
    "X_test[top_five].head()"
   ]
  },
  {
   "cell_type": "code",
   "execution_count": 16,
   "metadata": {},
   "outputs": [
    {
     "data": {
      "text/plain": [
       "532    0\n",
       "375    1\n",
       "306    1\n",
       "625    0\n",
       "480    0\n",
       "Name: G3, dtype: int64"
      ]
     },
     "execution_count": 16,
     "metadata": {},
     "output_type": "execute_result"
    }
   ],
   "source": [
    "y_test.head()"
   ]
  },
  {
   "cell_type": "code",
   "execution_count": 17,
   "metadata": {},
   "outputs": [
    {
     "data": {
      "text/plain": [
       "array([0, 1, 1, 0, 0])"
      ]
     },
     "execution_count": 17,
     "metadata": {},
     "output_type": "execute_result"
    }
   ],
   "source": [
    "# Get filtered X_test of top 5 features\n",
    "X_test_top_five = X_test[correlation[top_five].index]\n",
    "\n",
    "# Predict along filtered X_test of top 5 features\n",
    "y_pred = log_reg_top5.predict(X_test_top_five)\n",
    "\n",
    "# Display prediction of 5 X_test\n",
    "y_pred[:5]  "
   ]
  },
  {
   "cell_type": "markdown",
   "metadata": {},
   "source": [
    "### 8. Model Evaulation\n",
    "\n",
    "Lets check hows our model is performing using `accuracy` as an evaluation metric which gives the ratio of correctly classified points to the total number of points.\n",
    "\n",
    "### Accuracy\n",
    "\n",
    "**Definition**: Accuracy measures the overall correctness of the model by evaluating the proportion of correctly classified instances out of the total instances. It answers the question: \"What proportion of total instances were correctly classified by the model?\"\n",
    "\n",
    "$$\\text{Accuracy} = \\frac{\\text{True Positives (TP)} + \\text{True Negatives (TN)}}{\\text{True Positives (TP)} + \\text{True Negatives (TN)} + \\text{False Positives (FP)} + \\text{False Negatives (FN)}}$$\n"
   ]
  },
  {
   "cell_type": "code",
   "execution_count": 18,
   "metadata": {},
   "outputs": [
    {
     "name": "stdout",
     "output_type": "stream",
     "text": [
      "Accuracy of Log Reg. Model with top 5 features: 0.892\n"
     ]
    }
   ],
   "source": [
    "from sklearn.metrics import accuracy_score\n",
    "\n",
    "# Calculate accuracy\n",
    "accuracy = accuracy_score(y_test, y_pred)\n",
    "print(\"Accuracy of Log Reg. Model with top 5 features:\", round(accuracy, 3))"
   ]
  },
  {
   "cell_type": "markdown",
   "metadata": {},
   "source": [
    "> Though the dataset here is balanced dataset that maynot be always the case. In case of imbalanced dataset there are other metrics such as __recall__, __precision__, __F1-Score__ for better evaluation of the model. And, such metrics can be visualized using __confusion matrix__.\n",
    "\n",
    "### Precision\n",
    "\n",
    "**Definition**: Precision measures the accuracy of the positive predictions made by the model. It answers the question: \"Of all the instances classified as positive, how many are actually positive?\"\n",
    "\n",
    "$$\\text{Precision} = \\frac{\\text{True Positives (TP)}}{\\text{True Positives (TP)} + \\text{False Positives (FP)}}$$\n",
    "\n",
    "- **True Positives (TP)**: Correctly predicted positive cases.\n",
    "- **False Positives (FP)**: Cases incorrectly predicted as positive.\n",
    "\n",
    "**Interpretation**: High precision means that when the model predicts positive, it is often correct. Precision is particularly important when the cost of false positives is high.\n",
    "\n",
    "### Recall (Sensitivity)\n",
    "\n",
    "**Definition**: Recall measures the model's ability to identify all relevant positive instances. It answers the question: \"Of all the actual positive instances, how many did the model correctly identify?\"\n",
    "\n",
    "$$\\text{Recall} = \\frac{\\text{True Positives (TP)}}{\\text{True Positives (TP)} + \\text{False Negatives (FN)}}$$\n",
    "\n",
    "- **False Negatives (FN)**: Cases incorrectly predicted as negative.\n",
    "\n",
    "**Interpretation**: High recall means that the model successfully identifies most of the positive cases. Recall is particularly important when the cost of false negatives is high.\n",
    "\n",
    "### F1-Score\n",
    "\n",
    "**Definition**: The F1-score is the harmonic mean of precision and recall. It provides a single metric that balances both precision and recall. It is useful when you need to take both false positives and false negatives into account.\n",
    "\n",
    "$$\\text{F1-Score} = 2 \\times \\frac{\\text{Precision} \\times \\text{Recall}}{\\text{Precision} + \\text{Recall}}$$\n",
    "\n",
    "**Interpretation**: The F1-score is particularly useful when dealing with imbalanced datasets where one class is more important than the other. It helps to balance the trade-offs between precision and recall.\n"
   ]
  },
  {
   "cell_type": "code",
   "execution_count": 19,
   "metadata": {},
   "outputs": [
    {
     "name": "stdout",
     "output_type": "stream",
     "text": [
      "True Positive: 66\n",
      "True Negative: 50\n",
      "False Positive: 3\n",
      "False Negative: 11\n"
     ]
    }
   ],
   "source": [
    "from sklearn.metrics import confusion_matrix, ConfusionMatrixDisplay\n",
    "\n",
    "# Obtaining Truth negative, False positive, False negative, Truth positive\n",
    "tn, fp, fn, tp = confusion_matrix(y_test, y_pred).ravel()\n",
    "\n",
    "print(\"True Positive:\", tp)\n",
    "print(\"True Negative:\", tn)\n",
    "print(\"False Positive:\", fp)\n",
    "print(\"False Negative:\", fn)"
   ]
  },
  {
   "cell_type": "code",
   "execution_count": 20,
   "metadata": {},
   "outputs": [
    {
     "data": {
      "image/png": "[encoded data removed]",
      "text/plain": [
       "<Figure size 640x480 with 2 Axes>"
      ]
     },
     "metadata": {},
     "output_type": "display_data"
    }
   ],
   "source": [
    "# Assign Class_names\n",
    "class_names = [\"Fail\", \"Pass\"]\n",
    "\n",
    "# Plot confusion matrix\n",
    "ConfusionMatrixDisplay.from_estimator(log_reg_top5, \n",
    "                                      X_test[top_five], \n",
    "                                      y_test, \n",
    "                                      display_labels=class_names\n",
    ");"
   ]
  },
  {
   "cell_type": "markdown",
   "metadata": {},
   "source": [
    "### 9. Model Evaluation"
   ]
  },
  {
   "cell_type": "code",
   "execution_count": 21,
   "metadata": {},
   "outputs": [
    {
     "name": "stdout",
     "output_type": "stream",
     "text": [
      "Test Accuracy with top 5 features: 0.892\n",
      "Test Precision Score with top 5 features: 0.957\n",
      "Test Recall Score with top 5 features: 0.857\n",
      "Test F1 Score with top 5 features: 0.904\n"
     ]
    }
   ],
   "source": [
    "from sklearn.metrics import accuracy_score, precision_score, recall_score, f1_score\n",
    "\n",
    "def calculate_score(y_test, y_pred):\n",
    "    \"\"\" Compute evaluation metrics \"\"\"\n",
    "    accuracy = accuracy_score(y_test, y_pred)\n",
    "    precision = precision_score(y_test, y_pred)\n",
    "    recall = recall_score(y_test, y_pred)\n",
    "    f1Score = f1_score(y_test, y_pred)\n",
    "    return accuracy, precision, recall, f1Score\n",
    "\n",
    "# Calculate all evaluation metrics\n",
    "accuracy, precision, recall, f1Score = calculate_score(y_test, y_pred)\n",
    "\n",
    "print(\"Test Accuracy with top 5 features:\", round(accuracy, 3))\n",
    "print(\"Test Precision Score with top 5 features:\", round(precision, 3))\n",
    "print(\"Test Recall Score with top 5 features:\", round(recall, 3))\n",
    "print(\"Test F1 Score with top 5 features:\", round(f1Score, 3))"
   ]
  },
  {
   "cell_type": "markdown",
   "metadata": {},
   "source": [
    "### 10. Variable Encoding\n",
    "\n",
    "Machine learning algorithms cannot understand categorical straings such as student's sex (Male '$M$' or Female '$F$') unlesss we convert them to numerical values 0:'$F$' and 1:'$M$'. We can do this using __Label Encoding__.\n",
    "\n",
    "__Label Encoding__ assigns a value from 1 through N for each category for the feature, here we are assuming there are N categories. \n",
    "\n",
    "Example: Medu - mother's education (numeric: 0 - none, 1 - primary education (4th grade), 2 - 5th to 9th grade, 3 - secondary education or 4 - higher education) has already been encoded numerically.\n",
    "\n",
    "Label Encoder assumes that there is some order in the data, i.e., value 2 is greater than value 1, which is good if the data is ordinal but it is not suitable for nominal data types without any inherent order, such as mother's job (nominal: 'teacher', 'health' care related, civil 'services' (e.g., administrative or police), 'at_home' or 'other'), in such cases we need to perform some other encoding method, such as one-hot Encoding\n",
    "\n",
    "__One-hot Encoding__ maps each category to a vector that contains 1 and 0 denoting the presence or absence of the feature. Hence, this method will create multiple columns based on the features' cardinality, i.e., the number of categories in the feature. For: e.g.: Mjob - mother's job (nominal: 'teacher', 'health' care related, civil 'services' (e.g., administrative or police), 'at_home' or 'other') has four different categories. Hence four columns will be created.\n",
    "\n",
    "More about different [__types of encoding__](https://towardsdatascience.com/all-about-categorical-variable-encoding-305f3361fd02).\n"
   ]
  },
  {
   "cell_type": "code",
   "execution_count": 22,
   "metadata": {},
   "outputs": [
    {
     "data": {
      "text/plain": [
       "['age',\n",
       " 'Medu',\n",
       " 'Fedu',\n",
       " 'traveltime',\n",
       " 'studytime',\n",
       " 'failures',\n",
       " 'famrel',\n",
       " 'freetime',\n",
       " 'goout',\n",
       " 'Dalc',\n",
       " 'Walc',\n",
       " 'health',\n",
       " 'absences',\n",
       " 'G1',\n",
       " 'G2',\n",
       " 'G3']"
      ]
     },
     "execution_count": 22,
     "metadata": {},
     "output_type": "execute_result"
    }
   ],
   "source": [
    "# List all numeric columns\n",
    "numeric_columns = df.select_dtypes(include='number').columns.tolist()\n",
    "numeric_columns"
   ]
  },
  {
   "cell_type": "code",
   "execution_count": 23,
   "metadata": {},
   "outputs": [
    {
     "data": {
      "text/plain": [
       "['age',\n",
       " 'Medu',\n",
       " 'Fedu',\n",
       " 'traveltime',\n",
       " 'studytime',\n",
       " 'failures',\n",
       " 'famrel',\n",
       " 'freetime',\n",
       " 'goout',\n",
       " 'Dalc',\n",
       " 'Walc',\n",
       " 'health',\n",
       " 'absences',\n",
       " 'G1',\n",
       " 'G2']"
      ]
     },
     "execution_count": 23,
     "metadata": {},
     "output_type": "execute_result"
    }
   ],
   "source": [
    "numeric_columns = [col for col in numeric_columns if col != \"G3\"]\n",
    "numeric_columns"
   ]
  },
  {
   "cell_type": "code",
   "execution_count": 24,
   "metadata": {},
   "outputs": [
    {
     "data": {
      "text/plain": [
       "['school',\n",
       " 'sex',\n",
       " 'address',\n",
       " 'famsize',\n",
       " 'Pstatus',\n",
       " 'schoolsup',\n",
       " 'famsup',\n",
       " 'paid',\n",
       " 'activities',\n",
       " 'nursery',\n",
       " 'higher',\n",
       " 'internet',\n",
       " 'romantic']"
      ]
     },
     "execution_count": 24,
     "metadata": {},
     "output_type": "execute_result"
    }
   ],
   "source": [
    "# Get binary (categorical) columns\n",
    "binary_columns = [col for col in df.columns if df[col].nunique() == 2]\n",
    "binary_columns"
   ]
  },
  {
   "cell_type": "code",
   "execution_count": 25,
   "metadata": {},
   "outputs": [
    {
     "data": {
      "text/plain": [
       "['school',\n",
       " 'sex',\n",
       " 'address',\n",
       " 'famsize',\n",
       " 'Pstatus',\n",
       " 'Mjob',\n",
       " 'Fjob',\n",
       " 'reason',\n",
       " 'guardian',\n",
       " 'schoolsup',\n",
       " 'famsup',\n",
       " 'paid',\n",
       " 'activities',\n",
       " 'nursery',\n",
       " 'higher',\n",
       " 'internet',\n",
       " 'romantic']"
      ]
     },
     "execution_count": 25,
     "metadata": {},
     "output_type": "execute_result"
    }
   ],
   "source": [
    "# Get nominal (categorical) columns\n",
    "nominal_columns = df.select_dtypes(include=['object', 'category']).columns.tolist()\n",
    "nominal_columns"
   ]
  },
  {
   "cell_type": "code",
   "execution_count": 26,
   "metadata": {},
   "outputs": [
    {
     "data": {
      "text/plain": [
       "['Mjob', 'reason', 'guardian', 'Fjob']"
      ]
     },
     "execution_count": 26,
     "metadata": {},
     "output_type": "execute_result"
    }
   ],
   "source": [
    "# Include only those nominal categories which are not listed in binary categories\n",
    "nominal_columns_binary_excluded = list(set(nominal_columns) - set(binary_columns))\n",
    "nominal_columns_binary_excluded"
   ]
  },
  {
   "cell_type": "code",
   "execution_count": 27,
   "metadata": {},
   "outputs": [
    {
     "data": {
      "text/html": [
       "<div>\n",
       "<style scoped>\n",
       "    .dataframe tbody tr th:only-of-type {\n",
       "        vertical-align: middle;\n",
       "    }\n",
       "\n",
       "    .dataframe tbody tr th {\n",
       "        vertical-align: top;\n",
       "    }\n",
       "\n",
       "    .dataframe thead th {\n",
       "        text-align: right;\n",
       "    }\n",
       "</style>\n",
       "<table border=\"1\" class=\"dataframe\">\n",
       "  <thead>\n",
       "    <tr style=\"text-align: right;\">\n",
       "      <th></th>\n",
       "      <th>school</th>\n",
       "      <th>sex</th>\n",
       "      <th>age</th>\n",
       "      <th>address</th>\n",
       "      <th>famsize</th>\n",
       "      <th>Pstatus</th>\n",
       "      <th>Medu</th>\n",
       "      <th>Fedu</th>\n",
       "      <th>Mjob</th>\n",
       "      <th>Fjob</th>\n",
       "      <th>...</th>\n",
       "      <th>romantic</th>\n",
       "      <th>famrel</th>\n",
       "      <th>freetime</th>\n",
       "      <th>goout</th>\n",
       "      <th>Dalc</th>\n",
       "      <th>Walc</th>\n",
       "      <th>health</th>\n",
       "      <th>absences</th>\n",
       "      <th>G1</th>\n",
       "      <th>G2</th>\n",
       "    </tr>\n",
       "  </thead>\n",
       "  <tbody>\n",
       "    <tr>\n",
       "      <th>34</th>\n",
       "      <td>GP</td>\n",
       "      <td>M</td>\n",
       "      <td>16</td>\n",
       "      <td>U</td>\n",
       "      <td>GT3</td>\n",
       "      <td>T</td>\n",
       "      <td>3</td>\n",
       "      <td>2</td>\n",
       "      <td>other</td>\n",
       "      <td>other</td>\n",
       "      <td>...</td>\n",
       "      <td>no</td>\n",
       "      <td>5</td>\n",
       "      <td>4</td>\n",
       "      <td>3</td>\n",
       "      <td>1</td>\n",
       "      <td>1</td>\n",
       "      <td>5</td>\n",
       "      <td>4</td>\n",
       "      <td>12</td>\n",
       "      <td>12</td>\n",
       "    </tr>\n",
       "    <tr>\n",
       "      <th>432</th>\n",
       "      <td>MS</td>\n",
       "      <td>F</td>\n",
       "      <td>17</td>\n",
       "      <td>R</td>\n",
       "      <td>GT3</td>\n",
       "      <td>T</td>\n",
       "      <td>1</td>\n",
       "      <td>1</td>\n",
       "      <td>other</td>\n",
       "      <td>other</td>\n",
       "      <td>...</td>\n",
       "      <td>no</td>\n",
       "      <td>5</td>\n",
       "      <td>4</td>\n",
       "      <td>4</td>\n",
       "      <td>2</td>\n",
       "      <td>2</td>\n",
       "      <td>5</td>\n",
       "      <td>0</td>\n",
       "      <td>6</td>\n",
       "      <td>6</td>\n",
       "    </tr>\n",
       "    <tr>\n",
       "      <th>399</th>\n",
       "      <td>GP</td>\n",
       "      <td>F</td>\n",
       "      <td>18</td>\n",
       "      <td>U</td>\n",
       "      <td>GT3</td>\n",
       "      <td>T</td>\n",
       "      <td>3</td>\n",
       "      <td>2</td>\n",
       "      <td>other</td>\n",
       "      <td>services</td>\n",
       "      <td>...</td>\n",
       "      <td>yes</td>\n",
       "      <td>5</td>\n",
       "      <td>4</td>\n",
       "      <td>3</td>\n",
       "      <td>2</td>\n",
       "      <td>3</td>\n",
       "      <td>1</td>\n",
       "      <td>4</td>\n",
       "      <td>14</td>\n",
       "      <td>16</td>\n",
       "    </tr>\n",
       "    <tr>\n",
       "      <th>346</th>\n",
       "      <td>GP</td>\n",
       "      <td>M</td>\n",
       "      <td>17</td>\n",
       "      <td>U</td>\n",
       "      <td>LE3</td>\n",
       "      <td>T</td>\n",
       "      <td>4</td>\n",
       "      <td>4</td>\n",
       "      <td>other</td>\n",
       "      <td>teacher</td>\n",
       "      <td>...</td>\n",
       "      <td>no</td>\n",
       "      <td>4</td>\n",
       "      <td>1</td>\n",
       "      <td>1</td>\n",
       "      <td>2</td>\n",
       "      <td>2</td>\n",
       "      <td>5</td>\n",
       "      <td>0</td>\n",
       "      <td>12</td>\n",
       "      <td>13</td>\n",
       "    </tr>\n",
       "    <tr>\n",
       "      <th>542</th>\n",
       "      <td>MS</td>\n",
       "      <td>F</td>\n",
       "      <td>16</td>\n",
       "      <td>U</td>\n",
       "      <td>GT3</td>\n",
       "      <td>T</td>\n",
       "      <td>4</td>\n",
       "      <td>4</td>\n",
       "      <td>teacher</td>\n",
       "      <td>services</td>\n",
       "      <td>...</td>\n",
       "      <td>yes</td>\n",
       "      <td>5</td>\n",
       "      <td>3</td>\n",
       "      <td>5</td>\n",
       "      <td>1</td>\n",
       "      <td>4</td>\n",
       "      <td>5</td>\n",
       "      <td>1</td>\n",
       "      <td>10</td>\n",
       "      <td>11</td>\n",
       "    </tr>\n",
       "  </tbody>\n",
       "</table>\n",
       "<p>5 rows × 32 columns</p>\n",
       "</div>"
      ],
      "text/plain": [
       "    school sex  age address famsize Pstatus  Medu  Fedu     Mjob      Fjob  \\\n",
       "34      GP   M   16       U     GT3       T     3     2    other     other   \n",
       "432     MS   F   17       R     GT3       T     1     1    other     other   \n",
       "399     GP   F   18       U     GT3       T     3     2    other  services   \n",
       "346     GP   M   17       U     LE3       T     4     4    other   teacher   \n",
       "542     MS   F   16       U     GT3       T     4     4  teacher  services   \n",
       "\n",
       "     ... romantic famrel  freetime  goout  Dalc Walc health absences  G1  G2  \n",
       "34   ...       no      5         4      3     1    1      5        4  12  12  \n",
       "432  ...       no      5         4      4     2    2      5        0   6   6  \n",
       "399  ...      yes      5         4      3     2    3      1        4  14  16  \n",
       "346  ...       no      4         1      1     2    2      5        0  12  13  \n",
       "542  ...      yes      5         3      5     1    4      5        1  10  11  \n",
       "\n",
       "[5 rows x 32 columns]"
      ]
     },
     "execution_count": 27,
     "metadata": {},
     "output_type": "execute_result"
    }
   ],
   "source": [
    "X_train.head()"
   ]
  },
  {
   "cell_type": "code",
   "execution_count": 28,
   "metadata": {},
   "outputs": [
    {
     "data": {
      "text/html": [
       "<div>\n",
       "<style scoped>\n",
       "    .dataframe tbody tr th:only-of-type {\n",
       "        vertical-align: middle;\n",
       "    }\n",
       "\n",
       "    .dataframe tbody tr th {\n",
       "        vertical-align: top;\n",
       "    }\n",
       "\n",
       "    .dataframe thead th {\n",
       "        text-align: right;\n",
       "    }\n",
       "</style>\n",
       "<table border=\"1\" class=\"dataframe\">\n",
       "  <thead>\n",
       "    <tr style=\"text-align: right;\">\n",
       "      <th></th>\n",
       "      <th>school</th>\n",
       "      <th>sex</th>\n",
       "      <th>age</th>\n",
       "      <th>address</th>\n",
       "      <th>famsize</th>\n",
       "      <th>Pstatus</th>\n",
       "      <th>Medu</th>\n",
       "      <th>Fedu</th>\n",
       "      <th>traveltime</th>\n",
       "      <th>studytime</th>\n",
       "      <th>...</th>\n",
       "      <th>reason_other</th>\n",
       "      <th>reason_reputation</th>\n",
       "      <th>guardian_father</th>\n",
       "      <th>guardian_mother</th>\n",
       "      <th>guardian_other</th>\n",
       "      <th>Fjob_at_home</th>\n",
       "      <th>Fjob_health</th>\n",
       "      <th>Fjob_other</th>\n",
       "      <th>Fjob_services</th>\n",
       "      <th>Fjob_teacher</th>\n",
       "    </tr>\n",
       "  </thead>\n",
       "  <tbody>\n",
       "    <tr>\n",
       "      <th>34</th>\n",
       "      <td>0</td>\n",
       "      <td>1</td>\n",
       "      <td>16</td>\n",
       "      <td>1</td>\n",
       "      <td>0</td>\n",
       "      <td>1</td>\n",
       "      <td>3</td>\n",
       "      <td>2</td>\n",
       "      <td>1</td>\n",
       "      <td>1</td>\n",
       "      <td>...</td>\n",
       "      <td>False</td>\n",
       "      <td>False</td>\n",
       "      <td>False</td>\n",
       "      <td>True</td>\n",
       "      <td>False</td>\n",
       "      <td>False</td>\n",
       "      <td>False</td>\n",
       "      <td>True</td>\n",
       "      <td>False</td>\n",
       "      <td>False</td>\n",
       "    </tr>\n",
       "    <tr>\n",
       "      <th>432</th>\n",
       "      <td>1</td>\n",
       "      <td>0</td>\n",
       "      <td>17</td>\n",
       "      <td>0</td>\n",
       "      <td>0</td>\n",
       "      <td>1</td>\n",
       "      <td>1</td>\n",
       "      <td>1</td>\n",
       "      <td>1</td>\n",
       "      <td>1</td>\n",
       "      <td>...</td>\n",
       "      <td>True</td>\n",
       "      <td>False</td>\n",
       "      <td>True</td>\n",
       "      <td>False</td>\n",
       "      <td>False</td>\n",
       "      <td>False</td>\n",
       "      <td>False</td>\n",
       "      <td>True</td>\n",
       "      <td>False</td>\n",
       "      <td>False</td>\n",
       "    </tr>\n",
       "    <tr>\n",
       "      <th>399</th>\n",
       "      <td>0</td>\n",
       "      <td>0</td>\n",
       "      <td>18</td>\n",
       "      <td>1</td>\n",
       "      <td>0</td>\n",
       "      <td>1</td>\n",
       "      <td>3</td>\n",
       "      <td>2</td>\n",
       "      <td>1</td>\n",
       "      <td>3</td>\n",
       "      <td>...</td>\n",
       "      <td>True</td>\n",
       "      <td>False</td>\n",
       "      <td>False</td>\n",
       "      <td>True</td>\n",
       "      <td>False</td>\n",
       "      <td>False</td>\n",
       "      <td>False</td>\n",
       "      <td>False</td>\n",
       "      <td>True</td>\n",
       "      <td>False</td>\n",
       "    </tr>\n",
       "    <tr>\n",
       "      <th>346</th>\n",
       "      <td>0</td>\n",
       "      <td>1</td>\n",
       "      <td>17</td>\n",
       "      <td>1</td>\n",
       "      <td>1</td>\n",
       "      <td>1</td>\n",
       "      <td>4</td>\n",
       "      <td>4</td>\n",
       "      <td>2</td>\n",
       "      <td>1</td>\n",
       "      <td>...</td>\n",
       "      <td>False</td>\n",
       "      <td>False</td>\n",
       "      <td>True</td>\n",
       "      <td>False</td>\n",
       "      <td>False</td>\n",
       "      <td>False</td>\n",
       "      <td>False</td>\n",
       "      <td>False</td>\n",
       "      <td>False</td>\n",
       "      <td>True</td>\n",
       "    </tr>\n",
       "    <tr>\n",
       "      <th>542</th>\n",
       "      <td>1</td>\n",
       "      <td>0</td>\n",
       "      <td>16</td>\n",
       "      <td>1</td>\n",
       "      <td>0</td>\n",
       "      <td>1</td>\n",
       "      <td>4</td>\n",
       "      <td>4</td>\n",
       "      <td>2</td>\n",
       "      <td>3</td>\n",
       "      <td>...</td>\n",
       "      <td>False</td>\n",
       "      <td>False</td>\n",
       "      <td>False</td>\n",
       "      <td>True</td>\n",
       "      <td>False</td>\n",
       "      <td>False</td>\n",
       "      <td>False</td>\n",
       "      <td>False</td>\n",
       "      <td>True</td>\n",
       "      <td>False</td>\n",
       "    </tr>\n",
       "  </tbody>\n",
       "</table>\n",
       "<p>5 rows × 45 columns</p>\n",
       "</div>"
      ],
      "text/plain": [
       "     school  sex  age  address  famsize  Pstatus  Medu  Fedu  traveltime  \\\n",
       "34        0    1   16        1        0        1     3     2           1   \n",
       "432       1    0   17        0        0        1     1     1           1   \n",
       "399       0    0   18        1        0        1     3     2           1   \n",
       "346       0    1   17        1        1        1     4     4           2   \n",
       "542       1    0   16        1        0        1     4     4           2   \n",
       "\n",
       "     studytime  ...  reason_other  reason_reputation  guardian_father  \\\n",
       "34           1  ...         False              False            False   \n",
       "432          1  ...          True              False             True   \n",
       "399          3  ...          True              False            False   \n",
       "346          1  ...         False              False             True   \n",
       "542          3  ...         False              False            False   \n",
       "\n",
       "     guardian_mother  guardian_other  Fjob_at_home  Fjob_health  Fjob_other  \\\n",
       "34              True           False         False        False        True   \n",
       "432            False           False         False        False        True   \n",
       "399             True           False         False        False       False   \n",
       "346            False           False         False        False       False   \n",
       "542             True           False         False        False       False   \n",
       "\n",
       "     Fjob_services  Fjob_teacher  \n",
       "34           False         False  \n",
       "432          False         False  \n",
       "399           True         False  \n",
       "346          False          True  \n",
       "542           True         False  \n",
       "\n",
       "[5 rows x 45 columns]"
      ]
     },
     "execution_count": 28,
     "metadata": {},
     "output_type": "execute_result"
    }
   ],
   "source": [
    "from sklearn.preprocessing import LabelEncoder\n",
    "\n",
    "def preprocess(df, binary, nominal):\n",
    "    \"\"\" Label Encoding \"\"\"\n",
    "    df[binary] = df[binary].apply(LabelEncoder().fit_transform)\n",
    "    df = pd.get_dummies(df, columns=nominal, prefix=nominal)\n",
    "    return df\n",
    "\n",
    "X_train = preprocess(X_train, binary_columns, nominal_columns_binary_excluded)\n",
    "X_test = preprocess(X_test, binary_columns, nominal_columns_binary_excluded)\n",
    "\n",
    "X_train.head()"
   ]
  },
  {
   "cell_type": "markdown",
   "metadata": {},
   "source": [
    "### 11. Fit Logistic Regression model on all Features\n",
    "\n",
    "*Note: Using `liblinear` as the solver in Logistic Regression*\n",
    "\n",
    "[Logistic Regression Solvers](https://scikit-learn.org/stable/modules/generated/sklearn.linear_model.LogisticRegression.html)"
   ]
  },
  {
   "cell_type": "code",
   "execution_count": 31,
   "metadata": {},
   "outputs": [
    {
     "name": "stdout",
     "output_type": "stream",
     "text": [
      "Using all features the value of Theta: \n",
      "[[ 0.06639358 -0.88469843 -0.66561473 -0.11978836 -0.34751782 -0.58558346\n",
      "  -0.04553309 -0.19163718 -0.17619204  0.05381542 -0.60930293 -0.71911178\n",
      "  -0.46621435  0.26487987  0.78603115 -0.41843889 -0.21876209 -0.18446289\n",
      "   0.09890386 -0.11204598 -0.40772321  0.05724029 -0.32683498  0.03882063\n",
      "  -0.11640695 -0.09472892  0.15930141  1.72530613 -1.61061528 -0.28290876\n",
      "  -0.57974764  0.03658824  0.34912239 -0.35373505 -0.10469272 -0.86127139\n",
      "  -0.76786189 -1.22534246 -1.26015342  0.39793483 -0.2993963  -0.43977161\n",
      "  -0.50069231 -0.98418053  0.13647969]] \n",
      "and Intercept: \n",
      "[-2.08756105]\n"
     ]
    }
   ],
   "source": [
    "logistic_reg_all = LogisticRegression(fit_intercept=True, solver='liblinear')\n",
    "logistic_reg_all.fit(X_train, y_train)\n",
    "\n",
    "theta_all = logistic_reg_all.coef_\n",
    "intercept_all = logistic_reg_all.intercept_\n",
    "\n",
    "print(f\"Using all features the value of Theta: \\n{theta_all} \\nand Intercept: \\n{intercept_all}\")"
   ]
  },
  {
   "cell_type": "markdown",
   "metadata": {},
   "source": [
    "### 12. Model Prediction and Evaluation"
   ]
  },
  {
   "cell_type": "code",
   "execution_count": 32,
   "metadata": {},
   "outputs": [],
   "source": [
    "y_pred_all = logistic_reg_all.predict(X_test)"
   ]
  },
  {
   "cell_type": "code",
   "execution_count": 34,
   "metadata": {},
   "outputs": [
    {
     "data": {
      "image/png": "[encoded data removed]",
      "text/plain": [
       "<Figure size 640x480 with 2 Axes>"
      ]
     },
     "metadata": {},
     "output_type": "display_data"
    }
   ],
   "source": [
    "# Plot Confusion Matrix.\n",
    "from sklearn.metrics import confusion_matrix, ConfusionMatrixDisplay\n",
    "\n",
    "class_names =['fail', 'pass']\n",
    "ConfusionMatrixDisplay.from_estimator(logistic_reg_all, X_test, y_test, display_labels=class_names);"
   ]
  },
  {
   "cell_type": "code",
   "execution_count": 36,
   "metadata": {},
   "outputs": [
    {
     "name": "stdout",
     "output_type": "stream",
     "text": [
      "True Positive: 68\n",
      "True Negative: 44\n",
      "False Positive: 9\n",
      "False Negative: 9\n"
     ]
    }
   ],
   "source": [
    "# Print Number of True Positive, True Negative, False Positive and False Negative.\n",
    "tn_all, fp_all, fn_all, tp_all = confusion_matrix(y_test, y_pred_all).ravel()\n",
    "\n",
    "print(\"True Positive:\", tp_all)\n",
    "print(\"True Negative:\", tn_all)\n",
    "print(\"False Positive:\", fp_all)\n",
    "print(\"False Negative:\", fn_all)"
   ]
  },
  {
   "cell_type": "code",
   "execution_count": 41,
   "metadata": {},
   "outputs": [
    {
     "name": "stdout",
     "output_type": "stream",
     "text": [
      "Test Accuracy using all features 0.862\n",
      "Test Precision score using all features 0.883\n",
      "Test Recall score using all features 0.883\n",
      "Test F1 score using all features 0.883\n"
     ]
    }
   ],
   "source": [
    "accuracy_all, precision_all, recall_all, f1Score_all = calculate_score(y_test, y_pred_all)\n",
    "\n",
    "print(\"Test Accuracy using all features\", round(accuracy_all, 3))\n",
    "print(\"Test Precision score using all features\", round(precision_all, 3))\n",
    "print(\"Test Recall score using all features\", round(recall_all, 3))\n",
    "print(\"Test F1 score using all features\", round(f1Score_all, 3))"
   ]
  },
  {
   "cell_type": "markdown",
   "metadata": {},
   "source": [
    "### 13. Comparision between Results of Top 5 Features and All Features\n",
    "\n",
    "<center>\n",
    "\n",
    "| Metric                   | Top 5 Features | All Features |\n",
    "|--------------------------|----------------|--------------|\n",
    "| Test Accuracy            | 0.892          | 0.862        |\n",
    "| Test Precision Score      | 0.957          | 0.883        |\n",
    "| Test Recall Score         | 0.857          | 0.883        |\n",
    "| Test F1 Score             | 0.904          | 0.883        |\n",
    "\n",
    "</center>\n"
   ]
  },
  {
   "cell_type": "markdown",
   "metadata": {},
   "source": [
    "### 14. How good are these values?\n",
    "\n",
    "One way to ensure we have good accuracy, the F1 score is to check using a baseline model. A baseline model is the one that predicts simply with some pre-defined rules.\n",
    "\n",
    "Check documentation here [Baseline Classifier](https://scikit-learn.org/stable/modules/generated/sklearn.dummy.DummyClassifier.html)"
   ]
  },
  {
   "cell_type": "code",
   "execution_count": 47,
   "metadata": {},
   "outputs": [
    {
     "name": "stdout",
     "output_type": "stream",
     "text": [
      "Test Accuracy with top 5 features 0.892\n",
      "Test F1 Score with top 5 features 0.904\n",
      "----------------------------------------\n",
      "Test Accuracy with Dummy Classifier 0.592\n",
      "Test F1 Score with Dummy Classifier 0.744\n"
     ]
    }
   ],
   "source": [
    "from sklearn.dummy import DummyClassifier\n",
    "from sklearn.metrics import f1_score\n",
    "\n",
    "base_model = DummyClassifier(strategy='most_frequent')\n",
    "base_model.fit(X_train, y_train)\n",
    "\n",
    "y_pred_all = base_model.predict(X_test)\n",
    "accuracy_base = accuracy_score(y_test, y_pred_all)\n",
    "f1score_base = f1_score(y_test, y_pred_all)\n",
    "\n",
    "print(\"Test Accuracy with top 5 features\", round(accuracy, 3))\n",
    "print(\"Test F1 Score with top 5 features\", round(f1Score, 3))\n",
    "print(\"-\"*40)\n",
    "print(\"Test Accuracy with Dummy Classifier\", round(accuracy_base, 3))\n",
    "print(\"Test F1 Score with Dummy Classifier\",round(f1score_base, 3))"
   ]
  },
  {
   "cell_type": "markdown",
   "metadata": {},
   "source": [
    "> We can see here, our model is performing better than the baseline model."
   ]
  },
  {
   "cell_type": "markdown",
   "metadata": {},
   "source": [
    "## Using Model for Prediciton"
   ]
  },
  {
   "cell_type": "code",
   "execution_count": 55,
   "metadata": {},
   "outputs": [
    {
     "data": {
      "text/html": [
       "<div>\n",
       "<style scoped>\n",
       "    .dataframe tbody tr th:only-of-type {\n",
       "        vertical-align: middle;\n",
       "    }\n",
       "\n",
       "    .dataframe tbody tr th {\n",
       "        vertical-align: top;\n",
       "    }\n",
       "\n",
       "    .dataframe thead th {\n",
       "        text-align: right;\n",
       "    }\n",
       "</style>\n",
       "<table border=\"1\" class=\"dataframe\">\n",
       "  <thead>\n",
       "    <tr style=\"text-align: right;\">\n",
       "      <th></th>\n",
       "      <th>G2</th>\n",
       "      <th>G1</th>\n",
       "      <th>failures</th>\n",
       "      <th>Medu</th>\n",
       "      <th>Dalc</th>\n",
       "    </tr>\n",
       "  </thead>\n",
       "  <tbody>\n",
       "    <tr>\n",
       "      <th>481</th>\n",
       "      <td>10</td>\n",
       "      <td>9</td>\n",
       "      <td>0</td>\n",
       "      <td>2</td>\n",
       "      <td>1</td>\n",
       "    </tr>\n",
       "    <tr>\n",
       "      <th>191</th>\n",
       "      <td>9</td>\n",
       "      <td>11</td>\n",
       "      <td>0</td>\n",
       "      <td>3</td>\n",
       "      <td>1</td>\n",
       "    </tr>\n",
       "    <tr>\n",
       "      <th>332</th>\n",
       "      <td>18</td>\n",
       "      <td>18</td>\n",
       "      <td>0</td>\n",
       "      <td>2</td>\n",
       "      <td>1</td>\n",
       "    </tr>\n",
       "    <tr>\n",
       "      <th>560</th>\n",
       "      <td>9</td>\n",
       "      <td>10</td>\n",
       "      <td>0</td>\n",
       "      <td>1</td>\n",
       "      <td>1</td>\n",
       "    </tr>\n",
       "    <tr>\n",
       "      <th>381</th>\n",
       "      <td>14</td>\n",
       "      <td>15</td>\n",
       "      <td>0</td>\n",
       "      <td>4</td>\n",
       "      <td>1</td>\n",
       "    </tr>\n",
       "  </tbody>\n",
       "</table>\n",
       "</div>"
      ],
      "text/plain": [
       "     G2  G1  failures  Medu  Dalc\n",
       "481  10   9         0     2     1\n",
       "191   9  11         0     3     1\n",
       "332  18  18         0     2     1\n",
       "560   9  10         0     1     1\n",
       "381  14  15         0     4     1"
      ]
     },
     "execution_count": 55,
     "metadata": {},
     "output_type": "execute_result"
    }
   ],
   "source": [
    "X_train[['G2', 'G1', 'failures', 'Medu', 'Dalc']].sample(5)"
   ]
  },
  {
   "cell_type": "code",
   "execution_count": 54,
   "metadata": {},
   "outputs": [
    {
     "name": "stdout",
     "output_type": "stream",
     "text": [
      "Fail With 99.0% probability.\n"
     ]
    }
   ],
   "source": [
    "# Sample data for the top 5 features with correct feature names\n",
    "pred_sample = [[10, 8, 1, 22, 5]]\n",
    "feature_names = ['G2', 'G1', 'failures', 'Medu', 'Dalc']\n",
    "# Converting into DataFrame\n",
    "prediction_df = pd.DataFrame(pred_sample, columns=feature_names)\n",
    "\n",
    "# Predict the class.\n",
    "pred = log_reg_top5.predict(prediction_df)\n",
    "\n",
    "# Predict the probability.\n",
    "pred_proba = log_reg_top5.predict_proba(prediction_df)\n",
    "max_1 = pred_proba.max()\n",
    "max_1 = round(max_1, 2)\n",
    "\n",
    "if pred == 0:\n",
    "    print(\"Fail With {}% probability.\".format(max_1*100))\n",
    "else:\n",
    "    print(\"Pass with {}% probability.\".format(max_1*100))"
   ]
  }
 ],
 "metadata": {
  "kernelspec": {
   "display_name": "Python 3",
   "language": "python",
   "name": "python3"
  },
  "language_info": {
   "codemirror_mode": {
    "name": "ipython",
    "version": 3
   },
   "file_extension": ".py",
   "mimetype": "text/x-python",
   "name": "python",
   "nbconvert_exporter": "python",
   "pygments_lexer": "ipython3",
   "version": "3.12.1"
  }
 },
 "nbformat": 4,
 "nbformat_minor": 2
}

{
 "cells": [
  {
   "cell_type": "markdown",
   "metadata": {},
   "source": [
    "# Binary Classification\n",
    "\n",
    "__Binary classification__ is a type of supervised machine learning problem where the goal is to classify input data into one of two distinct classes or categories. The two classes are often represented as $0$ or $1$, **True** or **False**, **Yes** or **No**, or other binary outcomes.\n",
    "\n",
    "Lets revisit the sigmoid function concept, in logistic regression, the ouput of the linear model is passed through a logistic function also known as __sigmoid function__ to give the logistic of the outputs.\n",
    "\n",
    "$$\\therefore\\mathcal{\\hat{P}} = h_w(x) = \\sigma(w^Tx)$$\n",
    "\n",
    "$$\\therefore \\sigma(w^Tx) = \\frac{1}{1 + e^{-w^Tx}}$$\n",
    "\n",
    "Where, $\\sigma(x)$ maps every +ve value of $x$ towards $1$ and every -ve value of $x$ towards $0$. And the output of the function is bound within $(0,1)$. Thus by taking 0.5 as the threshold, we can obtain the predicton $\\hat{y}$ as:\n",
    "\n",
    "$$\\hat{y} =\n",
    "\\begin{cases}\n",
    "  1 & \\text{if} & \\mathcal{\\hat{P}} \\ge 0.5 \\\\\n",
    "  0 & \\text{if} & \\mathcal{\\hat{P}} < 0.5\n",
    "\\end{cases}$$"
   ]
  }
 ],
 "metadata": {
  "language_info": {
   "name": "python"
  }
 },
 "nbformat": 4,
 "nbformat_minor": 2
}

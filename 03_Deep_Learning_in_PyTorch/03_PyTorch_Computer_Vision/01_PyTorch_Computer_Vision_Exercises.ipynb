{
  "nbformat": 4,
  "nbformat_minor": 0,
  "metadata": {
    "colab": {
      "provenance": [],
      "authorship_tag": "ABX9TyONiME6LC4bnyftGynh8fNr"
    },
    "kernelspec": {
      "name": "python3",
      "display_name": "Python 3"
    },
    "language_info": {
      "name": "python"
    }
  },
  "cells": [
    {
      "cell_type": "markdown",
      "source": [
        "## [Exercise](https://www.learnpytorch.io/03_pytorch_computer_vision/#exercises)\n",
        "\n",
        "### 1. What are 3 areas in industry where computer vision is currently being used?\n",
        "\n",
        "- Self Driving Cars [Object Detection]\n",
        "- Security Measures[Facial Recognition or Eye Retina Recognition]\n",
        "- Medical Centres [Disease(Cancer) Detection, , Plant Leaf Disease ]\n"
      ],
      "metadata": {
        "id": "oIXT6d3tOZVE"
      }
    },
    {
      "cell_type": "markdown",
      "source": [
        "### 2. Search \"what is **overfitting** in machine learning\" and write down about what you find.\n",
        "\n",
        "Overfitting means that a trained model has learnt to well about training datasets, including statistical noise and random fluctuations in the training datasets. In such case, the model becomes too focused on capturing the patterns of the training data, resulting in poor performance when presented with new, unseen data.\n",
        "\n",
        "A plot of learning curves shows overfitting if:\n",
        "- The plot of training loss continues to decrease with experience.\n",
        "- The plot of validation loss decreases to a point and begins increasing again.\n",
        "\n",
        "\n",
        "<img src=\"https://machinelearningmastery.com/wp-content/uploads/2018/12/Example-of-Train-and-Validation-Learning-Curves-Showing-An-Overfit-Model.png\" height=\"450\" alt=\"Image Description\">\n",
        "\n",
        "### [More About Other Learning Curves](https://machinelearningmastery.com/learning-curves-for-diagnosing-machine-learning-model-performance/)\n"
      ],
      "metadata": {
        "id": "QnT_4DTFTajC"
      }
    },
    {
      "cell_type": "markdown",
      "source": [
        "### 3. Search \"ways to prevent overfitting in machine learning\".\n",
        "\n",
        "- **Regularization:** Add *L1* or *L2 regularization* to the *loss function* to penalize large model coefficients and prevent complexity.\n",
        "- **Data Augmentation:** Increase training data variability by applying random transformations, reducing overfitting to specific data patterns.\n",
        "- **Model Selection:** Consider simpler models with fewer parameters. More complex models may have a higher risk of overfitting, especially when the amount of training data is limited.\n",
        "- **Dropout:** Integrate *dropout* during training in neural networks to randomly ignore neurons, preventing reliance on specific features.\n",
        "- **Early Stopping:** Monitor validation set performance and halt training when overfitting is detected, promoting generalization.\n",
        "  </br></br>\n",
        "  Other ways are:\n",
        "  - Adding Variation of Datasets\n",
        "  - Data Cleaning [Removal of Noisy Datasets]\n",
        "  - Cross-validation and Learning Curves"
      ],
      "metadata": {
        "id": "yWAGxxxhTwWL"
      }
    },
    {
      "cell_type": "markdown",
      "source": [
        "### 4. Spend 20-minutes reading and clicking through the [CNN Explainer](https://poloclub.github.io/cnn-explainer/) website.\n",
        "\n",
        "*Upload your own example image using the \"**upload**\" button and see what happens in each layer of a CNN as your image passes through it.*\n",
        "\n",
        "*Revisit the concept of `kernel_size`, `stride` and `padding` as well.*"
      ],
      "metadata": {
        "id": "C9efYJfpVpsO"
      }
    }
  ]
}
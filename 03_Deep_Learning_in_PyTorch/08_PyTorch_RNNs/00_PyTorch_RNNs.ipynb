{
  "cells": [
    {
      "cell_type": "markdown",
      "metadata": {
        "colab_type": "text",
        "id": "view-in-github"
      },
      "source": [
        "<a href=\"https://colab.research.google.com/github/LuluW8071/Data-Science/blob/main/Pytorch/08_PyTorch_RNNs/00_PyTorch_RNNs.ipynb\" target=\"_parent\"><img src=\"https://colab.research.google.com/assets/colab-badge.svg\" alt=\"Open In Colab\"/></a>"
      ]
    },
    {
      "cell_type": "markdown",
      "metadata": {
        "id": "_QhJKlROX2RI"
      },
      "source": [
        "# PyTorch RNNs\n",
        "\n",
        "RNNs are a class of artificial neural networks that allow previous outputs to be used as inputs while having hidden states. It consists of connections between nodes that can create cycles, allowing information to persist. This structure enables RNNs to exhibit temporal dynamic behavious, making them well suited for tasks that involve sequential data, such as **time series forecasting**, **natural language processing** and **speech recognition**.\n",
        "\n",
        "<img src=\"https://easyai.tech/wp-content/uploads/2022/08/f0116-2019-07-02-rnn-1.gif\">\n",
        "\n",
        "RNNs have an **internal state** (memory) that is updated each time step based on the current input and the previous state, enabling them to capture and remember dependencies over time.\n",
        "\n",
        ">However, this vanilla RNNs often suffer from issues like **vanishing** & **exploding gradients**, making it dfficult for them to learn long term dependencies.\n",
        "\n",
        "## How RNN differ from Feedforward Neural Network?\n",
        "\n",
        "Unlike traditional feedforward neural networks, RNNs have recurrent connections, allowing information to persist. Each neuron in the network is not only connected to the next layer but also to itself from the previous time step. This cyclic connection enables the network to capture temporal dependencies in the data.\n",
        "\n",
        "<img src=\"https://cdn.analyticsvidhya.com/wp-content/uploads/2020/02/assets_-LvBP1svpACTB1R1x_U4_-LwEQnQw8wHRB6_2zYtG_-LwEZT8zd07mLDuaQZwy_image-1.png\">\n",
        "\n",
        "| **Aspect**                | **Feedforward Neural Networks (FNNs)**                                   | **Recurrent Neural Networks (RNNs)**                                                   |\n",
        "|---------------------------|--------------------------------------------------------------------------|----------------------------------------------------------------------------------------|\n",
        "| **Direction of Information Flow** | Information flows in one direction, from input nodes to output nodes, in a single pass | Information flows in both directions, allowing feedback loops to capture sequential dependencies |\n",
        "| **Feedback Connections**  | No feedback connections                                                  | Feedback connections allow the network to maintain an internal state, enabling it to learn from previous outputs |\n",
        "| **State-Based Representation** | No internal state; only input-output relationships are modeled       | Internal state (or memory) is used to store information, allowing the network to capture long-term dependencies |\n",
        "| **Sequential Processing** | Processes data in parallel, without considering sequential relationships | Designed to process sequential data, where the output of the previous time step is used as input for the next time step |\n",
        "| **Training**              | Trains the network to predict the output for a single input              | Trains the network to predict the output for a sequence of inputs, considering the internal state and feedback connections |\n",
        "| **Applications**          | Suitable for applications like image and speech recognition, where the input can be partitioned into separate, unrelated parts | Well-suited for applications that involve sequential data, such as language translation, speech recognition, and time series forecasting |\n",
        "| **Complexity**            | Generally simpler to implement and train, with fewer parameters to learn | More complex to implement and train, with many more parameters to learn and the need to manage the internal state |\n",
        "| **Error Propagation**     | Error is propagated only through the forward pass, without considering the internal state | Error is propagated backwards through time, allowing the network to adjust the internal state and learn from previous mistakes |\n",
        "\n",
        "\n"
      ]
    },
    {
      "cell_type": "markdown",
      "metadata": {
        "id": "4xyvsEyad4bM"
      },
      "source": [
        "### Unfolding in Recurrent Neural Networks (RNNs)\n",
        "\n",
        "**Unfolding** is a way to visualize and understand how Recurrent Neural Networks (RNNs) process sequential data over time. When we unfold an RNN, we break down its operations into individual time steps, revealing how information flows through the network at each step.\n",
        "\n",
        "<img src=\"https://miro.medium.com/v2/resize:fit:1400/1*SKGAqkVVzT6co-sZ29ze-g.png\">\n",
        "\n",
        "#### Key Concepts:\n",
        "\n",
        "1. **Sequential Processing**:\n",
        "   - RNNs process input data one time step at a time. At each time step t, the RNN takes the current input x<sub>t</sub> and the hidden state from the previous time step h<sub>t-1</sub>.\n",
        "\n",
        "2. **Hidden State**:\n",
        "   - The hidden state h<sub>t</sub> serves as the memory of the network, capturing information from previous inputs. It is updated at each time step based on the current input and the previous hidden state.\n",
        "   - h<sub>t</sub> = f(W<sub>h</sub> ⋅ h<sub>t-1</sub> + W<sub>x</sub> ⋅ x<sub>t</sub> + b)\n",
        "   - Here, W<sub>h</sub> and W<sub>x</sub> are weight matrices, b is a bias vector, and f is an activation function (e.g., tanh or ReLU).\n",
        "\n",
        "3. **Unfolding Process**:\n",
        "   - When we unfold an RNN, we create a sequence of repeated copies of the network, each corresponding to a different time step. This allows us to see how the network evolves over time.\n",
        "   - For a sequence of inputs x<sub>1</sub>, x<sub>2</sub>, ..., x<sub>T</sub>, the RNN is unfolded into T time steps, with each step having its own hidden state h<sub>t</sub> and output y<sub>t</sub>.\n",
        "\n",
        "### [Detailed Explanation on RNNs](https://www.deeplearningbook.org/contents/rnn.html)\n",
        "\n",
        "\n"
      ]
    },
    {
      "cell_type": "markdown",
      "metadata": {},
      "source": [
        "## Types of RNNs\n",
        "\n",
        "Based on the patterns of inputs taken and outputs generated, RNNs can be categorized into five major types:\n",
        "\n",
        "1. **One to One RNNs (Vanilla Neural Networks):** One-to-one Networks are not actually RNNs but Vanilla Neural Networks which has a single entrance and single exit. These type of RNNs are mainly used for general machine learning problems.\n",
        "    \n",
        "2. **One to Many RNNs:** An RNN variant where it takes a single input and generates a sequence of outputs. For example: Image Caption Generator\n",
        "\n",
        "3. **Many to One RNNs:** An RNN variant where it takes a sequence of inputs and produces a single output. For example: Sentiment Analysis\n",
        "\n",
        "4. **Many to Many RNNs (Sequence-to-Sequence):** This variant takes a sequence of inputs and produces a sequence of outputs, matching the input sequence's length. For example: Machine Translation.\n",
        "    \n",
        "5. **Seq2seq RNNs (Sequence-to-Sequence):** In this architecture, there are two RNNs: an encoder RNN that processes the input sequence and summarizes it into a fixed-size context vector, and a decoder RNN that generates the output sequence based on this context vector. For example: Speech Recognition.\n",
        "\n",
        "<img src = \"../../assets/rnn-types.jpg\">\n"
      ]
    },
    {
      "cell_type": "markdown",
      "metadata": {},
      "source": [
        "## Backpropagation Through Time\n",
        "\n",
        "Backpropagation Through Time (BPTT) is a gradient-based optimization algorithm used to train recurrent neural networks (RNNs) and other sequential models. It is an extension of the standard backpropagation algorithm to handle sequences of data.\n",
        "\n",
        "![Back Propagation Through Time](../../assets/backprop-through-time.jpg)\n",
        "\n",
        "To compute the gradients of the objective function with respect to all the decomposed model parameters, we can use the chain rule of calculus to propagate gradients through time. The process involves three main steps:\n",
        "\n",
        "### 1. Forward Pass\n",
        "\n",
        "During the forward pass, we compute the hidden states and output for each time step using the given equations:\n",
        "\n",
        "Hidden state at time step t:\n",
        "\n",
        "$$h_t = activation(W_{hh}h_{t−1} + W_{xh}x_t)$$\n",
        "\n",
        "Output at time step t:\n",
        "\n",
        "$$o_t = W_{ho}h_t$$\n",
        "\n",
        "Where:\n",
        "- $h_t$ is the hidden state at time step `t`.\n",
        "- $x_t$ is the input at time step `t`.\n",
        "- $W_{hh}$ is the weight matrix for the hidden-to-hidden connections.\n",
        "- $W_{xh}$ is the weight matrix for the input-to-hidden connections.\n",
        "- $W_{ho}$ is the weight matrix for the hidden-to-output connections.\n",
        "- `activation` is the identity mapping in this case.\n",
        "\n",
        "### 2. Loss Computation\n",
        "\n",
        "After obtaining the output $O_t$ for each time step, we compute the loss $L_t$ at each time stamp using a loss function (not specified in the given equations):\n",
        "\n",
        "$$L_t = loss(O_t, y_t)$$\n",
        "\n",
        "Where:\n",
        "- is the target at time step `t`.\n",
        "\n",
        "### 3. Backward Pass (BPTT)\n",
        "\n",
        "The goal of BPTT is to compute the gradients of the objective function with respect to all the model parameters (weights). Starting from the last time step (`T`), we backpropagate the gradients through time by iteratively applying the chain rule.\n",
        "\n",
        "- Initialize the gradient of the loss with respect to the output at the last time step:\n",
        "\n",
        "    $$\\frac{\\partial L_T}{\\partial o_T} = \\text{gradient of loss}(o_T, y_T)$$\n",
        "\n",
        "- For each time step t from T to 1:\n",
        "    - Compute the gradient of the loss with respect to the hidden state:\n",
        "\n",
        "        $$\\frac{\\partial L_t}{\\partial h_t} = \\frac{\\partial L_t}{\\partial o_t} \\cdot \\frac{\\partial o_t}{\\partial h_t} + \\frac{\\partial L_{t+1}}{\\partial h_t} \\cdot \\frac{\\partial h_{t+1}}{\\partial h_t}$$\n",
        "\n",
        "    - Compute the gradients of the loss with respect to the weights:\n",
        "\n",
        "        $$\n",
        "        \\frac{\\partial L_t}{\\partial W_{ho}} = \\frac{\\partial L_t}{\\partial o_t} \\cdot \\frac{\\partial o_t}{\\partial W_{ho}} \\\\\n",
        "        \\frac{\\partial L_t}{\\partial W_{hh}} = \\frac{\\partial L_t}{\\partial h_t} \\cdot \\frac{\\partial h_t}{\\partial W_{hh}} \\\\\n",
        "        \\frac{\\partial L_t}{\\partial W_{xh}} = \\frac{\\partial L_t}{\\partial h_t} \\cdot \\frac{\\partial h_t}{\\partial W_{xh}}\n",
        "        $$\n",
        "\n",
        "    - Update the gradient of the loss with respect to the output of the previous time step:\n",
        "\n",
        "        $$\\frac{\\partial L_{t-1}}{\\partial o_{t-1}} = \\frac{\\partial L_t}{\\partial h_t} \\cdot \\frac{\\partial h_t}{\\partial o_{t-1}}$$\n",
        "\n",
        "After computing the gradients for all time steps, we can update the model parameters using an optimization algorithm (e.g., stochastic gradient descent) to minimize the objective function.\n",
        "\n",
        "The computational graph, shown in the figure above, helps visualize the dependencies among model variables and parameters during the computation of the RNN. Each node in the graph represents a variable, and each edge represents a computation involving those variables. The graph helps in understanding how gradients flow through the network during backpropagation through time."
      ]
    },
    {
      "cell_type": "markdown",
      "metadata": {
        "id": "aBWOWlSNkz6t"
      },
      "source": [
        "### 0. Import Libraries"
      ]
    },
    {
      "cell_type": "code",
      "execution_count": 111,
      "metadata": {
        "colab": {
          "base_uri": "https://localhost:8080/",
          "height": 36
        },
        "id": "tacU1mfZV-Ya",
        "outputId": "aa99dfe7-95bd-4ffc-c7f7-a3082db97d20"
      },
      "outputs": [
        {
          "data": {
            "application/vnd.google.colaboratory.intrinsic+json": {
              "type": "string"
            },
            "text/plain": [
              "'cpu'"
            ]
          },
          "execution_count": 111,
          "metadata": {},
          "output_type": "execute_result"
        }
      ],
      "source": [
        "# Importing libraries\n",
        "import torch\n",
        "import torch.nn as nn\n",
        "import matplotlib.pyplot as plt\n",
        "\n",
        "# Setting up device agnostic code\n",
        "device = 'cuda' if torch.cuda.is_available() else 'cpu'\n",
        "device"
      ]
    },
    {
      "cell_type": "markdown",
      "metadata": {
        "id": "9LdJ9mHbk3VB"
      },
      "source": [
        "### 1. Download Datasets"
      ]
    },
    {
      "cell_type": "code",
      "execution_count": 112,
      "metadata": {
        "colab": {
          "base_uri": "https://localhost:8080/"
        },
        "id": "q9SmYm0Ej8IE",
        "outputId": "62dd56ba-8c36-4238-8238-44b5ee72b2e2"
      },
      "outputs": [
        {
          "name": "stdout",
          "output_type": "stream",
          "text": [
            "Downloading...\n",
            "From: https://drive.google.com/uc?id=1eL4Hxm6NMcR6dCwuGDSPmVi-4BkUGKDz\n",
            "To: /content/language_data.zip\n",
            "\r  0% 0.00/2.88M [00:00<?, ?B/s]\r100% 2.88M/2.88M [00:00<00:00, 93.4MB/s]\n"
          ]
        }
      ],
      "source": [
        "# Download dataset\n",
        "!gdown https://drive.google.com/uc?id=1eL4Hxm6NMcR6dCwuGDSPmVi-4BkUGKDz"
      ]
    },
    {
      "cell_type": "code",
      "execution_count": 113,
      "metadata": {
        "id": "wxBhH6X5m2TR"
      },
      "outputs": [],
      "source": [
        "import zipfile\n",
        "\n",
        "# Extract zip data\n",
        "with zipfile.ZipFile('language_data.zip', 'r') as zip_ref:\n",
        "    zip_ref.extractall('/content')"
      ]
    },
    {
      "cell_type": "markdown",
      "metadata": {
        "id": "-LgMR3CtuUHj"
      },
      "source": [
        "### 2. Prepare Datasets"
      ]
    },
    {
      "cell_type": "code",
      "execution_count": 114,
      "metadata": {
        "id": "4WTdXHKDj8AQ"
      },
      "outputs": [],
      "source": [
        "import os\n",
        "import io\n",
        "import unicodedata, string, glob\n",
        "import random\n",
        "\n",
        "# alphabet small + capital letters + \".,;'\"\n",
        "ALL_LETTERS = string.ascii_letters + \".,;'\"\n",
        "\n",
        "# Turn a unicode string to plain ASCII\n",
        "def unicode_to_ascii(s):\n",
        "  return ''.join(\n",
        "      c for c in unicodedata.normalize('NFD', s)\n",
        "      if unicodedata.category(c) != 'Mn'\n",
        "      and c in ALL_LETTERS\n",
        "  )\n",
        "\n",
        "def load_data(path):\n",
        "  # Build the category_lines in dictionary, a list of names per lanaguge\n",
        "  category_lines = {}\n",
        "  all_categories = []\n",
        "\n",
        "  def find_files(path):\n",
        "    return glob.glob(path)\n",
        "\n",
        "  # print(find_files(path))\n",
        "\n",
        "  # Read a file and split into lines\n",
        "  def read_lines(filename):\n",
        "    lines = io.open(filename, encoding='utf-8').read().strip().split('\\n')\n",
        "    return [unicode_to_ascii(line) for line in lines]\n",
        "\n",
        "  for filename in find_files(path):\n",
        "    category = os.path.splitext(os.path.basename(filename))[0]\n",
        "    all_categories.append(category)\n",
        "    lines = read_lines(filename)\n",
        "    category_lines[category] = lines\n",
        "\n",
        "  return category_lines, all_categories"
      ]
    },
    {
      "cell_type": "markdown",
      "metadata": {
        "id": "V7n4MidyrO1V"
      },
      "source": [
        "### One-Hot-Encoding\n",
        "\n",
        "One-hot encoding is a technique used in machine learning to represent categorical data numerically. Each category is represented by a binary vector where only one bit is hot (1) while all others are cold (0), indicating the presence or absence of that category.\n",
        "\n",
        "<img src = \"https://miro.medium.com/v2/resize:fit:2000/1*e70626LPGPlViXMDemmqRQ.png\">\n",
        "\n",
        "Simply, it is a one-hot vector which is filled with 0s except for a 1 at index of a current letter.\n"
      ]
    },
    {
      "cell_type": "code",
      "execution_count": 115,
      "metadata": {
        "id": "ocpDUgPAqsgy"
      },
      "outputs": [],
      "source": [
        "N_LETTERS = len(ALL_LETTERS)\n",
        "\n",
        "# Find letter index from all_letters\n",
        "def letter_to_index(letter):\n",
        "  return ALL_LETTERS.find(letter)\n",
        "\n",
        "# Turn a letter into <1 x n_letters> Tensor\n",
        "def letter_to_tensor(letter):\n",
        "  tensor = torch.zeros(1, N_LETTERS)\n",
        "  tensor[0][letter_to_index(letter)] = 1\n",
        "  return tensor\n",
        "\n",
        "# Turn a line into a <line_length x 1 x n_letters>\n",
        "# or an array of one-hot letter vectors [One-Hot_Encoding]\n",
        "def line_to_tensor(line):\n",
        "  tensor = torch.zeros(len(line), 1, N_LETTERS)\n",
        "  for i, letter in enumerate(line):\n",
        "    tensor[i][0][letter_to_index(letter)] = 1\n",
        "  return tensor"
      ]
    },
    {
      "cell_type": "code",
      "execution_count": 116,
      "metadata": {
        "colab": {
          "base_uri": "https://localhost:8080/"
        },
        "id": "CW22egjCt12F",
        "outputId": "6e4ce35f-6d40-46bf-e657-15c96929c252"
      },
      "outputs": [
        {
          "name": "stdout",
          "output_type": "stream",
          "text": [
            "abcdefghijklmnopqrstuvwxyzABCDEFGHIJKLMNOPQRSTUVWXYZ.,;' \n",
            "\n",
            "Depatouiller\n",
            "Dampfschifffahrtsgesellschaftskapitan\n",
            "Kofuku\n"
          ]
        }
      ],
      "source": [
        "# Display results of above functions\n",
        "text = ['Dépatouiller',                             # French\n",
        "        'Dampfschifffahrtsgesellschaftskapitän',    # German\n",
        "        'Kōfuku']                                   # Japanese\n",
        "\n",
        "print(ALL_LETTERS, '\\n')\n",
        "\n",
        "for sample in text:\n",
        "  print(unicode_to_ascii(sample))    # Removes dialect symbols in words"
      ]
    },
    {
      "cell_type": "code",
      "execution_count": 117,
      "metadata": {
        "colab": {
          "base_uri": "https://localhost:8080/"
        },
        "id": "ERM8wIs_x4f4",
        "outputId": "e28d09e6-0494-41cf-b197-2cba719a5e63"
      },
      "outputs": [
        {
          "name": "stdout",
          "output_type": "stream",
          "text": [
            "Total languages: 18\n",
            "['Abe', 'Abukara', 'Adachi', 'Aida', 'Aihara']\n",
            "26\n",
            "tensor([[0., 0., 0., 0., 0., 0., 0., 0., 0., 0., 0., 0., 0., 0., 0., 0., 0., 0.,\n",
            "         0., 0., 0., 0., 0., 0., 0., 0., 1., 0., 0., 0., 0., 0., 0., 0., 0., 0.,\n",
            "         0., 0., 0., 0., 0., 0., 0., 0., 0., 0., 0., 0., 0., 0., 0., 0., 0., 0.,\n",
            "         0., 0.]])\n",
            "tensor([[[0., 0., 0., 0., 0., 0., 0., 0., 0., 0., 0., 0., 0., 0., 0., 0., 0.,\n",
            "          0., 0., 0., 0., 0., 0., 0., 0., 0., 0., 0., 0., 0., 0., 0., 0., 0.,\n",
            "          0., 0., 0., 0., 0., 0., 0., 1., 0., 0., 0., 0., 0., 0., 0., 0., 0.,\n",
            "          0., 0., 0., 0., 0.]],\n",
            "\n",
            "        [[0., 0., 0., 0., 0., 0., 0., 0., 0., 0., 0., 0., 0., 0., 0., 0., 0.,\n",
            "          0., 0., 0., 0., 0., 0., 0., 1., 0., 0., 0., 0., 0., 0., 0., 0., 0.,\n",
            "          0., 0., 0., 0., 0., 0., 0., 0., 0., 0., 0., 0., 0., 0., 0., 0., 0.,\n",
            "          0., 0., 0., 0., 0.]],\n",
            "\n",
            "        [[0., 0., 0., 0., 0., 0., 0., 0., 0., 0., 0., 0., 0., 0., 0., 0., 0.,\n",
            "          0., 0., 0., 0., 0., 0., 0., 0., 0., 0., 0., 0., 0., 0., 0., 0., 0.,\n",
            "          0., 0., 0., 0., 0., 0., 0., 0., 0., 0., 0., 1., 0., 0., 0., 0., 0.,\n",
            "          0., 0., 0., 0., 0.]],\n",
            "\n",
            "        [[0., 0., 0., 0., 0., 0., 0., 0., 0., 0., 0., 0., 0., 0., 1., 0., 0.,\n",
            "          0., 0., 0., 0., 0., 0., 0., 0., 0., 0., 0., 0., 0., 0., 0., 0., 0.,\n",
            "          0., 0., 0., 0., 0., 0., 0., 0., 0., 0., 0., 0., 0., 0., 0., 0., 0.,\n",
            "          0., 0., 0., 0., 0.]],\n",
            "\n",
            "        [[0., 0., 0., 0., 0., 0., 0., 0., 0., 0., 0., 0., 0., 0., 0., 0., 0.,\n",
            "          1., 0., 0., 0., 0., 0., 0., 0., 0., 0., 0., 0., 0., 0., 0., 0., 0.,\n",
            "          0., 0., 0., 0., 0., 0., 0., 0., 0., 0., 0., 0., 0., 0., 0., 0., 0.,\n",
            "          0., 0., 0., 0., 0.]],\n",
            "\n",
            "        [[0., 0., 1., 0., 0., 0., 0., 0., 0., 0., 0., 0., 0., 0., 0., 0., 0.,\n",
            "          0., 0., 0., 0., 0., 0., 0., 0., 0., 0., 0., 0., 0., 0., 0., 0., 0.,\n",
            "          0., 0., 0., 0., 0., 0., 0., 0., 0., 0., 0., 0., 0., 0., 0., 0., 0.,\n",
            "          0., 0., 0., 0., 0.]],\n",
            "\n",
            "        [[0., 0., 0., 0., 0., 0., 0., 1., 0., 0., 0., 0., 0., 0., 0., 0., 0.,\n",
            "          0., 0., 0., 0., 0., 0., 0., 0., 0., 0., 0., 0., 0., 0., 0., 0., 0.,\n",
            "          0., 0., 0., 0., 0., 0., 0., 0., 0., 0., 0., 0., 0., 0., 0., 0., 0.,\n",
            "          0., 0., 0., 0., 0.]]])\n",
            "torch.Size([7, 1, 56])\n"
          ]
        }
      ],
      "source": [
        "# Accessing file contents\n",
        "path = 'data/names/*.txt'\n",
        "\n",
        "# Setting up dataloaders\n",
        "category_lines, all_categories = load_data(path)\n",
        "n_categories = len(all_categories)\n",
        "\n",
        "print('Total languages:', n_categories)\n",
        "\n",
        "print(category_lines['Japanese'][:5])\n",
        "\n",
        "# Tensor Mapping after One-Hot-Encoding\n",
        "print(letter_to_index('A'))\n",
        "print(letter_to_tensor('A'))\n",
        "\n",
        "print(line_to_tensor('PyTorch'))\n",
        "print(line_to_tensor('PyTorch').shape)"
      ]
    },
    {
      "cell_type": "code",
      "execution_count": 118,
      "metadata": {
        "id": "FcOgTm3HWFlB"
      },
      "outputs": [],
      "source": [
        "def random_training_example(category_lines, all_categories):\n",
        "  def random_choice(a):\n",
        "    random_idx = random.randint(0, len(a)-1)\n",
        "    return a[random_idx]\n",
        "\n",
        "  category = random_choice(all_categories)\n",
        "  line = random_choice(category_lines[category])\n",
        "  category_tensor = torch.tensor([all_categories.index(category)], dtype=torch.long)\n",
        "  line_tensor = line_to_tensor(line)\n",
        "\n",
        "  return category, line, category_tensor, line_tensor"
      ]
    },
    {
      "cell_type": "markdown",
      "metadata": {
        "id": "ELdmKlGj-xf2"
      },
      "source": [
        "### 3. Building RNN\n",
        "\n",
        "Here, RNN module implements a “vanilla RNN” which is just 3 linear layers which operate on an input and hidden state, with a `LogSoftmax` layer after the output.\n",
        "\n",
        "<img src = \"https://miro.medium.com/v2/resize:fit:640/format:webp/1*1yCiqoUkgkih4FVNR692tg.png\" >"
      ]
    },
    {
      "cell_type": "code",
      "execution_count": 119,
      "metadata": {
        "id": "gfdL5Sb390W8"
      },
      "outputs": [],
      "source": [
        "class RNN(nn.Module):\n",
        "  def __init__(self, input_size, hidden_size, output_size):\n",
        "    super(RNN, self).__init__()\n",
        "\n",
        "    self.hidden_size = hidden_size\n",
        "    self.i2h = nn.Linear(input_size+hidden_size, hidden_size)\n",
        "    self.i2o = nn.Linear(input_size+hidden_size, output_size)\n",
        "    self.softmax = nn.LogSoftmax(dim=1)\n",
        "\n",
        "  def forward(self, input_tensor, hidden_tensor):\n",
        "    combined = torch.cat((input_tensor, hidden_tensor), 1)\n",
        "\n",
        "    hidden = self.i2h(combined)\n",
        "    output = self.softmax(self.i2o(combined))\n",
        "    return output, hidden\n",
        "\n",
        "  def init_hidden(self):\n",
        "    return torch.zeros(1, self.hidden_size)"
      ]
    },
    {
      "cell_type": "code",
      "execution_count": 120,
      "metadata": {
        "colab": {
          "base_uri": "https://localhost:8080/"
        },
        "id": "M0qNfgBa-zZ9",
        "outputId": "b00dc9bf-9f21-4a07-b87b-2173076927f2"
      },
      "outputs": [
        {
          "data": {
            "text/plain": [
              "RNN(\n",
              "  (i2h): Linear(in_features=184, out_features=128, bias=True)\n",
              "  (i2o): Linear(in_features=184, out_features=18, bias=True)\n",
              "  (softmax): LogSoftmax(dim=1)\n",
              ")"
            ]
          },
          "execution_count": 120,
          "metadata": {},
          "output_type": "execute_result"
        }
      ],
      "source": [
        "model = RNN(input_size=N_LETTERS, hidden_size=128, output_size=n_categories).to(device)\n",
        "model"
      ]
    },
    {
      "cell_type": "code",
      "execution_count": 121,
      "metadata": {
        "colab": {
          "base_uri": "https://localhost:8080/"
        },
        "id": "q450osphAsI2",
        "outputId": "58c8e0a8-4694-4cbb-afc4-714d66128a13"
      },
      "outputs": [
        {
          "data": {
            "text/plain": [
              "(tensor([[-2.8790, -2.8840, -2.8008, -2.9885, -2.7753, -2.9500, -2.8259, -2.8036,\n",
              "          -3.0092, -2.8656, -2.8372, -2.8963, -2.8977, -2.9712, -2.8446, -2.8831,\n",
              "          -3.0300, -2.9312]], grad_fn=<LogSoftmaxBackward0>),\n",
              " tensor([[ 0.0256,  0.0240,  0.0370,  0.0370, -0.0696, -0.0437, -0.1273, -0.0991,\n",
              "          -0.0394, -0.0933,  0.0018, -0.0798, -0.1245,  0.0935,  0.0600, -0.0828,\n",
              "          -0.0246,  0.0077,  0.1136, -0.0244, -0.0663,  0.0232,  0.0747,  0.0132,\n",
              "           0.0330,  0.0019, -0.0913, -0.0382, -0.0253,  0.0135,  0.0306, -0.0586,\n",
              "          -0.0588, -0.0789, -0.1291,  0.0269, -0.0725, -0.0176, -0.0599,  0.0142,\n",
              "           0.0673,  0.0706, -0.0238,  0.0023, -0.0647,  0.0979, -0.0263,  0.0477,\n",
              "           0.0477,  0.0345, -0.0301,  0.0480, -0.0575,  0.0138,  0.0119, -0.0448,\n",
              "          -0.0860,  0.0061, -0.0016,  0.0680,  0.0761,  0.1179, -0.0543, -0.0105,\n",
              "           0.1333,  0.0279, -0.0666,  0.0782, -0.0558, -0.0114,  0.0221,  0.0296,\n",
              "           0.0865, -0.0977,  0.0396, -0.0669, -0.0465,  0.0086, -0.0927, -0.0773,\n",
              "          -0.0158,  0.1082, -0.1313, -0.0151,  0.0505,  0.0777,  0.0275,  0.0136,\n",
              "          -0.0100,  0.0022,  0.0265, -0.0316, -0.0239, -0.0603,  0.0537,  0.0914,\n",
              "          -0.0315,  0.0113, -0.0410, -0.0202, -0.0197, -0.0369, -0.1137, -0.0818,\n",
              "          -0.0898, -0.1297,  0.0469,  0.0562, -0.0658, -0.0222,  0.0036, -0.0023,\n",
              "           0.0675,  0.0699, -0.0619,  0.0024, -0.0316,  0.0085, -0.1445,  0.0815,\n",
              "           0.0008,  0.0012, -0.0095,  0.0475, -0.0070,  0.0786, -0.0384, -0.1005]],\n",
              "        grad_fn=<AddmmBackward0>))"
            ]
          },
          "execution_count": 121,
          "metadata": {},
          "output_type": "execute_result"
        }
      ],
      "source": [
        "# Passing an example to check the model\n",
        "input_tensor = letter_to_tensor('A').to(device)\n",
        "hidden_tensor = model.init_hidden().to(device)\n",
        "\n",
        "output, next_hidden = model(input_tensor, hidden_tensor)\n",
        "output, next_hidden"
      ]
    },
    {
      "cell_type": "code",
      "execution_count": 122,
      "metadata": {
        "colab": {
          "base_uri": "https://localhost:8080/"
        },
        "id": "7IvBwarrBumH",
        "outputId": "e8de2be0-cb14-4411-ee0d-c668af56334a"
      },
      "outputs": [
        {
          "data": {
            "text/plain": [
              "(torch.Size([1, 18]), torch.Size([1, 128]))"
            ]
          },
          "execution_count": 122,
          "metadata": {},
          "output_type": "execute_result"
        }
      ],
      "source": [
        "# Passing whole sequence as example\n",
        "input_tensor = line_to_tensor('PyTorch').to(device)\n",
        "hidden_tensor = model.init_hidden().to(device)\n",
        "\n",
        "output, next_hidden = model(input_tensor[0], hidden_tensor)\n",
        "output.shape, next_hidden.shape"
      ]
    },
    {
      "cell_type": "code",
      "execution_count": 123,
      "metadata": {
        "colab": {
          "base_uri": "https://localhost:8080/"
        },
        "id": "YeFuSHwcCIvN",
        "outputId": "709e68e3-d523-4f7d-c34f-7150dc4b044e"
      },
      "outputs": [
        {
          "data": {
            "text/plain": [
              "('Russian', 6)"
            ]
          },
          "execution_count": 123,
          "metadata": {},
          "output_type": "execute_result"
        }
      ],
      "source": [
        "def category_from_output(output):\n",
        "  top_n, top_i = output.topk(1)\n",
        "  category_i = top_i[0].item()\n",
        "  return all_categories[category_i], category_i\n",
        "\n",
        "category_from_output(output)"
      ]
    },
    {
      "cell_type": "markdown",
      "metadata": {
        "id": "5FQ-zoCCufNT"
      },
      "source": [
        "### 4. Train RNN"
      ]
    },
    {
      "cell_type": "code",
      "execution_count": 124,
      "metadata": {
        "id": "HDO6X7TlCdrE"
      },
      "outputs": [],
      "source": [
        "# Setting up loss function and optimizier\n",
        "loss_fn = nn.NLLLoss()\n",
        "optimizer = torch.optim.SGD(model.parameters(),\n",
        "                            lr=5e-3) # If you set this too high, it might explode. If too low, it might not learn"
      ]
    },
    {
      "cell_type": "code",
      "execution_count": 125,
      "metadata": {
        "id": "HfPF9aCXRo6H"
      },
      "outputs": [],
      "source": [
        "def train(line_tensor, category_tensor, device):\n",
        "  hidden = model.init_hidden().to(device)\n",
        "  for i in range(line_tensor.size()[0]):\n",
        "    output, hidden = model(line_tensor[i], hidden)\n",
        "\n",
        "  loss = loss_fn(output, category_tensor)\n",
        "  optimizer.zero_grad()\n",
        "  loss.backward()\n",
        "  optimizer.step()\n",
        "\n",
        "  return output, loss.item()"
      ]
    },
    {
      "cell_type": "code",
      "execution_count": 126,
      "metadata": {
        "colab": {
          "base_uri": "https://localhost:8080/",
          "height": 569,
          "referenced_widgets": [
            "81703f03134d457d8c641c8ad6a179d7",
            "f9453bc1442b46acb367a67756e0467c",
            "6bf293a1dc5c45bbb992973e9d11cb43",
            "4ab7c4d7cf2b4fb8a8ab1b3f0c3cf3ea",
            "0b03cf3e4b1f4b2e8d7e1c50501483dc",
            "5514dcddab614ddc96d2ae31dcb430f6",
            "9bebe30b325c423681893b971c253199",
            "a47dd4b8db954054807f5c34357897b1",
            "a31c0750a6c2439e80514d722bc2dbc1",
            "a8808377df4f498d8cbbce1c6cde6340",
            "2691c36a2a534d4eaa4468a269c77a5c"
          ]
        },
        "id": "2qkspB9KVq5r",
        "outputId": "74a0b04b-6ec7-4ee1-d5a7-b94f90ec145f"
      },
      "outputs": [
        {
          "data": {
            "application/vnd.jupyter.widget-view+json": {
              "model_id": "81703f03134d457d8c641c8ad6a179d7",
              "version_major": 2,
              "version_minor": 0
            },
            "text/plain": [
              "  0%|          | 0/150000 [00:00<?, ?it/s]"
            ]
          },
          "metadata": {},
          "output_type": "display_data"
        },
        {
          "name": "stdout",
          "output_type": "stream",
          "text": [
            "Loss: 2.3355 Hung / Chinese ---- ✗ (Korean)\n",
            "Loss: 0.6872 Kaloxylos / Greek ---- ✓\n",
            "Loss: 1.5481 Schneijder / Dutch ---- ✓\n",
            "Loss: 1.0657 Xie / Korean ---- ✗ (Chinese)\n",
            "Loss: 2.7167 Crawford / French ---- ✗ (Scottish)\n",
            "Loss: 1.5263 Macclelland / Italian ---- ✗ (Irish)\n",
            "Loss: 3.3514 Nova / Japanese ---- ✗ (English)\n",
            "Loss: 1.1593 Zha / Chinese ---- ✓\n",
            "Loss: 0.2120 Tsukada / Japanese ---- ✓\n",
            "Loss: 2.0544 Winograd / Czech ---- ✗ (Polish)\n",
            "Loss: 2.2519 Ngai / Chinese ---- ✗ (Korean)\n",
            "Loss: 0.9765 Kosmas / Greek ---- ✓\n",
            "Loss: 2.4148 Hughes / Chinese ---- ✗ (Scottish)\n",
            "Loss: 0.2737 Kawate / Japanese ---- ✓\n",
            "Loss: 1.2411 Caito / Portuguese ---- ✗ (Italian)\n",
            "Loss: 0.3523 Louverdis / Greek ---- ✓\n",
            "Loss: 0.6771 Campos / Portuguese ---- ✓\n",
            "Loss: 3.0076 Ventura / Czech ---- ✗ (Italian)\n",
            "Loss: 1.1441 Cheng / Korean ---- ✗ (Chinese)\n",
            "Loss: 2.9447 Aalst / Arabic ---- ✗ (Dutch)\n",
            "Loss: 3.6711 Ross / Greek ---- ✗ (Scottish)\n",
            "Loss: 2.1548 Lowe / Japanese ---- ✗ (German)\n",
            "Loss: 2.3417 Jeffreys / Dutch ---- ✗ (English)\n",
            "Loss: 1.1788 Acquarone / Irish ---- ✗ (Italian)\n",
            "Loss: 0.2021 Romagnoli / Italian ---- ✓\n",
            "Loss: 1.6073 Kelly / English ---- ✗ (Scottish)\n",
            "Loss: 0.0852 Lezov / Russian ---- ✓\n",
            "Loss: 0.7169 Kato / Japanese ---- ✓\n",
            "Loss: 0.6314 Cho / Korean ---- ✓\n",
            "Loss: 0.2869 Youj / Korean ---- ✓\n"
          ]
        }
      ],
      "source": [
        "from tqdm.auto import tqdm\n",
        "\n",
        "current_loss = 0\n",
        "all_losses = []\n",
        "plot_steps, print_steps = 500, 5000\n",
        "n_iters = 10000 * 15\n",
        "\n",
        "for i in tqdm(range(n_iters)):\n",
        "  category, line, category_tensor, line_tensor = random_training_example(category_lines, all_categories)\n",
        "  line_tensor = line_tensor.to(device)\n",
        "  category_tensor = category_tensor.to(device)\n",
        "\n",
        "  output, loss = train(line_tensor, category_tensor, device)\n",
        "  current_loss += loss\n",
        "\n",
        "  if (i+1) % plot_steps == 0:\n",
        "    all_losses.append(current_loss / plot_steps)    # append avg. losses\n",
        "    current_loss = 0\n",
        "\n",
        "    if (i+1) % print_steps == 0:\n",
        "      guess, guess_i = category_from_output(output)\n",
        "      correct = '✓' if guess == category else '✗ (%s)' % category\n",
        "      print(f'Loss: {loss:.4f} {line} / {guess} ---- {correct}')"
      ]
    },
    {
      "cell_type": "markdown",
      "metadata": {
        "id": "h4wsWEhZuCsJ"
      },
      "source": [
        "### 5. Plot Loss curves"
      ]
    },
    {
      "cell_type": "code",
      "execution_count": 127,
      "metadata": {
        "colab": {
          "base_uri": "https://localhost:8080/",
          "height": 430
        },
        "id": "GW0fX4apy-Lh",
        "outputId": "f8619583-4d56-4766-b568-93911004aee4"
      },
      "outputs": [
        {
          "data": {
            "image/png": "[encoded data removed]",
            "text/plain": [
              "<Figure size 640x480 with 1 Axes>"
            ]
          },
          "metadata": {},
          "output_type": "display_data"
        }
      ],
      "source": [
        "plt.figure()\n",
        "plt.plot(all_losses)\n",
        "plt.show()"
      ]
    },
    {
      "cell_type": "markdown",
      "metadata": {
        "id": "BC3D7IieulN-"
      },
      "source": [
        "### 6. Save Model"
      ]
    },
    {
      "cell_type": "code",
      "execution_count": 128,
      "metadata": {
        "id": "43cKLCi-jReH"
      },
      "outputs": [],
      "source": [
        "from pathlib import Path\n",
        "\n",
        "def save_model(model, target_dir, model_name):\n",
        "    # Create target directory\n",
        "    target_dir_path = Path(target_dir)\n",
        "    target_dir_path.mkdir(parents=True,\n",
        "                            exist_ok=True)\n",
        "\n",
        "    # Create model save path\n",
        "    assert model_name.endswith(\".pth\") or model_name.endswith(\".pt\"), \"model_name should end with '.pt' or '.pth'\"\n",
        "    model_save_path = target_dir_path / model_name\n",
        "\n",
        "    # Save the model state_dict()\n",
        "    print(f\"[INFO] Saving model to: {model_save_path}\")\n",
        "    torch.save(obj=model.state_dict(),\n",
        "                f=model_save_path)"
      ]
    },
    {
      "cell_type": "code",
      "execution_count": 129,
      "metadata": {
        "colab": {
          "base_uri": "https://localhost:8080/"
        },
        "id": "8XWcOb6GjXMl",
        "outputId": "1903e23a-8654-4773-ff38-c4af97de9e19"
      },
      "outputs": [
        {
          "name": "stdout",
          "output_type": "stream",
          "text": [
            "[INFO] Saving model to: /content/models/language.pt\n"
          ]
        }
      ],
      "source": [
        "save_model(model, '/content/models/', 'language.pt')"
      ]
    },
    {
      "cell_type": "markdown",
      "metadata": {
        "id": "pyCH2Knsupr_"
      },
      "source": [
        "### 7. Load Model to cpu"
      ]
    },
    {
      "cell_type": "code",
      "execution_count": 130,
      "metadata": {
        "colab": {
          "base_uri": "https://localhost:8080/"
        },
        "id": "s9Yp9XrCjx9B",
        "outputId": "06a3ca38-2148-4750-ae4b-aad98537b0c0"
      },
      "outputs": [
        {
          "data": {
            "text/plain": [
              "RNN(\n",
              "  (i2h): Linear(in_features=184, out_features=128, bias=True)\n",
              "  (i2o): Linear(in_features=184, out_features=18, bias=True)\n",
              "  (softmax): LogSoftmax(dim=1)\n",
              ")"
            ]
          },
          "execution_count": 130,
          "metadata": {},
          "output_type": "execute_result"
        }
      ],
      "source": [
        "MODEL_SAVE_PATH = \"/content/models/language.pt\"\n",
        "model_info = torch.load(MODEL_SAVE_PATH, map_location=torch.device('cpu'))\n",
        "model.load_state_dict(model_info)\n",
        "\n",
        "model.eval()"
      ]
    },
    {
      "cell_type": "markdown",
      "metadata": {
        "id": "9EvRgR5Autpc"
      },
      "source": [
        "### 8. Predict"
      ]
    },
    {
      "cell_type": "code",
      "execution_count": 131,
      "metadata": {
        "id": "iTkbSQl4XUsn"
      },
      "outputs": [],
      "source": [
        "def predict(model, input_line):\n",
        "  with torch.inference_mode():\n",
        "    line_tensor = line_to_tensor(input_line)\n",
        "    hidden = model.init_hidden()\n",
        "\n",
        "    for i in range(line_tensor.size()[0]):\n",
        "      output, hidden = model(line_tensor[i], hidden)\n",
        "\n",
        "    guess = category_from_output(output)\n",
        "    print(f\"Word: {input_line} \\t Langauge: {guess}\\n\")"
      ]
    },
    {
      "cell_type": "code",
      "execution_count": 132,
      "metadata": {
        "colab": {
          "base_uri": "https://localhost:8080/"
        },
        "id": "hUeDRiRB1oa_",
        "outputId": "420169c4-5998-4754-ea14-e97a4a9f6326"
      },
      "outputs": [
        {
          "name": "stdout",
          "output_type": "stream",
          "text": [
            "Word: Chang \t Langauge: ('Vietnamese', 2)\n",
            "\n",
            "Word: Xiao \t Langauge: ('Chinese', 8)\n",
            "\n",
            "Word: Albert \t Langauge: ('French', 10)\n",
            "\n",
            "Word: Lawrence \t Langauge: ('German', 16)\n",
            "\n",
            "Word: Rhee \t Langauge: ('Chinese', 8)\n",
            "\n",
            "Word: hwang \t Langauge: ('Korean', 14)\n",
            "\n",
            "Word: Akiyama \t Langauge: ('Japanese', 17)\n",
            "\n",
            "Word: Ariyama \t Langauge: ('Japanese', 17)\n",
            "\n",
            "Word: Abbakumovsky \t Langauge: ('Russian', 6)\n",
            "\n"
          ]
        }
      ],
      "source": [
        "words = ['Chang', 'Xiao',      # Chinese\n",
        "         'Albert', 'Lawrence', # English\n",
        "         'Rhee', 'hwang',      # Korean\n",
        "         'Akiyama', 'Ariyama', # Japanese\n",
        "         'Abbakumovsky']       # Russian\n",
        "\n",
        "for word in words:\n",
        "  predict(model, word)"
      ]
    },
    {
      "cell_type": "markdown",
      "metadata": {
        "id": "p5MLtPF6uzB9"
      },
      "source": [
        "### 9. Plot Confusion Matrix"
      ]
    },
    {
      "cell_type": "code",
      "execution_count": 133,
      "metadata": {
        "colab": {
          "base_uri": "https://localhost:8080/",
          "height": 49,
          "referenced_widgets": [
            "81467e9113f341d58f1cfc744a7881dc",
            "b409abce0bf84274be38632ad798a977",
            "da31019d097847efa5711735ac4a3a0b",
            "b7a95d2c0e4f4c3c83b992b8920efe59",
            "4c2891cc54674761905e7529e2583bb2",
            "5e76d0a57ba04b60af928f9ef16b5051",
            "7d5aad2f3cfa48ac9eb6088f85432849",
            "b7e70fc48c2f4c318d184ec7a51fa720",
            "3561f5378b0d4d2592044995cef56186",
            "f966979c87c64ef9bf9e9383bae04586",
            "f4d29a252b4545cfad36b75e2813ccce"
          ]
        },
        "id": "s0Xa2DjKh6SX",
        "outputId": "76a12894-3863-4e2a-ce9b-df16e9a02860"
      },
      "outputs": [
        {
          "data": {
            "application/vnd.jupyter.widget-view+json": {
              "model_id": "81467e9113f341d58f1cfc744a7881dc",
              "version_major": 2,
              "version_minor": 0
            },
            "text/plain": [
              "  0%|          | 0/10000 [00:00<?, ?it/s]"
            ]
          },
          "metadata": {},
          "output_type": "display_data"
        }
      ],
      "source": [
        "import matplotlib.ticker as ticker\n",
        "\n",
        "# Keep track of correct guesses in a confusion matrix\n",
        "confusion = torch.zeros(n_categories, n_categories)\n",
        "n_confusion = 10000\n",
        "\n",
        "# Just return an output given a line\n",
        "def evaluate(line_tensor):\n",
        "    hidden = model.init_hidden()\n",
        "\n",
        "    for i in range(line_tensor.size()[0]):\n",
        "        output, hidden = model(line_tensor[i], hidden)\n",
        "\n",
        "    return output\n",
        "\n",
        "# Go through a bunch of examples and record which are correctly guessed\n",
        "for i in tqdm(range(n_confusion)):\n",
        "    category, line, category_tensor, line_tensor = random_training_example(category_lines, all_categories)\n",
        "    output = evaluate(line_tensor)\n",
        "    guess, guess_i = category_from_output(output)\n",
        "    category_i = all_categories.index(category)\n",
        "    confusion[category_i][guess_i] += 1\n",
        "\n",
        "# Normalize by dividing every row by its sum\n",
        "for i in range(n_categories):\n",
        "    confusion[i] = confusion[i] / confusion[i].sum()"
      ]
    },
    {
      "cell_type": "code",
      "execution_count": 134,
      "metadata": {
        "colab": {
          "base_uri": "https://localhost:8080/",
          "height": 753
        },
        "id": "lHKd4F8pnZyA",
        "outputId": "02bccee2-fc95-472e-c6b6-5b6f8ac729ab"
      },
      "outputs": [
        {
          "data": {
            "image/png": "[encoded data removed]",
            "text/plain": [
              "<Figure size 1400x800 with 2 Axes>"
            ]
          },
          "metadata": {},
          "output_type": "display_data"
        }
      ],
      "source": [
        "# Set up plot\n",
        "fig = plt.figure(figsize=(14, 8))\n",
        "ax = fig.add_subplot(111)\n",
        "cax = ax.matshow(confusion.numpy())\n",
        "fig.colorbar(cax)\n",
        "\n",
        "# Set up axes\n",
        "ax.set_xticks(range(n_categories))\n",
        "ax.set_yticks(range(n_categories))\n",
        "ax.set_xticklabels(all_categories, rotation=90)\n",
        "ax.set_yticklabels(all_categories)\n",
        "\n",
        "# Force label at every tick\n",
        "ax.xaxis.set_major_locator(ticker.MultipleLocator(1))\n",
        "ax.yaxis.set_major_locator(ticker.MultipleLocator(1))\n",
        "\n",
        "# sphinx_gallery_thumbnail_number = 2\n",
        "plt.show()"
      ]
    }
  ],
  "metadata": {
    "colab": {
      "authorship_tag": "ABX9TyOseM+hquX/k7PZRMNj3gLT",
      "include_colab_link": true,
      "provenance": []
    },
    "kernelspec": {
      "display_name": "Python 3",
      "name": "python3"
    },
    "language_info": {
      "name": "python"
    },
    "widgets": {
      "application/vnd.jupyter.widget-state+json": {
        "0b03cf3e4b1f4b2e8d7e1c50501483dc": {
          "model_module": "@jupyter-widgets/base",
          "model_module_version": "1.2.0",
          "model_name": "LayoutModel",
          "state": {
            "_model_module": "@jupyter-widgets/base",
            "_model_module_version": "1.2.0",
            "_model_name": "LayoutModel",
            "_view_count": null,
            "_view_module": "@jupyter-widgets/base",
            "_view_module_version": "1.2.0",
            "_view_name": "LayoutView",
            "align_content": null,
            "align_items": null,
            "align_self": null,
            "border": null,
            "bottom": null,
            "display": null,
            "flex": null,
            "flex_flow": null,
            "grid_area": null,
            "grid_auto_columns": null,
            "grid_auto_flow": null,
            "grid_auto_rows": null,
            "grid_column": null,
            "grid_gap": null,
            "grid_row": null,
            "grid_template_areas": null,
            "grid_template_columns": null,
            "grid_template_rows": null,
            "height": null,
            "justify_content": null,
            "justify_items": null,
            "left": null,
            "margin": null,
            "max_height": null,
            "max_width": null,
            "min_height": null,
            "min_width": null,
            "object_fit": null,
            "object_position": null,
            "order": null,
            "overflow": null,
            "overflow_x": null,
            "overflow_y": null,
            "padding": null,
            "right": null,
            "top": null,
            "visibility": null,
            "width": null
          }
        },
        "2691c36a2a534d4eaa4468a269c77a5c": {
          "model_module": "@jupyter-widgets/controls",
          "model_module_version": "1.5.0",
          "model_name": "DescriptionStyleModel",
          "state": {
            "_model_module": "@jupyter-widgets/controls",
            "_model_module_version": "1.5.0",
            "_model_name": "DescriptionStyleModel",
            "_view_count": null,
            "_view_module": "@jupyter-widgets/base",
            "_view_module_version": "1.2.0",
            "_view_name": "StyleView",
            "description_width": ""
          }
        },
        "3561f5378b0d4d2592044995cef56186": {
          "model_module": "@jupyter-widgets/controls",
          "model_module_version": "1.5.0",
          "model_name": "ProgressStyleModel",
          "state": {
            "_model_module": "@jupyter-widgets/controls",
            "_model_module_version": "1.5.0",
            "_model_name": "ProgressStyleModel",
            "_view_count": null,
            "_view_module": "@jupyter-widgets/base",
            "_view_module_version": "1.2.0",
            "_view_name": "StyleView",
            "bar_color": null,
            "description_width": ""
          }
        },
        "4ab7c4d7cf2b4fb8a8ab1b3f0c3cf3ea": {
          "model_module": "@jupyter-widgets/controls",
          "model_module_version": "1.5.0",
          "model_name": "HTMLModel",
          "state": {
            "_dom_classes": [],
            "_model_module": "@jupyter-widgets/controls",
            "_model_module_version": "1.5.0",
            "_model_name": "HTMLModel",
            "_view_count": null,
            "_view_module": "@jupyter-widgets/controls",
            "_view_module_version": "1.5.0",
            "_view_name": "HTMLView",
            "description": "",
            "description_tooltip": null,
            "layout": "IPY_MODEL_a8808377df4f498d8cbbce1c6cde6340",
            "placeholder": "​",
            "style": "IPY_MODEL_2691c36a2a534d4eaa4468a269c77a5c",
            "value": " 150000/150000 [05:30&lt;00:00, 362.30it/s]"
          }
        },
        "4c2891cc54674761905e7529e2583bb2": {
          "model_module": "@jupyter-widgets/base",
          "model_module_version": "1.2.0",
          "model_name": "LayoutModel",
          "state": {
            "_model_module": "@jupyter-widgets/base",
            "_model_module_version": "1.2.0",
            "_model_name": "LayoutModel",
            "_view_count": null,
            "_view_module": "@jupyter-widgets/base",
            "_view_module_version": "1.2.0",
            "_view_name": "LayoutView",
            "align_content": null,
            "align_items": null,
            "align_self": null,
            "border": null,
            "bottom": null,
            "display": null,
            "flex": null,
            "flex_flow": null,
            "grid_area": null,
            "grid_auto_columns": null,
            "grid_auto_flow": null,
            "grid_auto_rows": null,
            "grid_column": null,
            "grid_gap": null,
            "grid_row": null,
            "grid_template_areas": null,
            "grid_template_columns": null,
            "grid_template_rows": null,
            "height": null,
            "justify_content": null,
            "justify_items": null,
            "left": null,
            "margin": null,
            "max_height": null,
            "max_width": null,
            "min_height": null,
            "min_width": null,
            "object_fit": null,
            "object_position": null,
            "order": null,
            "overflow": null,
            "overflow_x": null,
            "overflow_y": null,
            "padding": null,
            "right": null,
            "top": null,
            "visibility": null,
            "width": null
          }
        },
        "5514dcddab614ddc96d2ae31dcb430f6": {
          "model_module": "@jupyter-widgets/base",
          "model_module_version": "1.2.0",
          "model_name": "LayoutModel",
          "state": {
            "_model_module": "@jupyter-widgets/base",
            "_model_module_version": "1.2.0",
            "_model_name": "LayoutModel",
            "_view_count": null,
            "_view_module": "@jupyter-widgets/base",
            "_view_module_version": "1.2.0",
            "_view_name": "LayoutView",
            "align_content": null,
            "align_items": null,
            "align_self": null,
            "border": null,
            "bottom": null,
            "display": null,
            "flex": null,
            "flex_flow": null,
            "grid_area": null,
            "grid_auto_columns": null,
            "grid_auto_flow": null,
            "grid_auto_rows": null,
            "grid_column": null,
            "grid_gap": null,
            "grid_row": null,
            "grid_template_areas": null,
            "grid_template_columns": null,
            "grid_template_rows": null,
            "height": null,
            "justify_content": null,
            "justify_items": null,
            "left": null,
            "margin": null,
            "max_height": null,
            "max_width": null,
            "min_height": null,
            "min_width": null,
            "object_fit": null,
            "object_position": null,
            "order": null,
            "overflow": null,
            "overflow_x": null,
            "overflow_y": null,
            "padding": null,
            "right": null,
            "top": null,
            "visibility": null,
            "width": null
          }
        },
        "5e76d0a57ba04b60af928f9ef16b5051": {
          "model_module": "@jupyter-widgets/base",
          "model_module_version": "1.2.0",
          "model_name": "LayoutModel",
          "state": {
            "_model_module": "@jupyter-widgets/base",
            "_model_module_version": "1.2.0",
            "_model_name": "LayoutModel",
            "_view_count": null,
            "_view_module": "@jupyter-widgets/base",
            "_view_module_version": "1.2.0",
            "_view_name": "LayoutView",
            "align_content": null,
            "align_items": null,
            "align_self": null,
            "border": null,
            "bottom": null,
            "display": null,
            "flex": null,
            "flex_flow": null,
            "grid_area": null,
            "grid_auto_columns": null,
            "grid_auto_flow": null,
            "grid_auto_rows": null,
            "grid_column": null,
            "grid_gap": null,
            "grid_row": null,
            "grid_template_areas": null,
            "grid_template_columns": null,
            "grid_template_rows": null,
            "height": null,
            "justify_content": null,
            "justify_items": null,
            "left": null,
            "margin": null,
            "max_height": null,
            "max_width": null,
            "min_height": null,
            "min_width": null,
            "object_fit": null,
            "object_position": null,
            "order": null,
            "overflow": null,
            "overflow_x": null,
            "overflow_y": null,
            "padding": null,
            "right": null,
            "top": null,
            "visibility": null,
            "width": null
          }
        },
        "6bf293a1dc5c45bbb992973e9d11cb43": {
          "model_module": "@jupyter-widgets/controls",
          "model_module_version": "1.5.0",
          "model_name": "FloatProgressModel",
          "state": {
            "_dom_classes": [],
            "_model_module": "@jupyter-widgets/controls",
            "_model_module_version": "1.5.0",
            "_model_name": "FloatProgressModel",
            "_view_count": null,
            "_view_module": "@jupyter-widgets/controls",
            "_view_module_version": "1.5.0",
            "_view_name": "ProgressView",
            "bar_style": "success",
            "description": "",
            "description_tooltip": null,
            "layout": "IPY_MODEL_a47dd4b8db954054807f5c34357897b1",
            "max": 150000,
            "min": 0,
            "orientation": "horizontal",
            "style": "IPY_MODEL_a31c0750a6c2439e80514d722bc2dbc1",
            "value": 150000
          }
        },
        "7d5aad2f3cfa48ac9eb6088f85432849": {
          "model_module": "@jupyter-widgets/controls",
          "model_module_version": "1.5.0",
          "model_name": "DescriptionStyleModel",
          "state": {
            "_model_module": "@jupyter-widgets/controls",
            "_model_module_version": "1.5.0",
            "_model_name": "DescriptionStyleModel",
            "_view_count": null,
            "_view_module": "@jupyter-widgets/base",
            "_view_module_version": "1.2.0",
            "_view_name": "StyleView",
            "description_width": ""
          }
        },
        "81467e9113f341d58f1cfc744a7881dc": {
          "model_module": "@jupyter-widgets/controls",
          "model_module_version": "1.5.0",
          "model_name": "HBoxModel",
          "state": {
            "_dom_classes": [],
            "_model_module": "@jupyter-widgets/controls",
            "_model_module_version": "1.5.0",
            "_model_name": "HBoxModel",
            "_view_count": null,
            "_view_module": "@jupyter-widgets/controls",
            "_view_module_version": "1.5.0",
            "_view_name": "HBoxView",
            "box_style": "",
            "children": [
              "IPY_MODEL_b409abce0bf84274be38632ad798a977",
              "IPY_MODEL_da31019d097847efa5711735ac4a3a0b",
              "IPY_MODEL_b7a95d2c0e4f4c3c83b992b8920efe59"
            ],
            "layout": "IPY_MODEL_4c2891cc54674761905e7529e2583bb2"
          }
        },
        "81703f03134d457d8c641c8ad6a179d7": {
          "model_module": "@jupyter-widgets/controls",
          "model_module_version": "1.5.0",
          "model_name": "HBoxModel",
          "state": {
            "_dom_classes": [],
            "_model_module": "@jupyter-widgets/controls",
            "_model_module_version": "1.5.0",
            "_model_name": "HBoxModel",
            "_view_count": null,
            "_view_module": "@jupyter-widgets/controls",
            "_view_module_version": "1.5.0",
            "_view_name": "HBoxView",
            "box_style": "",
            "children": [
              "IPY_MODEL_f9453bc1442b46acb367a67756e0467c",
              "IPY_MODEL_6bf293a1dc5c45bbb992973e9d11cb43",
              "IPY_MODEL_4ab7c4d7cf2b4fb8a8ab1b3f0c3cf3ea"
            ],
            "layout": "IPY_MODEL_0b03cf3e4b1f4b2e8d7e1c50501483dc"
          }
        },
        "9bebe30b325c423681893b971c253199": {
          "model_module": "@jupyter-widgets/controls",
          "model_module_version": "1.5.0",
          "model_name": "DescriptionStyleModel",
          "state": {
            "_model_module": "@jupyter-widgets/controls",
            "_model_module_version": "1.5.0",
            "_model_name": "DescriptionStyleModel",
            "_view_count": null,
            "_view_module": "@jupyter-widgets/base",
            "_view_module_version": "1.2.0",
            "_view_name": "StyleView",
            "description_width": ""
          }
        },
        "a31c0750a6c2439e80514d722bc2dbc1": {
          "model_module": "@jupyter-widgets/controls",
          "model_module_version": "1.5.0",
          "model_name": "ProgressStyleModel",
          "state": {
            "_model_module": "@jupyter-widgets/controls",
            "_model_module_version": "1.5.0",
            "_model_name": "ProgressStyleModel",
            "_view_count": null,
            "_view_module": "@jupyter-widgets/base",
            "_view_module_version": "1.2.0",
            "_view_name": "StyleView",
            "bar_color": null,
            "description_width": ""
          }
        },
        "a47dd4b8db954054807f5c34357897b1": {
          "model_module": "@jupyter-widgets/base",
          "model_module_version": "1.2.0",
          "model_name": "LayoutModel",
          "state": {
            "_model_module": "@jupyter-widgets/base",
            "_model_module_version": "1.2.0",
            "_model_name": "LayoutModel",
            "_view_count": null,
            "_view_module": "@jupyter-widgets/base",
            "_view_module_version": "1.2.0",
            "_view_name": "LayoutView",
            "align_content": null,
            "align_items": null,
            "align_self": null,
            "border": null,
            "bottom": null,
            "display": null,
            "flex": null,
            "flex_flow": null,
            "grid_area": null,
            "grid_auto_columns": null,
            "grid_auto_flow": null,
            "grid_auto_rows": null,
            "grid_column": null,
            "grid_gap": null,
            "grid_row": null,
            "grid_template_areas": null,
            "grid_template_columns": null,
            "grid_template_rows": null,
            "height": null,
            "justify_content": null,
            "justify_items": null,
            "left": null,
            "margin": null,
            "max_height": null,
            "max_width": null,
            "min_height": null,
            "min_width": null,
            "object_fit": null,
            "object_position": null,
            "order": null,
            "overflow": null,
            "overflow_x": null,
            "overflow_y": null,
            "padding": null,
            "right": null,
            "top": null,
            "visibility": null,
            "width": null
          }
        },
        "a8808377df4f498d8cbbce1c6cde6340": {
          "model_module": "@jupyter-widgets/base",
          "model_module_version": "1.2.0",
          "model_name": "LayoutModel",
          "state": {
            "_model_module": "@jupyter-widgets/base",
            "_model_module_version": "1.2.0",
            "_model_name": "LayoutModel",
            "_view_count": null,
            "_view_module": "@jupyter-widgets/base",
            "_view_module_version": "1.2.0",
            "_view_name": "LayoutView",
            "align_content": null,
            "align_items": null,
            "align_self": null,
            "border": null,
            "bottom": null,
            "display": null,
            "flex": null,
            "flex_flow": null,
            "grid_area": null,
            "grid_auto_columns": null,
            "grid_auto_flow": null,
            "grid_auto_rows": null,
            "grid_column": null,
            "grid_gap": null,
            "grid_row": null,
            "grid_template_areas": null,
            "grid_template_columns": null,
            "grid_template_rows": null,
            "height": null,
            "justify_content": null,
            "justify_items": null,
            "left": null,
            "margin": null,
            "max_height": null,
            "max_width": null,
            "min_height": null,
            "min_width": null,
            "object_fit": null,
            "object_position": null,
            "order": null,
            "overflow": null,
            "overflow_x": null,
            "overflow_y": null,
            "padding": null,
            "right": null,
            "top": null,
            "visibility": null,
            "width": null
          }
        },
        "b409abce0bf84274be38632ad798a977": {
          "model_module": "@jupyter-widgets/controls",
          "model_module_version": "1.5.0",
          "model_name": "HTMLModel",
          "state": {
            "_dom_classes": [],
            "_model_module": "@jupyter-widgets/controls",
            "_model_module_version": "1.5.0",
            "_model_name": "HTMLModel",
            "_view_count": null,
            "_view_module": "@jupyter-widgets/controls",
            "_view_module_version": "1.5.0",
            "_view_name": "HTMLView",
            "description": "",
            "description_tooltip": null,
            "layout": "IPY_MODEL_5e76d0a57ba04b60af928f9ef16b5051",
            "placeholder": "​",
            "style": "IPY_MODEL_7d5aad2f3cfa48ac9eb6088f85432849",
            "value": "100%"
          }
        },
        "b7a95d2c0e4f4c3c83b992b8920efe59": {
          "model_module": "@jupyter-widgets/controls",
          "model_module_version": "1.5.0",
          "model_name": "HTMLModel",
          "state": {
            "_dom_classes": [],
            "_model_module": "@jupyter-widgets/controls",
            "_model_module_version": "1.5.0",
            "_model_name": "HTMLModel",
            "_view_count": null,
            "_view_module": "@jupyter-widgets/controls",
            "_view_module_version": "1.5.0",
            "_view_name": "HTMLView",
            "description": "",
            "description_tooltip": null,
            "layout": "IPY_MODEL_f966979c87c64ef9bf9e9383bae04586",
            "placeholder": "​",
            "style": "IPY_MODEL_f4d29a252b4545cfad36b75e2813ccce",
            "value": " 10000/10000 [00:09&lt;00:00, 835.79it/s]"
          }
        },
        "b7e70fc48c2f4c318d184ec7a51fa720": {
          "model_module": "@jupyter-widgets/base",
          "model_module_version": "1.2.0",
          "model_name": "LayoutModel",
          "state": {
            "_model_module": "@jupyter-widgets/base",
            "_model_module_version": "1.2.0",
            "_model_name": "LayoutModel",
            "_view_count": null,
            "_view_module": "@jupyter-widgets/base",
            "_view_module_version": "1.2.0",
            "_view_name": "LayoutView",
            "align_content": null,
            "align_items": null,
            "align_self": null,
            "border": null,
            "bottom": null,
            "display": null,
            "flex": null,
            "flex_flow": null,
            "grid_area": null,
            "grid_auto_columns": null,
            "grid_auto_flow": null,
            "grid_auto_rows": null,
            "grid_column": null,
            "grid_gap": null,
            "grid_row": null,
            "grid_template_areas": null,
            "grid_template_columns": null,
            "grid_template_rows": null,
            "height": null,
            "justify_content": null,
            "justify_items": null,
            "left": null,
            "margin": null,
            "max_height": null,
            "max_width": null,
            "min_height": null,
            "min_width": null,
            "object_fit": null,
            "object_position": null,
            "order": null,
            "overflow": null,
            "overflow_x": null,
            "overflow_y": null,
            "padding": null,
            "right": null,
            "top": null,
            "visibility": null,
            "width": null
          }
        },
        "da31019d097847efa5711735ac4a3a0b": {
          "model_module": "@jupyter-widgets/controls",
          "model_module_version": "1.5.0",
          "model_name": "FloatProgressModel",
          "state": {
            "_dom_classes": [],
            "_model_module": "@jupyter-widgets/controls",
            "_model_module_version": "1.5.0",
            "_model_name": "FloatProgressModel",
            "_view_count": null,
            "_view_module": "@jupyter-widgets/controls",
            "_view_module_version": "1.5.0",
            "_view_name": "ProgressView",
            "bar_style": "success",
            "description": "",
            "description_tooltip": null,
            "layout": "IPY_MODEL_b7e70fc48c2f4c318d184ec7a51fa720",
            "max": 10000,
            "min": 0,
            "orientation": "horizontal",
            "style": "IPY_MODEL_3561f5378b0d4d2592044995cef56186",
            "value": 10000
          }
        },
        "f4d29a252b4545cfad36b75e2813ccce": {
          "model_module": "@jupyter-widgets/controls",
          "model_module_version": "1.5.0",
          "model_name": "DescriptionStyleModel",
          "state": {
            "_model_module": "@jupyter-widgets/controls",
            "_model_module_version": "1.5.0",
            "_model_name": "DescriptionStyleModel",
            "_view_count": null,
            "_view_module": "@jupyter-widgets/base",
            "_view_module_version": "1.2.0",
            "_view_name": "StyleView",
            "description_width": ""
          }
        },
        "f9453bc1442b46acb367a67756e0467c": {
          "model_module": "@jupyter-widgets/controls",
          "model_module_version": "1.5.0",
          "model_name": "HTMLModel",
          "state": {
            "_dom_classes": [],
            "_model_module": "@jupyter-widgets/controls",
            "_model_module_version": "1.5.0",
            "_model_name": "HTMLModel",
            "_view_count": null,
            "_view_module": "@jupyter-widgets/controls",
            "_view_module_version": "1.5.0",
            "_view_name": "HTMLView",
            "description": "",
            "description_tooltip": null,
            "layout": "IPY_MODEL_5514dcddab614ddc96d2ae31dcb430f6",
            "placeholder": "​",
            "style": "IPY_MODEL_9bebe30b325c423681893b971c253199",
            "value": "100%"
          }
        },
        "f966979c87c64ef9bf9e9383bae04586": {
          "model_module": "@jupyter-widgets/base",
          "model_module_version": "1.2.0",
          "model_name": "LayoutModel",
          "state": {
            "_model_module": "@jupyter-widgets/base",
            "_model_module_version": "1.2.0",
            "_model_name": "LayoutModel",
            "_view_count": null,
            "_view_module": "@jupyter-widgets/base",
            "_view_module_version": "1.2.0",
            "_view_name": "LayoutView",
            "align_content": null,
            "align_items": null,
            "align_self": null,
            "border": null,
            "bottom": null,
            "display": null,
            "flex": null,
            "flex_flow": null,
            "grid_area": null,
            "grid_auto_columns": null,
            "grid_auto_flow": null,
            "grid_auto_rows": null,
            "grid_column": null,
            "grid_gap": null,
            "grid_row": null,
            "grid_template_areas": null,
            "grid_template_columns": null,
            "grid_template_rows": null,
            "height": null,
            "justify_content": null,
            "justify_items": null,
            "left": null,
            "margin": null,
            "max_height": null,
            "max_width": null,
            "min_height": null,
            "min_width": null,
            "object_fit": null,
            "object_position": null,
            "order": null,
            "overflow": null,
            "overflow_x": null,
            "overflow_y": null,
            "padding": null,
            "right": null,
            "top": null,
            "visibility": null,
            "width": null
          }
        }
      }
    }
  },
  "nbformat": 4,
  "nbformat_minor": 0
}

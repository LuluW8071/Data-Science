{
  "nbformat": 4,
  "nbformat_minor": 0,
  "metadata": {
    "colab": {
      "provenance": [],
      "gpuType": "T4",
      "authorship_tag": "ABX9TyOfeLl4JbrBE/HQRPG4u+J/",
      "include_colab_link": true
    },
    "kernelspec": {
      "name": "python3",
      "display_name": "Python 3"
    },
    "language_info": {
      "name": "python"
    },
    "accelerator": "GPU"
  },
  "cells": [
    {
      "cell_type": "markdown",
      "metadata": {
        "id": "view-in-github",
        "colab_type": "text"
      },
      "source": [
        "<a href=\"https://colab.research.google.com/github/LuluW8071/Data-Science/blob/main/Pytorch/06_Pytorch_Fundamentals_Exercises.ipynb\" target=\"_parent\"><img src=\"https://colab.research.google.com/assets/colab-badge.svg\" alt=\"Open In Colab\"/></a>"
      ]
    },
    {
      "cell_type": "markdown",
      "source": [
        "## [Exercises](https://www.learnpytorch.io/00_pytorch_fundamentals/#exercises)\n",
        "- Documentation reading - [`torch.Tensor`](https://pytorch.org/docs/stable/tensors.html#torch-tensor) and for [`torch.cuda`](https://pytorch.org/docs/master/notes/cuda.html#cuda-semantics)"
      ],
      "metadata": {
        "id": "JiINI6_9xZix"
      }
    },
    {
      "cell_type": "code",
      "source": [
        "import torch"
      ],
      "metadata": {
        "id": "xXUZLjmExU1l"
      },
      "execution_count": 17,
      "outputs": []
    },
    {
      "cell_type": "markdown",
      "source": [
        "\n",
        "\n",
        "- Create a random tensor with shape `(7, 7)`"
      ],
      "metadata": {
        "id": "opOE7g84wlMH"
      }
    },
    {
      "cell_type": "code",
      "source": [
        "x = torch.rand(7, 7)\n",
        "x.shape"
      ],
      "metadata": {
        "colab": {
          "base_uri": "https://localhost:8080/"
        },
        "id": "MnTX0bsKwidZ",
        "outputId": "0131eb35-a108-4cdc-e2c6-9072803255dd"
      },
      "execution_count": 20,
      "outputs": [
        {
          "output_type": "execute_result",
          "data": {
            "text/plain": [
              "torch.Size([7, 7])"
            ]
          },
          "metadata": {},
          "execution_count": 20
        }
      ]
    },
    {
      "cell_type": "markdown",
      "source": [
        "- Perform a matrix multiplication on the tensor from shape `(7, 7)` with another random tensor with shape `(1, 7)` </br> (hint: you may have to transpose the second tensor)"
      ],
      "metadata": {
        "id": "M_THB_jHyGVC"
      }
    },
    {
      "cell_type": "code",
      "source": [
        "y = torch.rand(1,7).T\n",
        "\n",
        "mul = torch.matmul(x,y)\n",
        "mul, mul.shape"
      ],
      "metadata": {
        "colab": {
          "base_uri": "https://localhost:8080/"
        },
        "id": "pYejpqwHxfQO",
        "outputId": "b8cba957-56cf-4be4-c6de-9675d6c0e1ce"
      },
      "execution_count": 25,
      "outputs": [
        {
          "output_type": "execute_result",
          "data": {
            "text/plain": [
              "(tensor([[2.7400],\n",
              "         [2.5953],\n",
              "         [1.7910],\n",
              "         [2.0822],\n",
              "         [1.5014],\n",
              "         [2.9131],\n",
              "         [3.0145]]),\n",
              " torch.Size([7, 1]))"
            ]
          },
          "metadata": {},
          "execution_count": 25
        }
      ]
    },
    {
      "cell_type": "markdown",
      "source": [
        "- Set the random seed to `0` and do exercises of matrix multiplication over again"
      ],
      "metadata": {
        "id": "oOmbCUe8yZl8"
      }
    },
    {
      "cell_type": "code",
      "source": [
        "torch.manual_seed(0)\n",
        "tensor_x = torch.rand(5,2)\n",
        "torch.manual_seed(0)\n",
        "tensor_y = torch.rand(5,2)\n",
        "tensor_y_transpose = tensor_y.T\n",
        "\n",
        "x_mul_y = torch.matmul(tensor_x, tensor_y_transpose)\n",
        "x_mul_y, x_mul_y.shape, tensor_x == tensor_y"
      ],
      "metadata": {
        "colab": {
          "base_uri": "https://localhost:8080/"
        },
        "id": "QCOEwRCnx3fY",
        "outputId": "30cc080b-33fd-4170-c1aa-8383000741e2"
      },
      "execution_count": 29,
      "outputs": [
        {
          "output_type": "execute_result",
          "data": {
            "text/plain": [
              "(tensor([[0.8364, 0.1453, 0.6397, 0.9319, 0.7119],\n",
              "         [0.1453, 0.0253, 0.1109, 0.1617, 0.1238],\n",
              "         [0.6397, 0.1109, 0.4966, 0.7191, 0.5410],\n",
              "         [0.9319, 0.1617, 0.7191, 1.0438, 0.7901],\n",
              "         [0.7119, 0.1238, 0.5410, 0.7901, 0.6074]]),\n",
              " torch.Size([5, 5]),\n",
              " tensor([[True, True],\n",
              "         [True, True],\n",
              "         [True, True],\n",
              "         [True, True],\n",
              "         [True, True]]))"
            ]
          },
          "metadata": {},
          "execution_count": 29
        }
      ]
    }
  ]
}
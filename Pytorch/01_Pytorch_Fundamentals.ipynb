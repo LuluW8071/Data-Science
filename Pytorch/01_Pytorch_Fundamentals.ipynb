{
 "cells": [
  {
   "cell_type": "code",
   "execution_count": null,
   "metadata": {},
   "outputs": [],
   "source": [
    "import torch"
   ]
  },
  {
   "cell_type": "markdown",
   "metadata": {},
   "source": [
    "### Tensor DataTypes\n",
    "**Note:**\n",
    "\n",
    "Tensor DataTypes are critical considerations to avoid common errors in PyTorch and Deep Learning. <br>The 3 significant issues you may encounter are:\n",
    "\n",
    "1. **Incorrect Data Types**: Ensure that tensors have the appropriate data types for your operations. <br> Most of the time different manipulation of tensor of different data types works.\n",
    "    ```bash\n",
    "    tensor.dtype\n",
    "    ```\n",
    "\n",
    "2. **Incorrect Shape**: Verify that tensors have the correct shape as required by your model and operations.\n",
    "    ```bash\n",
    "    tensor.shape\n",
    "    ```\n",
    "\n",
    "3. **Incorrect Device**: Tensors should be placed on the right device (CPU or GPU) for efficient computation.\n",
    "    ```bash\n",
    "    tensor.device\n",
    "    ```\n",
    "\n",
    "<a href='https://pytorch.org/docs/stable/tensor_attributes.html#torch.dtype'>TORCH.DTYPE Documentation</a>\n"
   ]
  },
  {
   "cell_type": "code",
   "execution_count": null,
   "metadata": {},
   "outputs": [],
   "source": [
    "# Float32 Tensor [Default]\n",
    "float32_tensor = torch.tensor([3.0, 4.0, 5.0, 6.0],\n",
    "                              dtype=None,   # What data type is the tensor [float32 or float16]\n",
    "                              device=None,  # What device is your tensor on [cpu or cuda]\n",
    "                              requires_grad=False)  # Whether or not to track gradients \n",
    "float32_tensor"
   ]
  },
  {
   "cell_type": "code",
   "execution_count": null,
   "metadata": {},
   "outputs": [],
   "source": [
    "float32_tensor.dtype"
   ]
  },
  {
   "cell_type": "code",
   "execution_count": null,
   "metadata": {},
   "outputs": [],
   "source": [
    "# Change Float32 Tensor to Float16 Tensor\n",
    "float16_tensor = float32_tensor.type(torch.float16)\n",
    "float16_tensor"
   ]
  },
  {
   "cell_type": "code",
   "execution_count": null,
   "metadata": {},
   "outputs": [],
   "source": [
    "float16_tensor * float32_tensor"
   ]
  },
  {
   "cell_type": "code",
   "execution_count": null,
   "metadata": {},
   "outputs": [],
   "source": [
    "# Manipulating int32 tensor with float32 tensor\n",
    "int32_tensor = torch.tensor([3.0, 4.0, 5.0, 6.0], dtype = torch.int32)\n",
    "int32_tensor"
   ]
  },
  {
   "cell_type": "code",
   "execution_count": null,
   "metadata": {},
   "outputs": [],
   "source": []
  }
 ],
 "metadata": {
  "kernelspec": {
   "display_name": "env",
   "language": "python",
   "name": "python3"
  },
  "language_info": {
   "name": "python",
   "version": "3.10.0"
  }
 },
 "nbformat": 4,
 "nbformat_minor": 2
}

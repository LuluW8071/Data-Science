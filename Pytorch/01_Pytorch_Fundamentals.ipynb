{
 "cells": [
  {
   "cell_type": "code",
   "execution_count": 1,
   "metadata": {},
   "outputs": [],
   "source": [
    "import torch"
   ]
  },
  {
   "cell_type": "markdown",
   "metadata": {},
   "source": [
    "### Tensor DataTypes\n",
    "**Note:**\n",
    "\n",
    "Tensor DataTypes are critical considerations to avoid common errors in PyTorch and Deep Learning. <br>The 3 significant issues you may encounter are:\n",
    "\n",
    "1. **Incorrect Data Types**: Ensure that tensors have the appropriate data types for your operations. <br> Most of the time different manipulation of tensor of different data types works.\n",
    "    ```bash\n",
    "    tensor.dtype\n",
    "    ```\n",
    "\n",
    "2. **Incorrect Shape**: Verify that tensors have the correct shape as required by your model and operations.\n",
    "    ```bash\n",
    "    tensor.shape\n",
    "    ```\n",
    "\n",
    "3. **Incorrect Device**: Tensors should be placed on the right device (CPU or GPU) for efficient computation.\n",
    "    ```bash\n",
    "    tensor.device\n",
    "    ```\n",
    "\n",
    "![Image](https://github.com/mrdbourke/pytorch-deep-learning/raw/main/images/misc-three-main-errors-in-pytorch.png)\n"
   ]
  },
  {
   "cell_type": "code",
   "execution_count": 7,
   "metadata": {},
   "outputs": [
    {
     "data": {
      "text/plain": [
       "tensor([3., 4., 5., 6.])"
      ]
     },
     "execution_count": 7,
     "metadata": {},
     "output_type": "execute_result"
    }
   ],
   "source": [
    "# Float32 Tensor [Default], Device = cpu [Default]\n",
    "float32_tensor = torch.tensor([3.0, 4.0, 5.0, 6.0],\n",
    "                              dtype=None,   # What data type is the tensor [float32 or float16]\n",
    "                              device=None,  # What device is your tensor on [cpu or cuda]\n",
    "                              requires_grad=False)  # Whether or not to track gradients \n",
    "float32_tensor"
   ]
  },
  {
   "cell_type": "code",
   "execution_count": 4,
   "metadata": {},
   "outputs": [
    {
     "data": {
      "text/plain": [
       "torch.float32"
      ]
     },
     "execution_count": 4,
     "metadata": {},
     "output_type": "execute_result"
    }
   ],
   "source": [
    "float32_tensor.dtype"
   ]
  },
  {
   "cell_type": "code",
   "execution_count": 5,
   "metadata": {},
   "outputs": [
    {
     "data": {
      "text/plain": [
       "tensor([3., 4., 5., 6.], dtype=torch.float16)"
      ]
     },
     "execution_count": 5,
     "metadata": {},
     "output_type": "execute_result"
    }
   ],
   "source": [
    "# Change Float32 Tensor to Float16 Tensor\n",
    "float16_tensor = float32_tensor.type(torch.float16)\n",
    "float16_tensor"
   ]
  },
  {
   "cell_type": "code",
   "execution_count": null,
   "metadata": {},
   "outputs": [],
   "source": [
    "float16_tensor * float32_tensor"
   ]
  },
  {
   "cell_type": "code",
   "execution_count": null,
   "metadata": {},
   "outputs": [],
   "source": [
    "# Manipulating int32 tensor with float32 tensor\n",
    "int32_tensor = torch.tensor([3.0, 4.0, 5.0, 6.0], dtype = torch.int32)\n",
    "int32_tensor"
   ]
  },
  {
   "cell_type": "code",
   "execution_count": 10,
   "metadata": {},
   "outputs": [
    {
     "data": {
      "text/plain": [
       "tensor([[0.5890, 0.0688, 0.2010, 0.3729],\n",
       "        [0.7517, 0.0447, 0.0649, 0.1547],\n",
       "        [0.9262, 0.4714, 0.6713, 0.3562]])"
      ]
     },
     "execution_count": 10,
     "metadata": {},
     "output_type": "execute_result"
    }
   ],
   "source": [
    "# Create a tensor\n",
    "X = torch.rand(3,4)\n",
    "X"
   ]
  },
  {
   "cell_type": "code",
   "execution_count": 16,
   "metadata": {},
   "outputs": [
    {
     "name": "stdout",
     "output_type": "stream",
     "text": [
      "Datatype of tensorX: torch.float32\n",
      "Shape of tensorX: torch.Size([3, 4])\n",
      "Device used for tensorX: cpu\n"
     ]
    }
   ],
   "source": [
    "print(f'Datatype of tensorX: {X.dtype}')\n",
    "print(f'Shape of tensorX: {X.size()}')   # Note: tensor.size() is inbuilt function works same as attribute tensor.shape\n",
    "print(f'Device used for tensorX: {X.device}') "
   ]
  }
 ],
 "metadata": {
  "kernelspec": {
   "display_name": "env",
   "language": "python",
   "name": "python3"
  },
  "language_info": {
   "codemirror_mode": {
    "name": "ipython",
    "version": 3
   },
   "file_extension": ".py",
   "mimetype": "text/x-python",
   "name": "python",
   "nbconvert_exporter": "python",
   "pygments_lexer": "ipython3",
   "version": "3.10.0"
  }
 },
 "nbformat": 4,
 "nbformat_minor": 2
}

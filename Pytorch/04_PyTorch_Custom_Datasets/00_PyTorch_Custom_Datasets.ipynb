{
  "nbformat": 4,
  "nbformat_minor": 0,
  "metadata": {
    "colab": {
      "provenance": [],
      "authorship_tag": "ABX9TyMkaGae5yT7X1ERFxH5+HKU"
    },
    "kernelspec": {
      "name": "python3",
      "display_name": "Python 3"
    },
    "language_info": {
      "name": "python"
    }
  },
  "cells": [
    {
      "cell_type": "markdown",
      "source": [
        "# Custom Datasets\n",
        "\n",
        "### [Resource](https://www.learnpytorch.io/04_pytorch_custom_datasets/)\n",
        "\n",
        "We've used some datasets with PyTorch before. But how do you get your own data into PyTorch?\n",
        "\n",
        "One of the ways to do so is via: **custom datasets**.\n",
        "\n",
        "## Domain Libraries\n",
        "\n",
        "Depending on what you're working on vision, text, audio, recommendation, you'll want to look into each of the PyTorch domain libraries for existing data loading functions and customizable data loading functions.\n",
        "\n",
        "In that case, we can always subclass [`torch.utils.data.Dataset`](https://pytorch.org/docs/stable/data.html#torch.utils.data.Dataset) and customize it to our liking.\n",
        "\n",
        "<img src=\"https://raw.githubusercontent.com/mrdbourke/pytorch-deep-learning/main/images/04-pytorch-domain-libraries.png\">\n",
        "\n",
        "\n",
        "| Problem Space   | Pre-built Datasets and Functions|             \n",
        "|-----------------|-----------------------------|\n",
        "| Vision                 | [`torchvision.datasets`](https://pytorch.org/vision/stable/datasets.html)|\n",
        "| Audio                  | [`torchaudio.datasets`](https://pytorch.org/audio/stable/datasets.html)|\n",
        "| Text                   | [`torchtext.datasets`](https://pytorch.org/text/stable/datasets.html)|\n",
        "| Recommendation System  | [`torchrec.datasets`](https://pytorch.org/torchrec/torchrec.datasets.html)|\n",
        "\n"
      ],
      "metadata": {
        "id": "Sa4XYJ2gPvpY"
      }
    },
    {
      "cell_type": "markdown",
      "source": [
        "## Content to Cover in Computer Vision\n",
        "\n",
        "We're going to be using our own dataset of pizza, steak and sushi images.\n",
        "\n",
        "The goal will be to load these images and then build a model to train and predict on them.\n",
        "\n",
        "<img src = \"https://raw.githubusercontent.com/mrdbourke/pytorch-deep-learning/main/images/04-pytorch-food-vision-layout.png\">\n",
        "\n",
        "| Topic                                     | Contents                                                                                     |\n",
        "|-------------------------------------------|----------------------------------------------------------------------------------------------|\n",
        "| 0. Importing PyTorch and setting up device-agnostic code   | Let's get PyTorch loaded and set up code to be device-agnostic.                               |\n",
        "| 1. Get data                               | Use a **custom dataset** of pizza, steak, and sushi images.                                        |\n",
        "| 2. Become one with the data(data preparation)         | Understand the dataset at the beginning of a machine learning problem.                         |\n",
        "| 3. Transforming data                      | Prepare data for machine learning models.                                                     |\n",
        "| 4. Loading data with ImageFolder (option 1)| Use PyTorch's ImageFolder for standard image classification format.                            |\n",
        "| 5. Loading image data with a custom Dataset | Build a custom subclass of [`torch.utils.data.Dataset`](https://pytorch.org/docs/stable/data.html#torch.utils.data.Dataset) for non-standard data.                    |\n",
        "| 6.  Other forms of transforms (data augmentation) | Explore torchvision's in-built data augmentation functions.                                   |\n",
        "| 7. Model 0: TinyVGG without data augmentation | Build and train a model without data augmentation.                                            |\n",
        "| 8. Exploring loss curves                   | Analyze loss curves to evaluate model training and performance.                                |\n",
        "| 9. Model 1: TinyVGG with data augmentation | Build and train a model with data augmentation.                                               |\n",
        "| 10. Compare model results                 | Compare loss curves and discuss performance improvement options.                              |\n",
        "| 11. Making a prediction on a custom image | Use the trained model to predict on an image outside the dataset.                               |\n"
      ],
      "metadata": {
        "id": "ueK547T1PyBt"
      }
    },
    {
      "cell_type": "markdown",
      "source": [
        "## 0. Importing PyTorch and setting up device-agnostic code"
      ],
      "metadata": {
        "id": "HiMVlcujP4D9"
      }
    },
    {
      "cell_type": "code",
      "source": [
        "import torch\n",
        "import torchvision\n",
        "from torch import nn\n",
        "import torchvision.datasets as datasets\n",
        "import torchvision.transforms as transforms\n",
        "\n",
        "print(torch.__version__)\n",
        "\n",
        "device = 'cuda' if torch.cuda.is_available() else 'cpu'\n",
        "print(device)"
      ],
      "metadata": {
        "colab": {
          "base_uri": "https://localhost:8080/"
        },
        "id": "sw7DezWRPwCS",
        "outputId": "e3dad45b-2f08-4db2-aa6a-1a3ded3f5840"
      },
      "execution_count": 1,
      "outputs": [
        {
          "output_type": "stream",
          "name": "stdout",
          "text": [
            "2.1.0+cu121\n",
            "cpu\n"
          ]
        }
      ]
    }
  ]
}
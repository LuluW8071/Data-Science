{
  "nbformat": 4,
  "nbformat_minor": 0,
  "metadata": {
    "colab": {
      "provenance": [],
      "gpuType": "T4",
      "authorship_tag": "ABX9TyOciGtRUS3R/guT+4OE/C4I"
    },
    "kernelspec": {
      "name": "python3",
      "display_name": "Python 3"
    },
    "language_info": {
      "name": "python"
    },
    "accelerator": "GPU"
  },
  "cells": [
    {
      "cell_type": "markdown",
      "source": [
        "## [Exercises](https://www.learnpytorch.io/00_pytorch_fundamentals/#exercises)\n",
        "- Documentation reading - [`torch.Tensor`](https://pytorch.org/docs/stable/tensors.html#torch-tensor) and for [`torch.cuda`](https://pytorch.org/docs/master/notes/cuda.html#cuda-semantics)"
      ],
      "metadata": {
        "id": "JiINI6_9xZix"
      }
    },
    {
      "cell_type": "code",
      "source": [
        "import torch"
      ],
      "metadata": {
        "id": "xXUZLjmExU1l"
      },
      "execution_count": 27,
      "outputs": []
    },
    {
      "cell_type": "markdown",
      "source": [
        "\n",
        "\n",
        "- Create a random tensor with shape `(7, 7)`"
      ],
      "metadata": {
        "id": "opOE7g84wlMH"
      }
    },
    {
      "cell_type": "code",
      "source": [
        "x = torch.rand(7, 7)\n",
        "x.shape"
      ],
      "metadata": {
        "colab": {
          "base_uri": "https://localhost:8080/"
        },
        "id": "MnTX0bsKwidZ",
        "outputId": "4668390f-687d-4171-b254-9668b2dc3e04"
      },
      "execution_count": 28,
      "outputs": [
        {
          "output_type": "execute_result",
          "data": {
            "text/plain": [
              "torch.Size([7, 7])"
            ]
          },
          "metadata": {},
          "execution_count": 28
        }
      ]
    },
    {
      "cell_type": "markdown",
      "source": [
        "- Perform a matrix multiplication on the tensor from shape `(7, 7)` with another random tensor with shape `(1, 7)` </br> (hint: you may have to transpose the second tensor)"
      ],
      "metadata": {
        "id": "M_THB_jHyGVC"
      }
    },
    {
      "cell_type": "code",
      "source": [
        "y = torch.rand(1,7).T\n",
        "\n",
        "mul = torch.matmul(x,y)\n",
        "mul, mul.shape"
      ],
      "metadata": {
        "colab": {
          "base_uri": "https://localhost:8080/"
        },
        "id": "pYejpqwHxfQO",
        "outputId": "866c9787-5f40-412f-e7ee-fb77d02fbccf"
      },
      "execution_count": 29,
      "outputs": [
        {
          "output_type": "execute_result",
          "data": {
            "text/plain": [
              "(tensor([[1.6711],\n",
              "         [1.2399],\n",
              "         [2.0411],\n",
              "         [1.2607],\n",
              "         [1.7647],\n",
              "         [1.2399],\n",
              "         [1.6091]]),\n",
              " torch.Size([7, 1]))"
            ]
          },
          "metadata": {},
          "execution_count": 29
        }
      ]
    },
    {
      "cell_type": "markdown",
      "source": [
        "- Set the random seed to `0` and do exercises of matrix multiplication over again"
      ],
      "metadata": {
        "id": "oOmbCUe8yZl8"
      }
    },
    {
      "cell_type": "code",
      "source": [
        "torch.manual_seed(0)\n",
        "tensor_x = torch.rand(5,2)\n",
        "torch.manual_seed(0)\n",
        "tensor_y = torch.rand(5,2)\n",
        "tensor_y_transpose = tensor_y.T\n",
        "\n",
        "x_mul_y = torch.matmul(tensor_x, tensor_y_transpose)\n",
        "x_mul_y, x_mul_y.shape, tensor_x == tensor_y"
      ],
      "metadata": {
        "colab": {
          "base_uri": "https://localhost:8080/"
        },
        "id": "QCOEwRCnx3fY",
        "outputId": "754fa97e-a54f-402d-e3f4-45a46c36cf47"
      },
      "execution_count": 30,
      "outputs": [
        {
          "output_type": "execute_result",
          "data": {
            "text/plain": [
              "(tensor([[0.8364, 0.1453, 0.6397, 0.9319, 0.7119],\n",
              "         [0.1453, 0.0253, 0.1109, 0.1617, 0.1238],\n",
              "         [0.6397, 0.1109, 0.4966, 0.7191, 0.5410],\n",
              "         [0.9319, 0.1617, 0.7191, 1.0438, 0.7901],\n",
              "         [0.7119, 0.1238, 0.5410, 0.7901, 0.6074]]),\n",
              " torch.Size([5, 5]),\n",
              " tensor([[True, True],\n",
              "         [True, True],\n",
              "         [True, True],\n",
              "         [True, True],\n",
              "         [True, True]]))"
            ]
          },
          "metadata": {},
          "execution_count": 30
        }
      ]
    },
    {
      "cell_type": "markdown",
      "source": [
        "- Speaking of random seeds, we saw how to set it with `torch.manual_seed()` but is there a GPU equivalent? (hint: you'll need to look into the documentation for `torch.cuda` for this one). If there is, set the GPU random seed to `1234`.\n",
        "\n",
        "- Create two random tensors of shape `(2, 3)` and send them both to the GPU (you'll need access to a GPU for this). Set `torch.manual_seed(1234)` when creating the tensors (this doesn't have to be the GPU random seed)."
      ],
      "metadata": {
        "id": "6tPZFfP8eGPH"
      }
    },
    {
      "cell_type": "code",
      "source": [
        "# manual_seed for cpu\n",
        "torch.manual_seed(1234)\n",
        "tensor_x = torch.rand(2, 3)\n",
        "\n",
        "# manual_seed for cuda\n",
        "torch.cuda.manual_seed(1234)\n",
        "tensor_y = torch.rand(2, 3).to('cuda')\n",
        "\n",
        "torch.cuda.manual_seed(1234)\n",
        "tensor_z = torch.rand(2, 3).to('cuda')\n",
        "\n",
        "tensor_x, tensor_x.device, tensor_y, tensor_z"
      ],
      "metadata": {
        "id": "-STRCm6IcP04",
        "colab": {
          "base_uri": "https://localhost:8080/"
        },
        "outputId": "c60f8fc2-6417-48ec-d9af-6c4ea12105a5"
      },
      "execution_count": 31,
      "outputs": [
        {
          "output_type": "execute_result",
          "data": {
            "text/plain": [
              "(tensor([[0.0290, 0.4019, 0.2598],\n",
              "         [0.3666, 0.0583, 0.7006]]),\n",
              " device(type='cpu'),\n",
              " tensor([[0.0518, 0.4681, 0.6738],\n",
              "         [0.3315, 0.7837, 0.5631]], device='cuda:0'),\n",
              " tensor([[0.7749, 0.8208, 0.2793],\n",
              "         [0.6817, 0.2837, 0.6567]], device='cuda:0'))"
            ]
          },
          "metadata": {},
          "execution_count": 31
        }
      ]
    },
    {
      "cell_type": "markdown",
      "source": [
        "- Perform a matrix multiplication on the tensors you created above (again, you may have to adjust the shapes of one of the tensors)."
      ],
      "metadata": {
        "id": "DB1t3seQfbFK"
      }
    },
    {
      "cell_type": "code",
      "source": [
        "tensor_z_transpose = tensor_z.T\n",
        "\n",
        "mul = torch.matmul(tensor_y, tensor_z_transpose)\n",
        "mul, mul.shape"
      ],
      "metadata": {
        "id": "JJ310UREfapk",
        "colab": {
          "base_uri": "https://localhost:8080/"
        },
        "outputId": "be9d4a9e-9bde-406e-bb8e-8e18d51cc4d7"
      },
      "execution_count": 33,
      "outputs": [
        {
          "output_type": "execute_result",
          "data": {
            "text/plain": [
              "(tensor([[0.6126, 0.6106],\n",
              "         [1.0574, 0.8181]], device='cuda:0'),\n",
              " torch.Size([2, 2]))"
            ]
          },
          "metadata": {},
          "execution_count": 33
        }
      ]
    },
    {
      "cell_type": "markdown",
      "source": [
        "- Find the maximum and minimum values of the output of above."
      ],
      "metadata": {
        "id": "DQNNP_bOglFQ"
      }
    },
    {
      "cell_type": "code",
      "source": [
        "mul.max(), mul.min()"
      ],
      "metadata": {
        "id": "zqaMJbFheURT",
        "colab": {
          "base_uri": "https://localhost:8080/"
        },
        "outputId": "2cef9d8c-8e76-456a-dbde-21ac57fb97b2"
      },
      "execution_count": 35,
      "outputs": [
        {
          "output_type": "execute_result",
          "data": {
            "text/plain": [
              "(tensor(1.0574, device='cuda:0'), tensor(0.6106, device='cuda:0'))"
            ]
          },
          "metadata": {},
          "execution_count": 35
        }
      ]
    },
    {
      "cell_type": "markdown",
      "source": [
        "- Find the maximum and minimum index values"
      ],
      "metadata": {
        "id": "ss3LTwisg3B-"
      }
    },
    {
      "cell_type": "code",
      "source": [
        "mul.argmax(), mul.argmin()"
      ],
      "metadata": {
        "colab": {
          "base_uri": "https://localhost:8080/"
        },
        "id": "iM0y4uiRguNe",
        "outputId": "3597f68d-a1f7-43ed-cb57-5984e43c9c24"
      },
      "execution_count": 45,
      "outputs": [
        {
          "output_type": "execute_result",
          "data": {
            "text/plain": [
              "(tensor(2, device='cuda:0'), tensor(1, device='cuda:0'))"
            ]
          },
          "metadata": {},
          "execution_count": 45
        }
      ]
    },
    {
      "cell_type": "markdown",
      "source": [
        "- Make a random tensor with shape `(1, 1, 1, 10)` and then create a new tensor with all the 1 dimensions removed to be left with a tensor of shape `(10)`. Set the seed to 7 when you create it and print out the first tensor and it's shape as well as the second tensor and it's shape."
      ],
      "metadata": {
        "id": "pG7o7NnkiWqK"
      }
    },
    {
      "cell_type": "code",
      "source": [
        "# Set the seed\n",
        "torch.manual_seed(7)\n",
        "rand_tensor = torch.rand(1, 1, 1, 10)\n",
        "\n",
        "rand_tensor, rand_tensor.shape"
      ],
      "metadata": {
        "colab": {
          "base_uri": "https://localhost:8080/"
        },
        "id": "HsjdjzB7hABD",
        "outputId": "09762462-f4fd-48ab-a15f-605c6c429ac9"
      },
      "execution_count": 55,
      "outputs": [
        {
          "output_type": "execute_result",
          "data": {
            "text/plain": [
              "(tensor([[[[0.5349, 0.1988, 0.6592, 0.6569, 0.2328, 0.4251, 0.2071, 0.6297,\n",
              "            0.3653, 0.8513]]]]),\n",
              " torch.Size([1, 1, 1, 10]))"
            ]
          },
          "metadata": {},
          "execution_count": 55
        }
      ]
    },
    {
      "cell_type": "code",
      "source": [
        "# squeezing\n",
        "rand_squeeze = rand_tensor.squeeze()\n",
        "rand_squeeze, rand_squeeze.shape"
      ],
      "metadata": {
        "colab": {
          "base_uri": "https://localhost:8080/"
        },
        "id": "fnXkODTujyPv",
        "outputId": "046b168f-8787-4307-99e0-afe57ffff67d"
      },
      "execution_count": 57,
      "outputs": [
        {
          "output_type": "execute_result",
          "data": {
            "text/plain": [
              "(tensor([0.5349, 0.1988, 0.6592, 0.6569, 0.2328, 0.4251, 0.2071, 0.6297, 0.3653,\n",
              "         0.8513]),\n",
              " torch.Size([10]))"
            ]
          },
          "metadata": {},
          "execution_count": 57
        }
      ]
    },
    {
      "cell_type": "code",
      "source": [
        "rand_squeeze[0], rand_squeeze[0].shape"
      ],
      "metadata": {
        "colab": {
          "base_uri": "https://localhost:8080/"
        },
        "id": "zFVz3bmEirPF",
        "outputId": "b4bd0326-fbb6-44b9-bdd2-d8469066884b"
      },
      "execution_count": 58,
      "outputs": [
        {
          "output_type": "execute_result",
          "data": {
            "text/plain": [
              "(tensor(0.5349), torch.Size([]))"
            ]
          },
          "metadata": {},
          "execution_count": 58
        }
      ]
    },
    {
      "cell_type": "code",
      "source": [
        "rand_squeeze[1], rand_squeeze[1].shape"
      ],
      "metadata": {
        "colab": {
          "base_uri": "https://localhost:8080/"
        },
        "id": "MbtjXlR0jG9M",
        "outputId": "f3daf718-d873-4c28-96e0-c39f3cd45aab"
      },
      "execution_count": 59,
      "outputs": [
        {
          "output_type": "execute_result",
          "data": {
            "text/plain": [
              "(tensor(0.1988), torch.Size([]))"
            ]
          },
          "metadata": {},
          "execution_count": 59
        }
      ]
    }
  ]
}
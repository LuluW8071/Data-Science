{
  "nbformat": 4,
  "nbformat_minor": 0,
  "metadata": {
    "colab": {
      "provenance": [],
      "authorship_tag": "ABX9TyPX6wQAuGYSNEm6yFemu5C1"
    },
    "kernelspec": {
      "name": "python3",
      "display_name": "Python 3"
    },
    "language_info": {
      "name": "python"
    }
  },
  "cells": [
    {
      "cell_type": "markdown",
      "source": [
        "# Computer Vision\n",
        "Computer vision is the art of teaching a computer to see.\n",
        "\n",
        "For example:\n",
        "- Building a model to classify whether a photo is of a cat or a dog (Binary Classification).\n",
        "- Whether a photo is of a cat, dog or chicken (Multi-class Classification).\n",
        "- Identifying where a car appears in a video frame ([Object Detection](https://en.wikipedia.org/wiki/Object_detection)).\n",
        "- Figuring out where different objects in an image can be separated ([Panoptic Segmentation](https://arxiv.org/abs/1801.00868)).\n",
        "\n",
        "<img src = 'https://raw.githubusercontent.com/mrdbourke/pytorch-deep-learning/main/images/03-computer-vision-problems.png'>\n",
        "\n",
        "## Where does computer vision get used?\n",
        "\n",
        "- If you use a smartphone, you've already used computer vision.\n",
        "- Camera and photo apps use computer vision to enhance and sort images.\n",
        "- Modern cars use computer vision to avoid other cars and stay within lane lines.\n",
        "- Manufacturers use computer vision to identify defects in various products.\n",
        "- Security cameras use computer vision to detect potential intruders.\n",
        "\n",
        "## Content to Cover in Computer Vision\n",
        "\n",
        "| Topic | Contents |\n",
        "|-------|----------|\n",
        "| 0. Computer Vision Libraries in PyTorch | PyTorch has useful built-in computer vision libraries. |\n",
        "| 1. Load Data | Start with images of clothing from [FashionMNIST](https://github.com/zalandoresearch/fashion-mnist). |\n",
        "| 2. Prepare Data | Load images with [PyTorch DataLoader](https://pytorch.org/docs/stable/data.html) for training. |\n",
        "| 3. Model 0: Baseline Model | Create a multi-class classification model with a chosen loss function and optimizer. |\n",
        "| 4. Predictions and Evaluation | Test baseline model predictions and assess performance. |\n",
        "| 5. Device Agnostic Code | Write flexible, device-agnostic code. |\n",
        "| 6. Model 1: Adding Non-linearity | Improve baseline model with non-linear layers. |\n",
        "| 7. Model 2: CNN | Introduce convolutional neural network (CNN) architecture. |\n",
        "| 8. Compare Models | Compare the three models built. |\n",
        "| 9. Evaluate Best Model | Assess performance on random images using the best model. |\n",
        "| 10. Confusion Matrix | Create and interpret a confusion matrix for model evaluation. |\n",
        "| 11. Save/Load Best Model | Save and load the best-performing model for future use. |\n"
      ],
      "metadata": {
        "id": "qHXPBEP6ycVm"
      }
    },
    {
      "cell_type": "code",
      "execution_count": 1,
      "metadata": {
        "colab": {
          "base_uri": "https://localhost:8080/"
        },
        "id": "HezeiXT3vrCL",
        "outputId": "59ec4596-3bbe-424b-d025-fed05fed1c65"
      },
      "outputs": [
        {
          "output_type": "stream",
          "name": "stdout",
          "text": [
            "cuda\n"
          ]
        }
      ],
      "source": [
        "import torch\n",
        "from torch import nn\n",
        "import numpy as np\n",
        "import matplotlib.pyplot as plt\n",
        "\n",
        "device = 'cuda' if torch.cuda.is_available else 'cpu'\n",
        "print(device)"
      ]
    },
    {
      "cell_type": "code",
      "source": [],
      "metadata": {
        "id": "gd2k-QJayHPg"
      },
      "execution_count": null,
      "outputs": []
    }
  ]
}
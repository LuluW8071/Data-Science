{
 "cells": [
  {
   "cell_type": "code",
   "execution_count": 1,
   "metadata": {},
   "outputs": [],
   "source": [
    "import torch"
   ]
  },
  {
   "cell_type": "markdown",
   "metadata": {},
   "source": [
    "### Manipulating Tensors [Tensor Operations]\n",
    "- Addition\n",
    "- Subtraction\n",
    "- Division\n",
    "- Multiplication\n"
   ]
  },
  {
   "cell_type": "code",
   "execution_count": 8,
   "metadata": {},
   "outputs": [
    {
     "data": {
      "text/plain": [
       "tensor([[0.6171, 0.7164, 0.6063]])"
      ]
     },
     "execution_count": 8,
     "metadata": {},
     "output_type": "execute_result"
    }
   ],
   "source": [
    "# Create a tensor\n",
    "tensor = torch.rand(1,3)\n",
    "tensor"
   ]
  },
  {
   "cell_type": "code",
   "execution_count": 15,
   "metadata": {},
   "outputs": [
    {
     "data": {
      "text/plain": [
       "(tensor([[10.6171, 10.7164, 10.6063]]), tensor([[10.6171, 10.7164, 10.6063]]))"
      ]
     },
     "execution_count": 15,
     "metadata": {},
     "output_type": "execute_result"
    }
   ],
   "source": [
    "# Tensor Addition\n",
    "tensor + 10, torch.add(tensor, 10)  # Inbuilt torch function for tensor addition: torch.add(tensor_var, value)"
   ]
  },
  {
   "cell_type": "code",
   "execution_count": 12,
   "metadata": {},
   "outputs": [
    {
     "data": {
      "text/plain": [
       "tensor([[-1.3829, -1.2836, -1.3937]])"
      ]
     },
     "execution_count": 12,
     "metadata": {},
     "output_type": "execute_result"
    }
   ],
   "source": [
    "# Tensor Subtraction\n",
    "tensor - 2"
   ]
  },
  {
   "cell_type": "markdown",
   "metadata": {},
   "source": [
    "<div style=\"text-align:center\">\n",
    "  <img src=\"https://www.mathsisfun.com/algebra/images/matrix-multiply-constant.svg\" alt=\"Matrix Multiplication\">\n",
    "</div>"
   ]
  },
  {
   "cell_type": "code",
   "execution_count": 14,
   "metadata": {},
   "outputs": [
    {
     "data": {
      "text/plain": [
       "(tensor([[6.1707, 7.1637, 6.0634]]), tensor([[6.1707, 7.1637, 6.0634]]))"
      ]
     },
     "execution_count": 14,
     "metadata": {},
     "output_type": "execute_result"
    }
   ],
   "source": [
    "# Tensor Multiplication\n",
    "tensor * 10, torch.mul(tensor,10)  # Inbuilt torch function for tensor multiplication: torch.mul(tensor_var, value)"
   ]
  },
  {
   "cell_type": "markdown",
   "metadata": {},
   "source": [
    "## Matrix Multiplication [Dot Product]\n",
    "<div style=\"text-align:center\">\n",
    "<img src='https://www.mathsisfun.com/algebra/images/matrix-multiply-a.svg'>\n",
    "    \n",
    "    (1, 2, 3) • (7, 9, 11) = 1×7 + 2×9 + 3×11 = 58\n",
    "\n",
    "<img src='https://www.mathsisfun.com/algebra/images/matrix-multiply-b.svg'>\n",
    "    \n",
    "    (1, 2, 3) • (8, 10, 12) = 1×8 + 2×10 + 3×12 = 64\n",
    "\n",
    "    We can do the same thing for the 2nd row and 1st column:\n",
    "    (4, 5, 6) • (7, 9, 11) = 4×7 + 5×9 + 6×11 = 139\n",
    "    And for the 2nd row and 2nd column:\n",
    "    (4, 5, 6) • (8, 10, 12) = 4×8 + 5×10 + 6×12 = 154\n",
    "<img src='https://www.mathsisfun.com/algebra/images/matrix-multiply-c.svg'>\n",
    "</div>"
   ]
  },
  {
   "cell_type": "code",
   "execution_count": 39,
   "metadata": {},
   "outputs": [
    {
     "name": "stdout",
     "output_type": "stream",
     "text": [
      "tensor([[ 58,  64],\n",
      "        [139, 154]])\n",
      "tensor([[ 58,  64],\n",
      "        [139, 154]])\n",
      "tensor([[ 58,  64],\n",
      "        [139, 154]])\n"
     ]
    }
   ],
   "source": [
    "# Matrix Multiplication [Dot Product]\n",
    "X = torch.tensor([[1, 2, 3], [4, 5, 6]])\n",
    "Y = torch.tensor([[7, 8], [9, 10], [11, 12]])\n",
    "\n",
    "print(torch.matmul(X,Y))\n",
    "print(torch.mm(X,Y))\n",
    "print(X @ Y)\n"
   ]
  },
  {
   "cell_type": "markdown",
   "metadata": {},
   "source": [
    "#### Things to remember before performing matrix multiplication\n",
    "- The *inner dimension* of the matrix must match:\n",
    "  - `(3,2) @ (3,2)` won't work\n",
    "  - `(3,2) @ (2,3)` will work\n",
    "  - `(2,3) @ (3,2)` will work\n",
    "\n",
    "- The reulting matrix has shape of *outer dimension*:\n",
    "  - `(2,3) @ (3,2) = (2,2)`\n",
    "  - `(3,2) @ (2,3) = (3,3)`"
   ]
  },
  {
   "cell_type": "code",
   "execution_count": 40,
   "metadata": {},
   "outputs": [
    {
     "ename": "RuntimeError",
     "evalue": "mat1 and mat2 shapes cannot be multiplied (3x2 and 3x2)",
     "output_type": "error",
     "traceback": [
      "\u001b[1;31m---------------------------------------------------------------------------\u001b[0m",
      "\u001b[1;31mRuntimeError\u001b[0m                              Traceback (most recent call last)",
      "Cell \u001b[1;32mIn[40], line 1\u001b[0m\n\u001b[1;32m----> 1\u001b[0m \u001b[43mtorch\u001b[49m\u001b[38;5;241;43m.\u001b[39;49m\u001b[43mmm\u001b[49m\u001b[43m(\u001b[49m\u001b[43mtorch\u001b[49m\u001b[38;5;241;43m.\u001b[39;49m\u001b[43mrand\u001b[49m\u001b[43m(\u001b[49m\u001b[38;5;241;43m3\u001b[39;49m\u001b[43m,\u001b[49m\u001b[38;5;241;43m2\u001b[39;49m\u001b[43m)\u001b[49m\u001b[43m,\u001b[49m\u001b[43mtorch\u001b[49m\u001b[38;5;241;43m.\u001b[39;49m\u001b[43mrand\u001b[49m\u001b[43m(\u001b[49m\u001b[38;5;241;43m3\u001b[39;49m\u001b[43m,\u001b[49m\u001b[38;5;241;43m2\u001b[39;49m\u001b[43m)\u001b[49m\u001b[43m)\u001b[49m\n",
      "\u001b[1;31mRuntimeError\u001b[0m: mat1 and mat2 shapes cannot be multiplied (3x2 and 3x2)"
     ]
    }
   ],
   "source": [
    "torch.mm(torch.rand(3,2),torch.rand(3,2))"
   ]
  },
  {
   "cell_type": "code",
   "execution_count": 46,
   "metadata": {},
   "outputs": [
    {
     "data": {
      "text/plain": [
       "(tensor([[0.2865, 0.3388, 0.3115],\n",
       "         [0.0709, 0.0953, 0.1143],\n",
       "         [0.6124, 0.6565, 0.4456]]),\n",
       " torch.Size([3, 3]))"
      ]
     },
     "execution_count": 46,
     "metadata": {},
     "output_type": "execute_result"
    }
   ],
   "source": [
    "MUL = torch.mm(torch.rand(3,2), torch.rand(2,3))\n",
    "MUL, MUL.shape"
   ]
  },
  {
   "cell_type": "code",
   "execution_count": 48,
   "metadata": {},
   "outputs": [
    {
     "data": {
      "text/plain": [
       "(tensor([[0.6676, 0.5804, 0.1635],\n",
       "         [0.7923, 0.0106, 0.9519]]),\n",
       " tensor([[0.6676, 0.7923],\n",
       "         [0.5804, 0.0106],\n",
       "         [0.1635, 0.9519]]))"
      ]
     },
     "execution_count": 48,
     "metadata": {},
     "output_type": "execute_result"
    }
   ],
   "source": [
    "# Transpose of a Tensor\n",
    "tensor1 = torch.rand(2,3)\n",
    "transpose_tensor = tensor1.T\n",
    "\n",
    "tensor1, transpose_tensor"
   ]
  },
  {
   "cell_type": "code",
   "execution_count": 56,
   "metadata": {},
   "outputs": [
    {
     "name": "stdout",
     "output_type": "stream",
     "text": [
      "Shape of original tensor: torch.Size([2, 3]) and\n",
      "Transposed tensor: torch.Size([3, 2])\n"
     ]
    }
   ],
   "source": [
    "print(f'Shape of original tensor: {tensor1.shape} and\\nTransposed tensor: {transpose_tensor.shape}')"
   ]
  },
  {
   "cell_type": "code",
   "execution_count": 60,
   "metadata": {},
   "outputs": [
    {
     "data": {
      "text/plain": [
       "(tensor([[0.8093, 0.6908],\n",
       "         [0.6908, 1.5340]]),\n",
       " torch.Size([2, 2]))"
      ]
     },
     "execution_count": 60,
     "metadata": {},
     "output_type": "execute_result"
    }
   ],
   "source": [
    "TENSOR = torch.mm(tensor1, transpose_tensor)\n",
    "TENSOR, TENSOR.shape"
   ]
  }
 ],
 "metadata": {
  "kernelspec": {
   "display_name": "env",
   "language": "python",
   "name": "python3"
  },
  "language_info": {
   "codemirror_mode": {
    "name": "ipython",
    "version": 3
   },
   "file_extension": ".py",
   "mimetype": "text/x-python",
   "name": "python",
   "nbconvert_exporter": "python",
   "pygments_lexer": "ipython3",
   "version": "3.10.0"
  }
 },
 "nbformat": 4,
 "nbformat_minor": 2
}

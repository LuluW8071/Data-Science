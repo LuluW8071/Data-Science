{
 "cells": [
  {
   "cell_type": "code",
   "execution_count": 1,
   "metadata": {},
   "outputs": [
    {
     "name": "stdout",
     "output_type": "stream",
     "text": [
      "2.1.1+cpu\n"
     ]
    }
   ],
   "source": [
    "import torch\n",
    "print(torch.__version__)"
   ]
  },
  {
   "cell_type": "markdown",
   "metadata": {},
   "source": [
    "# Introduction to Tensors\n",
    "Tensors are multi-dimensional arrays that generalize the concept of scalars, vectors and matrices. Tensors are a crucial concept in deep learning frameworks because they provide a flexible way to represent and manipulate data.\n",
    "\n",
    "### 1. Scalar Tensors:\n",
    "A 0-dimensional tensor. It represents a single numerical value."
   ]
  },
  {
   "cell_type": "code",
   "execution_count": 2,
   "metadata": {},
   "outputs": [
    {
     "name": "stdout",
     "output_type": "stream",
     "text": [
      "tensor(9)\n",
      "0\n",
      "torch.Size([])\n"
     ]
    }
   ],
   "source": [
    "# Scalar\n",
    "scalar = torch.tensor(9)\n",
    "print(scalar)\n",
    "print(scalar.ndim)     # number of dimensions of a tensor\n",
    "print(scalar.shape)\n"
   ]
  },
  {
   "cell_type": "markdown",
   "metadata": {},
   "source": [
    "### 2. Vector Tensors:\n",
    "A 1-dimensional tensor. It is an array of numbers arranged along a single axis. Basically, a vector has magnitude and direction."
   ]
  },
  {
   "cell_type": "code",
   "execution_count": 3,
   "metadata": {},
   "outputs": [
    {
     "name": "stdout",
     "output_type": "stream",
     "text": [
      "tensor([2, 5])\n",
      "1\n",
      "torch.Size([2])\n"
     ]
    }
   ],
   "source": [
    "# Vector\n",
    "vector = torch.tensor([2,5])\n",
    "print(vector)\n",
    "print(vector.ndim)\n",
    "print(vector.shape)"
   ]
  },
  {
   "cell_type": "markdown",
   "metadata": {},
   "source": [
    "### 3. Matrix Tensors:\n",
    "A 2-dimensional tensor. It is an array of numbers arranged in rows and columns."
   ]
  },
  {
   "cell_type": "code",
   "execution_count": 4,
   "metadata": {},
   "outputs": [
    {
     "name": "stdout",
     "output_type": "stream",
     "text": [
      "tensor([[4, 3],\n",
      "        [2, 5],\n",
      "        [7, 8]])\n",
      "2\n",
      "torch.Size([3, 2])\n"
     ]
    }
   ],
   "source": [
    "# Matrix\n",
    "MATRIX = torch.tensor([[4,3],\n",
    "                       [2,5],\n",
    "                       [7,8]])\n",
    "print(MATRIX)\n",
    "print(MATRIX.ndim)\n",
    "print(MATRIX.shape)"
   ]
  },
  {
   "cell_type": "code",
   "execution_count": 5,
   "metadata": {},
   "outputs": [
    {
     "name": "stdout",
     "output_type": "stream",
     "text": [
      "tensor([2, 5])\n",
      "torch.Size([2])\n"
     ]
    }
   ],
   "source": [
    "print(MATRIX[1])\n",
    "print(MATRIX[1].shape)"
   ]
  },
  {
   "cell_type": "markdown",
   "metadata": {},
   "source": [
    "### 4.  Tensors:\n",
    "A general term for multi-dimensional arrays. Tensors can have any number of dimensions. <br>For example, a 3-dimensional tensor can be thought of as a cube of numbers."
   ]
  },
  {
   "cell_type": "code",
   "execution_count": 6,
   "metadata": {},
   "outputs": [
    {
     "name": "stdout",
     "output_type": "stream",
     "text": [
      "tensor([[[1, 2, 3],\n",
      "         [4, 5, 6],\n",
      "         [7, 8, 9]]])\n",
      "3\n",
      "torch.Size([1, 3, 3])\n"
     ]
    }
   ],
   "source": [
    "# Tensors\n",
    "TENSOR = torch.tensor([[[1,2,3],\n",
    "                        [4,5,6],\n",
    "                        [7,8,9]]])\n",
    "print(TENSOR)\n",
    "print(TENSOR.ndim)\n",
    "print(TENSOR.shape)"
   ]
  },
  {
   "cell_type": "markdown",
   "metadata": {},
   "source": [
    "<small> <i>torch.Size([1, 3, 3])</i> represents the size or shape of the tensor along each dimension.<br> In this case, it's a 3D tensor with a size of 1 along the first dimension and size 3 along the next two dimensions. So, the tensor is effectively a <i>1x3x3</i> tensor.</small>\n",
    "\n",
    "<img src = 'https://raw.githubusercontent.com/mrdbourke/pytorch-deep-learning/main/images/00-pytorch-different-tensor-dimensions.png'>"
   ]
  },
  {
   "cell_type": "code",
   "execution_count": 7,
   "metadata": {},
   "outputs": [
    {
     "data": {
      "text/plain": [
       "tensor([[1, 2, 3],\n",
       "        [4, 5, 6],\n",
       "        [7, 8, 9]])"
      ]
     },
     "execution_count": 7,
     "metadata": {},
     "output_type": "execute_result"
    }
   ],
   "source": [
    "# Extracting a 2D tensor from the original 3D tensor\n",
    "TENSOR[0]"
   ]
  },
  {
   "cell_type": "markdown",
   "metadata": {},
   "source": [
    "Generally,\n",
    "- Scalars are represented by lowercase variable names, e.g, `a`\n",
    "- Vectors are also represented by lowercase variable names, e.g, `x`\n",
    "- Matrices are represented by uppercase variable names, e.g, `A`\n",
    "- Tensors are also represented by uppercase variable names, e.g, `X`\n"
   ]
  },
  {
   "cell_type": "markdown",
   "metadata": {},
   "source": [
    "### Random Tensors\n",
    "Random tensors play a crucial role in the learning process of neural networks. The typical sequence involves:\n",
    "\n",
    "1. **Initialization**: Neural networks start with tensors filled with random numbers.\n",
    "2. **Observation of Data**: The network processes and analyzes the available data.\n",
    "3. **Parameter Update**: Adjustments are made to the initially random numbers based on the observed data.\n",
    "4. **Iteration**: The process iterates, with the network continuously updating its parameters to better represent the underlying patterns in the data.\n",
    "\n",
    "This iterative cycle of starting with randomness and refining through data-driven updates forms the foundation of how neural networks learn. \n",
    "\n",
    "<a href='https://pytorch.org/docs/stable/generated/torch.rand.html'>TORCH.RAND Documentation</a>"
   ]
  },
  {
   "cell_type": "code",
   "execution_count": 8,
   "metadata": {},
   "outputs": [
    {
     "data": {
      "text/plain": [
       "tensor([[[0.4902, 0.8865, 0.8125, 0.2303, 0.1670],\n",
       "         [0.8679, 0.2228, 0.7466, 0.0892, 0.8423],\n",
       "         [0.4279, 0.8854, 0.9223, 0.4115, 0.1438]]])"
      ]
     },
     "execution_count": 8,
     "metadata": {},
     "output_type": "execute_result"
    }
   ],
   "source": [
    "# Random Tensors\n",
    "random_tensors = torch.rand(1,3,5)\n",
    "random_tensors"
   ]
  },
  {
   "cell_type": "code",
   "execution_count": 9,
   "metadata": {},
   "outputs": [
    {
     "data": {
      "text/plain": [
       "(3, torch.Size([1, 3, 5]))"
      ]
     },
     "execution_count": 9,
     "metadata": {},
     "output_type": "execute_result"
    }
   ],
   "source": [
    "random_tensors.ndim, random_tensors.shape"
   ]
  },
  {
   "cell_type": "markdown",
   "metadata": {},
   "source": [
    "In tensor-speak, the tensor would have three dimensions, one for [colour_channels, height, width] or [height, width, color_channels].\n",
    "\n",
    "<img src='https://raw.githubusercontent.com/mrdbourke/pytorch-deep-learning/main/images/00-tensor-shape-example-of-image.png'>"
   ]
  },
  {
   "cell_type": "code",
   "execution_count": 10,
   "metadata": {},
   "outputs": [
    {
     "data": {
      "text/plain": [
       "(3, torch.Size([223, 255, 3]))"
      ]
     },
     "execution_count": 10,
     "metadata": {},
     "output_type": "execute_result"
    }
   ],
   "source": [
    "# Create a random tensor with similar shape to an image tensor\n",
    "random_image_tensor = torch.rand(size=(223,255,3))   # height, width, color_channels(R,G,B)\n",
    "random_image_tensor.ndim, random_image_tensor.shape "
   ]
  },
  {
   "cell_type": "markdown",
   "metadata": {},
   "source": [
    "### Zeros and Ones"
   ]
  },
  {
   "cell_type": "code",
   "execution_count": 11,
   "metadata": {},
   "outputs": [
    {
     "data": {
      "text/plain": [
       "tensor([[0., 0., 0.],\n",
       "        [0., 0., 0.],\n",
       "        [0., 0., 0.]])"
      ]
     },
     "execution_count": 11,
     "metadata": {},
     "output_type": "execute_result"
    }
   ],
   "source": [
    "# Create a tensor of all zeros\n",
    "zeros = torch.zeros(3,3)\n",
    "zeros"
   ]
  },
  {
   "cell_type": "code",
   "execution_count": 12,
   "metadata": {},
   "outputs": [
    {
     "data": {
      "text/plain": [
       "tensor([[1., 1., 1.],\n",
       "        [1., 1., 1.],\n",
       "        [1., 1., 1.]])"
      ]
     },
     "execution_count": 12,
     "metadata": {},
     "output_type": "execute_result"
    }
   ],
   "source": [
    "# Create a tensor of all ones\n",
    "ones = torch.ones(3,3)\n",
    "ones"
   ]
  },
  {
   "cell_type": "code",
   "execution_count": 13,
   "metadata": {},
   "outputs": [
    {
     "data": {
      "text/plain": [
       "(torch.float32, torch.float32)"
      ]
     },
     "execution_count": 13,
     "metadata": {},
     "output_type": "execute_result"
    }
   ],
   "source": [
    "# Type of zeros and ones tensors\n",
    "zeros.dtype, ones.dtype"
   ]
  },
  {
   "cell_type": "markdown",
   "metadata": {},
   "source": [
    "### Range of Tensors and Tensors-like\n",
    "<a href='https://pytorch.org/docs/stable/generated/torch.arange.html'>TORCH.ARANGE Documentation</a>"
   ]
  },
  {
   "cell_type": "code",
   "execution_count": 14,
   "metadata": {},
   "outputs": [
    {
     "data": {
      "text/plain": [
       "tensor([0, 1, 2, 3, 4])"
      ]
     },
     "execution_count": 14,
     "metadata": {},
     "output_type": "execute_result"
    }
   ],
   "source": [
    "# Creating a range of tensors\n",
    "torch.arange(0,5)   # (start=0, end=5)"
   ]
  },
  {
   "cell_type": "code",
   "execution_count": 15,
   "metadata": {},
   "outputs": [
    {
     "data": {
      "text/plain": [
       "tensor([  0, 100, 200, 300, 400, 500, 600, 700, 800, 900])"
      ]
     },
     "execution_count": 15,
     "metadata": {},
     "output_type": "execute_result"
    }
   ],
   "source": [
    "range = torch.arange(0,1000,100)    # (start=0, end=10, step=2)\n",
    "range"
   ]
  },
  {
   "cell_type": "code",
   "execution_count": 16,
   "metadata": {},
   "outputs": [
    {
     "data": {
      "text/plain": [
       "(tensor([0, 0, 0, 0, 0, 0, 0, 0, 0, 0]),\n",
       " tensor([1, 1, 1, 1, 1, 1, 1, 1, 1, 1]))"
      ]
     },
     "execution_count": 16,
     "metadata": {},
     "output_type": "execute_result"
    }
   ],
   "source": [
    "# Creating a range of tensors-like\n",
    "range_zeros = torch.zeros_like(range)\n",
    "range_ones = torch.ones_like(range)\n",
    "range_zeros, range_ones"
   ]
  }
 ],
 "metadata": {
  "kernelspec": {
   "display_name": "env",
   "language": "python",
   "name": "python3"
  },
  "language_info": {
   "codemirror_mode": {
    "name": "ipython",
    "version": 3
   },
   "file_extension": ".py",
   "mimetype": "text/x-python",
   "name": "python",
   "nbconvert_exporter": "python",
   "pygments_lexer": "ipython3",
   "version": "3.10.0"
  }
 },
 "nbformat": 4,
 "nbformat_minor": 2
}

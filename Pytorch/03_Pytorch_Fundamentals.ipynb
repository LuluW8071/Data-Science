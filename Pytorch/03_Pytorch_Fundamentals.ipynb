{
 "cells": [
  {
   "cell_type": "code",
   "execution_count": 1,
   "metadata": {},
   "outputs": [],
   "source": [
    "import torch"
   ]
  },
  {
   "cell_type": "markdown",
   "metadata": {},
   "source": [
    "### Reshaping, Viewing, Stacking, Squeezing, Unsqueezing & Permute Tensors\n",
    "\n",
    "1. **Reshaping**: Reshapes an input tensor to a defined shape.\n",
    "2. **View**: Returns a view of the input tensor of certain shape but keep the same memory as original .\n",
    "3. **Stacking**: Combine multiple tenmsors on top of each other <a href='https://pytorch.org/docs/stable/generated/torch.vstack.html'>(TORCH.VSTACK)</a> or side by side <a href='https://pytorch.org/docs/stable/generated/torch.hstack.html'>(TORCH.HSTACK)</a>.\n",
    "4. **Squeeze**: Removes all `1` dimensions from a tensor.\n",
    "5. **Unsqueeze**: Add `1` dimension to a target tensor.\n",
    "6. **Permute**: Return a view of the input with dimensions permuted(swapped) in a certain way\n",
    "\n",
    "<a href='https://pytorch.org/docs/stable/generated/torch.stack.html'>TORCH.STACK Documentation</a>    "
   ]
  },
  {
   "cell_type": "code",
   "execution_count": 2,
   "metadata": {},
   "outputs": [
    {
     "data": {
      "text/plain": [
       "(tensor([1., 2., 3., 4., 5., 6., 7., 8., 9.]), torch.Size([9]))"
      ]
     },
     "execution_count": 2,
     "metadata": {},
     "output_type": "execute_result"
    }
   ],
   "source": [
    "x = torch.arange(1.,10.)\n",
    "x, x.shape"
   ]
  },
  {
   "cell_type": "code",
   "execution_count": 3,
   "metadata": {},
   "outputs": [
    {
     "ename": "RuntimeError",
     "evalue": "shape '[2, 9]' is invalid for input of size 9",
     "output_type": "error",
     "traceback": [
      "\u001b[1;31m---------------------------------------------------------------------------\u001b[0m",
      "\u001b[1;31mRuntimeError\u001b[0m                              Traceback (most recent call last)",
      "Cell \u001b[1;32mIn[3], line 2\u001b[0m\n\u001b[0;32m      1\u001b[0m \u001b[38;5;66;03m# Adding extra dimensions\u001b[39;00m\n\u001b[1;32m----> 2\u001b[0m x_reshaped \u001b[38;5;241m=\u001b[39m \u001b[43mx\u001b[49m\u001b[38;5;241;43m.\u001b[39;49m\u001b[43mreshape\u001b[49m\u001b[43m(\u001b[49m\u001b[38;5;241;43m2\u001b[39;49m\u001b[43m,\u001b[49m\u001b[43m \u001b[49m\u001b[38;5;241;43m9\u001b[39;49m\u001b[43m)\u001b[49m\n\u001b[0;32m      3\u001b[0m x_reshaped, x_reshaped\u001b[38;5;241m.\u001b[39mshape\n",
      "\u001b[1;31mRuntimeError\u001b[0m: shape '[2, 9]' is invalid for input of size 9"
     ]
    }
   ],
   "source": [
    "# Adding extra dimensions\n",
    "x_reshaped = x.reshape(2, 9)\n",
    "x_reshaped, x_reshaped.shape"
   ]
  },
  {
   "cell_type": "code",
   "execution_count": 4,
   "metadata": {},
   "outputs": [
    {
     "data": {
      "text/plain": [
       "(tensor([[1.],\n",
       "         [2.],\n",
       "         [3.],\n",
       "         [4.],\n",
       "         [5.],\n",
       "         [6.],\n",
       "         [7.],\n",
       "         [8.],\n",
       "         [9.]]),\n",
       " torch.Size([9, 1]))"
      ]
     },
     "execution_count": 4,
     "metadata": {},
     "output_type": "execute_result"
    }
   ],
   "source": [
    "# Adding extra dimensions\n",
    "x_reshaped = x.reshape(1, 9)\n",
    "y_reshaped = x.reshape(9, 1)\n",
    "x_reshaped, x_reshaped.shape\n",
    "y_reshaped, y_reshaped.shape"
   ]
  }
 ],
 "metadata": {
  "kernelspec": {
   "display_name": "env",
   "language": "python",
   "name": "python3"
  },
  "language_info": {
   "codemirror_mode": {
    "name": "ipython",
    "version": 3
   },
   "file_extension": ".py",
   "mimetype": "text/x-python",
   "name": "python",
   "nbconvert_exporter": "python",
   "pygments_lexer": "ipython3",
   "version": "3.10.0"
  }
 },
 "nbformat": 4,
 "nbformat_minor": 2
}

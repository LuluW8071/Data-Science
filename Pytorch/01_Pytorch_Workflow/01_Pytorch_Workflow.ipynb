{
  "nbformat": 4,
  "nbformat_minor": 0,
  "metadata": {
    "colab": {
      "provenance": [],
      "gpuType": "T4"
    },
    "kernelspec": {
      "name": "python3",
      "display_name": "Python 3"
    },
    "language_info": {
      "name": "python"
    },
    "accelerator": "GPU"
  },
  "cells": [
    {
      "cell_type": "code",
      "source": [
        "import torch\n",
        "from torch import nn\n",
        "import numpy as np\n",
        "import matplotlib.pyplot as plt\n",
        "\n",
        "print(torch.__version__)\n",
        "\n",
        "# Setting up device agnostic code to use CUDA\n",
        "device = 'cuda:0' if torch.cuda.is_available() else 'cpu'\n",
        "print(device)"
      ],
      "metadata": {
        "colab": {
          "base_uri": "https://localhost:8080/"
        },
        "id": "zMjabErA5uZ3",
        "outputId": "380a0ad9-bb35-4ce5-f05b-f33f9656008d"
      },
      "execution_count": 75,
      "outputs": [
        {
          "output_type": "stream",
          "name": "stdout",
          "text": [
            "2.1.0+cu121\n",
            "cuda:0\n"
          ]
        }
      ]
    },
    {
      "cell_type": "markdown",
      "source": [
        "## Data Preparation"
      ],
      "metadata": {
        "id": "GK1ZDCz67rWg"
      }
    },
    {
      "cell_type": "code",
      "source": [
        "weights = 0.7\n",
        "bias = 0.3\n",
        "\n",
        "start, end, step = 0, 1, 0.02\n",
        "\n",
        "X = torch.arange(start, end, step).unsqueeze(dim=1)\n",
        "y = weights * X + bias\n",
        "\n",
        "X[:10], y[:10]"
      ],
      "metadata": {
        "colab": {
          "base_uri": "https://localhost:8080/"
        },
        "id": "LrBfXoIb7jSl",
        "outputId": "e74e367b-fa95-4f21-ad36-50da3e2c15bd"
      },
      "execution_count": 76,
      "outputs": [
        {
          "output_type": "execute_result",
          "data": {
            "text/plain": [
              "(tensor([[0.0000],\n",
              "         [0.0200],\n",
              "         [0.0400],\n",
              "         [0.0600],\n",
              "         [0.0800],\n",
              "         [0.1000],\n",
              "         [0.1200],\n",
              "         [0.1400],\n",
              "         [0.1600],\n",
              "         [0.1800]]),\n",
              " tensor([[0.3000],\n",
              "         [0.3140],\n",
              "         [0.3280],\n",
              "         [0.3420],\n",
              "         [0.3560],\n",
              "         [0.3700],\n",
              "         [0.3840],\n",
              "         [0.3980],\n",
              "         [0.4120],\n",
              "         [0.4260]]))"
            ]
          },
          "metadata": {},
          "execution_count": 76
        }
      ]
    },
    {
      "cell_type": "code",
      "source": [
        "# Split train/test data\n",
        "train_split = int(0.8* len(X))\n",
        "X_train, y_train = X[:train_split], y[:train_split]\n",
        "X_test, y_test = X[train_split:], y[train_split:]\n",
        "\n",
        "len(X_train),len( y_train), len(X_test), len(y_test)"
      ],
      "metadata": {
        "colab": {
          "base_uri": "https://localhost:8080/"
        },
        "id": "5jXOCFgF8A26",
        "outputId": "47feec15-514a-4712-e9c3-177f594df197"
      },
      "execution_count": 77,
      "outputs": [
        {
          "output_type": "execute_result",
          "data": {
            "text/plain": [
              "(40, 40, 10, 10)"
            ]
          },
          "metadata": {},
          "execution_count": 77
        }
      ]
    },
    {
      "cell_type": "code",
      "source": [
        "# Plot prediction function\n",
        "def plot_predictions(train_data=X_train,\n",
        "                     train_labels=y_train,\n",
        "                     test_data=X_test,\n",
        "                     test_labels=y_test,\n",
        "                     predictions=None):\n",
        "\n",
        "  plt.figure(figsize=(8, 4))\n",
        "\n",
        "  plt.scatter(train_data, train_labels, c=\"b\", s=4, label=\"Training data\")\n",
        "  plt.scatter(test_data, test_labels, c=\"g\", s=4, label=\"Testing data\")\n",
        "  if predictions is not None:\n",
        "    plt.scatter(test_data, predictions, c=\"r\", s=4, label=\"Predictions\")\n",
        "\n",
        "  plt.legend(prop={\"size\": 10});"
      ],
      "metadata": {
        "id": "iGgEufpm9HFb"
      },
      "execution_count": 78,
      "outputs": []
    },
    {
      "cell_type": "code",
      "source": [
        "plot_predictions()"
      ],
      "metadata": {
        "colab": {
          "base_uri": "https://localhost:8080/",
          "height": 368
        },
        "id": "Mn_IxBTw9h9j",
        "outputId": "f6be9755-d495-45eb-c3f1-7d73efc51dfb"
      },
      "execution_count": 79,
      "outputs": [
        {
          "output_type": "display_data",
          "data": {
            "text/plain": [
              "<Figure size 800x400 with 1 Axes>"
            ],
            "image/png": "[encoded data removed]"
          },
          "metadata": {}
        }
      ]
    },
    {
      "cell_type": "markdown",
      "source": [
        "## Build Linear PyTorch Model"
      ],
      "metadata": {
        "id": "bwxXY_g99reH"
      }
    },
    {
      "cell_type": "code",
      "source": [
        "class LinearRegressionV2(nn.Module):\n",
        "  def __init__(self):\n",
        "    super().__init__()\n",
        "\n",
        "    # Using nn.linear() for model parameters\n",
        "    self.linear = nn.Linear(in_features = 1,\n",
        "                            out_features = 1)\n",
        "\n",
        "  def forward(self, x:torch.Tensor) -> torch.Tensor:\n",
        "    return self.linear(x)     # In built Linear Regression NN\n",
        "\n",
        "# For reproducibility\n",
        "torch.manual_seed(42)\n",
        "model = LinearRegressionV2()\n",
        "\n",
        "model, model.state_dict()"
      ],
      "metadata": {
        "colab": {
          "base_uri": "https://localhost:8080/"
        },
        "id": "WALtLR969l7c",
        "outputId": "08bc3862-7c37-4669-ab20-d8958feaf006"
      },
      "execution_count": 80,
      "outputs": [
        {
          "output_type": "execute_result",
          "data": {
            "text/plain": [
              "(LinearRegressionV2(\n",
              "   (linear): Linear(in_features=1, out_features=1, bias=True)\n",
              " ),\n",
              " OrderedDict([('linear.weight', tensor([[0.7645]])),\n",
              "              ('linear.bias', tensor([0.8300]))]))"
            ]
          },
          "metadata": {},
          "execution_count": 80
        }
      ]
    },
    {
      "cell_type": "code",
      "source": [
        "# Checking current device\n",
        "next(model.parameters()).device"
      ],
      "metadata": {
        "colab": {
          "base_uri": "https://localhost:8080/"
        },
        "id": "jvf8rbWZ-rGa",
        "outputId": "e2c966e7-289b-4a24-f621-0fc3d2dc2b47"
      },
      "execution_count": 81,
      "outputs": [
        {
          "output_type": "execute_result",
          "data": {
            "text/plain": [
              "device(type='cpu')"
            ]
          },
          "metadata": {},
          "execution_count": 81
        }
      ]
    },
    {
      "cell_type": "code",
      "source": [
        "# Set model usage to CUDA\n",
        "model.to(device)\n",
        "next(model.parameters()).device"
      ],
      "metadata": {
        "colab": {
          "base_uri": "https://localhost:8080/"
        },
        "id": "tw8yky1G_Bl9",
        "outputId": "c2007183-d3b1-40be-b316-7d8efcc4c10e"
      },
      "execution_count": 82,
      "outputs": [
        {
          "output_type": "execute_result",
          "data": {
            "text/plain": [
              "device(type='cuda', index=0)"
            ]
          },
          "metadata": {},
          "execution_count": 82
        }
      ]
    },
    {
      "cell_type": "markdown",
      "source": [
        "## Train"
      ],
      "metadata": {
        "id": "11Da_ieu_TzG"
      }
    },
    {
      "cell_type": "code",
      "source": [
        "# Creating loss function and optimizer\n",
        "loss_fn = nn.L1Loss()\n",
        "optimizer = torch.optim.SGD(params = model.parameters(),\n",
        "                            lr = 0.01)"
      ],
      "metadata": {
        "id": "30pO1COh_RUy"
      },
      "execution_count": 83,
      "outputs": []
    },
    {
      "cell_type": "code",
      "source": [
        "torch.manual_seed(42)\n",
        "\n",
        "epochs = 1000\n",
        "\n",
        "# Placing data on CUDA\n",
        "X_train = X_train.to(device)\n",
        "X_test = X_test.to(device)\n",
        "y_train = y_train.to(device)\n",
        "y_test = y_test.to(device)\n",
        "\n",
        "# Train loop\n",
        "for epoch in range(epochs):\n",
        "  model.train()\n",
        "  y_pred = model(X_train)\n",
        "  loss = loss_fn(y_pred, y_train)\n",
        "  optimizer.zero_grad()\n",
        "  loss.backward()\n",
        "  optimizer.step()\n",
        "\n",
        "  # Testing\n",
        "  model.eval()\n",
        "  with torch.inference_mode():\n",
        "    test_pred = model(X_test)\n",
        "    test_loss = loss_fn(test_pred, y_test)\n",
        "\n",
        "  if epoch % 100 == 0 or epoch == epochs-1:\n",
        "    print(f'Epoch: {epoch} | Train Loss: {loss:.4f} | Test Loss: {test_loss:.4f}')\n",
        "\n",
        "print('Original values of weights and bias:\\n',weights,'\\t', bias)\n",
        "print(model.state_dict())"
      ],
      "metadata": {
        "colab": {
          "base_uri": "https://localhost:8080/"
        },
        "id": "4eScUVcH_ktq",
        "outputId": "2d11de37-a417-46a2-c32f-ac4226464d1b"
      },
      "execution_count": 84,
      "outputs": [
        {
          "output_type": "stream",
          "name": "stdout",
          "text": [
            "Epoch: 0 | Train Loss: 0.5552 | Test Loss: 0.5740\n",
            "Epoch: 100 | Train Loss: 0.0062 | Test Loss: 0.0141\n",
            "Epoch: 200 | Train Loss: 0.0013 | Test Loss: 0.0138\n",
            "Epoch: 300 | Train Loss: 0.0013 | Test Loss: 0.0138\n",
            "Epoch: 400 | Train Loss: 0.0013 | Test Loss: 0.0138\n",
            "Epoch: 500 | Train Loss: 0.0013 | Test Loss: 0.0138\n",
            "Epoch: 600 | Train Loss: 0.0013 | Test Loss: 0.0138\n",
            "Epoch: 700 | Train Loss: 0.0013 | Test Loss: 0.0138\n",
            "Epoch: 800 | Train Loss: 0.0013 | Test Loss: 0.0138\n",
            "Epoch: 900 | Train Loss: 0.0013 | Test Loss: 0.0138\n",
            "Epoch: 999 | Train Loss: 0.0103 | Test Loss: 0.0003\n",
            "Original values of weights and bias:\n",
            " 0.7 \t 0.3\n",
            "OrderedDict([('linear.weight', tensor([[0.6968]], device='cuda:0')), ('linear.bias', tensor([0.3025], device='cuda:0'))])\n"
          ]
        }
      ]
    },
    {
      "cell_type": "markdown",
      "source": [
        "## Making Predictions"
      ],
      "metadata": {
        "id": "vFxXE2xKB47Z"
      }
    },
    {
      "cell_type": "code",
      "source": [
        "model.eval()\n",
        "\n",
        "with torch.inference_mode():\n",
        "  y_preds = model(X_test)\n",
        "\n",
        "y_preds"
      ],
      "metadata": {
        "colab": {
          "base_uri": "https://localhost:8080/"
        },
        "id": "D4kMQXZQBHVT",
        "outputId": "45e1ea1b-f7de-4961-fc78-ea567a3651fd"
      },
      "execution_count": 85,
      "outputs": [
        {
          "output_type": "execute_result",
          "data": {
            "text/plain": [
              "tensor([[0.8600],\n",
              "        [0.8739],\n",
              "        [0.8878],\n",
              "        [0.9018],\n",
              "        [0.9157],\n",
              "        [0.9296],\n",
              "        [0.9436],\n",
              "        [0.9575],\n",
              "        [0.9714],\n",
              "        [0.9854]], device='cuda:0')"
            ]
          },
          "metadata": {},
          "execution_count": 85
        }
      ]
    },
    {
      "cell_type": "code",
      "source": [
        "# Note: Plot doesnt work in GPU so transfering to cpu\n",
        "plot_predictions(predictions = y_preds.to('cpu'))"
      ],
      "metadata": {
        "colab": {
          "base_uri": "https://localhost:8080/",
          "height": 368
        },
        "id": "D-J7nZU2CD2g",
        "outputId": "9ad0cb71-b093-4dc4-ba21-bc4bf284b3c7"
      },
      "execution_count": 89,
      "outputs": [
        {
          "output_type": "display_data",
          "data": {
            "text/plain": [
              "<Figure size 800x400 with 1 Axes>"
            ],
            "image/png": "[encoded data removed]"
          },
          "metadata": {}
        }
      ]
    },
    {
      "cell_type": "markdown",
      "source": [
        "## Saving and Loading a model"
      ],
      "metadata": {
        "id": "kkHCrP_6C4ev"
      }
    },
    {
      "cell_type": "code",
      "source": [
        "from pathlib import Path\n",
        "\n",
        "model_path = Path('models')\n",
        "model_path.mkdir(parents = True, exist_ok =True)\n",
        "\n",
        "model_name = '01_LinearRegressionV2.pth'\n",
        "model_save_path = model_path / model_name\n",
        "\n",
        "print(f\"Saving model to: {model_save_path}\")\n",
        "torch.save(obj = model.state_dict(),\n",
        "           f = model_save_path)\n",
        "print('Saved Successfully')"
      ],
      "metadata": {
        "colab": {
          "base_uri": "https://localhost:8080/"
        },
        "id": "1_ckQWjuCUc2",
        "outputId": "baccb292-5a46-4b2f-bbbf-888006428ab0"
      },
      "execution_count": 91,
      "outputs": [
        {
          "output_type": "stream",
          "name": "stdout",
          "text": [
            "Saving model to: models/01_LinearRegressionV2.pth\n",
            "Saved Successfully\n"
          ]
        }
      ]
    },
    {
      "cell_type": "code",
      "source": [
        "loaded_model = LinearRegressionV2()\n",
        "loaded_model.load_state_dict(torch.load(model_save_path))\n",
        "\n",
        "# Transfer loaded model to CUDA\n",
        "loaded_model.to(device)\n",
        "\n",
        "print(f\"Loaded model:\\n{loaded_model}\")\n",
        "print(f\"Model on device:\\n{next(loaded_model.parameters()).device}\")"
      ],
      "metadata": {
        "colab": {
          "base_uri": "https://localhost:8080/"
        },
        "id": "EhSwkdd0DpTO",
        "outputId": "626681c2-7130-48f0-e061-421c691cf554"
      },
      "execution_count": 94,
      "outputs": [
        {
          "output_type": "stream",
          "name": "stdout",
          "text": [
            "Loaded model:\n",
            "LinearRegressionV2(\n",
            "  (linear): Linear(in_features=1, out_features=1, bias=True)\n",
            ")\n",
            "Model on device:\n",
            "cuda:0\n"
          ]
        }
      ]
    },
    {
      "cell_type": "code",
      "source": [
        "# Evaluate loaded model\n",
        "loaded_model.eval()\n",
        "with torch.inference_mode():\n",
        "  loaded_model_preds = loaded_model(X_test)\n",
        "\n",
        "y_preds == loaded_model_preds"
      ],
      "metadata": {
        "colab": {
          "base_uri": "https://localhost:8080/"
        },
        "id": "_KpL6sw6EI7f",
        "outputId": "5b32505f-100c-432e-ef1b-8c17294e24b1"
      },
      "execution_count": 95,
      "outputs": [
        {
          "output_type": "execute_result",
          "data": {
            "text/plain": [
              "tensor([[True],\n",
              "        [True],\n",
              "        [True],\n",
              "        [True],\n",
              "        [True],\n",
              "        [True],\n",
              "        [True],\n",
              "        [True],\n",
              "        [True],\n",
              "        [True]], device='cuda:0')"
            ]
          },
          "metadata": {},
          "execution_count": 95
        }
      ]
    }
  ]
}
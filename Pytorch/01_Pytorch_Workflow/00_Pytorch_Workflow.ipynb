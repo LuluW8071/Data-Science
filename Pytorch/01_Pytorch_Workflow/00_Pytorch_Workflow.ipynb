{
  "nbformat": 4,
  "nbformat_minor": 0,
  "metadata": {
    "colab": {
      "provenance": [],
      "gpuType": "T4",
      "include_colab_link": true
    },
    "kernelspec": {
      "name": "python3",
      "display_name": "Python 3"
    },
    "language_info": {
      "name": "python"
    },
    "accelerator": "GPU"
  },
  "cells": [
    {
      "cell_type": "markdown",
      "metadata": {
        "id": "view-in-github",
        "colab_type": "text"
      },
      "source": [
        "<a href=\"https://colab.research.google.com/github/LuluW8071/Data-Science/blob/main/Pytorch/01_Pytorch_Workflow/00_Pytorch_Workflow.ipynb\" target=\"_parent\"><img src=\"https://colab.research.google.com/assets/colab-badge.svg\" alt=\"Open In Colab\"/></a>"
      ]
    },
    {
      "cell_type": "markdown",
      "source": [
        "## PyTorch Workflow\n",
        "### [Resource](https://www.learnpytorch.io/01_pytorch_workflow/)\n",
        "\n",
        "<img src='https://raw.githubusercontent.com/mrdbourke/pytorch-deep-learning/main/images/01_a_pytorch_workflow.png'>"
      ],
      "metadata": {
        "id": "6YGu8oVv92Oe"
      }
    },
    {
      "cell_type": "code",
      "source": [
        "what_we_are_covering = {1: 'Data (Prepare and Load)',\n",
        "                        2: 'Build Model',\n",
        "                        3: 'Fitting Model to Data (Training)',\n",
        "                        4: 'Making predictions and evaluate model (Inference)',\n",
        "                        5: 'Save and Load Model',\n",
        "                        6: 'Putting it all together'}\n",
        "\n",
        "what_we_are_covering"
      ],
      "metadata": {
        "colab": {
          "base_uri": "https://localhost:8080/"
        },
        "id": "B6uaJAG4-Ovx",
        "outputId": "fbad26a6-bc5d-47f1-c25a-93321c4a2fd5"
      },
      "execution_count": 1,
      "outputs": [
        {
          "output_type": "execute_result",
          "data": {
            "text/plain": [
              "{1: 'Data (Prepare and Load)',\n",
              " 2: 'Build Model',\n",
              " 3: 'Fitting Model to Data (Training)',\n",
              " 4: 'Making predictions and evaluate model (Inference)',\n",
              " 5: 'Save and Load Model',\n",
              " 6: 'Putting it all together'}"
            ]
          },
          "metadata": {},
          "execution_count": 1
        }
      ]
    },
    {
      "cell_type": "code",
      "source": [
        "import torch\n",
        "from torch import nn    # torch.nn contains all the basic building blocks for neural networks\n",
        "import matplotlib.pyplot as plt\n",
        "\n",
        "print(torch.__version__)"
      ],
      "metadata": {
        "colab": {
          "base_uri": "https://localhost:8080/"
        },
        "id": "WtVU0F1o_lKv",
        "outputId": "0e6db877-7b44-4e45-d688-600e50c339f2"
      },
      "execution_count": 2,
      "outputs": [
        {
          "output_type": "stream",
          "name": "stdout",
          "text": [
            "2.1.0+cu121\n"
          ]
        }
      ]
    },
    {
      "cell_type": "markdown",
      "source": [
        "### 1. Data (Preparing and Loading)\n",
        "Data can be almost anything in machine learning.\n",
        "\n",
        "- Excel Spreadsheet\n",
        "- Images of any kind\n",
        "- Videos (YouTube has lots of data)\n",
        "- Audio like songs or podcast\n",
        "- DNA\n",
        "- Text\n",
        "\n",
        "Machine leaning is a part of two parts\n",
        "- Turn your data into numerical representation\n",
        "- Pick or build a model to learn the pattern in that numerical representation\n",
        "\n",
        "To showcase this, lets create some *known* data using `linear regression` formula.\n",
        "\n",
        "Using `linear regression` formula to make a st. line with *known* pararmeters. Simply, the formula is typically represented as `Y = aX + b` where,\n",
        "- `Y` represents the dependent variable,\n",
        "- a represents the slope of the regression equation,\n",
        "- `X` denotes the independent variable, and\n",
        "- `b` represents `a` constant term"
      ],
      "metadata": {
        "id": "om6oX4afAOck"
      }
    },
    {
      "cell_type": "code",
      "source": [
        "# Create known parameters\n",
        "weight = 0.7\n",
        "bias = 0.3\n",
        "\n",
        "start = 0\n",
        "end = 1\n",
        "step = 0.02\n",
        "X = torch.arange(start, end, step).unsqueeze(dim=1)   # Input\n",
        "y = weight * X + bias   # Output{y=mX+c}\n",
        "\n",
        "X[:10], y[:10]"
      ],
      "metadata": {
        "id": "31mMNIUrAEaJ",
        "colab": {
          "base_uri": "https://localhost:8080/"
        },
        "outputId": "34e66bf6-9b5e-41df-e6df-e0c0f1b43878"
      },
      "execution_count": 3,
      "outputs": [
        {
          "output_type": "execute_result",
          "data": {
            "text/plain": [
              "(tensor([[0.0000],\n",
              "         [0.0200],\n",
              "         [0.0400],\n",
              "         [0.0600],\n",
              "         [0.0800],\n",
              "         [0.1000],\n",
              "         [0.1200],\n",
              "         [0.1400],\n",
              "         [0.1600],\n",
              "         [0.1800]]),\n",
              " tensor([[0.3000],\n",
              "         [0.3140],\n",
              "         [0.3280],\n",
              "         [0.3420],\n",
              "         [0.3560],\n",
              "         [0.3700],\n",
              "         [0.3840],\n",
              "         [0.3980],\n",
              "         [0.4120],\n",
              "         [0.4260]]))"
            ]
          },
          "metadata": {},
          "execution_count": 3
        }
      ]
    },
    {
      "cell_type": "code",
      "source": [
        "len(X), len(y)"
      ],
      "metadata": {
        "colab": {
          "base_uri": "https://localhost:8080/"
        },
        "id": "S2hsPnxPmKsO",
        "outputId": "326ed162-e25f-4708-b071-0a1109d476a3"
      },
      "execution_count": 4,
      "outputs": [
        {
          "output_type": "execute_result",
          "data": {
            "text/plain": [
              "(50, 50)"
            ]
          },
          "metadata": {},
          "execution_count": 4
        }
      ]
    },
    {
      "cell_type": "markdown",
      "source": [
        "### Splitting data into training and test sets\n",
        "One of the most importatnt concepts in machine learning in general\n",
        "\n",
        "| Split          | Purpose                                                         | Amount of total data | How often is it used? |\n",
        "| -------------- | --------------------------------------------------------------- | -------------------- | --------------------- |\n",
        "| **Training set**  | The model learns from this data (like the course materials you study during the semester). | ~60-80%              | Always                |\n",
        "| **Validation set** | The model gets tuned on this data (like the practice exam you take before the final exam). | ~10-20%              | Often but not always  |\n",
        "| **Testing set**    | The model gets evaluated on this data to test what it has learned (like the final exam you take at the end of the semester). | ~10-20%              | Always                |\n"
      ],
      "metadata": {
        "id": "4Kb3nc6ln6FV"
      }
    },
    {
      "cell_type": "code",
      "source": [
        "# Create a train-test split\n",
        "train_split = int(0.8 * len(X))   # 80% of splitting datasets for train\n",
        "X_train, y_train = X[:train_split], y[:train_split]\n",
        "X_test, y_test = X[train_split:], y[train_split:]\n",
        "\n",
        "len(X_train), len(y_train), len(X_test), len(y_test)"
      ],
      "metadata": {
        "colab": {
          "base_uri": "https://localhost:8080/"
        },
        "id": "74cWt6gPnOCo",
        "outputId": "d4590e84-f3e5-42d1-a8eb-d1209753f6c2"
      },
      "execution_count": 5,
      "outputs": [
        {
          "output_type": "execute_result",
          "data": {
            "text/plain": [
              "(40, 40, 10, 10)"
            ]
          },
          "metadata": {},
          "execution_count": 5
        }
      ]
    },
    {
      "cell_type": "markdown",
      "source": [
        "### Visualize Data\n",
        "\n",
        "[matplotlib.pyplot.scatter](https://matplotlib.org/stable/api/_as_gen/matplotlib.pyplot.scatter.html)"
      ],
      "metadata": {
        "id": "kX1Fy40Jp3BG"
      }
    },
    {
      "cell_type": "code",
      "source": [
        "def plot_predict(train_data = X_train, train_labels = y_train,\n",
        "                 test_data = X_test, test_labels = y_test,\n",
        "                 predictions = None):\n",
        "  \"\"\"\n",
        "  Plots training data, test data and compares predictions.\n",
        "  \"\"\"\n",
        "  plt.figure(figsize=(8,4))\n",
        "\n",
        "  # Plot training data in blue\n",
        "  plt.scatter(train_data, train_labels, c=\"b\", s=4, label=\"Train Data\")\n",
        "  # Plot test data in green\n",
        "  plt.scatter(test_data, test_labels, c=\"g\", s=4, label=\"Test Data\")\n",
        "\n",
        "  if predictions is not None:\n",
        "    plt.scatter(test_data, predictions, c=\"r\", s=4, label=\"Test Data\")\n",
        "\n",
        "  # Show legend\n",
        "  plt.legend(prop={\"size\": 8})\n"
      ],
      "metadata": {
        "id": "8xoIb3qiprRk"
      },
      "execution_count": 6,
      "outputs": []
    },
    {
      "cell_type": "code",
      "source": [
        "plot_predict()"
      ],
      "metadata": {
        "colab": {
          "base_uri": "https://localhost:8080/",
          "height": 368
        },
        "id": "qecYtZXBpxIf",
        "outputId": "d5acf32c-91ca-48de-cc7b-289325feb05f"
      },
      "execution_count": 7,
      "outputs": [
        {
          "output_type": "display_data",
          "data": {
            "text/plain": [
              "<Figure size 800x400 with 1 Axes>"
            ],
            "image/png": "[encoded data removed]"
          },
          "metadata": {}
        }
      ]
    },
    {
      "cell_type": "markdown",
      "source": [
        "### 2. Build Model\n",
        "\n",
        "[Python Class Object Concept](https://realpython.com/python3-object-oriented-programming/)\n",
        "\n",
        "What our model does?\n",
        "- Start with random values (weights and bias)\n",
        "- Look at training data and adjust the random values to better represent (or get closer to) the ideal values (weight and bias values we used to create data)\n",
        "\n",
        "How does it do so?\n",
        "- [Gradient descent](https://www.youtube.com/watch?v=IHZwWFHWa-w)\n",
        "- [Backpropagation](https://www.youtube.com/watch?v=Ilg3gGewQ5U)\n",
        "\n",
        "[TORCH.NN.MODULE Documentation](https://pytorch.org/docs/stable/generated/torch.nn.Module.html)"
      ],
      "metadata": {
        "id": "QE4DwPcmtiFq"
      }
    },
    {
      "cell_type": "code",
      "source": [
        "# Create a linear regression model class\n",
        "class LinearRegressionModel(nn.Module):    # nn.Module contains building blocks(subclass) of neural networks\n",
        "  def __init__(self):\n",
        "    super().__init__()\n",
        "    self.weights = nn.Parameter(torch.randn(1,\n",
        "                                           requires_grad = True,   # set parameter to be updated via gradient descent -> True\n",
        "                                           dtype = torch.float))\n",
        "    self.bias = nn.Parameter(torch.randn(1,\n",
        "                                         requires_grad = True,   # set parameter to be updated via gradient descent -> True\n",
        "                                         dtype = torch.float))\n",
        "\n",
        "  # Forward method to define the computation in model\n",
        "  def forward(self, x:torch.Tensor) -> torch.Tensor:    # 'x' is input data\n",
        "    return self.weights * x + self.bias   # Linear regression formula"
      ],
      "metadata": {
        "id": "g16C-unOrcb1"
      },
      "execution_count": 16,
      "outputs": []
    },
    {
      "cell_type": "markdown",
      "source": [
        "<img src='https://raw.githubusercontent.com/mrdbourke/pytorch-deep-learning/main/images/01-pytorch-linear-model-annotated.png'>\n",
        "\n",
        "### PyTorch Model Build Essentials\n",
        "\n",
        "| PyTorch Model Build Essentials | Description |\n",
        "| ------------------------------ | ----------- |\n",
        "| torch.nn                       | Contains all of the buildings for neural networks |\n",
        "| torch.nn.Parameter             | Specifies what parameters our model should try and learn |\n",
        "| torch.nn.Module                | Base class for all neural network models; if subclassed, you should overwrite `forward()` |\n",
        "| torch.optim                    | Contains optimizers in PyTorch, aiding in gradient descent |\n",
        "| `def forward():`               | All `nn.Module` subclasses require this method; it defines what happens in forward computation |\n",
        "\n",
        "[PYTORCH CHEAT SHEET](https://pytorch.org/tutorials/beginner/ptcheat.html)\n",
        "\n",
        "### Checking the contents of our PyTorch model\n",
        "Now we've have created a model, lets see whats inside...\n",
        "\n",
        "We can check out our model parameters using `.parameters()`."
      ],
      "metadata": {
        "id": "NC09ghxMzKlU"
      }
    },
    {
      "cell_type": "code",
      "source": [
        "# Create a random seed\n",
        "torch.manual_seed(42)\n",
        "\n",
        "# Create an instance of the model\n",
        "model = LinearRegressionModel()\n",
        "\n",
        "# Model Parameter Listing\n",
        "list(model.parameters())"
      ],
      "metadata": {
        "id": "nEFCWWlE2Ldn",
        "outputId": "ec8eafc3-667e-435c-8a02-5585842bdcb4",
        "colab": {
          "base_uri": "https://localhost:8080/"
        }
      },
      "execution_count": 17,
      "outputs": [
        {
          "output_type": "execute_result",
          "data": {
            "text/plain": [
              "[Parameter containing:\n",
              " tensor([0.3367], requires_grad=True),\n",
              " Parameter containing:\n",
              " tensor([0.1288], requires_grad=True)]"
            ]
          },
          "metadata": {},
          "execution_count": 17
        }
      ]
    },
    {
      "cell_type": "code",
      "source": [
        "# List in named parameters (Dictionary)\n",
        "model.state_dict()"
      ],
      "metadata": {
        "id": "TSWpYSPI-7a1",
        "outputId": "a8218852-e4c3-446d-e8a2-de66f8d36cdc",
        "colab": {
          "base_uri": "https://localhost:8080/"
        }
      },
      "execution_count": 19,
      "outputs": [
        {
          "output_type": "execute_result",
          "data": {
            "text/plain": [
              "OrderedDict([('weights', tensor([0.3367])), ('bias', tensor([0.1288]))])"
            ]
          },
          "metadata": {},
          "execution_count": 19
        }
      ]
    },
    {
      "cell_type": "markdown",
      "source": [
        "### Making prediction using `torch.inference_mode()`\n",
        "To check model's predictive power, lets see how well it predicts `y_test` based on `X_test`. When we pass data through our model, its going to run through the `forward()` method."
      ],
      "metadata": {
        "id": "87uruCUvBgHf"
      }
    },
    {
      "cell_type": "code",
      "source": [
        "# Making predictions with model\n",
        "with torch.inference_mode():\n",
        "  y_preds = model(X_test)\n",
        "\n",
        "y_preds"
      ],
      "metadata": {
        "id": "3iKhUkL9AQiC",
        "colab": {
          "base_uri": "https://localhost:8080/"
        },
        "outputId": "853044c1-ffb9-460a-8f14-36b25f8c99a1"
      },
      "execution_count": 23,
      "outputs": [
        {
          "output_type": "execute_result",
          "data": {
            "text/plain": [
              "tensor([[0.3982],\n",
              "        [0.4049],\n",
              "        [0.4116],\n",
              "        [0.4184],\n",
              "        [0.4251],\n",
              "        [0.4318],\n",
              "        [0.4386],\n",
              "        [0.4453],\n",
              "        [0.4520],\n",
              "        [0.4588]])"
            ]
          },
          "metadata": {},
          "execution_count": 23
        }
      ]
    },
    {
      "cell_type": "code",
      "source": [
        "plot_predict(predictions = y_preds)"
      ],
      "metadata": {
        "colab": {
          "base_uri": "https://localhost:8080/",
          "height": 368
        },
        "id": "w-AeE5uFCge_",
        "outputId": "1c89199b-11ca-4e6c-831a-193b471327b6"
      },
      "execution_count": 24,
      "outputs": [
        {
          "output_type": "display_data",
          "data": {
            "text/plain": [
              "<Figure size 800x400 with 1 Axes>"
            ],
            "image/png": "[encoded data removed]"
          },
          "metadata": {}
        }
      ]
    },
    {
      "cell_type": "markdown",
      "source": [
        "### Using `torch.inference.mode()` makes prediction runs faster\n",
        "\n",
        "`torch.inference.mode()` removes `gradient descent` from hogging up your memory resource\n",
        "\n",
        "[See more about inference mode](https://twitter.com/PyTorch/status/1437838231505096708?lang=en)\n",
        "\n",
        "Same thing can be done with:\n",
        "```bash\n",
        "with torch.no_grad():\n",
        "  y_preds = model(X_test)\n",
        "```\n",
        "\n",
        "However, `torch.inference.mode()` is highly prefered.\n",
        "</br></br>\n",
        "\n",
        "### 3. Train Model\n",
        "The whole idea of training is for a model to move from some *unknown* parameters to some *known* parameter.\n",
        "\n",
        "In other words, from a poor representation of the data to a better representation of the data. One way to measure how poor your model predictions are is to use a `loss function(cost function/criterion)`.\n",
        "\n",
        "- [`Loss function`](https://pytorch.org/docs/stable/nn.html#loss-functions) is a function to measure how poor is your models prediction are to the ideal outputs. [Lower is better]\n",
        "\n",
        "- `Optimizer` takes into account the loss of a model and adjust the models parameter (Eg: Weight & Bias) to improve the loss function.\n",
        "\n",
        "And specifically, for PyTorch we need:\n",
        "- A training loop\n",
        "- A test loop\n",
        "</br></br>\n",
        "\n",
        "<img src='https://raw.githubusercontent.com/mrdbourke/pytorch-deep-learning/main/images/01-mae-loss-annotated.png' width=70%>\n",
        "\n"
      ],
      "metadata": {
        "id": "fivvwYTUH73m"
      }
    },
    {
      "cell_type": "code",
      "source": [
        "model.state_dict()"
      ],
      "metadata": {
        "colab": {
          "base_uri": "https://localhost:8080/"
        },
        "id": "SyYn1gIiDVQt",
        "outputId": "78ac3dcb-6a46-44d0-ae59-78930b25a61c"
      },
      "execution_count": 25,
      "outputs": [
        {
          "output_type": "execute_result",
          "data": {
            "text/plain": [
              "OrderedDict([('weights', tensor([0.3367])), ('bias', tensor([0.1288]))])"
            ]
          },
          "metadata": {},
          "execution_count": 25
        }
      ]
    },
    {
      "cell_type": "code",
      "source": [],
      "metadata": {
        "id": "3dmM7tKeLVSR"
      },
      "execution_count": null,
      "outputs": []
    }
  ]
}
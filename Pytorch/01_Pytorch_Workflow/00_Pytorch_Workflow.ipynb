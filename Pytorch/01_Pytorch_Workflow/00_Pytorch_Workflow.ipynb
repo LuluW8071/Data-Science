{
  "nbformat": 4,
  "nbformat_minor": 0,
  "metadata": {
    "colab": {
      "provenance": [],
      "gpuType": "T4",
      "authorship_tag": "ABX9TyMRW4w0ExUSgu4gnnqgDsY2"
    },
    "kernelspec": {
      "name": "python3",
      "display_name": "Python 3"
    },
    "language_info": {
      "name": "python"
    },
    "accelerator": "GPU"
  },
  "cells": [
    {
      "cell_type": "markdown",
      "source": [
        "## PyTorch Workflow\n",
        "### [Resource](https://www.learnpytorch.io/01_pytorch_workflow/)\n",
        "\n",
        "<img src='https://raw.githubusercontent.com/mrdbourke/pytorch-deep-learning/main/images/01_a_pytorch_workflow.png'>"
      ],
      "metadata": {
        "id": "6YGu8oVv92Oe"
      }
    },
    {
      "cell_type": "code",
      "source": [
        "what_we_are_covering = {1: 'Data (Prepare and Load)',\n",
        "                        2: 'Build Model',\n",
        "                        3: 'Fitting Model to Data (Training)',\n",
        "                        4: 'Making predictions and evaluate model (Inference)',\n",
        "                        5: 'Save and Load Model',\n",
        "                        6: 'Putting it all together'}\n",
        "\n",
        "what_we_are_covering"
      ],
      "metadata": {
        "colab": {
          "base_uri": "https://localhost:8080/"
        },
        "id": "B6uaJAG4-Ovx",
        "outputId": "7ec67f34-796a-421a-c7b8-e428db83222d"
      },
      "execution_count": 10,
      "outputs": [
        {
          "output_type": "execute_result",
          "data": {
            "text/plain": [
              "{1: 'Data (Prepare and Load)',\n",
              " 2: 'Build Model',\n",
              " 3: 'Fitting Model to Data (Training)',\n",
              " 4: 'Making predictions and evaluate model (Inference)',\n",
              " 5: 'Save and Load Model',\n",
              " 6: 'Putting it all together'}"
            ]
          },
          "metadata": {},
          "execution_count": 10
        }
      ]
    },
    {
      "cell_type": "code",
      "source": [
        "import torch\n",
        "from torch import nn    # torch.nn contains all the basic building blocks for neural networks\n",
        "import matplotlib.pyplot as plt\n",
        "\n",
        "print(torch.__version__)"
      ],
      "metadata": {
        "colab": {
          "base_uri": "https://localhost:8080/"
        },
        "id": "WtVU0F1o_lKv",
        "outputId": "06a977ee-8441-48cd-b48a-a8123001d19a"
      },
      "execution_count": 11,
      "outputs": [
        {
          "output_type": "stream",
          "name": "stdout",
          "text": [
            "2.1.0+cu121\n"
          ]
        }
      ]
    },
    {
      "cell_type": "markdown",
      "source": [
        "### 1. Data (Preparing and Loading)\n",
        "Data can be almost anything in machine learning.\n",
        "\n",
        "- Excel Spreadsheet\n",
        "- Images of any kind\n",
        "- Videos (YouTube has lots of data)\n",
        "- Audio like songs or podcast\n",
        "- DNA\n",
        "- Text\n",
        "\n",
        "Machine leaning is a part of two parts\n",
        "- Turn your data into numerical representation\n",
        "- Pick or build a model to learn the pattern in that numerical representation\n",
        "\n",
        "To showcase this, lets create some *known* data using `linear regression` formula.\n",
        "\n",
        "Using `linear regression` formula to make a st. line with *known* pararmeters. Simply, the formula is typically represented as `Y = aX + b` where,\n",
        "- `Y` represents the dependent variable,\n",
        "- a represents the slope of the regression equation,\n",
        "- `X` denotes the independent variable, and\n",
        "- `b` represents `a` constant term"
      ],
      "metadata": {
        "id": "om6oX4afAOck"
      }
    },
    {
      "cell_type": "code",
      "source": [
        "# Create known parameters\n",
        "weight = 0.7\n",
        "bias = 0.3\n",
        "\n",
        "start = 0\n",
        "end = 1\n",
        "step = 0.02\n",
        "X = torch.arange(start, end, step).unsqueeze(dim=1)   # Input\n",
        "y = weight * X + bias   # Output{y=mX+c}\n",
        "\n",
        "X[:10], y[:10]"
      ],
      "metadata": {
        "id": "31mMNIUrAEaJ",
        "colab": {
          "base_uri": "https://localhost:8080/"
        },
        "outputId": "39e8e106-c85d-4683-f0e0-8a8771496312"
      },
      "execution_count": 12,
      "outputs": [
        {
          "output_type": "execute_result",
          "data": {
            "text/plain": [
              "(tensor([[0.0000],\n",
              "         [0.0200],\n",
              "         [0.0400],\n",
              "         [0.0600],\n",
              "         [0.0800],\n",
              "         [0.1000],\n",
              "         [0.1200],\n",
              "         [0.1400],\n",
              "         [0.1600],\n",
              "         [0.1800]]),\n",
              " tensor([[0.3000],\n",
              "         [0.3140],\n",
              "         [0.3280],\n",
              "         [0.3420],\n",
              "         [0.3560],\n",
              "         [0.3700],\n",
              "         [0.3840],\n",
              "         [0.3980],\n",
              "         [0.4120],\n",
              "         [0.4260]]))"
            ]
          },
          "metadata": {},
          "execution_count": 12
        }
      ]
    },
    {
      "cell_type": "code",
      "source": [
        "len(X), len(y)"
      ],
      "metadata": {
        "colab": {
          "base_uri": "https://localhost:8080/"
        },
        "id": "S2hsPnxPmKsO",
        "outputId": "9ede22a8-065b-41af-8d4e-48bfc5ccff6d"
      },
      "execution_count": 13,
      "outputs": [
        {
          "output_type": "execute_result",
          "data": {
            "text/plain": [
              "(50, 50)"
            ]
          },
          "metadata": {},
          "execution_count": 13
        }
      ]
    },
    {
      "cell_type": "markdown",
      "source": [
        "### Splitting data into training and test sets\n",
        "One of the most importatnt concepts in machine learning in general\n",
        "\n",
        "| Split          | Purpose                                                         | Amount of total data | How often is it used? |\n",
        "| -------------- | --------------------------------------------------------------- | -------------------- | --------------------- |\n",
        "| **Training set**  | The model learns from this data (like the course materials you study during the semester). | ~60-80%              | Always                |\n",
        "| **Validation set** | The model gets tuned on this data (like the practice exam you take before the final exam). | ~10-20%              | Often but not always  |\n",
        "| **Testing set**    | The model gets evaluated on this data to test what it has learned (like the final exam you take at the end of the semester). | ~10-20%              | Always                |\n"
      ],
      "metadata": {
        "id": "4Kb3nc6ln6FV"
      }
    },
    {
      "cell_type": "code",
      "source": [
        "# Create a train-test split\n",
        "train_split = int(0.8 * len(X))   # 80% of splitting datasets for train\n",
        "X_train, y_train = X[:train_split], y[:train_split]\n",
        "X_test, y_test = X[train_split:], y[train_split:]\n",
        "\n",
        "len(X_train), len(y_train), len(X_test), len(y_test)"
      ],
      "metadata": {
        "colab": {
          "base_uri": "https://localhost:8080/"
        },
        "id": "74cWt6gPnOCo",
        "outputId": "2d33ad08-1313-4fa2-fe19-ae54962812a3"
      },
      "execution_count": 14,
      "outputs": [
        {
          "output_type": "execute_result",
          "data": {
            "text/plain": [
              "(40, 40, 10, 10)"
            ]
          },
          "metadata": {},
          "execution_count": 14
        }
      ]
    },
    {
      "cell_type": "markdown",
      "source": [
        "### Visualize Data\n",
        "\n",
        "[matplotlib.pyplot.scatter](https://matplotlib.org/stable/api/_as_gen/matplotlib.pyplot.scatter.html)"
      ],
      "metadata": {
        "id": "kX1Fy40Jp3BG"
      }
    },
    {
      "cell_type": "code",
      "source": [
        "def plot_predict(train_data = X_train, train_labels = y_train,\n",
        "                 test_data = X_test, test_labels = y_test,\n",
        "                 predictions = None):\n",
        "  \"\"\"\n",
        "  Plots training data, test data and compares predictions.\n",
        "  \"\"\"\n",
        "  plt.figure(figsize=(8,4))\n",
        "\n",
        "  # Plot training data in blue\n",
        "  plt.scatter(train_data, train_labels, c=\"b\", s=4, label=\"Train Data\")\n",
        "  # Plot test data in green\n",
        "  plt.scatter(test_data, test_labels, c=\"g\", s=4, label=\"Test Data\")\n",
        "\n",
        "  if predictions is not None:\n",
        "    plt.scatter(test_data, predictions, c=\"r\", s=4, label=\"Test Data\")\n",
        "\n",
        "  # Show legend\n",
        "  plt.legend(prop={\"size\": 8})\n"
      ],
      "metadata": {
        "id": "8xoIb3qiprRk"
      },
      "execution_count": 15,
      "outputs": []
    },
    {
      "cell_type": "code",
      "source": [
        "plot_predict()"
      ],
      "metadata": {
        "colab": {
          "base_uri": "https://localhost:8080/",
          "height": 368
        },
        "id": "qecYtZXBpxIf",
        "outputId": "916c68ba-e1f0-40a1-bd57-64a09cb6328c"
      },
      "execution_count": 16,
      "outputs": [
        {
          "output_type": "display_data",
          "data": {
            "text/plain": [
              "<Figure size 800x400 with 1 Axes>"
            ],
            "image/png": "[encoded data removed]"
          },
          "metadata": {}
        }
      ]
    },
    {
      "cell_type": "markdown",
      "source": [
        "### 2. Build Model\n",
        "\n",
        "[Python Class Object Concept](https://realpython.com/python3-object-oriented-programming/)\n",
        "\n",
        "What our model does?\n",
        "- Start with random values (weights and bias)\n",
        "- Look at training data and adjust the random values to better represent (or get closer to) the ideal values (weight and bias values we used to create data)\n",
        "\n",
        "How does it do so?\n",
        "- [Gradient descent](https://www.youtube.com/watch?v=IHZwWFHWa-w)\n",
        "- [Backpropagation](https://www.youtube.com/watch?v=Ilg3gGewQ5U)\n",
        "\n",
        "[TORCH.NN.MODULE Documentation](https://pytorch.org/docs/stable/generated/torch.nn.Module.html)"
      ],
      "metadata": {
        "id": "QE4DwPcmtiFq"
      }
    },
    {
      "cell_type": "code",
      "source": [
        "# Create a linear regression model class\n",
        "class LinearRegression(nn.Module):    # nn.Module contains building blocks(subclass) of neural networks\n",
        "  def __init__(self):\n",
        "    super()._init__()\n",
        "    self.weights = nn.Parameter(torch.randn(1,\n",
        "                                           requires_grad = True,   # set parameter to be updated via gradient descent -> True\n",
        "                                           dtype = torch.float))\n",
        "    self.bias = nn.Parameter(torch.randn(1,\n",
        "                                         requires_grad = True,   # set parameter to be updated via gradient descent -> True\n",
        "                                         dtype = torch.float))\n",
        "\n",
        "    # Forward method to define the computation in model\n",
        "    def forward(self, x:torch.Tensor) -> torch.Tensor:    # 'x' is input data\n",
        "      return self.weights * x + self.bias   # Linear regression formula"
      ],
      "metadata": {
        "id": "g16C-unOrcb1"
      },
      "execution_count": 17,
      "outputs": []
    },
    {
      "cell_type": "markdown",
      "source": [
        "<img src='https://raw.githubusercontent.com/mrdbourke/pytorch-deep-learning/main/images/01-pytorch-linear-model-annotated.png'>\n",
        "\n",
        "### PyTorch Model Build Essentials\n",
        "\n",
        "| PyTorch Model Build Essentials | Description |\n",
        "| ------------------------------ | ----------- |\n",
        "| torch.nn                       | Contains all of the buildings for neural networks |\n",
        "| torch.nn.Parameter             | Specifies what parameters our model should try and learn |\n",
        "| torch.nn.Module                | Base class for all neural network models; if subclassed, you should overwrite `forward()` |\n",
        "| torch.optim                    | Contains optimizers in PyTorch, aiding in gradient descent |\n",
        "| `def forward():`               | All `nn.Module` subclasses require this method; it defines what happens in forward computation |\n",
        "\n",
        "[PYTORCH CHEAT SHEET](https://pytorch.org/tutorials/beginner/ptcheat.html)"
      ],
      "metadata": {
        "id": "NC09ghxMzKlU"
      }
    },
    {
      "cell_type": "code",
      "source": [],
      "metadata": {
        "id": "nEFCWWlE2Ldn"
      },
      "execution_count": null,
      "outputs": []
    }
  ]
}
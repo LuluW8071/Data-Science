{
  "nbformat": 4,
  "nbformat_minor": 0,
  "metadata": {
    "colab": {
      "provenance": [],
      "gpuType": "T4"
    },
    "kernelspec": {
      "name": "python3",
      "display_name": "Python 3"
    },
    "language_info": {
      "name": "python"
    },
    "accelerator": "GPU"
  },
  "cells": [
    {
      "cell_type": "markdown",
      "source": [
        "## PyTorch Workflow\n",
        "### [Resource](https://www.learnpytorch.io/01_pytorch_workflow/)\n",
        "\n",
        "<img src='https://raw.githubusercontent.com/mrdbourke/pytorch-deep-learning/main/images/01_a_pytorch_workflow.png'>"
      ],
      "metadata": {
        "id": "6YGu8oVv92Oe"
      }
    },
    {
      "cell_type": "code",
      "source": [
        "what_we_are_covering = {1: 'Data (Prepare and Load)',\n",
        "                        2: 'Build Model',\n",
        "                        3: 'Fitting Model to Data (Training)',\n",
        "                        4: 'Making predictions and evaluate model (Inference)',\n",
        "                        5: 'Save and Load Model',\n",
        "                        6: 'Putting it all together'}\n",
        "\n",
        "what_we_are_covering"
      ],
      "metadata": {
        "colab": {
          "base_uri": "https://localhost:8080/"
        },
        "id": "B6uaJAG4-Ovx",
        "outputId": "43db9e18-9ee0-44ae-8712-de14d489527e"
      },
      "execution_count": 88,
      "outputs": [
        {
          "output_type": "execute_result",
          "data": {
            "text/plain": [
              "{1: 'Data (Prepare and Load)',\n",
              " 2: 'Build Model',\n",
              " 3: 'Fitting Model to Data (Training)',\n",
              " 4: 'Making predictions and evaluate model (Inference)',\n",
              " 5: 'Save and Load Model',\n",
              " 6: 'Putting it all together'}"
            ]
          },
          "metadata": {},
          "execution_count": 88
        }
      ]
    },
    {
      "cell_type": "code",
      "source": [
        "import torch\n",
        "from torch import nn    # torch.nn contains all the basic building blocks for neural networks\n",
        "import matplotlib.pyplot as plt\n",
        "\n",
        "print(torch.__version__)"
      ],
      "metadata": {
        "colab": {
          "base_uri": "https://localhost:8080/"
        },
        "id": "WtVU0F1o_lKv",
        "outputId": "a8ee3880-c3f4-4263-b108-b194b9b0a0c0"
      },
      "execution_count": 89,
      "outputs": [
        {
          "output_type": "stream",
          "name": "stdout",
          "text": [
            "2.1.0+cu121\n"
          ]
        }
      ]
    },
    {
      "cell_type": "markdown",
      "source": [
        "### 1. Data (Preparing and Loading)\n",
        "Data can be almost anything in machine learning.\n",
        "\n",
        "- Excel Spreadsheet\n",
        "- Images of any kind\n",
        "- Videos (YouTube has lots of data)\n",
        "- Audio like songs or podcast\n",
        "- DNA\n",
        "- Text\n",
        "\n",
        "Machine leaning is a part of two parts\n",
        "- Turn your data into numerical representation\n",
        "- Pick or build a model to learn the pattern in that numerical representation\n",
        "\n",
        "To showcase this, lets create some *known* data using `linear regression` formula.\n",
        "\n",
        "Using `linear regression` formula to make a st. line with *known* pararmeters. Simply, the formula is typically represented as `Y = aX + b` where,\n",
        "- `Y` represents the dependent variable,\n",
        "- a represents the slope of the regression equation,\n",
        "- `X` denotes the independent variable, and\n",
        "- `b` represents `a` constant term"
      ],
      "metadata": {
        "id": "om6oX4afAOck"
      }
    },
    {
      "cell_type": "code",
      "source": [
        "# Create known parameters\n",
        "weight = 0.7\n",
        "bias = 0.3\n",
        "\n",
        "start = 0\n",
        "end = 1\n",
        "step = 0.02\n",
        "X = torch.arange(start, end, step).unsqueeze(dim=1)   # Input\n",
        "y = weight * X + bias   # Output{y=mX+c}\n",
        "\n",
        "X[:10], y[:10]"
      ],
      "metadata": {
        "id": "31mMNIUrAEaJ",
        "colab": {
          "base_uri": "https://localhost:8080/"
        },
        "outputId": "bae500e4-45de-4822-c2c4-abe07f97c44f"
      },
      "execution_count": 90,
      "outputs": [
        {
          "output_type": "execute_result",
          "data": {
            "text/plain": [
              "(tensor([[0.0000],\n",
              "         [0.0200],\n",
              "         [0.0400],\n",
              "         [0.0600],\n",
              "         [0.0800],\n",
              "         [0.1000],\n",
              "         [0.1200],\n",
              "         [0.1400],\n",
              "         [0.1600],\n",
              "         [0.1800]]),\n",
              " tensor([[0.3000],\n",
              "         [0.3140],\n",
              "         [0.3280],\n",
              "         [0.3420],\n",
              "         [0.3560],\n",
              "         [0.3700],\n",
              "         [0.3840],\n",
              "         [0.3980],\n",
              "         [0.4120],\n",
              "         [0.4260]]))"
            ]
          },
          "metadata": {},
          "execution_count": 90
        }
      ]
    },
    {
      "cell_type": "code",
      "source": [
        "len(X), len(y)"
      ],
      "metadata": {
        "colab": {
          "base_uri": "https://localhost:8080/"
        },
        "id": "S2hsPnxPmKsO",
        "outputId": "b40dd9da-d25f-4848-d237-4715983b4e02"
      },
      "execution_count": 91,
      "outputs": [
        {
          "output_type": "execute_result",
          "data": {
            "text/plain": [
              "(50, 50)"
            ]
          },
          "metadata": {},
          "execution_count": 91
        }
      ]
    },
    {
      "cell_type": "markdown",
      "source": [
        "### Splitting data into training and test sets\n",
        "One of the most importatnt concepts in machine learning in general\n",
        "\n",
        "| Split          | Purpose                                                         | Amount of total data | How often is it used? |\n",
        "| -------------- | --------------------------------------------------------------- | -------------------- | --------------------- |\n",
        "| **Training set**  | The model learns from this data (like the course materials you study during the semester). | ~60-80%              | Always                |\n",
        "| **Validation set** | The model gets tuned on this data (like the practice exam you take before the final exam). | ~10-20%              | Often but not always  |\n",
        "| **Testing set**    | The model gets evaluated on this data to test what it has learned (like the final exam you take at the end of the semester). | ~10-20%              | Always                |\n"
      ],
      "metadata": {
        "id": "4Kb3nc6ln6FV"
      }
    },
    {
      "cell_type": "code",
      "source": [
        "# Create a train-test split\n",
        "train_split = int(0.8 * len(X))   # 80% of splitting datasets for train\n",
        "X_train, y_train = X[:train_split], y[:train_split]\n",
        "X_test, y_test = X[train_split:], y[train_split:]\n",
        "\n",
        "len(X_train), len(y_train), len(X_test), len(y_test)"
      ],
      "metadata": {
        "colab": {
          "base_uri": "https://localhost:8080/"
        },
        "id": "74cWt6gPnOCo",
        "outputId": "a6b0ebe7-2ca3-45c8-9856-7ff9a3b74809"
      },
      "execution_count": 92,
      "outputs": [
        {
          "output_type": "execute_result",
          "data": {
            "text/plain": [
              "(40, 40, 10, 10)"
            ]
          },
          "metadata": {},
          "execution_count": 92
        }
      ]
    },
    {
      "cell_type": "markdown",
      "source": [
        "### Visualize Data\n",
        "\n",
        "[matplotlib.pyplot.scatter](https://matplotlib.org/stable/api/_as_gen/matplotlib.pyplot.scatter.html)"
      ],
      "metadata": {
        "id": "kX1Fy40Jp3BG"
      }
    },
    {
      "cell_type": "code",
      "source": [
        "def plot_predict(train_data = X_train, train_labels = y_train,\n",
        "                 test_data = X_test, test_labels = y_test,\n",
        "                 predictions = None):\n",
        "  \"\"\"\n",
        "  Plots training data, test data and compares predictions.\n",
        "  \"\"\"\n",
        "  plt.figure(figsize=(8,4))\n",
        "\n",
        "  # Plot training data in blue\n",
        "  plt.scatter(train_data, train_labels, c=\"b\", s=4, label=\"Train Data\")\n",
        "  # Plot test data in green\n",
        "  plt.scatter(test_data, test_labels, c=\"g\", s=4, label=\"Test Data\")\n",
        "\n",
        "  if predictions is not None:\n",
        "    plt.scatter(test_data, predictions, c=\"r\", s=4, label=\"Test Data\")\n",
        "\n",
        "  # Show legend\n",
        "  plt.legend(prop={\"size\": 8})\n"
      ],
      "metadata": {
        "id": "8xoIb3qiprRk"
      },
      "execution_count": 93,
      "outputs": []
    },
    {
      "cell_type": "code",
      "source": [
        "plot_predict()"
      ],
      "metadata": {
        "colab": {
          "base_uri": "https://localhost:8080/",
          "height": 368
        },
        "id": "qecYtZXBpxIf",
        "outputId": "18e3cdf1-3aa3-49a6-be52-f937a02172d1"
      },
      "execution_count": 94,
      "outputs": [
        {
          "output_type": "display_data",
          "data": {
            "text/plain": [
              "<Figure size 800x400 with 1 Axes>"
            ],
            "image/png": "[encoded data removed]"
          },
          "metadata": {}
        }
      ]
    },
    {
      "cell_type": "markdown",
      "source": [
        "### 2. Build Model\n",
        "\n",
        "[Python Class Object Concept](https://realpython.com/python3-object-oriented-programming/)\n",
        "\n",
        "What our model does?\n",
        "- Start with random values (weights and bias)\n",
        "- Look at training data and adjust the random values to better represent (or get closer to) the ideal values (weight and bias values we used to create data)\n",
        "\n",
        "How does it do so?\n",
        "- [Gradient descent](https://www.youtube.com/watch?v=IHZwWFHWa-w)\n",
        "- [Backpropagation](https://www.youtube.com/watch?v=Ilg3gGewQ5U)\n",
        "\n",
        "[TORCH.NN.MODULE Documentation](https://pytorch.org/docs/stable/generated/torch.nn.Module.html)"
      ],
      "metadata": {
        "id": "QE4DwPcmtiFq"
      }
    },
    {
      "cell_type": "code",
      "source": [
        "# Create a linear regression model class\n",
        "class LinearRegressionModel(nn.Module):    # nn.Module contains building blocks(subclass) of neural networks\n",
        "  def __init__(self):\n",
        "    super().__init__()\n",
        "    self.weights = nn.Parameter(torch.randn(1,\n",
        "                                           requires_grad = True,   # set parameter to be updated via gradient descent -> True\n",
        "                                           dtype = torch.float))\n",
        "    self.bias = nn.Parameter(torch.randn(1,\n",
        "                                         requires_grad = True,   # set parameter to be updated via gradient descent -> True\n",
        "                                         dtype = torch.float))\n",
        "\n",
        "  # Forward method to define the computation in model\n",
        "  def forward(self, x:torch.Tensor) -> torch.Tensor:    # 'x' is input data\n",
        "    return self.weights * x + self.bias   # Linear regression formula"
      ],
      "metadata": {
        "id": "g16C-unOrcb1"
      },
      "execution_count": 95,
      "outputs": []
    },
    {
      "cell_type": "markdown",
      "source": [
        "<img src='https://raw.githubusercontent.com/mrdbourke/pytorch-deep-learning/main/images/01-pytorch-linear-model-annotated.png'>\n",
        "\n",
        "### PyTorch Model Build Essentials\n",
        "\n",
        "| PyTorch Model Build Essentials | Description |\n",
        "| ------------------------------ | ----------- |\n",
        "| torch.nn                       | Contains all of the buildings for neural networks |\n",
        "| torch.nn.Parameter             | Specifies what parameters our model should try and learn |\n",
        "| torch.nn.Module                | Base class for all neural network models; if subclassed, you should overwrite `forward()` |\n",
        "| torch.optim                    | Contains optimizers in PyTorch, aiding in gradient descent |\n",
        "| `def forward():`               | All `nn.Module` subclasses require this method; it defines what happens in forward computation |\n",
        "\n",
        "[PYTORCH CHEAT SHEET](https://pytorch.org/tutorials/beginner/ptcheat.html)\n",
        "\n",
        "### Checking the contents of our PyTorch model\n",
        "Now we've have created a model, lets see whats inside...\n",
        "\n",
        "We can check out our model parameters using `.parameters()`."
      ],
      "metadata": {
        "id": "NC09ghxMzKlU"
      }
    },
    {
      "cell_type": "code",
      "source": [
        "# Create a random seed\n",
        "torch.manual_seed(42)\n",
        "\n",
        "# Create an instance of the model\n",
        "model = LinearRegressionModel()\n",
        "\n",
        "# Model Parameter Listing\n",
        "list(model.parameters())"
      ],
      "metadata": {
        "id": "nEFCWWlE2Ldn",
        "outputId": "9d354ed1-4b7d-43fb-ed4a-3d0d0fd1cd60",
        "colab": {
          "base_uri": "https://localhost:8080/"
        }
      },
      "execution_count": 96,
      "outputs": [
        {
          "output_type": "execute_result",
          "data": {
            "text/plain": [
              "[Parameter containing:\n",
              " tensor([0.3367], requires_grad=True),\n",
              " Parameter containing:\n",
              " tensor([0.1288], requires_grad=True)]"
            ]
          },
          "metadata": {},
          "execution_count": 96
        }
      ]
    },
    {
      "cell_type": "code",
      "source": [
        "# List in named parameters (Dictionary)\n",
        "model.state_dict()"
      ],
      "metadata": {
        "id": "TSWpYSPI-7a1",
        "outputId": "f186a121-3d8a-4ad9-d367-3e2aec766b3b",
        "colab": {
          "base_uri": "https://localhost:8080/"
        }
      },
      "execution_count": 97,
      "outputs": [
        {
          "output_type": "execute_result",
          "data": {
            "text/plain": [
              "OrderedDict([('weights', tensor([0.3367])), ('bias', tensor([0.1288]))])"
            ]
          },
          "metadata": {},
          "execution_count": 97
        }
      ]
    },
    {
      "cell_type": "markdown",
      "source": [
        "### Making prediction using `torch.inference_mode()`\n",
        "To check model's predictive power, lets see how well it predicts `y_test` based on `X_test`. When we pass data through our model, its going to run through the `forward()` method."
      ],
      "metadata": {
        "id": "87uruCUvBgHf"
      }
    },
    {
      "cell_type": "code",
      "source": [
        "# Making predictions with model\n",
        "with torch.inference_mode():\n",
        "  y_preds = model(X_test)\n",
        "\n",
        "y_preds"
      ],
      "metadata": {
        "id": "3iKhUkL9AQiC",
        "colab": {
          "base_uri": "https://localhost:8080/"
        },
        "outputId": "80ac4923-e1d0-47d1-a11b-6731f40e4b9b"
      },
      "execution_count": 98,
      "outputs": [
        {
          "output_type": "execute_result",
          "data": {
            "text/plain": [
              "tensor([[0.3982],\n",
              "        [0.4049],\n",
              "        [0.4116],\n",
              "        [0.4184],\n",
              "        [0.4251],\n",
              "        [0.4318],\n",
              "        [0.4386],\n",
              "        [0.4453],\n",
              "        [0.4520],\n",
              "        [0.4588]])"
            ]
          },
          "metadata": {},
          "execution_count": 98
        }
      ]
    },
    {
      "cell_type": "code",
      "source": [
        "plot_predict(predictions = y_preds)"
      ],
      "metadata": {
        "colab": {
          "base_uri": "https://localhost:8080/",
          "height": 368
        },
        "id": "w-AeE5uFCge_",
        "outputId": "13c2d423-4b15-4271-f8d5-f035e9f549cb"
      },
      "execution_count": 99,
      "outputs": [
        {
          "output_type": "display_data",
          "data": {
            "text/plain": [
              "<Figure size 800x400 with 1 Axes>"
            ],
            "image/png": "[encoded data removed]"
          },
          "metadata": {}
        }
      ]
    },
    {
      "cell_type": "markdown",
      "source": [
        "### Using `torch.inference.mode()` makes prediction runs faster\n",
        "\n",
        "`torch.inference.mode()` removes `gradient descent` from hogging up your memory resource\n",
        "\n",
        "[See more about inference mode](https://twitter.com/PyTorch/status/1437838231505096708?lang=en)\n",
        "\n",
        "Same thing can be done with:\n",
        "```bash\n",
        "with torch.no_grad():\n",
        "  y_preds = model(X_test)\n",
        "```\n",
        "\n",
        "However, `torch.inference.mode()` is highly prefered.\n",
        "</br></br>\n",
        "\n",
        "### 3. Train Model\n",
        "The whole idea of training is for a model to move from some *unknown* parameters to some *known* parameter.\n",
        "\n",
        "In other words, from a poor representation of the data to a better representation of the data. One way to measure how poor your model predictions are is to use a `loss function(cost function/criterion)`.\n",
        "\n",
        "- [`Loss function`](https://pytorch.org/docs/stable/nn.html#loss-functions) is a function to measure how poor is your models prediction are to the ideal outputs. [Lower is better]\n",
        "\n",
        "- [`Optimizer`](https://pytorch.org/docs/stable/optim.html) takes into account the loss of a model and adjust the models parameter (Eg: Weight & Bias) to improve the loss function. Inside the optimizer, we will often have to set two parameters:\n",
        "  - `params`: model parameters you'd like to optimize\n",
        "  - `lr`: learning rate is a hyperparameter that defines how big/small the optimizer changes the parameter with each step *(small lr results small changes and vice-versa)*\n",
        "  \n",
        "And specifically, for PyTorch we need:\n",
        "- A training loop\n",
        "- A test loop\n",
        "</br></br>\n",
        "\n",
        "<img src='https://raw.githubusercontent.com/mrdbourke/pytorch-deep-learning/main/images/01-mae-loss-annotated.png' width=70%>\n",
        "\n"
      ],
      "metadata": {
        "id": "fivvwYTUH73m"
      }
    },
    {
      "cell_type": "code",
      "source": [
        "model.state_dict()"
      ],
      "metadata": {
        "colab": {
          "base_uri": "https://localhost:8080/"
        },
        "id": "SyYn1gIiDVQt",
        "outputId": "cd0c470c-ad74-46e6-9340-fbeba8b76d44"
      },
      "execution_count": 100,
      "outputs": [
        {
          "output_type": "execute_result",
          "data": {
            "text/plain": [
              "OrderedDict([('weights', tensor([0.3367])), ('bias', tensor([0.1288]))])"
            ]
          },
          "metadata": {},
          "execution_count": 100
        }
      ]
    },
    {
      "cell_type": "code",
      "source": [
        "# Setup a loss function (MAE)\n",
        "loss_fn = nn.L1Loss()\n",
        "\n",
        "# Setup an optimizer (Stochastic Gradient Descent)\n",
        "optimizer = torch.optim.SGD(params = model.parameters(),\n",
        "                            lr = 0.01 )    # lr: Learning Rate (Important Hyperparameter)"
      ],
      "metadata": {
        "id": "3dmM7tKeLVSR"
      },
      "execution_count": 101,
      "outputs": []
    },
    {
      "cell_type": "markdown",
      "source": [
        "### Building Training/Testing Loop\n",
        "- Loop through the data\n",
        "- Forward pass (this involves data moving through models `forward()` method)\n",
        "- Calculate the loss (compare forward pass predictions to ground truth labels)\n",
        "- Optimizer zero grad\n",
        "- Loss backward - move backwards through the neural network to calculate the gradients of each of the parameters of our model with respect to loss `(Backpropagation)`\n",
        "- Optimizer loop - use the optimizer to adjust our model's parameters to try and improve the loss `(gradient descent)`\n"
      ],
      "metadata": {
        "id": "g-iEPkyUa_ru"
      }
    },
    {
      "cell_type": "code",
      "source": [
        "torch.manual_seed(42)\n",
        "\n",
        "# An epoch is one loop through the data\n",
        "epochs = 100\n",
        "\n",
        "\"\"\"Building Train Loop\"\"\"\n",
        "# Loop through the data\n",
        "for epoch in range(1,epochs+1):\n",
        "  # Set the model to training mode\n",
        "  model.train()   # train mode in PyTorch sets all parameters that require gradients to require gradients\n",
        "\n",
        "  # Forward pass\n",
        "  y_pred = model(X_train)\n",
        "\n",
        "  # Calculate loss\n",
        "  loss = loss_fn(y_pred, y_train)\n",
        "\n",
        "  # Optimizer zero grad\n",
        "  optimizer.zero_grad()\n",
        "\n",
        "  # Perform BackPropagation on the loss with respect to the parameters of the model\n",
        "  loss.backward()\n",
        "\n",
        "  # Step the optimzzer (Perform gradient descent)\n",
        "  optimizer.step()    # By default how the optimizer changes will accumulate through the loop so we have to `optimzer.zero_grad`\n",
        "\n",
        "  \"\"\"Building Test Loop\"\"\"\n",
        "  model.eval()    # turns off gradient tracking\n",
        "\n",
        "  \"\"\"Print out model state_dict\"\"\"\n",
        "  if epoch in [10, 20, 30, 40, 50, 60, 70, 80, 90, 100]:\n",
        "      model.eval()    # turn off gradient tracking\n",
        "      print(f'Epoch {epoch} - Loss: {loss:.4f}', '=' * 10, model.state_dict())"
      ],
      "metadata": {
        "colab": {
          "base_uri": "https://localhost:8080/"
        },
        "id": "l96L2Dxea-9h",
        "outputId": "85e59e97-83a7-4aa7-fa27-52a8d3edd638"
      },
      "execution_count": 102,
      "outputs": [
        {
          "output_type": "stream",
          "name": "stdout",
          "text": [
            "Epoch 10 - Loss: 0.2092 ========== OrderedDict([('weights', tensor([0.3757])), ('bias', tensor([0.2288]))])\n",
            "Epoch 20 - Loss: 0.0968 ========== OrderedDict([('weights', tensor([0.4146])), ('bias', tensor([0.3258]))])\n",
            "Epoch 30 - Loss: 0.0546 ========== OrderedDict([('weights', tensor([0.4483])), ('bias', tensor([0.3743]))])\n",
            "Epoch 40 - Loss: 0.0459 ========== OrderedDict([('weights', tensor([0.4728])), ('bias', tensor([0.3868]))])\n",
            "Epoch 50 - Loss: 0.0420 ========== OrderedDict([('weights', tensor([0.4920])), ('bias', tensor([0.3848]))])\n",
            "Epoch 60 - Loss: 0.0385 ========== OrderedDict([('weights', tensor([0.5100])), ('bias', tensor([0.3798]))])\n",
            "Epoch 70 - Loss: 0.0351 ========== OrderedDict([('weights', tensor([0.5272])), ('bias', tensor([0.3728]))])\n",
            "Epoch 80 - Loss: 0.0317 ========== OrderedDict([('weights', tensor([0.5441])), ('bias', tensor([0.3653]))])\n",
            "Epoch 90 - Loss: 0.0282 ========== OrderedDict([('weights', tensor([0.5613])), ('bias', tensor([0.3583]))])\n",
            "Epoch 100 - Loss: 0.0248 ========== OrderedDict([('weights', tensor([0.5784])), ('bias', tensor([0.3513]))])\n"
          ]
        }
      ]
    },
    {
      "cell_type": "code",
      "source": [
        "with torch.inference_mode():\n",
        "  y_preds_new = model(X_test)\n",
        "\n",
        "plot_predict(predictions = y_preds_new)"
      ],
      "metadata": {
        "colab": {
          "base_uri": "https://localhost:8080/",
          "height": 368
        },
        "id": "wDcZCvEziWbu",
        "outputId": "3b7bc288-8c0f-42b9-b54d-f2f3fff925d3"
      },
      "execution_count": 103,
      "outputs": [
        {
          "output_type": "display_data",
          "data": {
            "text/plain": [
              "<Figure size 800x400 with 1 Axes>"
            ],
            "image/png": "[encoded data removed]"
          },
          "metadata": {}
        }
      ]
    }
  ]
}
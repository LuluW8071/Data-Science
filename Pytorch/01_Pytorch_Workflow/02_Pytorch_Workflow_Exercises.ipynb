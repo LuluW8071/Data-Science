{
  "nbformat": 4,
  "nbformat_minor": 0,
  "metadata": {
    "colab": {
      "provenance": [],
      "gpuType": "T4",
      "authorship_tag": "ABX9TyOD+6zaZ6i0AyZ26tXiMOCu"
    },
    "kernelspec": {
      "name": "python3",
      "display_name": "Python 3"
    },
    "language_info": {
      "name": "python"
    },
    "accelerator": "GPU"
  },
  "cells": [
    {
      "cell_type": "markdown",
      "source": [
        "## [Exercise](https://www.learnpytorch.io/01_pytorch_workflow/#exercises)\n",
        "\n",
        "*Note: For all exercises, your code should be device agnostic (meaning it could run on CPU or GPU if it's available).*"
      ],
      "metadata": {
        "id": "1KGGfSbgg-Rq"
      }
    },
    {
      "cell_type": "code",
      "source": [
        "import torch\n",
        "from torch import nn\n",
        "import numpy as np\n",
        "import matplotlib.pyplot as plt\n",
        "\n",
        "print(torch.__version__)\n",
        "\n",
        "# Setting device agnostic\n",
        "device = 'cuda' if torch.cuda.is_available() else 'cpu'\n",
        "print(device)"
      ],
      "metadata": {
        "colab": {
          "base_uri": "https://localhost:8080/"
        },
        "id": "c56Z7pBfg9v_",
        "outputId": "69b80f9c-79cb-4778-bc19-51416abfcbdb"
      },
      "execution_count": 49,
      "outputs": [
        {
          "output_type": "stream",
          "name": "stdout",
          "text": [
            "2.1.0+cu121\n",
            "cuda\n"
          ]
        }
      ]
    },
    {
      "cell_type": "markdown",
      "source": [
        "## 1. Create a straight line dataset using the linear regression formula `(weight * X + bias)`\n",
        "  - Set `weight=0.3` and `bias=0.9` there should be at least 100 datapoints total.\n",
        "  - Split the data into 80% training, 20% testing.\n",
        "  - Plot the training and testing data so it becomes visual."
      ],
      "metadata": {
        "id": "nDhm-b0rhsQs"
      }
    },
    {
      "cell_type": "code",
      "source": [
        "weights = 0.3\n",
        "bias = 0.9\n",
        "\n",
        "start, end, step = 0, 2, 0.02\n",
        "\n",
        "X = torch.arange(start,end,step).unsqueeze(dim=1)\n",
        "y = weights * X + bias\n",
        "\n",
        "X[:5], y[:5]"
      ],
      "metadata": {
        "colab": {
          "base_uri": "https://localhost:8080/"
        },
        "id": "GsG57g6ehsxE",
        "outputId": "ca8974d2-93b9-42d4-fb37-a96d73d56d5d"
      },
      "execution_count": 50,
      "outputs": [
        {
          "output_type": "execute_result",
          "data": {
            "text/plain": [
              "(tensor([[0.0000],\n",
              "         [0.0200],\n",
              "         [0.0400],\n",
              "         [0.0600],\n",
              "         [0.0800]]),\n",
              " tensor([[0.9000],\n",
              "         [0.9060],\n",
              "         [0.9120],\n",
              "         [0.9180],\n",
              "         [0.9240]]))"
            ]
          },
          "metadata": {},
          "execution_count": 50
        }
      ]
    },
    {
      "cell_type": "code",
      "source": [
        "train_split = int(0.8*len(X))\n",
        "X_train, y_train = X[:train_split], y[:train_split]\n",
        "X_test, y_test = X[train_split:], y[train_split:]\n",
        "\n",
        "len(X_train), len(X_test)"
      ],
      "metadata": {
        "colab": {
          "base_uri": "https://localhost:8080/"
        },
        "id": "r4xMWp6FkVhL",
        "outputId": "ed895c73-1b9b-4df8-9679-82bb89284ee1"
      },
      "execution_count": 51,
      "outputs": [
        {
          "output_type": "execute_result",
          "data": {
            "text/plain": [
              "(80, 20)"
            ]
          },
          "metadata": {},
          "execution_count": 51
        }
      ]
    },
    {
      "cell_type": "code",
      "source": [
        "def plot_predictions(train_data=X_train,\n",
        "                     train_labels=y_train,\n",
        "                     test_data=X_test,\n",
        "                     test_labels=y_test,\n",
        "                     predictions=None):\n",
        "  plt.figure(figsize=(8,4))\n",
        "\n",
        "  plt.scatter(train_data, train_labels, c='b', s=4, label='Training Data')\n",
        "  plt.scatter(test_data, test_labels, c='g', s=4, label='Testing Data')\n",
        "  if predictions is not None:\n",
        "    plt.scatter(test_data, predictions, c='r', s=4, label='Predictions Data')\n",
        "\n",
        "  plt.legend();"
      ],
      "metadata": {
        "id": "p8sltxQFmzif"
      },
      "execution_count": 52,
      "outputs": []
    },
    {
      "cell_type": "code",
      "source": [
        "plot_predictions()"
      ],
      "metadata": {
        "colab": {
          "base_uri": "https://localhost:8080/",
          "height": 368
        },
        "id": "ceR0B1gHnw0t",
        "outputId": "77d32634-e02c-43ef-d1a1-3cf702f24d42"
      },
      "execution_count": 53,
      "outputs": [
        {
          "output_type": "display_data",
          "data": {
            "text/plain": [
              "<Figure size 800x400 with 1 Axes>"
            ],
            "image/png": "[encoded data removed]"
          },
          "metadata": {}
        }
      ]
    },
    {
      "cell_type": "markdown",
      "source": [
        "## 2. Build a PyTorch model by subclassing `nn.Module`\n",
        "  - Inside should be a randomly initialized `nn.Parameter()` with requires_grad=True, one for weights and one for bias.\n",
        "  - Implement the `forward()` method to compute the linear regression function you used to create the dataset in 1.\n",
        "  - Once you've constructed the model, make an instance of it and check its `state_dict()`.\n",
        "\n",
        "*Note: If you'd like to use `nn.Linear()` instead of `nn.Parameter()` you can*"
      ],
      "metadata": {
        "id": "K21xAFxUoKQM"
      }
    },
    {
      "cell_type": "code",
      "source": [
        "class LinearRegression(nn.Module):\n",
        "  def __init__(self):\n",
        "    super().__init__()\n",
        "\n",
        "    self.linear = nn.Linear(in_features = 1,\n",
        "                            out_features = 1)\n",
        "\n",
        "  def forward(self, x:torch.Tensor) -> torch.Tensor:\n",
        "    return self.linear(x)\n",
        "\n",
        "torch.manual_seed(42)\n",
        "model = LinearRegression()\n",
        "\n",
        "model, model.state_dict()"
      ],
      "metadata": {
        "colab": {
          "base_uri": "https://localhost:8080/"
        },
        "id": "uTLf2zSjnzKr",
        "outputId": "6c3cdc3e-4f9f-4dbe-f655-c6c390ce7dab"
      },
      "execution_count": 54,
      "outputs": [
        {
          "output_type": "execute_result",
          "data": {
            "text/plain": [
              "(LinearRegression(\n",
              "   (linear): Linear(in_features=1, out_features=1, bias=True)\n",
              " ),\n",
              " OrderedDict([('linear.weight', tensor([[0.7645]])),\n",
              "              ('linear.bias', tensor([0.8300]))]))"
            ]
          },
          "metadata": {},
          "execution_count": 54
        }
      ]
    },
    {
      "cell_type": "code",
      "source": [
        "model.to(device)\n",
        "next(model.parameters()).device"
      ],
      "metadata": {
        "colab": {
          "base_uri": "https://localhost:8080/"
        },
        "id": "AvgAYRYrpPlE",
        "outputId": "a2941e96-61f4-422d-f9cb-59c8173200d5"
      },
      "execution_count": 55,
      "outputs": [
        {
          "output_type": "execute_result",
          "data": {
            "text/plain": [
              "device(type='cuda', index=0)"
            ]
          },
          "metadata": {},
          "execution_count": 55
        }
      ]
    },
    {
      "cell_type": "markdown",
      "source": [
        "## 3. Create a loss function and optimizer using `nn.L1Loss()` and `torch.optim.SGD(params, lr)` respectively\n",
        "  - Set the learning rate of the optimizer to be 0.01 and the parameters to optimize should be the model parameters from the model you created in 2.\n",
        "  - Write a training loop to perform the appropriate training steps for 300 epochs.\n",
        "  - The training loop should test the model on the test dataset every 20 epochs."
      ],
      "metadata": {
        "id": "ygCEsbZRpYZC"
      }
    },
    {
      "cell_type": "code",
      "source": [
        "loss_fn = nn.L1Loss()\n",
        "optimizer = torch.optim.SGD(params = model.parameters(), lr = 0.01)"
      ],
      "metadata": {
        "id": "2mjy3om1peX0"
      },
      "execution_count": 56,
      "outputs": []
    },
    {
      "cell_type": "code",
      "source": [
        "torch.manual_seed(42)\n",
        "\n",
        "epochs = 300\n",
        "\n",
        "# Placing data on CUDA\n",
        "X_train = X_train.to(device)\n",
        "X_test = X_test.to(device)\n",
        "y_train = y_train.to(device)\n",
        "y_test = y_test.to(device)\n",
        "\n",
        "# Tracking\n",
        "epoch_count = []\n",
        "loss_values = []\n",
        "test_loss_values = []\n",
        "\n",
        "# Train Loop\n",
        "for epoch in range(epochs):\n",
        "  model.train()\n",
        "  y_pred = model(X_train)\n",
        "  loss = loss_fn(y_pred, y_train)\n",
        "  optimizer.zero_grad()\n",
        "  loss.backward()\n",
        "  optimizer.step()\n",
        "\n",
        "  # Testing\n",
        "  if epoch % 20 == 0 or epoch == epochs - 1:\n",
        "    model.eval()\n",
        "    with torch.inference_mode():\n",
        "      test_pred = model(X_test)\n",
        "      test_loss = loss_fn(test_pred, y_test)\n",
        "\n",
        "      epoch_count.append(epoch)\n",
        "      loss_values.append(loss)\n",
        "      test_loss_values.append(test_loss)\n",
        "      print(f'Epoch: {epoch} ---- Train Loss: {loss:.4f} | Test Loss: {test_loss:.4f}')"
      ],
      "metadata": {
        "colab": {
          "base_uri": "https://localhost:8080/"
        },
        "id": "7z0eXSMtps53",
        "outputId": "a10d9394-c3e9-4f24-c627-2f926f14ea7b"
      },
      "execution_count": 57,
      "outputs": [
        {
          "output_type": "stream",
          "name": "stdout",
          "text": [
            "Epoch: 0 ---- Train Loss: 0.3045 | Test Loss: 0.7396\n",
            "Epoch: 20 ---- Train Loss: 0.1400 | Test Loss: 0.3841\n",
            "Epoch: 40 ---- Train Loss: 0.0931 | Test Loss: 0.2102\n",
            "Epoch: 60 ---- Train Loss: 0.0737 | Test Loss: 0.1480\n",
            "Epoch: 80 ---- Train Loss: 0.0555 | Test Loss: 0.1085\n",
            "Epoch: 100 ---- Train Loss: 0.0373 | Test Loss: 0.0723\n",
            "Epoch: 120 ---- Train Loss: 0.0191 | Test Loss: 0.0362\n",
            "Epoch: 140 ---- Train Loss: 0.0046 | Test Loss: 0.0196\n",
            "Epoch: 160 ---- Train Loss: 0.0046 | Test Loss: 0.0196\n",
            "Epoch: 180 ---- Train Loss: 0.0046 | Test Loss: 0.0196\n",
            "Epoch: 200 ---- Train Loss: 0.0046 | Test Loss: 0.0196\n",
            "Epoch: 220 ---- Train Loss: 0.0046 | Test Loss: 0.0196\n",
            "Epoch: 240 ---- Train Loss: 0.0046 | Test Loss: 0.0196\n",
            "Epoch: 260 ---- Train Loss: 0.0046 | Test Loss: 0.0196\n",
            "Epoch: 280 ---- Train Loss: 0.0046 | Test Loss: 0.0196\n",
            "Epoch: 299 ---- Train Loss: 0.0116 | Test Loss: 0.0045\n"
          ]
        }
      ]
    },
    {
      "cell_type": "markdown",
      "source": [
        "## 4. Make predictions with the trained model on the test data\n",
        "  - Visualize these predictions against the original training and testing data.\n",
        "  \n",
        "*(Note: you may need to make sure the predictions are not on the GPU if you want to use non-CUDA-enabled libraries such as matplotlib to plot)*"
      ],
      "metadata": {
        "id": "OF_1QuVVsEPh"
      }
    },
    {
      "cell_type": "code",
      "source": [
        "model.eval()\n",
        "with torch.inference_mode():\n",
        "  y_preds = model(X_test)"
      ],
      "metadata": {
        "id": "1IE35mYWsOTL"
      },
      "execution_count": 58,
      "outputs": []
    },
    {
      "cell_type": "code",
      "source": [
        "plot_predictions(predictions = y_preds.to('cpu'))"
      ],
      "metadata": {
        "colab": {
          "base_uri": "https://localhost:8080/",
          "height": 368
        },
        "id": "LiElzJy8sYw-",
        "outputId": "1b50e559-939a-46ac-b0ca-36685dbab1f1"
      },
      "execution_count": 59,
      "outputs": [
        {
          "output_type": "display_data",
          "data": {
            "text/plain": [
              "<Figure size 800x400 with 1 Axes>"
            ],
            "image/png": "[encoded data removed]"
          },
          "metadata": {}
        }
      ]
    },
    {
      "cell_type": "markdown",
      "source": [
        "## 5. Save your trained model's `state_dict()` to file\n",
        "  - Create a new instance of your model class you made in 2. and load in the `state_dict()` you just saved to it.\n",
        "  - Perform predictions on your test data with the loaded model and confirm they match the original model predictions from 4."
      ],
      "metadata": {
        "id": "KMSSYN61snco"
      }
    },
    {
      "cell_type": "code",
      "source": [
        "from pathlib import Path\n",
        "\n",
        "model_path = Path('models')\n",
        "model_path.mkdir(parents = True, exist_ok =True)\n",
        "\n",
        "model_name = '01_LinearRegressionV2.pth'\n",
        "model_save_path = model_path / model_name\n",
        "\n",
        "print(f\"Saving model to: {model_save_path}\")\n",
        "torch.save(obj = model.state_dict(),\n",
        "           f = model_save_path)\n",
        "print('Saved Successfully')"
      ],
      "metadata": {
        "colab": {
          "base_uri": "https://localhost:8080/"
        },
        "id": "wXySgEZqsdzh",
        "outputId": "e47dd59e-04c6-48b7-df0c-b7f7205a6489"
      },
      "execution_count": 60,
      "outputs": [
        {
          "output_type": "stream",
          "name": "stdout",
          "text": [
            "Saving model to: models/01_LinearRegressionV2.pth\n",
            "Saved Successfully\n"
          ]
        }
      ]
    },
    {
      "cell_type": "code",
      "source": [
        "loaded_model = LinearRegression()\n",
        "loaded_model.load_state_dict(torch.load(model_save_path))\n",
        "\n",
        "# Transfer loaded model to CUDA\n",
        "loaded_model.to(device)\n",
        "\n",
        "print(f\"Loaded model:\\n{loaded_model}\")\n",
        "print(f\"Model on device:\\n{next(loaded_model.parameters()).device}\")"
      ],
      "metadata": {
        "colab": {
          "base_uri": "https://localhost:8080/"
        },
        "id": "sa9bAeb3trns",
        "outputId": "0f9420aa-d990-4b70-8ddc-27df7e18aa04"
      },
      "execution_count": 61,
      "outputs": [
        {
          "output_type": "stream",
          "name": "stdout",
          "text": [
            "Loaded model:\n",
            "LinearRegression(\n",
            "  (linear): Linear(in_features=1, out_features=1, bias=True)\n",
            ")\n",
            "Model on device:\n",
            "cuda:0\n"
          ]
        }
      ]
    },
    {
      "cell_type": "code",
      "source": [
        "# Evaluate loaded model\n",
        "loaded_model.eval()\n",
        "with torch.inference_mode():\n",
        "  loaded_model_preds = loaded_model(X_test)\n",
        "\n",
        "y_preds == loaded_model_preds"
      ],
      "metadata": {
        "colab": {
          "base_uri": "https://localhost:8080/"
        },
        "id": "zc4Lza3Ot5JB",
        "outputId": "3eea0c29-3a0e-4f33-ef04-d3594352ea17"
      },
      "execution_count": 62,
      "outputs": [
        {
          "output_type": "execute_result",
          "data": {
            "text/plain": [
              "tensor([[True],\n",
              "        [True],\n",
              "        [True],\n",
              "        [True],\n",
              "        [True],\n",
              "        [True],\n",
              "        [True],\n",
              "        [True],\n",
              "        [True],\n",
              "        [True],\n",
              "        [True],\n",
              "        [True],\n",
              "        [True],\n",
              "        [True],\n",
              "        [True],\n",
              "        [True],\n",
              "        [True],\n",
              "        [True],\n",
              "        [True],\n",
              "        [True]], device='cuda:0')"
            ]
          },
          "metadata": {},
          "execution_count": 62
        }
      ]
    }
  ]
}
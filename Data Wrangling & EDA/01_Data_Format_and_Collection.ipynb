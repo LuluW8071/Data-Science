{
 "cells": [
  {
   "cell_type": "markdown",
   "metadata": {},
   "source": [
    "# Data Formats\n",
    "\n",
    "Data formats play a crucial role in data engineering, as they determine how data is stored, processed, and analyzed. Here are some common data formats used in data engineering:\n",
    "\n",
    "## CSV (Comma-Separated Values):\n",
    "\n",
    "CSV is a common format used for storing and exchanging tabular data. In Python, you can use the `csv` module to read and write CSV files. Here's an example of how to read a CSV file and print its contents:"
   ]
  },
  {
   "cell_type": "code",
   "execution_count": null,
   "metadata": {},
   "outputs": [],
   "source": [
    "import csv\n",
    "\n",
    "with open('data.csv', 'r') as file:     # Delimiter param can be set '\\t' or tsv\n",
    "    reader = csv.reader(file)\n",
    "    for row in reader:\n",
    "        print(row)"
   ]
  },
  {
   "cell_type": "markdown",
   "metadata": {},
   "source": [
    "## JSON (JavaScript Object Notation):\n",
    "JSON is a lightweight data interchange format. In Python, you can use the `json` module to encode and decode JSON data. Here's an example of how to encode a Python dictionary as JSON and write it to a file:"
   ]
  },
  {
   "cell_type": "code",
   "execution_count": null,
   "metadata": {},
   "outputs": [],
   "source": [
    "import json\n",
    "\n",
    "data = {\n",
    "    \"name\": \"John Smith\",\n",
    "    \"age\": 30,\n",
    "    \"is_valid\": True\n",
    "}\n",
    "\n",
    "with open('data.json', 'w') as file:\n",
    "    json.dump(data, file)"
   ]
  },
  {
   "cell_type": "markdown",
   "metadata": {},
   "source": [
    "## Other Data Formats are: \n",
    "\n",
    "- Parquet\n",
    "- Avro"
   ]
  },
  {
   "cell_type": "markdown",
   "metadata": {},
   "source": [
    "# Data Collection\n",
    "\n",
    "Data collection involves gathering data from various sources, transforming it into a useful format, and storing it for further processing and analysis.\n",
    "\n",
    "## Web Scraping\n",
    "\n",
    "Web scraping is the process of extracting data from websites. In Python, you can use the `beautifulsoup4` and `requests` modules to scrape data from HTML pages.\n",
    "\n",
    "```bash\n",
    "pip3 install requests beautifulsoup4\n",
    "```\n",
    "\n",
    "Here's an example of how to scrape a list of articles from a news website:"
   ]
  },
  {
   "cell_type": "code",
   "execution_count": null,
   "metadata": {},
   "outputs": [],
   "source": [
    "import requests\n",
    "from bs4 import BeautifulSoup\n",
    "\n",
    "url = 'https://www.example.com/news'\n",
    "response = requests.get(url)\n",
    "soup = BeautifulSoup(response.text, 'html.parser')\n",
    "\n",
    "articles = []\n",
    "for article in soup.find_all('article'):\n",
    "    title = article.find('h2').text\n",
    "    link = article.find('a')['href']\n",
    "    summary = article.find('p').text\n",
    "    articles.append({'title': title, 'link': link, 'summary': summary})\n",
    "\n",
    "print(articles)"
   ]
  },
  {
   "cell_type": "markdown",
   "metadata": {},
   "source": [
    "## APIs\n",
    "\n",
    "APIs are interfaces that allow you to access data from other applications or websites. In Python, you can use the requests module to make API requests and retrieve data in JSON format. \n",
    "\n",
    "Here's an example of how to retrieve data from the OpenWeatherMap API:"
   ]
  },
  {
   "cell_type": "code",
   "execution_count": null,
   "metadata": {},
   "outputs": [],
   "source": [
    "import requests\n",
    "\n",
    "url = 'https://api.openweathermap.org/data/2.5/weather?q=London,uk&appid=your_api_key'\n",
    "response = requests.get(url)\n",
    "\n",
    "data = response.json()\n",
    "print(data)"
   ]
  }
 ],
 "metadata": {
  "language_info": {
   "name": "python"
  }
 },
 "nbformat": 4,
 "nbformat_minor": 2
}

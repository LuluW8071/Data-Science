{
 "cells": [
  {
   "cell_type": "markdown",
   "metadata": {},
   "source": [
    "# Data Sampling\n",
    "\n",
    "Data sampling is the process of selecting a subset of data from a larger dataset. It is often used to reduce the computation time and storage space required to work with large datasets. There are various types of data sampling methods such as random sampling, stratified sampling, cluster sampling, and systematic sampling.\n",
    "\n",
    "## Random Sampling\n",
    "\n",
    "Random Sampling is a type of probability sampling where each item of the population has an equal chance of being selected in the sample. This means that every individual item in the population has an equal probability of being chosen. Random sampling is useful when you want to get an unbiased sample from the population.\n",
    "\n",
    "Example:\n",
    "Let's say you have a dataset with 100 rows and you want to take a random sample of 10 rows. You can use the `sample` method from pandas to randomly select 10 rows from the dataset."
   ]
  },
  {
   "cell_type": "code",
   "execution_count": null,
   "metadata": {},
   "outputs": [],
   "source": [
    "import random\n",
    "\n",
    "# create a dummy dataset with 100 observations\n",
    "data = [i for i in range(1, 101)]\n",
    "\n",
    "# Take a random sample of 10 rows\n",
    "sample_size = 10\n",
    "random_sample = random.sample(data, sample_size)\n",
    "\n",
    "print(random_sample)"
   ]
  },
  {
   "cell_type": "markdown",
   "metadata": {},
   "source": [
    "Let's see how we can handle it with Python's `pandas` library."
   ]
  },
  {
   "cell_type": "code",
   "execution_count": null,
   "metadata": {},
   "outputs": [],
   "source": [
    "import pandas as pd\n",
    "import numpy as np\n",
    "\n",
    "# create a custom DataFrame\n",
    "df = pd.DataFrame({\n",
    "    'A': [1, 2, 3, 4, 5, 6, 7, 8, 9, 10],\n",
    "    'B': [20, 30, 40, 50, 60, 70, 80, 90, 100, 110]\n",
    "})\n",
    "\n",
    "# take a random sample of 3 rows from the DataFrame\n",
    "random_sample = df.sample(n=3, random_state=42)\n",
    "\n",
    "# display the random sample\n",
    "print(random_sample)"
   ]
  },
  {
   "cell_type": "markdown",
   "metadata": {},
   "source": [
    "## Stratified Sampling\n",
    "\n",
    "Stratified Sampling is a type of probability sampling where the population is divided into subgroups based on some characteristic or feature. The subgroups are then sampled proportionally to their size in the population. Stratified sampling is useful when you have a population with significant differences in the characteristics and you want to ensure that each subgroup is represented in the sample.\n",
    "\n",
    "Example:\n",
    "Let's say you have a dataset of students' grades with a column for the class they belong to. You want to take a sample of 5 students, but you want to ensure that each class is represented in the sample. You can use the `groupby` method from `pandas` to group the dataset by the class column and then use the `apply` method to take a random sample of students from each class."
   ]
  },
  {
   "cell_type": "code",
   "execution_count": null,
   "metadata": {},
   "outputs": [],
   "source": [
    "import pandas as pd\n",
    "import numpy as np\n",
    "\n",
    "# Generate random data\n",
    "np.random.seed(42)\n",
    "data = {'student_id': np.arange(1, 101),\n",
    "        'class': np.random.choice(['A', 'B', 'C', 'D'], size=100),\n",
    "        'grade': np.random.randint(0, 101, size=100)\n",
    "}\n",
    "\n",
    "# Convert data to pandas DataFrame\n",
    "df = pd.DataFrame(data)\n",
    "\n",
    "# Define the number of samples to take from each class\n",
    "n_samples = 5\n",
    "\n",
    "# Define a lambda function to take a random sample of n_samples from each group\n",
    "sample_func = lambda x: x.sample(n=n_samples)\n",
    "\n",
    "# Apply the sample_func to each group\n",
    "sampled_data = df.groupby('class').apply(sample_func)\n",
    "\n",
    "# Reset the index of the sampled data\n",
    "sampled_data = sampled_data.reset_index(drop=True)\n",
    "\n",
    "print(sampled_data)"
   ]
  },
  {
   "cell_type": "markdown",
   "metadata": {},
   "source": [
    "## Cluster Sampling\n",
    "\n",
    "Cluster Sampling is a type of probability sampling where the population is divided into clusters or groups, and then a sample of clusters is selected. All the items within the selected clusters are then sampled. Cluster sampling is useful when the population is widely dispersed and difficult to sample directly.\n",
    "\n",
    "Example:\n",
    "Let's say you have a dataset of houses in a city, with a column for the neighborhood they are located in. You want to take a sample of 10 houses, but you want to ensure that you sample from different neighborhoods. You can use the `groupby` method from pandas to group the dataset by the neighborhood column and then randomly select 5 neighborhoods. Then, you can use the loc method to select all the houses in the selected neighborhoods."
   ]
  },
  {
   "cell_type": "code",
   "execution_count": null,
   "metadata": {},
   "outputs": [],
   "source": [
    "import pandas as pd\n",
    "\n",
    "# Create sample dataset\n",
    "df = pd.DataFrame({\n",
    "    'HouseID': [1, 2, 3, 4, 5, 6, 7, 8, 9, 10, 11, 12, 13, 14, 15, 16, 17, 18, 19, 20],\n",
    "    'Neighborhood': ['A', 'B', 'B', 'C', 'C', 'C', 'D', 'D', 'D', 'D', 'E', 'E', 'F', 'F', 'F', 'G', 'G', 'G', 'G', 'G']\n",
    "})\n",
    "\n",
    "# Take a cluster sample of 10 houses, from 5 randomly selected neighborhoods\n",
    "neighborhoods = df['Neighborhood'].unique()\n",
    "selected_neighborhoods = pd.Series(neighborhoods).sample(n=5, random_state=42)\n",
    "cluster_sample = df.loc[df['Neighborhood'].isin(selected_neighborhoods)].sample(n=10, random_state=42)\n",
    "\n",
    "print(cluster_sample)"
   ]
  },
  {
   "cell_type": "markdown",
   "metadata": {},
   "source": [
    "## Systematic Sampling\n",
    "\n",
    "Systematic Sampling is a type of probability sampling where items are selected at regular intervals from an ordered list. Systematic sampling is useful when the population is large and ordered, and a random sample cannot be easily obtained.\n",
    "\n",
    "Example:\n",
    "Let's say you have a dataset of employees in a company, with a column for the employee ID. You want to take a sample of 50 employees, but you want to ensure that you select them in a systematic way."
   ]
  },
  {
   "cell_type": "code",
   "execution_count": null,
   "metadata": {},
   "outputs": [],
   "source": [
    "import pandas as pd\n",
    "import numpy as np\n",
    "\n",
    "# create a dummy dataset\n",
    "df = pd.DataFrame({\n",
    "    'A': range(1, 101),\n",
    "    'B': np.random.randint(1, 11, size=100),\n",
    "    'C': np.random.choice(['Male', 'Female'], size=100)\n",
    "})\n",
    "\n",
    "# set the seed for reproducibility\n",
    "np.random.seed(123)\n",
    "\n",
    "# define the sample size\n",
    "sample_size = 10\n",
    "\n",
    "# calculate the sampling interval\n",
    "n = len(df)\n",
    "k = int(n / sample_size)\n",
    "\n",
    "# randomly choose the starting point\n",
    "start = np.random.randint(0, k)\n",
    "\n",
    "# select the indices for the sample\n",
    "indices = range(start, n, k)\n",
    "\n",
    "# create the systematic sample\n",
    "systematic_sample = df.loc[indices]\n",
    "\n",
    "print(systematic_sample)"
   ]
  },
  {
   "cell_type": "markdown",
   "metadata": {},
   "source": [
    "This code creates a dummy dataset with 100 rows and 3 columns. It then sets the seed for reproducibility and defines the sample size as 10. The sampling interval is calculated as `k = n / sample_size`, where `n` is the number of rows in the dataset. The starting point is then randomly chosen using `np.random.randint(0, k)`, and the indices for the sample are selected using `range(start, n, k)`. Finally, the systematic sample is created by selecting the rows with those indices using `df.loc[indices]`. The resulting systematic sample is then printed."
   ]
  }
 ],
 "metadata": {
  "language_info": {
   "name": "python"
  }
 },
 "nbformat": 4,
 "nbformat_minor": 2
}

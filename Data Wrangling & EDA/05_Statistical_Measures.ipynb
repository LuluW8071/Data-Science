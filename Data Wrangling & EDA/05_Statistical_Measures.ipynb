{
 "cells": [
  {
   "cell_type": "markdown",
   "id": "9c84e9cc",
   "metadata": {},
   "source": [
    "# Statistical Measures\n",
    "\n",
    "Statistical measures can be helpful when creating data visualizations as they can provide insights into the distribution and characteristics of the data.\n",
    "\n",
    "## Mean\n",
    "\n",
    "The arithmetic mean is the sum of all values divided by the total number of values. It represents the central tendency of the data. The mean is useful in data visualization when you want to represent the central tendency or average value of a dataset. It is commonly used to summarize numerical data and provide a single value that represents the center of the data.\n",
    "\n",
    "For example, if you have a dataset of test scores for a group of students, you can calculate the mean to get an overall sense of how the group performed on the test. You can then create a bar chart or line chart to visualize the mean and other descriptive statistics for the dataset.\n",
    "\n",
    "However, it's important to note that the mean can be influenced by outliers or extreme values in the dataset. In such cases, the median or mode may be a better measure of central tendency. Therefore, it's important to consider the distribution of the data and choose an appropriate statistical measure accordingly."
   ]
  },
  {
   "cell_type": "code",
   "execution_count": 1,
   "id": "7a08618f",
   "metadata": {},
   "outputs": [
    {
     "name": "stdout",
     "output_type": "stream",
     "text": [
      "Mean: 10.045176342209631\n"
     ]
    }
   ],
   "source": [
    "import numpy as np\n",
    "\n",
    "data = np.random.normal(10, 2, 1000) # Create a sample dataset\n",
    "mean = np.mean(data) # Calculate the mean\n",
    "\n",
    "print(\"Mean:\", mean)"
   ]
  },
  {
   "cell_type": "markdown",
   "id": "57b942fa",
   "metadata": {},
   "source": [
    "## Median\n",
    "\n",
    "The median is the middle value in a dataset when it is arranged in order. It represents the value that separates the highest and lowest values in a dataset. Median is a useful statistical measure for data visualization when the data contains outliers or is not normally distributed. In these cases, the mean may be affected by the extreme values and may not accurately represent the central tendency of the data.\n",
    "\n",
    "The median, on the other hand, is less sensitive to extreme values and represents the middle value of a dataset when it is arranged in order. It can be a more appropriate measure of central tendency when the data is skewed or contains outliers.\n",
    "\n",
    "For example, in a dataset of salaries where a few high-income earners are present, the mean salary may be much higher than the typical salary for the majority of the employees. In this case, using the median salary instead of the mean can provide a better representation of the typical salary in the dataset.\n",
    "\n",
    "Median can be used in various types of data visualizations, such as box plots and histograms, to provide a better understanding of the distribution of the data."
   ]
  },
  {
   "cell_type": "code",
   "execution_count": 2,
   "id": "f079a6e9",
   "metadata": {},
   "outputs": [
    {
     "name": "stdout",
     "output_type": "stream",
     "text": [
      "Median: 10.007772221247446\n"
     ]
    }
   ],
   "source": [
    "import numpy as np\n",
    "\n",
    "data = np.random.normal(10, 2, 1000) # Create a sample dataset\n",
    "median = np.median(data) # Calculate the median\n",
    "\n",
    "print(\"Median:\", median)"
   ]
  },
  {
   "cell_type": "markdown",
   "id": "293f167f",
   "metadata": {},
   "source": [
    "## Mode\n",
    "\n",
    "The mode is the most frequent value in a dataset. It represents the value that occurs most often in a dataset. The mode can be useful in data visualization when you want to identify the most common value or values in a dataset. It is especially useful when working with categorical or nominal data, where the values are not numerical.\n",
    "\n",
    "For example, if you are analyzing customer feedback for a product, you may want to identify the most common reasons why customers are satisfied or dissatisfied. The mode can help you identify the most common reasons and create a visualization that highlights them.\n",
    "\n",
    "The mode can also be useful in cases where the data has a bimodal or multimodal distribution, meaning that there are two or more modes in the dataset. In such cases, the mode can help you identify the different peaks in the distribution and create a visualization that highlights them.\n",
    "\n",
    "However, it's important to keep in mind that the mode may not always provide a complete picture of the data. It only shows the most common values and may not represent the full range of the data. Therefore, it's important to use other statistical measures and visualization techniques in conjunction with the mode to get a complete understanding of the data."
   ]
  },
  {
   "cell_type": "code",
   "execution_count": 3,
   "id": "675641bf",
   "metadata": {},
   "outputs": [
    {
     "name": "stdout",
     "output_type": "stream",
     "text": [
      "Mode: ModeResult(mode=array([3.21469861]), count=array([1]))\n"
     ]
    },
    {
     "name": "stderr",
     "output_type": "stream",
     "text": [
      "/tmp/ipykernel_31811/146049836.py:5: FutureWarning: Unlike other reduction functions (e.g. `skew`, `kurtosis`), the default behavior of `mode` typically preserves the axis it acts along. In SciPy 1.11.0, this behavior will change: the default value of `keepdims` will become False, the `axis` over which the statistic is taken will be eliminated, and the value None will no longer be accepted. Set `keepdims` to True or False to avoid this warning.\n",
      "  mode = stats.mode(data) # Calculate the mode\n"
     ]
    }
   ],
   "source": [
    "import numpy as np\n",
    "from scipy import stats\n",
    "\n",
    "data = np.random.normal(10, 2, 1000) # Create a sample dataset\n",
    "mode = stats.mode(data) # Calculate the mode\n",
    "\n",
    "print(\"Mode:\", mode)"
   ]
  },
  {
   "cell_type": "markdown",
   "id": "7258fe4a",
   "metadata": {},
   "source": [
    "## Standard deviation\n",
    "\n",
    "The standard deviation is a measure of the spread or dispersion of the data. It represents the average distance that each data point is from the mean. Standard deviation is a useful statistical measure for data visualization when we want to understand the variability or spread of a dataset. It helps us to understand how far the data points are from the mean or central value of the dataset.\n",
    "\n",
    "For example, in a histogram or a box plot, the standard deviation can be used to describe the shape of the distribution. If the standard deviation is small, it indicates that the data points are clustered closely around the mean, and the distribution is narrow. If the standard deviation is large, it indicates that the data points are more spread out, and the distribution is wider.\n",
    "\n",
    "In addition, standard deviation can be used in error bars to show the variability of the data around a mean value in a scatterplot or line chart. This can help us to understand the confidence we have in the data points and the trend line."
   ]
  },
  {
   "cell_type": "code",
   "execution_count": 4,
   "id": "c65fa0da",
   "metadata": {},
   "outputs": [
    {
     "name": "stdout",
     "output_type": "stream",
     "text": [
      "Standard deviation: 2.107788473645542\n"
     ]
    }
   ],
   "source": [
    "import numpy as np\n",
    "\n",
    "data = np.random.normal(10, 2, 1000) # Create a sample dataset\n",
    "std = np.std(data) # Calculate the standard deviation\n",
    "\n",
    "print(\"Standard deviation:\", std)"
   ]
  },
  {
   "cell_type": "markdown",
   "id": "fbfe354d",
   "metadata": {},
   "source": [
    "## Range\n",
    "\n",
    "The range is the difference between the maximum and minimum values in a dataset. It represents the spread of the data. The range is a statistical measure that represents the difference between the maximum and minimum values in a dataset. It can be useful for data visualization when you want to quickly get a sense of the spread of the data.\n",
    "\n",
    "For example, if you have a dataset of salaries for a particular occupation, the range can give you an idea of the highest and lowest salaries in the dataset. This can be useful for making decisions about pay scales or negotiating salaries.\n",
    "\n",
    "The range is also useful for creating visualizations such as box plots, where the range is used to determine the minimum and maximum values of the box. This can help to identify outliers and give an indication of the overall spread of the data.\n",
    "\n",
    "However, the range has limitations as a statistical measure. It does not provide any information about the distribution of the data, and it can be heavily influenced by outliers. Therefore, it is important to use the range in conjunction with other statistical measures such as the mean, median, and standard deviation to get a more complete understanding of the data."
   ]
  },
  {
   "cell_type": "code",
   "execution_count": 5,
   "id": "4e6c98af",
   "metadata": {},
   "outputs": [
    {
     "name": "stdout",
     "output_type": "stream",
     "text": [
      "Range: 11.776761095800847\n"
     ]
    }
   ],
   "source": [
    "import numpy as np\n",
    "\n",
    "data = np.random.normal(10, 2, 1000) # Create a sample dataset\n",
    "range_ = np.ptp(data) # Calculate the range\n",
    "\n",
    "print(\"Range:\", range_)"
   ]
  },
  {
   "cell_type": "markdown",
   "id": "356a0847",
   "metadata": {},
   "source": [
    "## Percentile\n",
    "\n",
    "The percentile is a measure that indicates the percentage of data points that fall below a specific value. For example, the 75th percentile represents the value below which 75% of the data points fall. Percentile is a useful statistical measure for data visualization when you want to understand the distribution of your data and identify the values that are most common or representative of your data. Percentile provides information about how data is distributed and where a given data point falls relative to other data points in the dataset.\n",
    "\n",
    "For example, if you have a dataset of test scores, you may want to understand how each student performed relative to the other students. You can calculate the percentile rank of each student's score to see how their score compares to the rest of the class. This information can be useful for identifying high-performing or low-performing students, as well as for identifying any outliers in the data.\n",
    "\n",
    "Percentile can also be useful for creating visualizations such as histograms and box plots, which provide a visual representation of the distribution of the data. By including percentile information in these visualizations, you can provide additional context about the distribution of the data and make it easier to interpret."
   ]
  },
  {
   "cell_type": "code",
   "execution_count": 6,
   "id": "c6cd9732",
   "metadata": {},
   "outputs": [
    {
     "name": "stdout",
     "output_type": "stream",
     "text": [
      "25th percentile: 8.563336379575741\n",
      "50th percentile: 9.957520189507267\n",
      "75th percentile: 11.318075842398812\n"
     ]
    }
   ],
   "source": [
    "import numpy as np\n",
    "\n",
    "data = np.random.normal(10, 2, 1000) # Create a sample dataset\n",
    "percentiles = np.percentile(data, [25, 50, 75]) # Calculate the 25th, 50th, and 75th percentiles\n",
    "\n",
    "print(\"25th percentile:\", percentiles[0])\n",
    "print(\"50th percentile:\", percentiles[1])\n",
    "print(\"75th percentile:\", percentiles[2])"
   ]
  },
  {
   "cell_type": "markdown",
   "id": "4da97630",
   "metadata": {},
   "source": [
    "## Correlation\n",
    "\n",
    "Correlation is a measure of the relationship between two variables. It indicates the strength and direction of the relationship between two variables. Correlation is useful for data visualization when you want to explore the relationship between two variables. Correlation can help you understand how strongly two variables are related and in what direction. It can also help you identify patterns in the data that might not be immediately obvious.\n",
    "\n",
    "For example, if you are interested in understanding the relationship between the height and weight of a group of individuals, you can use correlation to determine if there is a strong relationship between the two variables. If the correlation is positive and close to 1, it means that as the height of an individual increases, their weight also tends to increase. If the correlation is negative and close to -1, it means that as the height of an individual increases, their weight tends to decrease.\n",
    "\n",
    "Correlation can be useful for data visualization in many contexts, such as marketing, finance, and healthcare. For example, in marketing, you might want to explore the relationship between the price of a product and the sales volume. In finance, you might want to explore the relationship between the stock prices of two companies. In healthcare, you might want to explore the relationship between a patient's age and their risk of developing a certain disease."
   ]
  },
  {
   "cell_type": "code",
   "execution_count": 7,
   "id": "4045da1b",
   "metadata": {},
   "outputs": [
    {
     "name": "stdout",
     "output_type": "stream",
     "text": [
      "Correlation coefficient: -0.026658138338694348\n"
     ]
    }
   ],
   "source": [
    "import numpy as np\n",
    "\n",
    "# Create a sample dataset\n",
    "x = np.random.normal(10, 2, 1000)\n",
    "y = np.random.normal(5, 1, 1000)\n",
    "\n",
    "# Calculate the correlation coefficient\n",
    "correlation = np.corrcoef(x, y)[0, 1]\n",
    "\n",
    "print(\"Correlation coefficient:\", correlation)"
   ]
  },
  {
   "cell_type": "markdown",
   "id": "78424f5d",
   "metadata": {},
   "source": [
    "## Regression\n",
    "\n",
    "Regression is a statistical method used to analyze the relationship between two or more variables. It can be used to predict values based on other variables. Regression can be useful for data visualization when there is a relationship between two or more variables and we want to model and visualize that relationship. Regression can help us understand the relationship between the variables, identify patterns, and make predictions about future values.\n",
    "\n",
    "For example, if we have a dataset with two variables, such as the number of hours studied and the exam score, we can use regression analysis to model the relationship between these two variables. We can then create a scatter plot of the data, with the x-axis representing the number of hours studied and the y-axis representing the exam score. We can then plot the regression line on the scatter plot, which will show the general trend in the data and how closely the data points follow the trend. This visualization can help us understand the relationship between the two variables and make predictions about the exam score based on the number of hours studied.\n",
    "\n",
    "Regression can also be useful for data visualization when we have multiple variables and we want to model the relationship between them. For example, we might have a dataset with several variables, such as age, income, and education level, and we want to model the relationship between these variables. In this case, we can use multiple regression analysis to model the relationship between all of the variables and create a visualization that shows how the variables are related to each other."
   ]
  },
  {
   "cell_type": "code",
   "execution_count": 8,
   "id": "d613f0de",
   "metadata": {},
   "outputs": [
    {
     "data": {
      "image/png": "[encoded data removed]",
      "text/plain": [
       "<Figure size 640x480 with 1 Axes>"
      ]
     },
     "metadata": {},
     "output_type": "display_data"
    }
   ],
   "source": [
    "import numpy as np\n",
    "import pandas as pd\n",
    "import matplotlib.pyplot as plt\n",
    "from scipy import stats\n",
    "\n",
    "# Create a sample dataset\n",
    "x = np.random.normal(10, 2, 1000)\n",
    "y = np.random.normal(5, 1, 1000)\n",
    "\n",
    "# Create a linear regression model of the two variables\n",
    "slope, intercept, r_value, p_value, std_err = stats.linregress(x, y)\n",
    "line = slope * x + intercept\n",
    "\n",
    "# Create a scatter plot with regression line\n",
    "plt.scatter(x, y)\n",
    "plt.plot(x, line, color=\"red\")\n",
    "plt.title(\"Scatter plot with regression line\")\n",
    "plt.xlabel(\"X\")\n",
    "plt.ylabel(\"Y\")\n",
    "plt.show()"
   ]
  }
 ],
 "metadata": {
  "kernelspec": {
   "display_name": "Python 3 (ipykernel)",
   "language": "python",
   "name": "python3"
  },
  "language_info": {
   "codemirror_mode": {
    "name": "ipython",
    "version": 3
   },
   "file_extension": ".py",
   "mimetype": "text/x-python",
   "name": "python",
   "nbconvert_exporter": "python",
   "pygments_lexer": "ipython3",
   "version": "3.8.10"
  }
 },
 "nbformat": 4,
 "nbformat_minor": 5
}
